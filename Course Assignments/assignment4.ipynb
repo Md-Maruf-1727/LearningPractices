{
 "cells": [
  {
   "cell_type": "code",
   "execution_count": 3,
   "id": "8f7d34a3-f9be-468f-a101-5478d1b50f2c",
   "metadata": {},
   "outputs": [
    {
     "name": "stdout",
     "output_type": "stream",
     "text": [
      "Total: 43\n"
     ]
    }
   ],
   "source": [
    "#1. Write a Python program to sum all the items in a list.\n",
    "def sum_item11(list11):\n",
    "    total = 0\n",
    "    for i in list11:\n",
    "        total += i\n",
    "    print(f\"Total: {total}\")\n",
    "list12 = [4,6,9,2,1,5,9,7]\n",
    "sum_item11(list12)"
   ]
  },
  {
   "cell_type": "code",
   "execution_count": 4,
   "id": "61b14203-d221-4b31-8802-1283bd997151",
   "metadata": {},
   "outputs": [
    {
     "name": "stdout",
     "output_type": "stream",
     "text": [
      "Subtaraction of list21: 1088640\n"
     ]
    }
   ],
   "source": [
    "#2. Write a Python program to multiplies all the items in a list.\n",
    "from functools import reduce\n",
    "def multiplies_list21(list21):\n",
    "    multi211 = reduce(lambda x, y: x * y, list21)\n",
    "    print(f\"Subtaraction of list21: {multi211}\")\n",
    "list22 = [4,6,9,2,8,1,5,9,7]\n",
    "multiplies_list21(list22)"
   ]
  },
  {
   "cell_type": "code",
   "execution_count": 6,
   "id": "14a3dc18-6a93-4b11-87ac-476beee356f8",
   "metadata": {},
   "outputs": [
    {
     "name": "stdout",
     "output_type": "stream",
     "text": [
      "Maimum is: 9\n"
     ]
    }
   ],
   "source": [
    "#3. Write a Python program to get the largest number from a list.\n",
    "def max_list31(list31):\n",
    "    from functools import reduce\n",
    "    max_list31 = reduce(lambda x, y: x if x > y else y, list31)\n",
    "    print(f\"Maimum is: {max_list31}\")\n",
    "list32 = [4,6,9,2,8,1,5,9,7]\n",
    "max_list31(list32)\n",
    "#max_list31(list32)"
   ]
  },
  {
   "cell_type": "code",
   "execution_count": null,
   "id": "6157dfba-3f85-4489-b5e5-bf0d8eaab8fc",
   "metadata": {},
   "outputs": [
    {
     "name": "stdout",
     "output_type": "stream",
     "text": [
      "Smallest is: 1\n"
     ]
    }
   ],
   "source": [
    "#4. Write a Python program to get the smallest number from a list.\n",
    "def smallest_list41(list41):\n",
    "    smallest41 = list41[0]\n",
    "    for i in list41:\n",
    "        if i < smallest41:\n",
    "            smallest41 = i\n",
    "    print(f\"Smallest is: {smallest41}\")\n",
    "list42 = [4,6,9,2,8,1,5,9,7]\n",
    "smallest_list41(list42)"
   ]
  },
  {
   "cell_type": "code",
   "execution_count": null,
   "id": "f0e6290a-b6ad-4bfd-8163-7c96459d2b56",
   "metadata": {},
   "outputs": [
    {
     "name": "stdout",
     "output_type": "stream",
     "text": [
      "aba\n",
      "1221\n",
      "Total 2 number\n"
     ]
    }
   ],
   "source": [
    "#5. Write a Python program to count the number of strings where the string lengthis 2 or more and \n",
    "#the first and last character are same from a given list of strings.\n",
    "def same_1st_last(list51):\n",
    "    count = 0\n",
    "    for i in list51:\n",
    "        if i[0] == i[-1] and len(list51) >= 2:\n",
    "            count += 1\n",
    "            print(i)\n",
    "    print(f\"Total {count} number\")\n",
    "list52 = ['abc', 'xyz', 'aba', '1221']\n",
    "same_1st_last(list52)"
   ]
  },
  {
   "cell_type": "code",
   "execution_count": null,
   "id": "f84c18bd-c16c-455f-a721-1da299bf0a17",
   "metadata": {},
   "outputs": [
    {
     "name": "stdout",
     "output_type": "stream",
     "text": [
      "Sorted: [(2, 1), (1, 2), (2, 3), (4, 4), (2, 5)]\n"
     ]
    }
   ],
   "source": [
    "#6. Write a Python program to get a list, sorted in increasing order by the last\n",
    "#element in each tuple from a given list of non-empty tuples.\n",
    "def sort_tuple61(list61):\n",
    "    sort_list61 = []\n",
    "    for i in list61:\n",
    "        for j in range(len(sort_list61)):\n",
    "            if i[1] < sort_list61[j][1]:\n",
    "                sort_list61.insert(j, i)\n",
    "                break\n",
    "        else:\n",
    "            sort_list61.append(i)\n",
    "    print(f\"Sorted: {sort_list61}\")\n",
    "list62 = [(2, 5), (1, 2), (4, 4), (2, 3), (2, 1)]\n",
    "sort_tuple61(list62)"
   ]
  },
  {
   "cell_type": "code",
   "execution_count": null,
   "id": "accf21bd-351c-4620-9f73-c191907171e9",
   "metadata": {},
   "outputs": [
    {
     "name": "stdout",
     "output_type": "stream",
     "text": [
      "Without duplicates: [4, 7, 2, 5, 9, 1, 3]\n"
     ]
    }
   ],
   "source": [
    "#7. Write a Python program to remove duplicates from a list.\n",
    "def remove_duplicates(list71):\n",
    "    empty_list71 = []\n",
    "    for i in list71:\n",
    "        if i not in empty_list71:\n",
    "            empty_list71.append(i)\n",
    "    print(f\"Without duplicates: {empty_list71}\")\n",
    "list72 = [4,7,2,7,2,5,9,1,5,9,3,7]\n",
    "remove_duplicates(list72)"
   ]
  },
  {
   "cell_type": "code",
   "execution_count": null,
   "id": "118cade9-84e4-4f20-9dc2-ff3306597ca2",
   "metadata": {},
   "outputs": [
    {
     "name": "stdout",
     "output_type": "stream",
     "text": [
      "Not empty\n",
      "Empty list\n"
     ]
    }
   ],
   "source": [
    "#8. Write a Python program to check a list is empty or not.\n",
    "def empty_check(list81):\n",
    "    if len(list81) == 0:\n",
    "        print(\"Empty list\")\n",
    "    else:\n",
    "        print(\"Not empty\")\n",
    "list82 = [4,6]\n",
    "list83 = []\n",
    "empty_check(list82)\n",
    "empty_check(list83)"
   ]
  },
  {
   "cell_type": "code",
   "execution_count": null,
   "id": "5ac33f6f-922d-4e8b-ba62-7eb5883a8996",
   "metadata": {},
   "outputs": [
    {
     "name": "stdout",
     "output_type": "stream",
     "text": [
      "Copy: [4, 6, 9, 2, 8, 1, 5, 9, 7]\n",
      "[4, 6, 9, 2, 8, 1, 5, 9]\n",
      "Main list: [4, 6, 9, 2, 8, 1, 5, 9, 7]\n"
     ]
    }
   ],
   "source": [
    "#9. Write a Python program to clone or copy a list.\n",
    "list91 = [4,6,9,2,8,1,5,9,7]\n",
    "list92 = list91.copy()\n",
    "print(f\"Copy: {list92}\")\n",
    "list92.pop()\n",
    "print(list92)\n",
    "print(f\"Main list: {list91}\")"
   ]
  },
  {
   "cell_type": "code",
   "execution_count": null,
   "id": "4fb1de1b-3b34-42ac-9021-d03b32ac890c",
   "metadata": {},
   "outputs": [
    {
     "name": "stdout",
     "output_type": "stream",
     "text": [
      "['orange', 'cherry', 'jackfruit']\n"
     ]
    }
   ],
   "source": [
    "#10. Write a Python program to find the list of words that are longer than n from a given list of words.\n",
    "def length_word(list10):\n",
    "    empty_list10 = []\n",
    "    n = 6\n",
    "    for i in list10:\n",
    "        if len(i) >= n:\n",
    "            empty_list10.append(i)\n",
    "    print(empty_list10)\n",
    "list101 = ['apple', 'orange', 'cherry', 'jackfruit']\n",
    "length_word(list101)"
   ]
  },
  {
   "cell_type": "code",
   "execution_count": null,
   "id": "8bb58885-71e2-4100-9d75-c66280372b32",
   "metadata": {},
   "outputs": [
    {
     "name": "stdout",
     "output_type": "stream",
     "text": [
      "True\n"
     ]
    }
   ],
   "source": [
    "#11. Write a Python function that takes two lists and returns True if they have at least one common member.\n",
    "def common_element(list111):\n",
    "    list112 = [7,9,4,7,1,6]\n",
    "    for i in list111:\n",
    "        if i in list112:\n",
    "            print(True)\n",
    "            break\n",
    "    else:\n",
    "        print(False)\n",
    "list113 = [3,6,4,8,2]   \n",
    "common_element(list113)"
   ]
  },
  {
   "cell_type": "code",
   "execution_count": null,
   "id": "496b895e-c505-4c6a-9dd1-6f577632fbb3",
   "metadata": {},
   "outputs": [
    {
     "name": "stdout",
     "output_type": "stream",
     "text": [
      "['Green', 'White', 'Black']\n",
      "[6, 9, 2, 5, 9, 7]\n"
     ]
    }
   ],
   "source": [
    "#12. Write a Python program to print a specified list after removing the 0th, 4th and 5th elements.\n",
    "def remove_spacific(list121):\n",
    "    empty_list122 = []\n",
    "    for i in range(len(list121)):\n",
    "        if i == 0 or i == 4 or i == 5:\n",
    "            continue\n",
    "        else:\n",
    "            empty_list122.append(list121[i])\n",
    "    print(empty_list122)\n",
    "list123 = ['Red', 'Green', 'White', 'Black', 'Pink', 'Yellow']\n",
    "list124 = [4,6,9,2,8,1,5,9,7]\n",
    "remove_spacific(list123)\n",
    "remove_spacific(list124)"
   ]
  },
  {
   "cell_type": "code",
   "execution_count": null,
   "id": "739164f4-c45c-4ead-9f31-e64b7777ea67",
   "metadata": {},
   "outputs": [],
   "source": [
    "#13. Write a Python program to generate a 3*4*6 3D array whose each element is"
   ]
  },
  {
   "cell_type": "code",
   "execution_count": null,
   "id": "657b9b85-1408-4a4d-8019-f5e225e4e582",
   "metadata": {},
   "outputs": [
    {
     "name": "stdout",
     "output_type": "stream",
     "text": [
      "[1, 5, 7, 9, 9]\n"
     ]
    }
   ],
   "source": [
    "#14. Write a Python program to print the numbers of a specified list after removing even numbers from it.\n",
    "def remove_even(list141):\n",
    "    empty_odd = []\n",
    "    for i in list141:\n",
    "        if i % 2 != 0:\n",
    "            empty_odd.append(i)\n",
    "    empty_odd.sort()\n",
    "    print(empty_odd)\n",
    "list142 = [4,6,9,2,8,1,5,9,7]\n",
    "remove_even(list142)"
   ]
  },
  {
   "cell_type": "code",
   "execution_count": null,
   "id": "fa81b9e2-9f94-4046-a122-3aac2636c113",
   "metadata": {},
   "outputs": [
    {
     "name": "stdout",
     "output_type": "stream",
     "text": [
      "Randomly changed: [4, 2, 6, 9]\n"
     ]
    }
   ],
   "source": [
    "#15. Write a Python program to shuffle and print a specified list.\n",
    "from random import shuffle\n",
    "def shuffle_list(list151):\n",
    "    shuffle(list151)\n",
    "    print(f\"Randomly changed: {list151}\")\n",
    "list152 = [4,6,9,2]\n",
    "shuffle_list(list152)"
   ]
  },
  {
   "cell_type": "code",
   "execution_count": null,
   "id": "8226f549-b6f4-49ef-ac32-a94b35f5bf21",
   "metadata": {},
   "outputs": [
    {
     "name": "stdout",
     "output_type": "stream",
     "text": [
      "1st 5 element: [1, 4, 9, 16, 25]\n",
      "last 5 element: [676, 729, 784, 841, 900]\n"
     ]
    }
   ],
   "source": [
    "#16. Write a Python program to generate and print a list of the first and last 5 elements where the values are square \n",
    "#numbers between 1 and 30 (both included).\n",
    "#17.  Write a Python program to generate and print a list except for the first 5 elements, where the values are square of\n",
    "#numbers between 1 and 30 (both included).\n",
    "def st_last_square(empty_list161):\n",
    "    for i in range(1, 31):\n",
    "        empty_list162.append(i**2)\n",
    "    print(f\"1st 5 element: {empty_list161[:5]}\")\n",
    "    print(f\"last 5 element: {empty_list161[-5:]}\")\n",
    "empty_list162 = []\n",
    "st_last_square(empty_list162)"
   ]
  },
  {
   "cell_type": "code",
   "execution_count": null,
   "id": "c33acf81-05e1-4997-9d86-ca9917f6b505",
   "metadata": {},
   "outputs": [
    {
     "name": "stdout",
     "output_type": "stream",
     "text": [
      "[44, 88, 77]\n",
      "[44, 77, 88]\n",
      "[88, 44, 77]\n",
      "[88, 77, 44]\n",
      "[77, 44, 88]\n",
      "[77, 88, 44]\n"
     ]
    }
   ],
   "source": [
    "#18. Write a Python program to generate all permutations of a list in Python.\n",
    "#def permutation181(list181):\n",
    "from itertools import permutations\n",
    "list181 = [44,88,77]\n",
    "for i in permutations(list181):\n",
    "    print(list(i))"
   ]
  },
  {
   "cell_type": "code",
   "execution_count": null,
   "id": "05d8f49e-8ded-4642-a4f7-131159b2d9bb",
   "metadata": {},
   "outputs": [
    {
     "name": "stdout",
     "output_type": "stream",
     "text": [
      "Difference: [5, 6, 7]\n"
     ]
    }
   ],
   "source": [
    "#19. Write a Python program to get the difference between the two lists.\n",
    "list191 = [6, 9, 2, 5, 9, 7]\n",
    "list192 = [4,8,2,9,3,4,8,2]\n",
    "difference193 = list(set(list191) - set(list192))\n",
    "print(f\"Difference: {difference193}\")"
   ]
  },
  {
   "cell_type": "code",
   "execution_count": null,
   "id": "9b0ee5f4-3be9-4fcd-9a1e-00c0731067f1",
   "metadata": {},
   "outputs": [
    {
     "name": "stdout",
     "output_type": "stream",
     "text": [
      "(0:6) (1:9) (2:2) (3:5) (4:9) (5:7) "
     ]
    }
   ],
   "source": [
    "#20. Write a Python program access the index of a list.\n",
    "list191 = [6, 9, 2, 5, 9, 7]\n",
    "for index, value in enumerate(list191):\n",
    "    print(f\"({index}:{value})\", end=\" \")"
   ]
  },
  {
   "cell_type": "code",
   "execution_count": null,
   "id": "a97eede4-ad08-4f1d-8e93-c47b0ca63f7a",
   "metadata": {},
   "outputs": [
    {
     "name": "stdout",
     "output_type": "stream",
     "text": [
      "Converted to str: ['6', '9', '2', '5', '9', '7']\n"
     ]
    }
   ],
   "source": [
    "#21. Write a Python program to convert a list of characters into a string.\n",
    "list191 = [6, 9, 2, 5, 9, 7]\n",
    "list192 = []\n",
    "for i in list191:\n",
    "    list192.append(str(i))\n",
    "print(f\"Converted to str: {list192}\")"
   ]
  },
  {
   "cell_type": "code",
   "execution_count": null,
   "id": "54e11777-e8d0-4030-a5ad-2a6acee1f567",
   "metadata": {},
   "outputs": [
    {
     "name": "stdout",
     "output_type": "stream",
     "text": [
      "Index of 9 is: 3\n"
     ]
    }
   ],
   "source": [
    "#22. Write a Python program to find the index of an item in a specified list.\n",
    "def find_index(list221):\n",
    "    index = list221.index(5)\n",
    "    print(f\"Index of 9 is: {index}\")\n",
    "list222 = [6, 9, 2, 5, 9, 7]\n",
    "find_index(list222)"
   ]
  },
  {
   "cell_type": "code",
   "execution_count": null,
   "id": "4cece9a7-e99c-45f1-bacf-e7c7694b126e",
   "metadata": {},
   "outputs": [
    {
     "name": "stdout",
     "output_type": "stream",
     "text": [
      "[3, 6, 4, 9, 2, 4, 8, 3, 1, 3]\n"
     ]
    }
   ],
   "source": [
    "#23. Write a Python program to flatten a shallow list.\n",
    "def flatten_shallow(list231):\n",
    "    empty_list231 = []\n",
    "    for i in list231:\n",
    "        if isinstance(i, list):\n",
    "            for x in i:\n",
    "                empty_list231.append(x)\n",
    "        else:\n",
    "            empty_list231.append(i)\n",
    "    print(empty_list231)\n",
    "list232 = [3,6,[4,9,2],4,8,[3,1],3]\n",
    "flatten_shallow(list232)"
   ]
  },
  {
   "cell_type": "code",
   "execution_count": null,
   "id": "a9de4915-1cdb-4990-9b6d-dacfb71b1c06",
   "metadata": {},
   "outputs": [
    {
     "name": "stdout",
     "output_type": "stream",
     "text": [
      "List 242: [3, 6, 2, 6, 342, 54]\n"
     ]
    }
   ],
   "source": [
    "#24. Write a Python program to append a list to the second list.\n",
    "list241 = [3,6,2,6,342,54]\n",
    "list242 =[]\n",
    "for i in list241:\n",
    "    list242.append(i)\n",
    "print(f\"List 242: {list242}\")"
   ]
  },
  {
   "cell_type": "code",
   "execution_count": null,
   "id": "4b248bff-7b54-4525-918d-88f75609e928",
   "metadata": {},
   "outputs": [
    {
     "name": "stdout",
     "output_type": "stream",
     "text": [
      "[4, 9, 2]\n"
     ]
    }
   ],
   "source": [
    "#25. Write a Python program to select an item randomly from a list.\n",
    "from random import choice\n",
    "list251 = [3,6,[4,9,2],4,8,[3,1],3]\n",
    "choice_list251 = choice(list251)\n",
    "print(choice_list251)"
   ]
  },
  {
   "cell_type": "code",
   "execution_count": null,
   "id": "19a54d35-3521-492d-b4c7-ecb844a1c927",
   "metadata": {},
   "outputs": [
    {
     "name": "stdout",
     "output_type": "stream",
     "text": [
      "2 list are circularly identical: [4, 5, 6, 1, 2, 3]=[4, 5, 6, 1, 2, 3]\n"
     ]
    }
   ],
   "source": [
    "#26. Write a python program to check whether two lists are circularly identical.\n",
    "def is_circularly_identical(list261, list262):\n",
    "    if len(list261) != len(list262):\n",
    "        return False\n",
    "    else:\n",
    "        double_list = list261 + list261\n",
    "        for i in range(len(list261)):\n",
    "            sub_list261 = double_list[i:i+len(list261)]\n",
    "            if sub_list261 == list262:\n",
    "                print(f\"2 list are circularly identical: {sub_list261}={list262}\")\n",
    "                break\n",
    "        else:\n",
    "            print(\"not\")\n",
    "list263 = [1,2,3,4,5,6]\n",
    "list264 = C\n",
    "is_circularly_identical(list263, list264)"
   ]
  },
  {
   "cell_type": "code",
   "execution_count": null,
   "id": "905b06e6-99aa-450b-913a-6e1cbb92a026",
   "metadata": {},
   "outputs": [
    {
     "name": "stdout",
     "output_type": "stream",
     "text": [
      "Second largest: 5\n",
      "Need at least 2 item\n"
     ]
    }
   ],
   "source": [
    "#27. Write a Python program to find the second smallest number in a list.\n",
    "def second_smallest(list271): #[6, 9, 2, 5, 9, 7]\n",
    "    smallest271 = float('inf') \n",
    "    second_smallest271 = float('inf')\n",
    "    for i in list271:\n",
    "        if i < smallest271:\n",
    "            second_smallest271 = smallest271\n",
    "            smallest271 = i\n",
    "        elif smallest271 < i < second_smallest271:\n",
    "            second_smallest271 = i\n",
    "    if second_smallest271 == float('inf'):\n",
    "        print(\"Need at least 2 item\")\n",
    "    else:\n",
    "        print(f\"Second largest: {second_smallest271}\")\n",
    "list272 = [6, 9, 2, 5, 9, 7]\n",
    "list273 = list()\n",
    "second_smallest(list272)\n",
    "second_smallest(list273)"
   ]
  },
  {
   "cell_type": "code",
   "execution_count": null,
   "id": "f93d591c-3acd-4340-9674-9d78c89f18d7",
   "metadata": {},
   "outputs": [
    {
     "name": "stdout",
     "output_type": "stream",
     "text": [
      "Second Biggest: 4546578797\n"
     ]
    }
   ],
   "source": [
    "#28. Write a Python program to find the second largest number in a list.\n",
    "def second_largest(list281):\n",
    "    biggest281 = -float('inf')\n",
    "    se_biggest281 = -float('inf')\n",
    "    for num in list281:\n",
    "        if num > biggest281:\n",
    "            se_biggest281 = biggest281\n",
    "            biggest281 = num\n",
    "        elif biggest281 > num > se_biggest281:\n",
    "            se_biggest281 = num\n",
    "    if se_biggest281 == -float('inf'):\n",
    "        print(\"need 2 element\")\n",
    "    else:\n",
    "        print(f\"Second Biggest: {se_biggest281}\")\n",
    "list282 = [2,5,546,546,2344,78,9654,4546,669856,53423,4546578797,65432,556786543,45467,89843,34456789,88756556787,987654,367]\n",
    "second_largest(list282)"
   ]
  },
  {
   "cell_type": "code",
   "execution_count": null,
   "id": "01d1101b-b0b7-4cab-8211-29c2de123f22",
   "metadata": {},
   "outputs": [
    {
     "name": "stdout",
     "output_type": "stream",
     "text": [
      "[23, 8, 54, 56]\n"
     ]
    }
   ],
   "source": [
    "#29. Write a Python program to get unique values from a list.\n",
    "list291 = [3,4,6,23,5,2,3,6,3,4,2,4,5,8,4,54,56]\n",
    "empty_list291 = list()\n",
    "for i in list291:\n",
    "    if list291.count(i)==1:\n",
    "        empty_list291.append(i)\n",
    "print(empty_list291)"
   ]
  },
  {
   "cell_type": "code",
   "execution_count": null,
   "id": "a09aea79-0b88-48de-97b7-975558c1c5ec",
   "metadata": {},
   "outputs": [
    {
     "name": "stdout",
     "output_type": "stream",
     "text": [
      "{3: 4, 4: 3, 6: 2, 23: 1, 5: 2, 2: 2, 8: 1, 54: 1, 56: 1}\n"
     ]
    }
   ],
   "source": [
    "#30. Write a Python program to get the frequency of the elements in a list.\n",
    "list291 = [3,4,3,6,23,5,2,3,6,3,2,4,5,8,4,54,56]\n",
    "dict291 = {}\n",
    "for item in list291:\n",
    "    if item not in dict291:\n",
    "        dict291[item] = 1\n",
    "    else:\n",
    "        dict291[item] += 1\n",
    "print(dict291)"
   ]
  },
  {
   "cell_type": "code",
   "execution_count": null,
   "id": "07619ace-b63b-44de-99ef-c2bbecada9a2",
   "metadata": {},
   "outputs": [
    {
     "name": "stdout",
     "output_type": "stream",
     "text": [
      "Number in range: 15\n"
     ]
    }
   ],
   "source": [
    "#31. Write a Python program to count the number of elements in a list within a specified range.\n",
    "def count_spa311(list311):\n",
    "    small_ra = 2\n",
    "    big_ra = 7\n",
    "    count = 0\n",
    "    for i in list311:\n",
    "        if small_ra <= i <= big_ra:\n",
    "            count += 1\n",
    "    print(f\"Number in range: {count}\")\n",
    "list312 = [2,4,6,3,2,5,56,7,4,3,2,4,5,54,5,56,546,2,3]\n",
    "count_spa311(list312)"
   ]
  },
  {
   "cell_type": "code",
   "execution_count": null,
   "id": "b23129a5-0f67-4b44-8fed-5bbcc20b13dc",
   "metadata": {},
   "outputs": [
    {
     "name": "stdout",
     "output_type": "stream",
     "text": [
      "True\n"
     ]
    }
   ],
   "source": [
    "#32. Write a Python program to check whether a list contains a sublist.\n",
    "list321 = [2,4,[2,3],54]\n",
    "for i in list321:\n",
    "    if isinstance(i, list):\n",
    "        print(True)\n",
    "        break\n",
    "else:\n",
    "    print(False)"
   ]
  },
  {
   "cell_type": "code",
   "execution_count": null,
   "id": "e433d40a-2d57-41a7-ba47-711fdf5cdf12",
   "metadata": {},
   "outputs": [
    {
     "name": "stdout",
     "output_type": "stream",
     "text": [
      "[[4], [4, 5], [4, 5, 6], [5], [5, 6], [6]]\n"
     ]
    }
   ],
   "source": [
    "#33. Write a Python program to generate all sublists of a list.\n",
    "def sub_of_all(list331):\n",
    "    empty_sublist = []\n",
    "    for i in range(len(list331)):\n",
    "        for x in range(i + 1, len(list331) + 1):\n",
    "            empty_sublist.append(list331[i:x])\n",
    "    print(empty_sublist)\n",
    "list332 = [4,5,6]\n",
    "sub_of_all(list332)"
   ]
  },
  {
   "cell_type": "code",
   "execution_count": null,
   "id": "a51464d9-459c-4c00-a90e-4423d683f0fc",
   "metadata": {},
   "outputs": [
    {
     "name": "stdout",
     "output_type": "stream",
     "text": [
      "2 3 5 7 11 13 17 19 23 29 "
     ]
    }
   ],
   "source": [
    "#34. Write a Python program using Sieve of Eratosthenes method for computing primes upto a specified number.\n",
    "def sieve_era(n):\n",
    "    numbers = [True] * (n+1)\n",
    "    numbers[0] = numbers[1] = False\n",
    "    for i in range(2, int(n ** 0.5) + 1):\n",
    "        if numbers[i] == True:\n",
    "            for x in range(i*i, n+1, i):\n",
    "                numbers[x] = False\n",
    "    for i in range(2, n + 1):\n",
    "        if numbers[i]:\n",
    "            print(i, end=\" \")\n",
    "n1 = 30\n",
    "sieve_era(n1)"
   ]
  },
  {
   "cell_type": "code",
   "execution_count": null,
   "id": "d407dd78-7e83-4145-b709-999d43532811",
   "metadata": {},
   "outputs": [
    {
     "name": "stdout",
     "output_type": "stream",
     "text": [
      "['x1', 'y1', 'x2', 'y2', 'x3', 'y3', 'x4', 'y4']\n"
     ]
    }
   ],
   "source": [
    "#35. Write a Python program to create a list by concatenating a given list which range goes from 1 to n.\n",
    "concate1 = ['x','y']\n",
    "concate2 = 4\n",
    "empty_concate = []\n",
    "for i in range(1, concate2 + 1):\n",
    "    for x in concate1:\n",
    "        empty_concate.append(f\"{x}{i}\")\n",
    "print(empty_concate)"
   ]
  },
  {
   "cell_type": "code",
   "execution_count": null,
   "id": "970cc84d-8926-4336-bd4b-0a5ac08ef743",
   "metadata": {},
   "outputs": [
    {
     "name": "stdout",
     "output_type": "stream",
     "text": [
      "[10, 30, 20, 50, 40, 70, 60, 90, 80, 100]\n"
     ]
    }
   ],
   "source": [
    "#38:Write a Python program to change the position of every n-th value with the (n+1)th in a list.\n",
    "list381 = [10,20,30,40,50,60,70,80,90,100]\n",
    "n = 2\n",
    "for i in range(n-1, len(list381) - 1, n):\n",
    "    list381[i], list381[i+1] = list381[i+1], list381[i]\n",
    "print(list381)"
   ]
  },
  {
   "cell_type": "code",
   "execution_count": 2,
   "id": "73ed757b-1b44-45d1-8063-335ca3f09b7a",
   "metadata": {},
   "outputs": [
    {
     "name": "stdout",
     "output_type": "stream",
     "text": [
      "a: ['apple', 'apricot']\n",
      "b: ['banana', 'blueberry']\n",
      "c: ['cherry']\n"
     ]
    }
   ],
   "source": [
    "#40. Write a Python program to split a list based on first character of word.\n",
    "list401 = [\"apple\", \"banana\", \"apricot\", \"blueberry\", \"cherry\"]\n",
    "empty_dict401 = {}\n",
    "for i in list401:\n",
    "    first_char = i[0]\n",
    "    if first_char not in empty_dict401:\n",
    "        empty_dict401[first_char] = []\n",
    "    empty_dict401[first_char].append(i)\n",
    "for char, group in empty_dict401.items():\n",
    "    print(f\"{char}: {group}\")"
   ]
  },
  {
   "cell_type": "code",
   "execution_count": null,
   "id": "e88702f3",
   "metadata": {},
   "outputs": [],
   "source": []
  },
  {
   "cell_type": "code",
   "execution_count": null,
   "id": "8ea77db0",
   "metadata": {},
   "outputs": [],
   "source": [
    "\n"
   ]
  }
 ],
 "metadata": {
  "kernelspec": {
   "display_name": "Python 3",
   "language": "python",
   "name": "python3"
  },
  "language_info": {
   "codemirror_mode": {
    "name": "ipython",
    "version": 3
   },
   "file_extension": ".py",
   "mimetype": "text/x-python",
   "name": "python",
   "nbconvert_exporter": "python",
   "pygments_lexer": "ipython3",
   "version": "3.11.4"
  }
 },
 "nbformat": 4,
 "nbformat_minor": 5
}
