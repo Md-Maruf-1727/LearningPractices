{
 "cells": [
  {
   "cell_type": "code",
   "execution_count": 59,
   "id": "67c961bc",
   "metadata": {},
   "outputs": [],
   "source": [
    "import pandas as pd\n",
    "import numpy as np"
   ]
  },
  {
   "cell_type": "code",
   "execution_count": 60,
   "metadata": {},
   "outputs": [
    {
     "name": "stdout",
     "output_type": "stream",
     "text": [
      "   id   name  age sex   salary   bmi  children smoker region department  \\\n",
      "0   1   John   28   M  55000.0  24.5       2.0    Yes  North      Sales   \n",
      "1   2   Jane   34   F  62000.0  22.1       1.0     No  South  Marketing   \n",
      "2   3    Bob   45   M  70000.0  27.8       3.0    Yes   East         IT   \n",
      "3   4  Alice   29   F  58000.0  23.4       0.0     No   West         HR   \n",
      "4   5   Mike   38   M  65000.0  28.2       NaN    Yes  North    Finance   \n",
      "5   6  Linda   31   F  60000.0  21.9       2.0     No  South         IT   \n",
      "6   7  Steve   42   M  72000.0  26.5       1.0    Yes   East  Marketing   \n",
      "7   8  Karen   36   F      NaN  24.9       2.0     No   West      Sales   \n",
      "8   9    Tom   39   M  68000.0  29.1       3.0    Yes  North    Finance   \n",
      "9  10  Susan   33   F  61000.0  23.0       1.0     No  South         HR   \n",
      "\n",
      "    join_date  is_manager  \n",
      "0  2020-01-15       False  \n",
      "1  2019-06-23        True  \n",
      "2  2015-09-10       False  \n",
      "3  2021-03-12       False  \n",
      "4  2018-12-01        True  \n",
      "5  2020-07-08       False  \n",
      "6  2016-11-20        True  \n",
      "7  2017-04-30       False  \n",
      "8  2015-05-14       False  \n",
      "9  2019-08-25       False  \n"
     ]
    }
   ],
   "source": [
    "main_data = pd.read_json(\"practice_dataset1.json\")\n",
    "print(main_data)"
   ]
  },
  {
   "cell_type": "code",
   "execution_count": 61,
   "id": "1c8d797e",
   "metadata": {},
   "outputs": [],
   "source": [
    "main_data1 = main_data.copy()\n",
    "main_data2 = main_data.copy()\n",
    "main_data3 = main_data.copy()\n",
    "main_data4 = main_data.copy()\n",
    "main_data5 = main_data.copy()\n",
    "main_data6 = main_data.copy()\n",
    "main_data7 = main_data.copy()\n",
    "main_data8 = main_data.copy()\n",
    "main_data9 = main_data.copy()"
   ]
  },
  {
   "cell_type": "code",
   "execution_count": 62,
   "metadata": {},
   "outputs": [
    {
     "data": {
      "text/plain": [
       "(10, 12)"
      ]
     },
     "execution_count": 62,
     "metadata": {},
     "output_type": "execute_result"
    }
   ],
   "source": [
    "#DataFrame এ মোট কয়টি row ও column আছে তা বের করো।\n",
    "main_data.shape"
   ]
  },
  {
   "cell_type": "code",
   "execution_count": 63,
   "metadata": {},
   "outputs": [
    {
     "name": "stdout",
     "output_type": "stream",
     "text": [
      "['id', 'name', 'age', 'sex', 'salary', 'bmi', 'children', 'smoker', 'region', 'department', 'join_date', 'is_manager']\n"
     ]
    }
   ],
   "source": [
    "#সব column এর নাম বের করো।\n",
    "print(list(main_data.columns))"
   ]
  },
  {
   "cell_type": "code",
   "execution_count": 64,
   "metadata": {},
   "outputs": [
    {
     "data": {
      "text/plain": [
       "RangeIndex(start=0, stop=10, step=1)"
      ]
     },
     "execution_count": 64,
     "metadata": {},
     "output_type": "execute_result"
    }
   ],
   "source": [
    "#row index কেমনভাবে সাজানো আছে তা দেখাও।\n",
    "main_data.index"
   ]
  },
  {
   "cell_type": "code",
   "execution_count": 65,
   "id": "7ead52f7",
   "metadata": {},
   "outputs": [
    {
     "data": {
      "text/plain": [
       "id              int64\n",
       "name           object\n",
       "age             int64\n",
       "sex            object\n",
       "salary        float64\n",
       "bmi           float64\n",
       "children      float64\n",
       "smoker         object\n",
       "region         object\n",
       "department     object\n",
       "join_date      object\n",
       "is_manager       bool\n",
       "dtype: object"
      ]
     },
     "execution_count": 65,
     "metadata": {},
     "output_type": "execute_result"
    }
   ],
   "source": [
    "#প্রতিটি column-এর data type নির্ণয় করো।\n",
    "main_data.dtypes"
   ]
  },
  {
   "cell_type": "code",
   "execution_count": 66,
   "metadata": {},
   "outputs": [
    {
     "name": "stdout",
     "output_type": "stream",
     "text": [
      "<class 'pandas.core.frame.DataFrame'>\n",
      "RangeIndex: 10 entries, 0 to 9\n",
      "Data columns (total 12 columns):\n",
      " #   Column      Non-Null Count  Dtype  \n",
      "---  ------      --------------  -----  \n",
      " 0   id          10 non-null     int64  \n",
      " 1   name        10 non-null     object \n",
      " 2   age         10 non-null     int64  \n",
      " 3   sex         10 non-null     object \n",
      " 4   salary      9 non-null      float64\n",
      " 5   bmi         10 non-null     float64\n",
      " 6   children    9 non-null      float64\n",
      " 7   smoker      10 non-null     object \n",
      " 8   region      10 non-null     object \n",
      " 9   department  10 non-null     object \n",
      " 10  join_date   10 non-null     object \n",
      " 11  is_manager  10 non-null     bool   \n",
      "dtypes: bool(1), float64(3), int64(2), object(6)\n",
      "memory usage: 1022.0+ bytes\n"
     ]
    }
   ],
   "source": [
    "#DataFrame এর সম্পূর্ণ summary report দেখাও।\n",
    "main_data.info()"
   ]
  },
  {
   "cell_type": "code",
   "execution_count": 67,
   "id": "b5688aa2",
   "metadata": {},
   "outputs": [
    {
     "data": {
      "text/plain": [
       "120"
      ]
     },
     "execution_count": 67,
     "metadata": {},
     "output_type": "execute_result"
    }
   ],
   "source": [
    "#DataFrame-এ মোট কয়টি element (cell) আছে তা বের করো।\n",
    "main_data.size"
   ]
  },
  {
   "cell_type": "code",
   "execution_count": 68,
   "metadata": {},
   "outputs": [
    {
     "data": {
      "text/plain": [
       "2"
      ]
     },
     "execution_count": 68,
     "metadata": {},
     "output_type": "execute_result"
    }
   ],
   "source": [
    "#DataFrame-এর dimension সংখ্যা বের করো।\n",
    "main_data.ndim"
   ]
  },
  {
   "cell_type": "code",
   "execution_count": 69,
   "id": "2b7af375",
   "metadata": {},
   "outputs": [
    {
     "data": {
      "text/plain": [
       "array([[1, 'John', 28, 'M', 55000.0, 24.5, 2.0, 'Yes', 'North', 'Sales',\n",
       "        '2020-01-15', False],\n",
       "       [2, 'Jane', 34, 'F', 62000.0, 22.1, 1.0, 'No', 'South',\n",
       "        'Marketing', '2019-06-23', True],\n",
       "       [3, 'Bob', 45, 'M', 70000.0, 27.8, 3.0, 'Yes', 'East', 'IT',\n",
       "        '2015-09-10', False],\n",
       "       [4, 'Alice', 29, 'F', 58000.0, 23.4, 0.0, 'No', 'West', 'HR',\n",
       "        '2021-03-12', False],\n",
       "       [5, 'Mike', 38, 'M', 65000.0, 28.2, nan, 'Yes', 'North',\n",
       "        'Finance', '2018-12-01', True],\n",
       "       [6, 'Linda', 31, 'F', 60000.0, 21.9, 2.0, 'No', 'South', 'IT',\n",
       "        '2020-07-08', False],\n",
       "       [7, 'Steve', 42, 'M', 72000.0, 26.5, 1.0, 'Yes', 'East',\n",
       "        'Marketing', '2016-11-20', True],\n",
       "       [8, 'Karen', 36, 'F', nan, 24.9, 2.0, 'No', 'West', 'Sales',\n",
       "        '2017-04-30', False],\n",
       "       [9, 'Tom', 39, 'M', 68000.0, 29.1, 3.0, 'Yes', 'North', 'Finance',\n",
       "        '2015-05-14', False],\n",
       "       [10, 'Susan', 33, 'F', 61000.0, 23.0, 1.0, 'No', 'South', 'HR',\n",
       "        '2019-08-25', False]], dtype=object)"
      ]
     },
     "execution_count": 69,
     "metadata": {},
     "output_type": "execute_result"
    }
   ],
   "source": [
    "#DataFrame-এর সব value কে numpy array আকারে দেখাও।\n",
    "main_data.values"
   ]
  },
  {
   "cell_type": "code",
   "execution_count": 70,
   "id": "960a174b",
   "metadata": {},
   "outputs": [
    {
     "data": {
      "text/plain": [
       "<bound method DataFrame.to_numpy of    id   name  age sex   salary   bmi  children smoker region department  \\\n",
       "0   1   John   28   M  55000.0  24.5       2.0    Yes  North      Sales   \n",
       "1   2   Jane   34   F  62000.0  22.1       1.0     No  South  Marketing   \n",
       "2   3    Bob   45   M  70000.0  27.8       3.0    Yes   East         IT   \n",
       "3   4  Alice   29   F  58000.0  23.4       0.0     No   West         HR   \n",
       "4   5   Mike   38   M  65000.0  28.2       NaN    Yes  North    Finance   \n",
       "5   6  Linda   31   F  60000.0  21.9       2.0     No  South         IT   \n",
       "6   7  Steve   42   M  72000.0  26.5       1.0    Yes   East  Marketing   \n",
       "7   8  Karen   36   F      NaN  24.9       2.0     No   West      Sales   \n",
       "8   9    Tom   39   M  68000.0  29.1       3.0    Yes  North    Finance   \n",
       "9  10  Susan   33   F  61000.0  23.0       1.0     No  South         HR   \n",
       "\n",
       "    join_date  is_manager  \n",
       "0  2020-01-15       False  \n",
       "1  2019-06-23        True  \n",
       "2  2015-09-10       False  \n",
       "3  2021-03-12       False  \n",
       "4  2018-12-01        True  \n",
       "5  2020-07-08       False  \n",
       "6  2016-11-20        True  \n",
       "7  2017-04-30       False  \n",
       "8  2015-05-14       False  \n",
       "9  2019-08-25       False  >"
      ]
     },
     "execution_count": 70,
     "metadata": {},
     "output_type": "execute_result"
    }
   ],
   "source": [
    "#DataFrame-এর সব value কে numpy array আকারে দেখাও।\n",
    "main_data.to_numpy"
   ]
  },
  {
   "cell_type": "code",
   "execution_count": 71,
   "id": "e6f3506e",
   "metadata": {},
   "outputs": [
    {
     "data": {
      "text/html": [
       "<div>\n",
       "<style scoped>\n",
       "    .dataframe tbody tr th:only-of-type {\n",
       "        vertical-align: middle;\n",
       "    }\n",
       "\n",
       "    .dataframe tbody tr th {\n",
       "        vertical-align: top;\n",
       "    }\n",
       "\n",
       "    .dataframe thead th {\n",
       "        text-align: right;\n",
       "    }\n",
       "</style>\n",
       "<table border=\"1\" class=\"dataframe\">\n",
       "  <thead>\n",
       "    <tr style=\"text-align: right;\">\n",
       "      <th></th>\n",
       "      <th>0</th>\n",
       "      <th>1</th>\n",
       "      <th>2</th>\n",
       "      <th>3</th>\n",
       "      <th>4</th>\n",
       "      <th>5</th>\n",
       "      <th>6</th>\n",
       "      <th>7</th>\n",
       "      <th>8</th>\n",
       "      <th>9</th>\n",
       "    </tr>\n",
       "  </thead>\n",
       "  <tbody>\n",
       "    <tr>\n",
       "      <th>id</th>\n",
       "      <td>1</td>\n",
       "      <td>2</td>\n",
       "      <td>3</td>\n",
       "      <td>4</td>\n",
       "      <td>5</td>\n",
       "      <td>6</td>\n",
       "      <td>7</td>\n",
       "      <td>8</td>\n",
       "      <td>9</td>\n",
       "      <td>10</td>\n",
       "    </tr>\n",
       "    <tr>\n",
       "      <th>name</th>\n",
       "      <td>John</td>\n",
       "      <td>Jane</td>\n",
       "      <td>Bob</td>\n",
       "      <td>Alice</td>\n",
       "      <td>Mike</td>\n",
       "      <td>Linda</td>\n",
       "      <td>Steve</td>\n",
       "      <td>Karen</td>\n",
       "      <td>Tom</td>\n",
       "      <td>Susan</td>\n",
       "    </tr>\n",
       "    <tr>\n",
       "      <th>age</th>\n",
       "      <td>28</td>\n",
       "      <td>34</td>\n",
       "      <td>45</td>\n",
       "      <td>29</td>\n",
       "      <td>38</td>\n",
       "      <td>31</td>\n",
       "      <td>42</td>\n",
       "      <td>36</td>\n",
       "      <td>39</td>\n",
       "      <td>33</td>\n",
       "    </tr>\n",
       "    <tr>\n",
       "      <th>sex</th>\n",
       "      <td>M</td>\n",
       "      <td>F</td>\n",
       "      <td>M</td>\n",
       "      <td>F</td>\n",
       "      <td>M</td>\n",
       "      <td>F</td>\n",
       "      <td>M</td>\n",
       "      <td>F</td>\n",
       "      <td>M</td>\n",
       "      <td>F</td>\n",
       "    </tr>\n",
       "    <tr>\n",
       "      <th>salary</th>\n",
       "      <td>55000.0</td>\n",
       "      <td>62000.0</td>\n",
       "      <td>70000.0</td>\n",
       "      <td>58000.0</td>\n",
       "      <td>65000.0</td>\n",
       "      <td>60000.0</td>\n",
       "      <td>72000.0</td>\n",
       "      <td>NaN</td>\n",
       "      <td>68000.0</td>\n",
       "      <td>61000.0</td>\n",
       "    </tr>\n",
       "    <tr>\n",
       "      <th>bmi</th>\n",
       "      <td>24.5</td>\n",
       "      <td>22.1</td>\n",
       "      <td>27.8</td>\n",
       "      <td>23.4</td>\n",
       "      <td>28.2</td>\n",
       "      <td>21.9</td>\n",
       "      <td>26.5</td>\n",
       "      <td>24.9</td>\n",
       "      <td>29.1</td>\n",
       "      <td>23.0</td>\n",
       "    </tr>\n",
       "    <tr>\n",
       "      <th>children</th>\n",
       "      <td>2.0</td>\n",
       "      <td>1.0</td>\n",
       "      <td>3.0</td>\n",
       "      <td>0.0</td>\n",
       "      <td>NaN</td>\n",
       "      <td>2.0</td>\n",
       "      <td>1.0</td>\n",
       "      <td>2.0</td>\n",
       "      <td>3.0</td>\n",
       "      <td>1.0</td>\n",
       "    </tr>\n",
       "    <tr>\n",
       "      <th>smoker</th>\n",
       "      <td>Yes</td>\n",
       "      <td>No</td>\n",
       "      <td>Yes</td>\n",
       "      <td>No</td>\n",
       "      <td>Yes</td>\n",
       "      <td>No</td>\n",
       "      <td>Yes</td>\n",
       "      <td>No</td>\n",
       "      <td>Yes</td>\n",
       "      <td>No</td>\n",
       "    </tr>\n",
       "    <tr>\n",
       "      <th>region</th>\n",
       "      <td>North</td>\n",
       "      <td>South</td>\n",
       "      <td>East</td>\n",
       "      <td>West</td>\n",
       "      <td>North</td>\n",
       "      <td>South</td>\n",
       "      <td>East</td>\n",
       "      <td>West</td>\n",
       "      <td>North</td>\n",
       "      <td>South</td>\n",
       "    </tr>\n",
       "    <tr>\n",
       "      <th>department</th>\n",
       "      <td>Sales</td>\n",
       "      <td>Marketing</td>\n",
       "      <td>IT</td>\n",
       "      <td>HR</td>\n",
       "      <td>Finance</td>\n",
       "      <td>IT</td>\n",
       "      <td>Marketing</td>\n",
       "      <td>Sales</td>\n",
       "      <td>Finance</td>\n",
       "      <td>HR</td>\n",
       "    </tr>\n",
       "    <tr>\n",
       "      <th>join_date</th>\n",
       "      <td>2020-01-15</td>\n",
       "      <td>2019-06-23</td>\n",
       "      <td>2015-09-10</td>\n",
       "      <td>2021-03-12</td>\n",
       "      <td>2018-12-01</td>\n",
       "      <td>2020-07-08</td>\n",
       "      <td>2016-11-20</td>\n",
       "      <td>2017-04-30</td>\n",
       "      <td>2015-05-14</td>\n",
       "      <td>2019-08-25</td>\n",
       "    </tr>\n",
       "    <tr>\n",
       "      <th>is_manager</th>\n",
       "      <td>False</td>\n",
       "      <td>True</td>\n",
       "      <td>False</td>\n",
       "      <td>False</td>\n",
       "      <td>True</td>\n",
       "      <td>False</td>\n",
       "      <td>True</td>\n",
       "      <td>False</td>\n",
       "      <td>False</td>\n",
       "      <td>False</td>\n",
       "    </tr>\n",
       "  </tbody>\n",
       "</table>\n",
       "</div>"
      ],
      "text/plain": [
       "                     0           1           2           3           4  \\\n",
       "id                   1           2           3           4           5   \n",
       "name              John        Jane         Bob       Alice        Mike   \n",
       "age                 28          34          45          29          38   \n",
       "sex                  M           F           M           F           M   \n",
       "salary         55000.0     62000.0     70000.0     58000.0     65000.0   \n",
       "bmi               24.5        22.1        27.8        23.4        28.2   \n",
       "children           2.0         1.0         3.0         0.0         NaN   \n",
       "smoker             Yes          No         Yes          No         Yes   \n",
       "region           North       South        East        West       North   \n",
       "department       Sales   Marketing          IT          HR     Finance   \n",
       "join_date   2020-01-15  2019-06-23  2015-09-10  2021-03-12  2018-12-01   \n",
       "is_manager       False        True       False       False        True   \n",
       "\n",
       "                     5           6           7           8           9  \n",
       "id                   6           7           8           9          10  \n",
       "name             Linda       Steve       Karen         Tom       Susan  \n",
       "age                 31          42          36          39          33  \n",
       "sex                  F           M           F           M           F  \n",
       "salary         60000.0     72000.0         NaN     68000.0     61000.0  \n",
       "bmi               21.9        26.5        24.9        29.1        23.0  \n",
       "children           2.0         1.0         2.0         3.0         1.0  \n",
       "smoker              No         Yes          No         Yes          No  \n",
       "region           South        East        West       North       South  \n",
       "department          IT   Marketing       Sales     Finance          HR  \n",
       "join_date   2020-07-08  2016-11-20  2017-04-30  2015-05-14  2019-08-25  \n",
       "is_manager       False        True       False       False       False  "
      ]
     },
     "execution_count": 71,
     "metadata": {},
     "output_type": "execute_result"
    }
   ],
   "source": [
    "main_data.T"
   ]
  },
  {
   "cell_type": "code",
   "execution_count": 72,
   "metadata": {},
   "outputs": [
    {
     "data": {
      "text/html": [
       "<div>\n",
       "<style scoped>\n",
       "    .dataframe tbody tr th:only-of-type {\n",
       "        vertical-align: middle;\n",
       "    }\n",
       "\n",
       "    .dataframe tbody tr th {\n",
       "        vertical-align: top;\n",
       "    }\n",
       "\n",
       "    .dataframe thead th {\n",
       "        text-align: right;\n",
       "    }\n",
       "</style>\n",
       "<table border=\"1\" class=\"dataframe\">\n",
       "  <thead>\n",
       "    <tr style=\"text-align: right;\">\n",
       "      <th></th>\n",
       "      <th>id</th>\n",
       "      <th>name</th>\n",
       "      <th>age</th>\n",
       "      <th>sex</th>\n",
       "      <th>salary</th>\n",
       "      <th>bmi</th>\n",
       "      <th>children</th>\n",
       "      <th>smoker</th>\n",
       "      <th>region</th>\n",
       "      <th>department</th>\n",
       "      <th>join_date</th>\n",
       "      <th>is_manager</th>\n",
       "    </tr>\n",
       "  </thead>\n",
       "  <tbody>\n",
       "    <tr>\n",
       "      <th>0</th>\n",
       "      <td>1</td>\n",
       "      <td>John</td>\n",
       "      <td>28</td>\n",
       "      <td>M</td>\n",
       "      <td>55000.0</td>\n",
       "      <td>24.5</td>\n",
       "      <td>2.0</td>\n",
       "      <td>Yes</td>\n",
       "      <td>North</td>\n",
       "      <td>Sales</td>\n",
       "      <td>2020-01-15</td>\n",
       "      <td>False</td>\n",
       "    </tr>\n",
       "    <tr>\n",
       "      <th>1</th>\n",
       "      <td>2</td>\n",
       "      <td>Jane</td>\n",
       "      <td>34</td>\n",
       "      <td>F</td>\n",
       "      <td>62000.0</td>\n",
       "      <td>22.1</td>\n",
       "      <td>1.0</td>\n",
       "      <td>No</td>\n",
       "      <td>South</td>\n",
       "      <td>Marketing</td>\n",
       "      <td>2019-06-23</td>\n",
       "      <td>True</td>\n",
       "    </tr>\n",
       "    <tr>\n",
       "      <th>2</th>\n",
       "      <td>3</td>\n",
       "      <td>Bob</td>\n",
       "      <td>45</td>\n",
       "      <td>M</td>\n",
       "      <td>70000.0</td>\n",
       "      <td>27.8</td>\n",
       "      <td>3.0</td>\n",
       "      <td>Yes</td>\n",
       "      <td>East</td>\n",
       "      <td>IT</td>\n",
       "      <td>2015-09-10</td>\n",
       "      <td>False</td>\n",
       "    </tr>\n",
       "    <tr>\n",
       "      <th>3</th>\n",
       "      <td>4</td>\n",
       "      <td>Alice</td>\n",
       "      <td>29</td>\n",
       "      <td>F</td>\n",
       "      <td>58000.0</td>\n",
       "      <td>23.4</td>\n",
       "      <td>0.0</td>\n",
       "      <td>No</td>\n",
       "      <td>West</td>\n",
       "      <td>HR</td>\n",
       "      <td>2021-03-12</td>\n",
       "      <td>False</td>\n",
       "    </tr>\n",
       "    <tr>\n",
       "      <th>4</th>\n",
       "      <td>5</td>\n",
       "      <td>Mike</td>\n",
       "      <td>38</td>\n",
       "      <td>M</td>\n",
       "      <td>65000.0</td>\n",
       "      <td>28.2</td>\n",
       "      <td>NaN</td>\n",
       "      <td>Yes</td>\n",
       "      <td>North</td>\n",
       "      <td>Finance</td>\n",
       "      <td>2018-12-01</td>\n",
       "      <td>True</td>\n",
       "    </tr>\n",
       "  </tbody>\n",
       "</table>\n",
       "</div>"
      ],
      "text/plain": [
       "   id   name  age sex   salary   bmi  children smoker region department  \\\n",
       "0   1   John   28   M  55000.0  24.5       2.0    Yes  North      Sales   \n",
       "1   2   Jane   34   F  62000.0  22.1       1.0     No  South  Marketing   \n",
       "2   3    Bob   45   M  70000.0  27.8       3.0    Yes   East         IT   \n",
       "3   4  Alice   29   F  58000.0  23.4       0.0     No   West         HR   \n",
       "4   5   Mike   38   M  65000.0  28.2       NaN    Yes  North    Finance   \n",
       "\n",
       "    join_date  is_manager  \n",
       "0  2020-01-15       False  \n",
       "1  2019-06-23        True  \n",
       "2  2015-09-10       False  \n",
       "3  2021-03-12       False  \n",
       "4  2018-12-01        True  "
      ]
     },
     "execution_count": 72,
     "metadata": {},
     "output_type": "execute_result"
    }
   ],
   "source": [
    "#প্রথম ৫টি row প্রদর্শন করো।\n",
    "main_data.head()"
   ]
  },
  {
   "cell_type": "code",
   "execution_count": 73,
   "id": "05ce88b0",
   "metadata": {},
   "outputs": [
    {
     "data": {
      "text/html": [
       "<div>\n",
       "<style scoped>\n",
       "    .dataframe tbody tr th:only-of-type {\n",
       "        vertical-align: middle;\n",
       "    }\n",
       "\n",
       "    .dataframe tbody tr th {\n",
       "        vertical-align: top;\n",
       "    }\n",
       "\n",
       "    .dataframe thead th {\n",
       "        text-align: right;\n",
       "    }\n",
       "</style>\n",
       "<table border=\"1\" class=\"dataframe\">\n",
       "  <thead>\n",
       "    <tr style=\"text-align: right;\">\n",
       "      <th></th>\n",
       "      <th>id</th>\n",
       "      <th>name</th>\n",
       "      <th>age</th>\n",
       "      <th>sex</th>\n",
       "      <th>salary</th>\n",
       "      <th>bmi</th>\n",
       "      <th>children</th>\n",
       "      <th>smoker</th>\n",
       "      <th>region</th>\n",
       "      <th>department</th>\n",
       "      <th>join_date</th>\n",
       "      <th>is_manager</th>\n",
       "    </tr>\n",
       "  </thead>\n",
       "  <tbody>\n",
       "    <tr>\n",
       "      <th>7</th>\n",
       "      <td>8</td>\n",
       "      <td>Karen</td>\n",
       "      <td>36</td>\n",
       "      <td>F</td>\n",
       "      <td>NaN</td>\n",
       "      <td>24.9</td>\n",
       "      <td>2.0</td>\n",
       "      <td>No</td>\n",
       "      <td>West</td>\n",
       "      <td>Sales</td>\n",
       "      <td>2017-04-30</td>\n",
       "      <td>False</td>\n",
       "    </tr>\n",
       "    <tr>\n",
       "      <th>8</th>\n",
       "      <td>9</td>\n",
       "      <td>Tom</td>\n",
       "      <td>39</td>\n",
       "      <td>M</td>\n",
       "      <td>68000.0</td>\n",
       "      <td>29.1</td>\n",
       "      <td>3.0</td>\n",
       "      <td>Yes</td>\n",
       "      <td>North</td>\n",
       "      <td>Finance</td>\n",
       "      <td>2015-05-14</td>\n",
       "      <td>False</td>\n",
       "    </tr>\n",
       "    <tr>\n",
       "      <th>9</th>\n",
       "      <td>10</td>\n",
       "      <td>Susan</td>\n",
       "      <td>33</td>\n",
       "      <td>F</td>\n",
       "      <td>61000.0</td>\n",
       "      <td>23.0</td>\n",
       "      <td>1.0</td>\n",
       "      <td>No</td>\n",
       "      <td>South</td>\n",
       "      <td>HR</td>\n",
       "      <td>2019-08-25</td>\n",
       "      <td>False</td>\n",
       "    </tr>\n",
       "  </tbody>\n",
       "</table>\n",
       "</div>"
      ],
      "text/plain": [
       "   id   name  age sex   salary   bmi  children smoker region department  \\\n",
       "7   8  Karen   36   F      NaN  24.9       2.0     No   West      Sales   \n",
       "8   9    Tom   39   M  68000.0  29.1       3.0    Yes  North    Finance   \n",
       "9  10  Susan   33   F  61000.0  23.0       1.0     No  South         HR   \n",
       "\n",
       "    join_date  is_manager  \n",
       "7  2017-04-30       False  \n",
       "8  2015-05-14       False  \n",
       "9  2019-08-25       False  "
      ]
     },
     "execution_count": 73,
     "metadata": {},
     "output_type": "execute_result"
    }
   ],
   "source": [
    "#শেষ ৩টি row প্রদর্শন করো।\n",
    "main_data.tail(3)"
   ]
  },
  {
   "cell_type": "code",
   "execution_count": 74,
   "id": "4fdfe93e",
   "metadata": {},
   "outputs": [
    {
     "data": {
      "text/html": [
       "<div>\n",
       "<style scoped>\n",
       "    .dataframe tbody tr th:only-of-type {\n",
       "        vertical-align: middle;\n",
       "    }\n",
       "\n",
       "    .dataframe tbody tr th {\n",
       "        vertical-align: top;\n",
       "    }\n",
       "\n",
       "    .dataframe thead th {\n",
       "        text-align: right;\n",
       "    }\n",
       "</style>\n",
       "<table border=\"1\" class=\"dataframe\">\n",
       "  <thead>\n",
       "    <tr style=\"text-align: right;\">\n",
       "      <th></th>\n",
       "      <th>id</th>\n",
       "      <th>age</th>\n",
       "      <th>salary</th>\n",
       "      <th>bmi</th>\n",
       "      <th>children</th>\n",
       "    </tr>\n",
       "  </thead>\n",
       "  <tbody>\n",
       "    <tr>\n",
       "      <th>count</th>\n",
       "      <td>10.00000</td>\n",
       "      <td>10.000000</td>\n",
       "      <td>9.000000</td>\n",
       "      <td>10.000000</td>\n",
       "      <td>9.000000</td>\n",
       "    </tr>\n",
       "    <tr>\n",
       "      <th>mean</th>\n",
       "      <td>5.50000</td>\n",
       "      <td>35.500000</td>\n",
       "      <td>63444.444444</td>\n",
       "      <td>25.140000</td>\n",
       "      <td>1.666667</td>\n",
       "    </tr>\n",
       "    <tr>\n",
       "      <th>std</th>\n",
       "      <td>3.02765</td>\n",
       "      <td>5.562773</td>\n",
       "      <td>5703.312877</td>\n",
       "      <td>2.620093</td>\n",
       "      <td>1.000000</td>\n",
       "    </tr>\n",
       "    <tr>\n",
       "      <th>min</th>\n",
       "      <td>1.00000</td>\n",
       "      <td>28.000000</td>\n",
       "      <td>55000.000000</td>\n",
       "      <td>21.900000</td>\n",
       "      <td>0.000000</td>\n",
       "    </tr>\n",
       "    <tr>\n",
       "      <th>25%</th>\n",
       "      <td>3.25000</td>\n",
       "      <td>31.500000</td>\n",
       "      <td>60000.000000</td>\n",
       "      <td>23.100000</td>\n",
       "      <td>1.000000</td>\n",
       "    </tr>\n",
       "    <tr>\n",
       "      <th>50%</th>\n",
       "      <td>5.50000</td>\n",
       "      <td>35.000000</td>\n",
       "      <td>62000.000000</td>\n",
       "      <td>24.700000</td>\n",
       "      <td>2.000000</td>\n",
       "    </tr>\n",
       "    <tr>\n",
       "      <th>75%</th>\n",
       "      <td>7.75000</td>\n",
       "      <td>38.750000</td>\n",
       "      <td>68000.000000</td>\n",
       "      <td>27.475000</td>\n",
       "      <td>2.000000</td>\n",
       "    </tr>\n",
       "    <tr>\n",
       "      <th>max</th>\n",
       "      <td>10.00000</td>\n",
       "      <td>45.000000</td>\n",
       "      <td>72000.000000</td>\n",
       "      <td>29.100000</td>\n",
       "      <td>3.000000</td>\n",
       "    </tr>\n",
       "  </tbody>\n",
       "</table>\n",
       "</div>"
      ],
      "text/plain": [
       "             id        age        salary        bmi  children\n",
       "count  10.00000  10.000000      9.000000  10.000000  9.000000\n",
       "mean    5.50000  35.500000  63444.444444  25.140000  1.666667\n",
       "std     3.02765   5.562773   5703.312877   2.620093  1.000000\n",
       "min     1.00000  28.000000  55000.000000  21.900000  0.000000\n",
       "25%     3.25000  31.500000  60000.000000  23.100000  1.000000\n",
       "50%     5.50000  35.000000  62000.000000  24.700000  2.000000\n",
       "75%     7.75000  38.750000  68000.000000  27.475000  2.000000\n",
       "max    10.00000  45.000000  72000.000000  29.100000  3.000000"
      ]
     },
     "execution_count": 74,
     "metadata": {},
     "output_type": "execute_result"
    }
   ],
   "source": [
    "#সব numeric column এর summary statistics দেখাও।\n",
    "main_data.describe()"
   ]
  },
  {
   "cell_type": "code",
   "execution_count": 75,
   "metadata": {},
   "outputs": [
    {
     "data": {
      "text/plain": [
       "id            10\n",
       "name          10\n",
       "age           10\n",
       "sex           10\n",
       "salary         9\n",
       "bmi           10\n",
       "children       9\n",
       "smoker        10\n",
       "region        10\n",
       "department    10\n",
       "join_date     10\n",
       "is_manager    10\n",
       "dtype: int64"
      ]
     },
     "execution_count": 75,
     "metadata": {},
     "output_type": "execute_result"
    }
   ],
   "source": [
    "#প্রতিটি column-এ কয়টি non-null মান আছে তা বের করো।\n",
    "main_data.count()"
   ]
  },
  {
   "cell_type": "code",
   "execution_count": 76,
   "id": "7afa6d34",
   "metadata": {},
   "outputs": [
    {
     "name": "stdout",
     "output_type": "stream",
     "text": [
      "id              5.500000\n",
      "age            35.500000\n",
      "salary      63444.444444\n",
      "bmi            25.140000\n",
      "children        1.666667\n",
      "dtype: float64\n"
     ]
    }
   ],
   "source": [
    "#DataFrame-এর সব numeric column-এর গড় বের করো।\n",
    "numeric_value = main_data.select_dtypes(include='number')\n",
    "mean_value = numeric_value.mean()\n",
    "print(mean_value)"
   ]
  },
  {
   "cell_type": "code",
   "execution_count": 77,
   "id": "38982ece",
   "metadata": {},
   "outputs": [
    {
     "name": "stdout",
     "output_type": "stream",
     "text": [
      "id 5.5\n",
      "age 35.5\n",
      "salary 63444.444444444445\n",
      "bmi 25.14\n",
      "children 1.6666666666666667\n"
     ]
    }
   ],
   "source": [
    "numeric_value = main_data.select_dtypes(include='number')\n",
    "for col in numeric_value:\n",
    "    mean_values = numeric_value[col].mean()\n",
    "    print(col, mean_values)"
   ]
  },
  {
   "cell_type": "code",
   "execution_count": 78,
   "metadata": {},
   "outputs": [
    {
     "data": {
      "text/plain": [
       "np.float64(55000.0)"
      ]
     },
     "execution_count": 78,
     "metadata": {},
     "output_type": "execute_result"
    }
   ],
   "source": [
    "#“Salary” column-এর সর্বনিম্ন, সর্বোচ্চ এবং median বের করো।\n",
    "main_data['salary'].min()"
   ]
  },
  {
   "cell_type": "code",
   "execution_count": 79,
   "metadata": {},
   "outputs": [
    {
     "data": {
      "text/plain": [
       "np.float64(72000.0)"
      ]
     },
     "execution_count": 79,
     "metadata": {},
     "output_type": "execute_result"
    }
   ],
   "source": [
    "main_data['salary'].max()"
   ]
  },
  {
   "cell_type": "code",
   "execution_count": 80,
   "id": "3e9f5110",
   "metadata": {},
   "outputs": [
    {
     "data": {
      "text/plain": [
       "np.float64(62000.0)"
      ]
     },
     "execution_count": 80,
     "metadata": {},
     "output_type": "execute_result"
    }
   ],
   "source": [
    "main_data['salary'].median()"
   ]
  },
  {
   "cell_type": "code",
   "execution_count": 81,
   "id": "045febab",
   "metadata": {},
   "outputs": [
    {
     "data": {
      "text/plain": [
       "np.int64(355)"
      ]
     },
     "execution_count": 81,
     "metadata": {},
     "output_type": "execute_result"
    }
   ],
   "source": [
    "#“Age” column-এর সব মান যোগ করো\n",
    "main_data['age'].sum()"
   ]
  },
  {
   "cell_type": "code",
   "execution_count": 82,
   "id": "66faa2f7",
   "metadata": {},
   "outputs": [
    {
     "data": {
      "text/html": [
       "<div>\n",
       "<style scoped>\n",
       "    .dataframe tbody tr th:only-of-type {\n",
       "        vertical-align: middle;\n",
       "    }\n",
       "\n",
       "    .dataframe tbody tr th {\n",
       "        vertical-align: top;\n",
       "    }\n",
       "\n",
       "    .dataframe thead th {\n",
       "        text-align: right;\n",
       "    }\n",
       "</style>\n",
       "<table border=\"1\" class=\"dataframe\">\n",
       "  <thead>\n",
       "    <tr style=\"text-align: right;\">\n",
       "      <th></th>\n",
       "      <th>age</th>\n",
       "    </tr>\n",
       "  </thead>\n",
       "  <tbody>\n",
       "    <tr>\n",
       "      <th>0</th>\n",
       "      <td>28</td>\n",
       "    </tr>\n",
       "    <tr>\n",
       "      <th>1</th>\n",
       "      <td>34</td>\n",
       "    </tr>\n",
       "    <tr>\n",
       "      <th>2</th>\n",
       "      <td>45</td>\n",
       "    </tr>\n",
       "    <tr>\n",
       "      <th>3</th>\n",
       "      <td>29</td>\n",
       "    </tr>\n",
       "    <tr>\n",
       "      <th>4</th>\n",
       "      <td>38</td>\n",
       "    </tr>\n",
       "    <tr>\n",
       "      <th>5</th>\n",
       "      <td>31</td>\n",
       "    </tr>\n",
       "    <tr>\n",
       "      <th>6</th>\n",
       "      <td>42</td>\n",
       "    </tr>\n",
       "    <tr>\n",
       "      <th>7</th>\n",
       "      <td>36</td>\n",
       "    </tr>\n",
       "    <tr>\n",
       "      <th>8</th>\n",
       "      <td>39</td>\n",
       "    </tr>\n",
       "    <tr>\n",
       "      <th>9</th>\n",
       "      <td>33</td>\n",
       "    </tr>\n",
       "  </tbody>\n",
       "</table>\n",
       "</div>"
      ],
      "text/plain": [
       "   age\n",
       "0   28\n",
       "1   34\n",
       "2   45\n",
       "3   29\n",
       "4   38\n",
       "5   31\n",
       "6   42\n",
       "7   36\n",
       "8   39\n",
       "9   33"
      ]
     },
     "execution_count": 82,
     "metadata": {},
     "output_type": "execute_result"
    }
   ],
   "source": [
    "main_data[['age']]"
   ]
  },
  {
   "cell_type": "code",
   "execution_count": 83,
   "metadata": {},
   "outputs": [
    {
     "data": {
      "text/plain": [
       "5"
      ]
     },
     "execution_count": 83,
     "metadata": {},
     "output_type": "execute_result"
    }
   ],
   "source": [
    "main_data['department'].nunique()"
   ]
  },
  {
   "cell_type": "code",
   "execution_count": 84,
   "metadata": {},
   "outputs": [
    {
     "data": {
      "text/plain": [
       "array(['Sales', 'Marketing', 'IT', 'HR', 'Finance'], dtype=object)"
      ]
     },
     "execution_count": 84,
     "metadata": {},
     "output_type": "execute_result"
    }
   ],
   "source": [
    "main_data['department'].unique()"
   ]
  },
  {
   "cell_type": "code",
   "execution_count": 85,
   "metadata": {},
   "outputs": [
    {
     "data": {
      "text/plain": [
       "department\n",
       "Sales        2\n",
       "Marketing    2\n",
       "IT           2\n",
       "HR           2\n",
       "Finance      2\n",
       "Name: count, dtype: int64"
      ]
     },
     "execution_count": 85,
     "metadata": {},
     "output_type": "execute_result"
    }
   ],
   "source": [
    "#“Department” column-এর প্রতিটি মান কয়বার এসেছে তা গণনা করো।\n",
    "main_data['department'].value_counts()"
   ]
  },
  {
   "cell_type": "code",
   "execution_count": 86,
   "metadata": {},
   "outputs": [
    {
     "data": {
      "text/plain": [
       "array(['M', 'F'], dtype=object)"
      ]
     },
     "execution_count": 86,
     "metadata": {},
     "output_type": "execute_result"
    }
   ],
   "source": [
    "#“Gender” column-এর unique মানগুলো বের করো।\n",
    "main_data['sex'].unique()"
   ]
  },
  {
   "cell_type": "code",
   "execution_count": 87,
   "metadata": {},
   "outputs": [
    {
     "data": {
      "text/plain": [
       "2"
      ]
     },
     "execution_count": 87,
     "metadata": {},
     "output_type": "execute_result"
    }
   ],
   "source": [
    "main_data['sex'].nunique()"
   ]
  },
  {
   "cell_type": "code",
   "execution_count": 88,
   "metadata": {},
   "outputs": [
    {
     "name": "stdout",
     "output_type": "stream",
     "text": [
      "   id   name  age sex   salary   bmi  children smoker region department  \\\n",
      "0   1   John   28   M  55000.0  24.5       2.0    Yes  North      Sales   \n",
      "1   2   Jane   34   F  62000.0  22.1       1.0     No  South  Marketing   \n",
      "2   3    Bob   45   M  70000.0  27.8       3.0    Yes   East         IT   \n",
      "3   4  Alice   29   F  58000.0  23.4       0.0     No   West         HR   \n",
      "4   9    Tom   39   M  68000.0  29.1       3.0    Yes  North    Finance   \n",
      "5  10  Susan   33   F  61000.0  23.0       1.0     No  South         HR   \n",
      "\n",
      "    join_date  is_manager  \n",
      "0  2020-01-15       False  \n",
      "1  2019-06-23        True  \n",
      "2  2015-09-10       False  \n",
      "3  2021-03-12       False  \n",
      "4  2015-05-14       False  \n",
      "5  2019-08-25       False  \n"
     ]
    }
   ],
   "source": [
    "#DataFrame-এর প্রথম ৪টি row এবং শেষ ২টি row একসাথে প্রদর্শন করো।\n",
    "first4 = main_data.head(4)\n",
    "last2 = main_data.tail(2)\n",
    "first_last = pd.concat([first4, last2], ignore_index=True)\n",
    "print(first_last)"
   ]
  },
  {
   "cell_type": "code",
   "execution_count": 89,
   "id": "91365712",
   "metadata": {},
   "outputs": [
    {
     "name": "stdout",
     "output_type": "stream",
     "text": [
      "   id   name  age sex   salary   bmi  children smoker region department  \\\n",
      "0   1   John   28   M  55000.0  24.5       2.0    Yes  North      Sales   \n",
      "1   2   Jane   34   F  62000.0  22.1       1.0     No  South  Marketing   \n",
      "2   3    Bob   45   M  70000.0  27.8       3.0    Yes   East         IT   \n",
      "3   4  Alice   29   F  58000.0  23.4       0.0     No   West         HR   \n",
      "4   5   Mike   38   M  65000.0  28.2       NaN    Yes  North    Finance   \n",
      "5   6  Linda   31   F  60000.0  21.9       2.0     No  South         IT   \n",
      "6   7  Steve   42   M  72000.0  26.5       1.0    Yes   East  Marketing   \n",
      "7   8  Karen   36   F      NaN  24.9       2.0     No   West      Sales   \n",
      "8   9    Tom   39   M  68000.0  29.1       3.0    Yes  North    Finance   \n",
      "9  10  Susan   33   F  61000.0  23.0       1.0     No  South         HR   \n",
      "\n",
      "    join_date  is_manager  \n",
      "0  2020-01-15       False  \n",
      "1  2019-06-23        True  \n",
      "2  2015-09-10       False  \n",
      "3  2021-03-12       False  \n",
      "4  2018-12-01        True  \n",
      "5  2020-07-08       False  \n",
      "6  2016-11-20        True  \n",
      "7  2017-04-30       False  \n",
      "8  2015-05-14       False  \n",
      "9  2019-08-25       False  \n"
     ]
    }
   ],
   "source": [
    "print(main_data1)"
   ]
  },
  {
   "cell_type": "code",
   "execution_count": 90,
   "id": "3f2829f7",
   "metadata": {},
   "outputs": [
    {
     "data": {
      "text/html": [
       "<div>\n",
       "<style scoped>\n",
       "    .dataframe tbody tr th:only-of-type {\n",
       "        vertical-align: middle;\n",
       "    }\n",
       "\n",
       "    .dataframe tbody tr th {\n",
       "        vertical-align: top;\n",
       "    }\n",
       "\n",
       "    .dataframe thead th {\n",
       "        text-align: right;\n",
       "    }\n",
       "</style>\n",
       "<table border=\"1\" class=\"dataframe\">\n",
       "  <thead>\n",
       "    <tr style=\"text-align: right;\">\n",
       "      <th></th>\n",
       "      <th>name</th>\n",
       "    </tr>\n",
       "  </thead>\n",
       "  <tbody>\n",
       "    <tr>\n",
       "      <th>0</th>\n",
       "      <td>John</td>\n",
       "    </tr>\n",
       "    <tr>\n",
       "      <th>1</th>\n",
       "      <td>Jane</td>\n",
       "    </tr>\n",
       "    <tr>\n",
       "      <th>2</th>\n",
       "      <td>Bob</td>\n",
       "    </tr>\n",
       "    <tr>\n",
       "      <th>3</th>\n",
       "      <td>Alice</td>\n",
       "    </tr>\n",
       "    <tr>\n",
       "      <th>4</th>\n",
       "      <td>Mike</td>\n",
       "    </tr>\n",
       "    <tr>\n",
       "      <th>5</th>\n",
       "      <td>Linda</td>\n",
       "    </tr>\n",
       "    <tr>\n",
       "      <th>6</th>\n",
       "      <td>Steve</td>\n",
       "    </tr>\n",
       "    <tr>\n",
       "      <th>7</th>\n",
       "      <td>Karen</td>\n",
       "    </tr>\n",
       "    <tr>\n",
       "      <th>8</th>\n",
       "      <td>Tom</td>\n",
       "    </tr>\n",
       "    <tr>\n",
       "      <th>9</th>\n",
       "      <td>Susan</td>\n",
       "    </tr>\n",
       "  </tbody>\n",
       "</table>\n",
       "</div>"
      ],
      "text/plain": [
       "    name\n",
       "0   John\n",
       "1   Jane\n",
       "2    Bob\n",
       "3  Alice\n",
       "4   Mike\n",
       "5  Linda\n",
       "6  Steve\n",
       "7  Karen\n",
       "8    Tom\n",
       "9  Susan"
      ]
     },
     "execution_count": 90,
     "metadata": {},
     "output_type": "execute_result"
    }
   ],
   "source": [
    "#একক column নির্বাচন\n",
    "main_data1[['name']]"
   ]
  },
  {
   "cell_type": "code",
   "execution_count": 91,
   "metadata": {},
   "outputs": [
    {
     "data": {
      "text/html": [
       "<div>\n",
       "<style scoped>\n",
       "    .dataframe tbody tr th:only-of-type {\n",
       "        vertical-align: middle;\n",
       "    }\n",
       "\n",
       "    .dataframe tbody tr th {\n",
       "        vertical-align: top;\n",
       "    }\n",
       "\n",
       "    .dataframe thead th {\n",
       "        text-align: right;\n",
       "    }\n",
       "</style>\n",
       "<table border=\"1\" class=\"dataframe\">\n",
       "  <thead>\n",
       "    <tr style=\"text-align: right;\">\n",
       "      <th></th>\n",
       "      <th>salary</th>\n",
       "      <th>age</th>\n",
       "    </tr>\n",
       "  </thead>\n",
       "  <tbody>\n",
       "    <tr>\n",
       "      <th>0</th>\n",
       "      <td>55000.0</td>\n",
       "      <td>28</td>\n",
       "    </tr>\n",
       "    <tr>\n",
       "      <th>1</th>\n",
       "      <td>62000.0</td>\n",
       "      <td>34</td>\n",
       "    </tr>\n",
       "    <tr>\n",
       "      <th>2</th>\n",
       "      <td>70000.0</td>\n",
       "      <td>45</td>\n",
       "    </tr>\n",
       "    <tr>\n",
       "      <th>3</th>\n",
       "      <td>58000.0</td>\n",
       "      <td>29</td>\n",
       "    </tr>\n",
       "    <tr>\n",
       "      <th>4</th>\n",
       "      <td>65000.0</td>\n",
       "      <td>38</td>\n",
       "    </tr>\n",
       "    <tr>\n",
       "      <th>5</th>\n",
       "      <td>60000.0</td>\n",
       "      <td>31</td>\n",
       "    </tr>\n",
       "    <tr>\n",
       "      <th>6</th>\n",
       "      <td>72000.0</td>\n",
       "      <td>42</td>\n",
       "    </tr>\n",
       "    <tr>\n",
       "      <th>7</th>\n",
       "      <td>NaN</td>\n",
       "      <td>36</td>\n",
       "    </tr>\n",
       "    <tr>\n",
       "      <th>8</th>\n",
       "      <td>68000.0</td>\n",
       "      <td>39</td>\n",
       "    </tr>\n",
       "    <tr>\n",
       "      <th>9</th>\n",
       "      <td>61000.0</td>\n",
       "      <td>33</td>\n",
       "    </tr>\n",
       "  </tbody>\n",
       "</table>\n",
       "</div>"
      ],
      "text/plain": [
       "    salary  age\n",
       "0  55000.0   28\n",
       "1  62000.0   34\n",
       "2  70000.0   45\n",
       "3  58000.0   29\n",
       "4  65000.0   38\n",
       "5  60000.0   31\n",
       "6  72000.0   42\n",
       "7      NaN   36\n",
       "8  68000.0   39\n",
       "9  61000.0   33"
      ]
     },
     "execution_count": 91,
     "metadata": {},
     "output_type": "execute_result"
    }
   ],
   "source": [
    "#একাধিক column নির্বাচন\n",
    "main_data1[['salary','age']]"
   ]
  },
  {
   "cell_type": "code",
   "execution_count": 92,
   "id": "3ae8583e",
   "metadata": {},
   "outputs": [
    {
     "data": {
      "text/plain": [
       "'Alice'"
      ]
     },
     "execution_count": 92,
     "metadata": {},
     "output_type": "execute_result"
    }
   ],
   "source": [
    "#label দ্বারা row/column নির্বাচন\n",
    "main_data1.loc[3, 'name']"
   ]
  },
  {
   "cell_type": "code",
   "execution_count": 93,
   "id": "47e28fb7",
   "metadata": {},
   "outputs": [
    {
     "data": {
      "text/html": [
       "<div>\n",
       "<style scoped>\n",
       "    .dataframe tbody tr th:only-of-type {\n",
       "        vertical-align: middle;\n",
       "    }\n",
       "\n",
       "    .dataframe tbody tr th {\n",
       "        vertical-align: top;\n",
       "    }\n",
       "\n",
       "    .dataframe thead th {\n",
       "        text-align: right;\n",
       "    }\n",
       "</style>\n",
       "<table border=\"1\" class=\"dataframe\">\n",
       "  <thead>\n",
       "    <tr style=\"text-align: right;\">\n",
       "      <th></th>\n",
       "      <th>name</th>\n",
       "      <th>age</th>\n",
       "    </tr>\n",
       "  </thead>\n",
       "  <tbody>\n",
       "    <tr>\n",
       "      <th>3</th>\n",
       "      <td>Alice</td>\n",
       "      <td>29</td>\n",
       "    </tr>\n",
       "    <tr>\n",
       "      <th>4</th>\n",
       "      <td>Mike</td>\n",
       "      <td>38</td>\n",
       "    </tr>\n",
       "    <tr>\n",
       "      <th>5</th>\n",
       "      <td>Linda</td>\n",
       "      <td>31</td>\n",
       "    </tr>\n",
       "  </tbody>\n",
       "</table>\n",
       "</div>"
      ],
      "text/plain": [
       "    name  age\n",
       "3  Alice   29\n",
       "4   Mike   38\n",
       "5  Linda   31"
      ]
     },
     "execution_count": 93,
     "metadata": {},
     "output_type": "execute_result"
    }
   ],
   "source": [
    "main_data1.loc[3:5, ['name','age']]"
   ]
  },
  {
   "cell_type": "code",
   "execution_count": 94,
   "metadata": {},
   "outputs": [
    {
     "data": {
      "text/plain": [
       "np.float64(nan)"
      ]
     },
     "execution_count": 94,
     "metadata": {},
     "output_type": "execute_result"
    }
   ],
   "source": [
    "main_data1.loc[7, 'salary']"
   ]
  },
  {
   "cell_type": "code",
   "execution_count": 95,
   "id": "c3aeb31e",
   "metadata": {},
   "outputs": [
    {
     "data": {
      "text/html": [
       "<div>\n",
       "<style scoped>\n",
       "    .dataframe tbody tr th:only-of-type {\n",
       "        vertical-align: middle;\n",
       "    }\n",
       "\n",
       "    .dataframe tbody tr th {\n",
       "        vertical-align: top;\n",
       "    }\n",
       "\n",
       "    .dataframe thead th {\n",
       "        text-align: right;\n",
       "    }\n",
       "</style>\n",
       "<table border=\"1\" class=\"dataframe\">\n",
       "  <thead>\n",
       "    <tr style=\"text-align: right;\">\n",
       "      <th></th>\n",
       "      <th>age</th>\n",
       "      <th>sex</th>\n",
       "    </tr>\n",
       "  </thead>\n",
       "  <tbody>\n",
       "    <tr>\n",
       "      <th>1</th>\n",
       "      <td>34</td>\n",
       "      <td>F</td>\n",
       "    </tr>\n",
       "    <tr>\n",
       "      <th>2</th>\n",
       "      <td>45</td>\n",
       "      <td>M</td>\n",
       "    </tr>\n",
       "    <tr>\n",
       "      <th>3</th>\n",
       "      <td>29</td>\n",
       "      <td>F</td>\n",
       "    </tr>\n",
       "  </tbody>\n",
       "</table>\n",
       "</div>"
      ],
      "text/plain": [
       "   age sex\n",
       "1   34   F\n",
       "2   45   M\n",
       "3   29   F"
      ]
     },
     "execution_count": 95,
     "metadata": {},
     "output_type": "execute_result"
    }
   ],
   "source": [
    "#position দ্বারা row/column নির্বাচন\n",
    "main_data1.iloc[1:4,2:4]"
   ]
  },
  {
   "cell_type": "code",
   "execution_count": 96,
   "id": "15cf26d3",
   "metadata": {},
   "outputs": [
    {
     "data": {
      "text/plain": [
       "'F'"
      ]
     },
     "execution_count": 96,
     "metadata": {},
     "output_type": "execute_result"
    }
   ],
   "source": [
    "main_data1.iloc[3,3]"
   ]
  },
  {
   "cell_type": "code",
   "execution_count": 97,
   "id": "35aa5c01",
   "metadata": {},
   "outputs": [
    {
     "data": {
      "text/plain": [
       "'Mike'"
      ]
     },
     "execution_count": 97,
     "metadata": {},
     "output_type": "execute_result"
    }
   ],
   "source": [
    "#একক মান (single value) label দ্বারা access\n",
    "main_data1.at[4,'name']"
   ]
  },
  {
   "cell_type": "code",
   "execution_count": 98,
   "metadata": {},
   "outputs": [
    {
     "data": {
      "text/plain": [
       "np.float64(65000.0)"
      ]
     },
     "execution_count": 98,
     "metadata": {},
     "output_type": "execute_result"
    }
   ],
   "source": [
    "#একক মান (single value) position দ্বারা access\n",
    "main_data1.iat[4,4]"
   ]
  },
  {
   "cell_type": "code",
   "execution_count": 99,
   "metadata": {},
   "outputs": [
    {
     "data": {
      "text/html": [
       "<div>\n",
       "<style scoped>\n",
       "    .dataframe tbody tr th:only-of-type {\n",
       "        vertical-align: middle;\n",
       "    }\n",
       "\n",
       "    .dataframe tbody tr th {\n",
       "        vertical-align: top;\n",
       "    }\n",
       "\n",
       "    .dataframe thead th {\n",
       "        text-align: right;\n",
       "    }\n",
       "</style>\n",
       "<table border=\"1\" class=\"dataframe\">\n",
       "  <thead>\n",
       "    <tr style=\"text-align: right;\">\n",
       "      <th></th>\n",
       "      <th>id</th>\n",
       "      <th>name</th>\n",
       "      <th>age</th>\n",
       "      <th>sex</th>\n",
       "      <th>salary</th>\n",
       "      <th>bmi</th>\n",
       "      <th>children</th>\n",
       "      <th>smoker</th>\n",
       "      <th>region</th>\n",
       "      <th>department</th>\n",
       "      <th>join_date</th>\n",
       "      <th>is_manager</th>\n",
       "    </tr>\n",
       "  </thead>\n",
       "  <tbody>\n",
       "    <tr>\n",
       "      <th>4</th>\n",
       "      <td>5</td>\n",
       "      <td>Mike</td>\n",
       "      <td>38</td>\n",
       "      <td>M</td>\n",
       "      <td>65000.0</td>\n",
       "      <td>28.2</td>\n",
       "      <td>NaN</td>\n",
       "      <td>Yes</td>\n",
       "      <td>North</td>\n",
       "      <td>Finance</td>\n",
       "      <td>2018-12-01</td>\n",
       "      <td>True</td>\n",
       "    </tr>\n",
       "    <tr>\n",
       "      <th>7</th>\n",
       "      <td>8</td>\n",
       "      <td>Karen</td>\n",
       "      <td>36</td>\n",
       "      <td>F</td>\n",
       "      <td>NaN</td>\n",
       "      <td>24.9</td>\n",
       "      <td>2.0</td>\n",
       "      <td>No</td>\n",
       "      <td>West</td>\n",
       "      <td>Sales</td>\n",
       "      <td>2017-04-30</td>\n",
       "      <td>False</td>\n",
       "    </tr>\n",
       "    <tr>\n",
       "      <th>8</th>\n",
       "      <td>9</td>\n",
       "      <td>Tom</td>\n",
       "      <td>39</td>\n",
       "      <td>M</td>\n",
       "      <td>68000.0</td>\n",
       "      <td>29.1</td>\n",
       "      <td>3.0</td>\n",
       "      <td>Yes</td>\n",
       "      <td>North</td>\n",
       "      <td>Finance</td>\n",
       "      <td>2015-05-14</td>\n",
       "      <td>False</td>\n",
       "    </tr>\n",
       "  </tbody>\n",
       "</table>\n",
       "</div>"
      ],
      "text/plain": [
       "   id   name  age sex   salary   bmi  children smoker region department  \\\n",
       "4   5   Mike   38   M  65000.0  28.2       NaN    Yes  North    Finance   \n",
       "7   8  Karen   36   F      NaN  24.9       2.0     No   West      Sales   \n",
       "8   9    Tom   39   M  68000.0  29.1       3.0    Yes  North    Finance   \n",
       "\n",
       "    join_date  is_manager  \n",
       "4  2018-12-01        True  \n",
       "7  2017-04-30       False  \n",
       "8  2015-05-14       False  "
      ]
     },
     "execution_count": 99,
     "metadata": {},
     "output_type": "execute_result"
    }
   ],
   "source": [
    "main_data1.sample(3)"
   ]
  },
  {
   "cell_type": "code",
   "execution_count": 100,
   "id": "2afdadaa",
   "metadata": {},
   "outputs": [
    {
     "data": {
      "text/html": [
       "<div>\n",
       "<style scoped>\n",
       "    .dataframe tbody tr th:only-of-type {\n",
       "        vertical-align: middle;\n",
       "    }\n",
       "\n",
       "    .dataframe tbody tr th {\n",
       "        vertical-align: top;\n",
       "    }\n",
       "\n",
       "    .dataframe thead th {\n",
       "        text-align: right;\n",
       "    }\n",
       "</style>\n",
       "<table border=\"1\" class=\"dataframe\">\n",
       "  <thead>\n",
       "    <tr style=\"text-align: right;\">\n",
       "      <th></th>\n",
       "      <th>id</th>\n",
       "      <th>name</th>\n",
       "      <th>age</th>\n",
       "      <th>sex</th>\n",
       "      <th>salary</th>\n",
       "      <th>bmi</th>\n",
       "      <th>children</th>\n",
       "      <th>smoker</th>\n",
       "      <th>region</th>\n",
       "      <th>department</th>\n",
       "      <th>join_date</th>\n",
       "      <th>is_manager</th>\n",
       "    </tr>\n",
       "  </thead>\n",
       "  <tbody>\n",
       "    <tr>\n",
       "      <th>3</th>\n",
       "      <td>4</td>\n",
       "      <td>Alice</td>\n",
       "      <td>29</td>\n",
       "      <td>F</td>\n",
       "      <td>58000.0</td>\n",
       "      <td>23.4</td>\n",
       "      <td>0.0</td>\n",
       "      <td>No</td>\n",
       "      <td>West</td>\n",
       "      <td>HR</td>\n",
       "      <td>2021-03-12</td>\n",
       "      <td>False</td>\n",
       "    </tr>\n",
       "    <tr>\n",
       "      <th>6</th>\n",
       "      <td>7</td>\n",
       "      <td>Steve</td>\n",
       "      <td>42</td>\n",
       "      <td>M</td>\n",
       "      <td>72000.0</td>\n",
       "      <td>26.5</td>\n",
       "      <td>1.0</td>\n",
       "      <td>Yes</td>\n",
       "      <td>East</td>\n",
       "      <td>Marketing</td>\n",
       "      <td>2016-11-20</td>\n",
       "      <td>True</td>\n",
       "    </tr>\n",
       "    <tr>\n",
       "      <th>5</th>\n",
       "      <td>6</td>\n",
       "      <td>Linda</td>\n",
       "      <td>31</td>\n",
       "      <td>F</td>\n",
       "      <td>60000.0</td>\n",
       "      <td>21.9</td>\n",
       "      <td>2.0</td>\n",
       "      <td>No</td>\n",
       "      <td>South</td>\n",
       "      <td>IT</td>\n",
       "      <td>2020-07-08</td>\n",
       "      <td>False</td>\n",
       "    </tr>\n",
       "    <tr>\n",
       "      <th>9</th>\n",
       "      <td>10</td>\n",
       "      <td>Susan</td>\n",
       "      <td>33</td>\n",
       "      <td>F</td>\n",
       "      <td>61000.0</td>\n",
       "      <td>23.0</td>\n",
       "      <td>1.0</td>\n",
       "      <td>No</td>\n",
       "      <td>South</td>\n",
       "      <td>HR</td>\n",
       "      <td>2019-08-25</td>\n",
       "      <td>False</td>\n",
       "    </tr>\n",
       "    <tr>\n",
       "      <th>4</th>\n",
       "      <td>5</td>\n",
       "      <td>Mike</td>\n",
       "      <td>38</td>\n",
       "      <td>M</td>\n",
       "      <td>65000.0</td>\n",
       "      <td>28.2</td>\n",
       "      <td>NaN</td>\n",
       "      <td>Yes</td>\n",
       "      <td>North</td>\n",
       "      <td>Finance</td>\n",
       "      <td>2018-12-01</td>\n",
       "      <td>True</td>\n",
       "    </tr>\n",
       "  </tbody>\n",
       "</table>\n",
       "</div>"
      ],
      "text/plain": [
       "   id   name  age sex   salary   bmi  children smoker region department  \\\n",
       "3   4  Alice   29   F  58000.0  23.4       0.0     No   West         HR   \n",
       "6   7  Steve   42   M  72000.0  26.5       1.0    Yes   East  Marketing   \n",
       "5   6  Linda   31   F  60000.0  21.9       2.0     No  South         IT   \n",
       "9  10  Susan   33   F  61000.0  23.0       1.0     No  South         HR   \n",
       "4   5   Mike   38   M  65000.0  28.2       NaN    Yes  North    Finance   \n",
       "\n",
       "    join_date  is_manager  \n",
       "3  2021-03-12       False  \n",
       "6  2016-11-20        True  \n",
       "5  2020-07-08       False  \n",
       "9  2019-08-25       False  \n",
       "4  2018-12-01        True  "
      ]
     },
     "execution_count": 100,
     "metadata": {},
     "output_type": "execute_result"
    }
   ],
   "source": [
    "#পুরো DataFrame-এর কত অংশ নিতে চাও (যেমন 0.2 মানে ২০%)\n",
    "main_data1.sample(frac=0.5)"
   ]
  },
  {
   "cell_type": "code",
   "execution_count": 101,
   "id": "c385d32f",
   "metadata": {},
   "outputs": [
    {
     "data": {
      "text/html": [
       "<div>\n",
       "<style scoped>\n",
       "    .dataframe tbody tr th:only-of-type {\n",
       "        vertical-align: middle;\n",
       "    }\n",
       "\n",
       "    .dataframe tbody tr th {\n",
       "        vertical-align: top;\n",
       "    }\n",
       "\n",
       "    .dataframe thead th {\n",
       "        text-align: right;\n",
       "    }\n",
       "</style>\n",
       "<table border=\"1\" class=\"dataframe\">\n",
       "  <thead>\n",
       "    <tr style=\"text-align: right;\">\n",
       "      <th></th>\n",
       "      <th>id</th>\n",
       "      <th>name</th>\n",
       "      <th>age</th>\n",
       "      <th>sex</th>\n",
       "      <th>salary</th>\n",
       "      <th>bmi</th>\n",
       "      <th>children</th>\n",
       "      <th>smoker</th>\n",
       "      <th>region</th>\n",
       "      <th>department</th>\n",
       "      <th>join_date</th>\n",
       "      <th>is_manager</th>\n",
       "    </tr>\n",
       "  </thead>\n",
       "  <tbody>\n",
       "    <tr>\n",
       "      <th>2</th>\n",
       "      <td>3</td>\n",
       "      <td>Bob</td>\n",
       "      <td>45</td>\n",
       "      <td>M</td>\n",
       "      <td>70000.0</td>\n",
       "      <td>27.8</td>\n",
       "      <td>3.0</td>\n",
       "      <td>Yes</td>\n",
       "      <td>East</td>\n",
       "      <td>IT</td>\n",
       "      <td>2015-09-10</td>\n",
       "      <td>False</td>\n",
       "    </tr>\n",
       "    <tr>\n",
       "      <th>9</th>\n",
       "      <td>10</td>\n",
       "      <td>Susan</td>\n",
       "      <td>33</td>\n",
       "      <td>F</td>\n",
       "      <td>61000.0</td>\n",
       "      <td>23.0</td>\n",
       "      <td>1.0</td>\n",
       "      <td>No</td>\n",
       "      <td>South</td>\n",
       "      <td>HR</td>\n",
       "      <td>2019-08-25</td>\n",
       "      <td>False</td>\n",
       "    </tr>\n",
       "    <tr>\n",
       "      <th>6</th>\n",
       "      <td>7</td>\n",
       "      <td>Steve</td>\n",
       "      <td>42</td>\n",
       "      <td>M</td>\n",
       "      <td>72000.0</td>\n",
       "      <td>26.5</td>\n",
       "      <td>1.0</td>\n",
       "      <td>Yes</td>\n",
       "      <td>East</td>\n",
       "      <td>Marketing</td>\n",
       "      <td>2016-11-20</td>\n",
       "      <td>True</td>\n",
       "    </tr>\n",
       "  </tbody>\n",
       "</table>\n",
       "</div>"
      ],
      "text/plain": [
       "   id   name  age sex   salary   bmi  children smoker region department  \\\n",
       "2   3    Bob   45   M  70000.0  27.8       3.0    Yes   East         IT   \n",
       "9  10  Susan   33   F  61000.0  23.0       1.0     No  South         HR   \n",
       "6   7  Steve   42   M  72000.0  26.5       1.0    Yes   East  Marketing   \n",
       "\n",
       "    join_date  is_manager  \n",
       "2  2015-09-10       False  \n",
       "9  2019-08-25       False  \n",
       "6  2016-11-20        True  "
      ]
     },
     "execution_count": 101,
     "metadata": {},
     "output_type": "execute_result"
    }
   ],
   "source": [
    "#fixed random seed — একই ফলাফল বারবার পেতে\n",
    "main_data1.sample(3, random_state=1)"
   ]
  },
  {
   "cell_type": "code",
   "execution_count": 102,
   "id": "8f29b400",
   "metadata": {},
   "outputs": [
    {
     "data": {
      "text/html": [
       "<div>\n",
       "<style scoped>\n",
       "    .dataframe tbody tr th:only-of-type {\n",
       "        vertical-align: middle;\n",
       "    }\n",
       "\n",
       "    .dataframe tbody tr th {\n",
       "        vertical-align: top;\n",
       "    }\n",
       "\n",
       "    .dataframe thead th {\n",
       "        text-align: right;\n",
       "    }\n",
       "</style>\n",
       "<table border=\"1\" class=\"dataframe\">\n",
       "  <thead>\n",
       "    <tr style=\"text-align: right;\">\n",
       "      <th></th>\n",
       "      <th>id</th>\n",
       "      <th>name</th>\n",
       "      <th>age</th>\n",
       "      <th>sex</th>\n",
       "      <th>salary</th>\n",
       "      <th>bmi</th>\n",
       "      <th>children</th>\n",
       "      <th>smoker</th>\n",
       "      <th>region</th>\n",
       "      <th>department</th>\n",
       "      <th>join_date</th>\n",
       "      <th>is_manager</th>\n",
       "    </tr>\n",
       "  </thead>\n",
       "  <tbody>\n",
       "    <tr>\n",
       "      <th>9</th>\n",
       "      <td>10</td>\n",
       "      <td>Susan</td>\n",
       "      <td>33</td>\n",
       "      <td>F</td>\n",
       "      <td>61000.0</td>\n",
       "      <td>23.0</td>\n",
       "      <td>1.0</td>\n",
       "      <td>No</td>\n",
       "      <td>South</td>\n",
       "      <td>HR</td>\n",
       "      <td>2019-08-25</td>\n",
       "      <td>False</td>\n",
       "    </tr>\n",
       "    <tr>\n",
       "      <th>6</th>\n",
       "      <td>7</td>\n",
       "      <td>Steve</td>\n",
       "      <td>42</td>\n",
       "      <td>M</td>\n",
       "      <td>72000.0</td>\n",
       "      <td>26.5</td>\n",
       "      <td>1.0</td>\n",
       "      <td>Yes</td>\n",
       "      <td>East</td>\n",
       "      <td>Marketing</td>\n",
       "      <td>2016-11-20</td>\n",
       "      <td>True</td>\n",
       "    </tr>\n",
       "    <tr>\n",
       "      <th>7</th>\n",
       "      <td>8</td>\n",
       "      <td>Karen</td>\n",
       "      <td>36</td>\n",
       "      <td>F</td>\n",
       "      <td>NaN</td>\n",
       "      <td>24.9</td>\n",
       "      <td>2.0</td>\n",
       "      <td>No</td>\n",
       "      <td>West</td>\n",
       "      <td>Sales</td>\n",
       "      <td>2017-04-30</td>\n",
       "      <td>False</td>\n",
       "    </tr>\n",
       "  </tbody>\n",
       "</table>\n",
       "</div>"
      ],
      "text/plain": [
       "   id   name  age sex   salary   bmi  children smoker region department  \\\n",
       "9  10  Susan   33   F  61000.0  23.0       1.0     No  South         HR   \n",
       "6   7  Steve   42   M  72000.0  26.5       1.0    Yes   East  Marketing   \n",
       "7   8  Karen   36   F      NaN  24.9       2.0     No   West      Sales   \n",
       "\n",
       "    join_date  is_manager  \n",
       "9  2019-08-25       False  \n",
       "6  2016-11-20        True  \n",
       "7  2017-04-30       False  "
      ]
     },
     "execution_count": 102,
     "metadata": {},
     "output_type": "execute_result"
    }
   ],
   "source": [
    "#একই row একাধিকবার আসতে পারবে কি না (True বা False)\n",
    "main_data1.sample(3, replace=False)"
   ]
  },
  {
   "cell_type": "code",
   "execution_count": 103,
   "metadata": {},
   "outputs": [
    {
     "data": {
      "text/html": [
       "<div>\n",
       "<style scoped>\n",
       "    .dataframe tbody tr th:only-of-type {\n",
       "        vertical-align: middle;\n",
       "    }\n",
       "\n",
       "    .dataframe tbody tr th {\n",
       "        vertical-align: top;\n",
       "    }\n",
       "\n",
       "    .dataframe thead th {\n",
       "        text-align: right;\n",
       "    }\n",
       "</style>\n",
       "<table border=\"1\" class=\"dataframe\">\n",
       "  <thead>\n",
       "    <tr style=\"text-align: right;\">\n",
       "      <th></th>\n",
       "      <th>name</th>\n",
       "      <th>sex</th>\n",
       "      <th>salary</th>\n",
       "    </tr>\n",
       "  </thead>\n",
       "  <tbody>\n",
       "    <tr>\n",
       "      <th>0</th>\n",
       "      <td>John</td>\n",
       "      <td>M</td>\n",
       "      <td>55000.0</td>\n",
       "    </tr>\n",
       "    <tr>\n",
       "      <th>1</th>\n",
       "      <td>Jane</td>\n",
       "      <td>F</td>\n",
       "      <td>62000.0</td>\n",
       "    </tr>\n",
       "    <tr>\n",
       "      <th>2</th>\n",
       "      <td>Bob</td>\n",
       "      <td>M</td>\n",
       "      <td>70000.0</td>\n",
       "    </tr>\n",
       "    <tr>\n",
       "      <th>3</th>\n",
       "      <td>Alice</td>\n",
       "      <td>F</td>\n",
       "      <td>58000.0</td>\n",
       "    </tr>\n",
       "    <tr>\n",
       "      <th>4</th>\n",
       "      <td>Mike</td>\n",
       "      <td>M</td>\n",
       "      <td>65000.0</td>\n",
       "    </tr>\n",
       "    <tr>\n",
       "      <th>5</th>\n",
       "      <td>Linda</td>\n",
       "      <td>F</td>\n",
       "      <td>60000.0</td>\n",
       "    </tr>\n",
       "    <tr>\n",
       "      <th>6</th>\n",
       "      <td>Steve</td>\n",
       "      <td>M</td>\n",
       "      <td>72000.0</td>\n",
       "    </tr>\n",
       "    <tr>\n",
       "      <th>7</th>\n",
       "      <td>Karen</td>\n",
       "      <td>F</td>\n",
       "      <td>NaN</td>\n",
       "    </tr>\n",
       "    <tr>\n",
       "      <th>8</th>\n",
       "      <td>Tom</td>\n",
       "      <td>M</td>\n",
       "      <td>68000.0</td>\n",
       "    </tr>\n",
       "    <tr>\n",
       "      <th>9</th>\n",
       "      <td>Susan</td>\n",
       "      <td>F</td>\n",
       "      <td>61000.0</td>\n",
       "    </tr>\n",
       "  </tbody>\n",
       "</table>\n",
       "</div>"
      ],
      "text/plain": [
       "    name sex   salary\n",
       "0   John   M  55000.0\n",
       "1   Jane   F  62000.0\n",
       "2    Bob   M  70000.0\n",
       "3  Alice   F  58000.0\n",
       "4   Mike   M  65000.0\n",
       "5  Linda   F  60000.0\n",
       "6  Steve   M  72000.0\n",
       "7  Karen   F      NaN\n",
       "8    Tom   M  68000.0\n",
       "9  Susan   F  61000.0"
      ]
     },
     "execution_count": 103,
     "metadata": {},
     "output_type": "execute_result"
    }
   ],
   "source": [
    "#column অনুযায়ী random sample নিতে চাইলে axis=1 দিতে হয়\n",
    "main_data1.sample(3, axis=1)"
   ]
  },
  {
   "cell_type": "code",
   "execution_count": 104,
   "id": "c1caf1bc",
   "metadata": {},
   "outputs": [
    {
     "data": {
      "text/html": [
       "<div>\n",
       "<style scoped>\n",
       "    .dataframe tbody tr th:only-of-type {\n",
       "        vertical-align: middle;\n",
       "    }\n",
       "\n",
       "    .dataframe tbody tr th {\n",
       "        vertical-align: top;\n",
       "    }\n",
       "\n",
       "    .dataframe thead th {\n",
       "        text-align: right;\n",
       "    }\n",
       "</style>\n",
       "<table border=\"1\" class=\"dataframe\">\n",
       "  <thead>\n",
       "    <tr style=\"text-align: right;\">\n",
       "      <th></th>\n",
       "      <th>id</th>\n",
       "      <th>name</th>\n",
       "      <th>age</th>\n",
       "      <th>sex</th>\n",
       "      <th>salary</th>\n",
       "      <th>bmi</th>\n",
       "      <th>children</th>\n",
       "      <th>smoker</th>\n",
       "      <th>region</th>\n",
       "      <th>department</th>\n",
       "      <th>join_date</th>\n",
       "      <th>is_manager</th>\n",
       "    </tr>\n",
       "  </thead>\n",
       "  <tbody>\n",
       "    <tr>\n",
       "      <th>1</th>\n",
       "      <td>2</td>\n",
       "      <td>Jane</td>\n",
       "      <td>34</td>\n",
       "      <td>F</td>\n",
       "      <td>62000.0</td>\n",
       "      <td>22.1</td>\n",
       "      <td>1.0</td>\n",
       "      <td>No</td>\n",
       "      <td>South</td>\n",
       "      <td>Marketing</td>\n",
       "      <td>2019-06-23</td>\n",
       "      <td>True</td>\n",
       "    </tr>\n",
       "    <tr>\n",
       "      <th>2</th>\n",
       "      <td>3</td>\n",
       "      <td>Bob</td>\n",
       "      <td>45</td>\n",
       "      <td>M</td>\n",
       "      <td>70000.0</td>\n",
       "      <td>27.8</td>\n",
       "      <td>3.0</td>\n",
       "      <td>Yes</td>\n",
       "      <td>East</td>\n",
       "      <td>IT</td>\n",
       "      <td>2015-09-10</td>\n",
       "      <td>False</td>\n",
       "    </tr>\n",
       "    <tr>\n",
       "      <th>4</th>\n",
       "      <td>5</td>\n",
       "      <td>Mike</td>\n",
       "      <td>38</td>\n",
       "      <td>M</td>\n",
       "      <td>65000.0</td>\n",
       "      <td>28.2</td>\n",
       "      <td>NaN</td>\n",
       "      <td>Yes</td>\n",
       "      <td>North</td>\n",
       "      <td>Finance</td>\n",
       "      <td>2018-12-01</td>\n",
       "      <td>True</td>\n",
       "    </tr>\n",
       "    <tr>\n",
       "      <th>5</th>\n",
       "      <td>6</td>\n",
       "      <td>Linda</td>\n",
       "      <td>31</td>\n",
       "      <td>F</td>\n",
       "      <td>60000.0</td>\n",
       "      <td>21.9</td>\n",
       "      <td>2.0</td>\n",
       "      <td>No</td>\n",
       "      <td>South</td>\n",
       "      <td>IT</td>\n",
       "      <td>2020-07-08</td>\n",
       "      <td>False</td>\n",
       "    </tr>\n",
       "    <tr>\n",
       "      <th>6</th>\n",
       "      <td>7</td>\n",
       "      <td>Steve</td>\n",
       "      <td>42</td>\n",
       "      <td>M</td>\n",
       "      <td>72000.0</td>\n",
       "      <td>26.5</td>\n",
       "      <td>1.0</td>\n",
       "      <td>Yes</td>\n",
       "      <td>East</td>\n",
       "      <td>Marketing</td>\n",
       "      <td>2016-11-20</td>\n",
       "      <td>True</td>\n",
       "    </tr>\n",
       "    <tr>\n",
       "      <th>7</th>\n",
       "      <td>8</td>\n",
       "      <td>Karen</td>\n",
       "      <td>36</td>\n",
       "      <td>F</td>\n",
       "      <td>NaN</td>\n",
       "      <td>24.9</td>\n",
       "      <td>2.0</td>\n",
       "      <td>No</td>\n",
       "      <td>West</td>\n",
       "      <td>Sales</td>\n",
       "      <td>2017-04-30</td>\n",
       "      <td>False</td>\n",
       "    </tr>\n",
       "    <tr>\n",
       "      <th>8</th>\n",
       "      <td>9</td>\n",
       "      <td>Tom</td>\n",
       "      <td>39</td>\n",
       "      <td>M</td>\n",
       "      <td>68000.0</td>\n",
       "      <td>29.1</td>\n",
       "      <td>3.0</td>\n",
       "      <td>Yes</td>\n",
       "      <td>North</td>\n",
       "      <td>Finance</td>\n",
       "      <td>2015-05-14</td>\n",
       "      <td>False</td>\n",
       "    </tr>\n",
       "    <tr>\n",
       "      <th>9</th>\n",
       "      <td>10</td>\n",
       "      <td>Susan</td>\n",
       "      <td>33</td>\n",
       "      <td>F</td>\n",
       "      <td>61000.0</td>\n",
       "      <td>23.0</td>\n",
       "      <td>1.0</td>\n",
       "      <td>No</td>\n",
       "      <td>South</td>\n",
       "      <td>HR</td>\n",
       "      <td>2019-08-25</td>\n",
       "      <td>False</td>\n",
       "    </tr>\n",
       "  </tbody>\n",
       "</table>\n",
       "</div>"
      ],
      "text/plain": [
       "   id   name  age sex   salary   bmi  children smoker region department  \\\n",
       "1   2   Jane   34   F  62000.0  22.1       1.0     No  South  Marketing   \n",
       "2   3    Bob   45   M  70000.0  27.8       3.0    Yes   East         IT   \n",
       "4   5   Mike   38   M  65000.0  28.2       NaN    Yes  North    Finance   \n",
       "5   6  Linda   31   F  60000.0  21.9       2.0     No  South         IT   \n",
       "6   7  Steve   42   M  72000.0  26.5       1.0    Yes   East  Marketing   \n",
       "7   8  Karen   36   F      NaN  24.9       2.0     No   West      Sales   \n",
       "8   9    Tom   39   M  68000.0  29.1       3.0    Yes  North    Finance   \n",
       "9  10  Susan   33   F  61000.0  23.0       1.0     No  South         HR   \n",
       "\n",
       "    join_date  is_manager  \n",
       "1  2019-06-23        True  \n",
       "2  2015-09-10       False  \n",
       "4  2018-12-01        True  \n",
       "5  2020-07-08       False  \n",
       "6  2016-11-20        True  \n",
       "7  2017-04-30       False  \n",
       "8  2015-05-14       False  \n",
       "9  2019-08-25       False  "
      ]
     },
     "execution_count": 104,
     "metadata": {},
     "output_type": "execute_result"
    }
   ],
   "source": [
    "#df.query('condition') নির্দিষ্ট শর্তে data নির্বাচন\n",
    "main_data.query('age>30')"
   ]
  },
  {
   "cell_type": "code",
   "execution_count": 105,
   "id": "9fef73c0",
   "metadata": {},
   "outputs": [
    {
     "data": {
      "text/html": [
       "<div>\n",
       "<style scoped>\n",
       "    .dataframe tbody tr th:only-of-type {\n",
       "        vertical-align: middle;\n",
       "    }\n",
       "\n",
       "    .dataframe tbody tr th {\n",
       "        vertical-align: top;\n",
       "    }\n",
       "\n",
       "    .dataframe thead th {\n",
       "        text-align: right;\n",
       "    }\n",
       "</style>\n",
       "<table border=\"1\" class=\"dataframe\">\n",
       "  <thead>\n",
       "    <tr style=\"text-align: right;\">\n",
       "      <th></th>\n",
       "      <th>id</th>\n",
       "      <th>name</th>\n",
       "      <th>age</th>\n",
       "      <th>sex</th>\n",
       "      <th>salary</th>\n",
       "      <th>bmi</th>\n",
       "      <th>children</th>\n",
       "      <th>smoker</th>\n",
       "      <th>region</th>\n",
       "      <th>department</th>\n",
       "      <th>join_date</th>\n",
       "      <th>is_manager</th>\n",
       "    </tr>\n",
       "  </thead>\n",
       "  <tbody>\n",
       "    <tr>\n",
       "      <th>0</th>\n",
       "      <td>1</td>\n",
       "      <td>John</td>\n",
       "      <td>28</td>\n",
       "      <td>M</td>\n",
       "      <td>55000.0</td>\n",
       "      <td>24.5</td>\n",
       "      <td>2.0</td>\n",
       "      <td>Yes</td>\n",
       "      <td>North</td>\n",
       "      <td>Sales</td>\n",
       "      <td>2020-01-15</td>\n",
       "      <td>False</td>\n",
       "    </tr>\n",
       "    <tr>\n",
       "      <th>2</th>\n",
       "      <td>3</td>\n",
       "      <td>Bob</td>\n",
       "      <td>45</td>\n",
       "      <td>M</td>\n",
       "      <td>70000.0</td>\n",
       "      <td>27.8</td>\n",
       "      <td>3.0</td>\n",
       "      <td>Yes</td>\n",
       "      <td>East</td>\n",
       "      <td>IT</td>\n",
       "      <td>2015-09-10</td>\n",
       "      <td>False</td>\n",
       "    </tr>\n",
       "    <tr>\n",
       "      <th>4</th>\n",
       "      <td>5</td>\n",
       "      <td>Mike</td>\n",
       "      <td>38</td>\n",
       "      <td>M</td>\n",
       "      <td>65000.0</td>\n",
       "      <td>28.2</td>\n",
       "      <td>NaN</td>\n",
       "      <td>Yes</td>\n",
       "      <td>North</td>\n",
       "      <td>Finance</td>\n",
       "      <td>2018-12-01</td>\n",
       "      <td>True</td>\n",
       "    </tr>\n",
       "    <tr>\n",
       "      <th>6</th>\n",
       "      <td>7</td>\n",
       "      <td>Steve</td>\n",
       "      <td>42</td>\n",
       "      <td>M</td>\n",
       "      <td>72000.0</td>\n",
       "      <td>26.5</td>\n",
       "      <td>1.0</td>\n",
       "      <td>Yes</td>\n",
       "      <td>East</td>\n",
       "      <td>Marketing</td>\n",
       "      <td>2016-11-20</td>\n",
       "      <td>True</td>\n",
       "    </tr>\n",
       "    <tr>\n",
       "      <th>8</th>\n",
       "      <td>9</td>\n",
       "      <td>Tom</td>\n",
       "      <td>39</td>\n",
       "      <td>M</td>\n",
       "      <td>68000.0</td>\n",
       "      <td>29.1</td>\n",
       "      <td>3.0</td>\n",
       "      <td>Yes</td>\n",
       "      <td>North</td>\n",
       "      <td>Finance</td>\n",
       "      <td>2015-05-14</td>\n",
       "      <td>False</td>\n",
       "    </tr>\n",
       "  </tbody>\n",
       "</table>\n",
       "</div>"
      ],
      "text/plain": [
       "   id   name  age sex   salary   bmi  children smoker region department  \\\n",
       "0   1   John   28   M  55000.0  24.5       2.0    Yes  North      Sales   \n",
       "2   3    Bob   45   M  70000.0  27.8       3.0    Yes   East         IT   \n",
       "4   5   Mike   38   M  65000.0  28.2       NaN    Yes  North    Finance   \n",
       "6   7  Steve   42   M  72000.0  26.5       1.0    Yes   East  Marketing   \n",
       "8   9    Tom   39   M  68000.0  29.1       3.0    Yes  North    Finance   \n",
       "\n",
       "    join_date  is_manager  \n",
       "0  2020-01-15       False  \n",
       "2  2015-09-10       False  \n",
       "4  2018-12-01        True  \n",
       "6  2016-11-20        True  \n",
       "8  2015-05-14       False  "
      ]
     },
     "execution_count": 105,
     "metadata": {},
     "output_type": "execute_result"
    }
   ],
   "source": [
    "main_data.query('salary > 30000 and sex == \"M\"')"
   ]
  },
  {
   "cell_type": "code",
   "execution_count": 106,
   "id": "9ef3e995",
   "metadata": {},
   "outputs": [
    {
     "name": "stdout",
     "output_type": "stream",
     "text": [
      "   id   name  age sex   salary   bmi  children smoker region department  \\\n",
      "0   1   John   28   M  55000.0  24.5       2.0    Yes  North      Sales   \n",
      "1   2   Jane   34   F  62000.0  22.1       1.0     No  South  Marketing   \n",
      "2   3    Bob   45   M  70000.0  27.8       3.0    Yes   East         IT   \n",
      "3   4  Alice   29   F  58000.0  23.4       0.0     No   West         HR   \n",
      "4   5   Mike   38   M  65000.0  28.2       NaN    Yes  North    Finance   \n",
      "5   6  Linda   31   F  60000.0  21.9       2.0     No  South         IT   \n",
      "6   7  Steve   42   M  72000.0  26.5       1.0    Yes   East  Marketing   \n",
      "7   8  Karen   36   F      NaN  24.9       2.0     No   West      Sales   \n",
      "8   9    Tom   39   M  68000.0  29.1       3.0    Yes  North    Finance   \n",
      "9  10  Susan   33   F  61000.0  23.0       1.0     No  South         HR   \n",
      "\n",
      "    join date  is manager  \n",
      "0  2020-01-15       False  \n",
      "1  2019-06-23        True  \n",
      "2  2015-09-10       False  \n",
      "3  2021-03-12       False  \n",
      "4  2018-12-01        True  \n",
      "5  2020-07-08       False  \n",
      "6  2016-11-20        True  \n",
      "7  2017-04-30       False  \n",
      "8  2015-05-14       False  \n",
      "9  2019-08-25       False  \n"
     ]
    }
   ],
   "source": [
    "main_data1 = main_data1.rename(columns={'join_date':'join date', 'is_manager':'is manager'})\n",
    "print(main_data1)"
   ]
  },
  {
   "cell_type": "code",
   "execution_count": 108,
   "id": "d0dfa630",
   "metadata": {},
   "outputs": [
    {
     "data": {
      "text/html": [
       "<div>\n",
       "<style scoped>\n",
       "    .dataframe tbody tr th:only-of-type {\n",
       "        vertical-align: middle;\n",
       "    }\n",
       "\n",
       "    .dataframe tbody tr th {\n",
       "        vertical-align: top;\n",
       "    }\n",
       "\n",
       "    .dataframe thead th {\n",
       "        text-align: right;\n",
       "    }\n",
       "</style>\n",
       "<table border=\"1\" class=\"dataframe\">\n",
       "  <thead>\n",
       "    <tr style=\"text-align: right;\">\n",
       "      <th></th>\n",
       "      <th>id</th>\n",
       "      <th>name</th>\n",
       "      <th>age</th>\n",
       "      <th>sex</th>\n",
       "      <th>salary</th>\n",
       "      <th>bmi</th>\n",
       "      <th>children</th>\n",
       "      <th>smoker</th>\n",
       "      <th>region</th>\n",
       "      <th>department</th>\n",
       "      <th>join date</th>\n",
       "      <th>is manager</th>\n",
       "    </tr>\n",
       "  </thead>\n",
       "  <tbody>\n",
       "    <tr>\n",
       "      <th>0</th>\n",
       "      <td>1</td>\n",
       "      <td>John</td>\n",
       "      <td>28</td>\n",
       "      <td>M</td>\n",
       "      <td>55000.0</td>\n",
       "      <td>24.5</td>\n",
       "      <td>2.0</td>\n",
       "      <td>Yes</td>\n",
       "      <td>North</td>\n",
       "      <td>Sales</td>\n",
       "      <td>2020-01-15</td>\n",
       "      <td>False</td>\n",
       "    </tr>\n",
       "    <tr>\n",
       "      <th>2</th>\n",
       "      <td>3</td>\n",
       "      <td>Bob</td>\n",
       "      <td>45</td>\n",
       "      <td>M</td>\n",
       "      <td>70000.0</td>\n",
       "      <td>27.8</td>\n",
       "      <td>3.0</td>\n",
       "      <td>Yes</td>\n",
       "      <td>East</td>\n",
       "      <td>IT</td>\n",
       "      <td>2015-09-10</td>\n",
       "      <td>False</td>\n",
       "    </tr>\n",
       "    <tr>\n",
       "      <th>5</th>\n",
       "      <td>6</td>\n",
       "      <td>Linda</td>\n",
       "      <td>31</td>\n",
       "      <td>F</td>\n",
       "      <td>60000.0</td>\n",
       "      <td>21.9</td>\n",
       "      <td>2.0</td>\n",
       "      <td>No</td>\n",
       "      <td>South</td>\n",
       "      <td>IT</td>\n",
       "      <td>2020-07-08</td>\n",
       "      <td>False</td>\n",
       "    </tr>\n",
       "    <tr>\n",
       "      <th>7</th>\n",
       "      <td>8</td>\n",
       "      <td>Karen</td>\n",
       "      <td>36</td>\n",
       "      <td>F</td>\n",
       "      <td>NaN</td>\n",
       "      <td>24.9</td>\n",
       "      <td>2.0</td>\n",
       "      <td>No</td>\n",
       "      <td>West</td>\n",
       "      <td>Sales</td>\n",
       "      <td>2017-04-30</td>\n",
       "      <td>False</td>\n",
       "    </tr>\n",
       "  </tbody>\n",
       "</table>\n",
       "</div>"
      ],
      "text/plain": [
       "   id   name  age sex   salary   bmi  children smoker region department  \\\n",
       "0   1   John   28   M  55000.0  24.5       2.0    Yes  North      Sales   \n",
       "2   3    Bob   45   M  70000.0  27.8       3.0    Yes   East         IT   \n",
       "5   6  Linda   31   F  60000.0  21.9       2.0     No  South         IT   \n",
       "7   8  Karen   36   F      NaN  24.9       2.0     No   West      Sales   \n",
       "\n",
       "    join date  is manager  \n",
       "0  2020-01-15       False  \n",
       "2  2015-09-10       False  \n",
       "5  2020-07-08       False  \n",
       "7  2017-04-30       False  "
      ]
     },
     "execution_count": 108,
     "metadata": {},
     "output_type": "execute_result"
    }
   ],
   "source": [
    "main_data1.query('department in [\"Sales\",\"IT\"]')"
   ]
  },
  {
   "cell_type": "code",
   "execution_count": 109,
   "id": "4639f75f",
   "metadata": {},
   "outputs": [
    {
     "data": {
      "text/html": [
       "<div>\n",
       "<style scoped>\n",
       "    .dataframe tbody tr th:only-of-type {\n",
       "        vertical-align: middle;\n",
       "    }\n",
       "\n",
       "    .dataframe tbody tr th {\n",
       "        vertical-align: top;\n",
       "    }\n",
       "\n",
       "    .dataframe thead th {\n",
       "        text-align: right;\n",
       "    }\n",
       "</style>\n",
       "<table border=\"1\" class=\"dataframe\">\n",
       "  <thead>\n",
       "    <tr style=\"text-align: right;\">\n",
       "      <th></th>\n",
       "      <th>id</th>\n",
       "      <th>name</th>\n",
       "      <th>age</th>\n",
       "      <th>sex</th>\n",
       "      <th>salary</th>\n",
       "      <th>bmi</th>\n",
       "      <th>children</th>\n",
       "      <th>smoker</th>\n",
       "      <th>region</th>\n",
       "      <th>department</th>\n",
       "      <th>join date</th>\n",
       "      <th>is manager</th>\n",
       "    </tr>\n",
       "  </thead>\n",
       "  <tbody>\n",
       "    <tr>\n",
       "      <th>2</th>\n",
       "      <td>3</td>\n",
       "      <td>Bob</td>\n",
       "      <td>45</td>\n",
       "      <td>M</td>\n",
       "      <td>70000.0</td>\n",
       "      <td>27.8</td>\n",
       "      <td>3.0</td>\n",
       "      <td>Yes</td>\n",
       "      <td>East</td>\n",
       "      <td>IT</td>\n",
       "      <td>2015-09-10</td>\n",
       "      <td>False</td>\n",
       "    </tr>\n",
       "    <tr>\n",
       "      <th>5</th>\n",
       "      <td>6</td>\n",
       "      <td>Linda</td>\n",
       "      <td>31</td>\n",
       "      <td>F</td>\n",
       "      <td>60000.0</td>\n",
       "      <td>21.9</td>\n",
       "      <td>2.0</td>\n",
       "      <td>No</td>\n",
       "      <td>South</td>\n",
       "      <td>IT</td>\n",
       "      <td>2020-07-08</td>\n",
       "      <td>False</td>\n",
       "    </tr>\n",
       "  </tbody>\n",
       "</table>\n",
       "</div>"
      ],
      "text/plain": [
       "   id   name  age sex   salary   bmi  children smoker region department  \\\n",
       "2   3    Bob   45   M  70000.0  27.8       3.0    Yes   East         IT   \n",
       "5   6  Linda   31   F  60000.0  21.9       2.0     No  South         IT   \n",
       "\n",
       "    join date  is manager  \n",
       "2  2015-09-10       False  \n",
       "5  2020-07-08       False  "
      ]
     },
     "execution_count": 109,
     "metadata": {},
     "output_type": "execute_result"
    }
   ],
   "source": [
    "main_data1.query('name in [\"Linda\",\"Bob\"]')"
   ]
  },
  {
   "cell_type": "code",
   "execution_count": null,
   "id": "92ef0f36",
   "metadata": {},
   "outputs": [],
   "source": []
  },
  {
   "cell_type": "code",
   "execution_count": null,
   "id": "44ef6cd5",
   "metadata": {},
   "outputs": [],
   "source": []
  },
  {
   "cell_type": "code",
   "execution_count": null,
   "id": "e99365aa",
   "metadata": {},
   "outputs": [],
   "source": []
  },
  {
   "cell_type": "code",
   "execution_count": null,
   "id": "16107337",
   "metadata": {},
   "outputs": [],
   "source": []
  },
  {
   "cell_type": "code",
   "execution_count": null,
   "id": "94b7bf60",
   "metadata": {},
   "outputs": [],
   "source": []
  },
  {
   "cell_type": "code",
   "execution_count": null,
   "id": "fe86628c",
   "metadata": {},
   "outputs": [],
   "source": []
  },
  {
   "cell_type": "code",
   "execution_count": null,
   "id": "a0834be5",
   "metadata": {},
   "outputs": [],
   "source": []
  },
  {
   "cell_type": "code",
   "execution_count": null,
   "id": "3ba82ae1",
   "metadata": {},
   "outputs": [],
   "source": []
  },
  {
   "cell_type": "code",
   "execution_count": null,
   "id": "811b7b46",
   "metadata": {},
   "outputs": [],
   "source": []
  },
  {
   "cell_type": "code",
   "execution_count": null,
   "id": "5db11fbf",
   "metadata": {},
   "outputs": [],
   "source": []
  },
  {
   "cell_type": "code",
   "execution_count": null,
   "id": "c15b91c6",
   "metadata": {},
   "outputs": [],
   "source": []
  },
  {
   "cell_type": "code",
   "execution_count": null,
   "id": "7ea92bc8",
   "metadata": {},
   "outputs": [],
   "source": []
  },
  {
   "cell_type": "code",
   "execution_count": null,
   "id": "a97fd456",
   "metadata": {},
   "outputs": [],
   "source": []
  },
  {
   "cell_type": "code",
   "execution_count": null,
   "id": "2326a247",
   "metadata": {},
   "outputs": [],
   "source": []
  },
  {
   "cell_type": "code",
   "execution_count": null,
   "id": "fb45faa3",
   "metadata": {},
   "outputs": [],
   "source": []
  },
  {
   "cell_type": "code",
   "execution_count": null,
   "id": "67ced2a6",
   "metadata": {},
   "outputs": [],
   "source": []
  },
  {
   "cell_type": "code",
   "execution_count": null,
   "id": "01c15b03",
   "metadata": {},
   "outputs": [],
   "source": []
  },
  {
   "cell_type": "code",
   "execution_count": null,
   "id": "71c65781",
   "metadata": {},
   "outputs": [],
   "source": []
  },
  {
   "cell_type": "code",
   "execution_count": null,
   "id": "23bed137",
   "metadata": {},
   "outputs": [],
   "source": []
  },
  {
   "cell_type": "code",
   "execution_count": null,
   "id": "4083836c",
   "metadata": {},
   "outputs": [],
   "source": []
  }
 ],
 "metadata": {
  "kernelspec": {
   "display_name": "Python 3",
   "language": "python",
   "name": "python3"
  },
  "language_info": {
   "codemirror_mode": {
    "name": "ipython",
    "version": 3
   },
   "file_extension": ".py",
   "mimetype": "text/x-python",
   "name": "python",
   "nbconvert_exporter": "python",
   "pygments_lexer": "ipython3",
   "version": "3.11.4"
  }
 },
 "nbformat": 4,
 "nbformat_minor": 5
}
