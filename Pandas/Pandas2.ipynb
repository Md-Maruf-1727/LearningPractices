{
 "cells": [
  {
   "cell_type": "code",
   "execution_count": 278,
   "id": "c5aebdc0",
   "metadata": {},
   "outputs": [],
   "source": [
    "#info,index,column,rename,axis,astype,concate,condition,ignor_index,random row-column, shape[]\n",
    "#replace with nun-non-null value, head(), tail(), fillna(), dropna(), drop, inplace(), max\n",
    "#min,mean, quantile, median"
   ]
  },
  {
   "cell_type": "code",
   "execution_count": 279,
   "id": "fca01fdb",
   "metadata": {},
   "outputs": [
    {
     "name": "stdout",
     "output_type": "stream",
     "text": [
      "      age     sex     bmi  children smoker     region      charges\n",
      "0      19  female  27.900         0    yes  southwest  16884.92400\n",
      "1      18    male  33.770         1     no  southeast   1725.55230\n",
      "2      28    male  33.000         3     no  southeast   4449.46200\n",
      "3      33    male  22.705         0     no  northwest  21984.47061\n",
      "4      32    male  28.880         0     no  northwest   3866.85520\n",
      "...   ...     ...     ...       ...    ...        ...          ...\n",
      "1333   50    male  30.970         3     no  northwest  10600.54830\n",
      "1334   18  female  31.920         0     no  northeast   2205.98080\n",
      "1335   18  female  36.850         0     no  southeast   1629.83350\n",
      "1336   21  female  25.800         0     no  southwest   2007.94500\n",
      "1337   61  female  29.070         0    yes  northwest  29141.36030\n",
      "\n",
      "[1338 rows x 7 columns]\n"
     ]
    }
   ],
   "source": [
    "import pandas as pd\n",
    "import numpy as np\n",
    "Dataset1 = pd.read_csv('insurance (1).csv')\n",
    "print(Dataset1)\n"
   ]
  },
  {
   "cell_type": "code",
   "execution_count": 280,
   "id": "972887db",
   "metadata": {},
   "outputs": [],
   "source": [
    "Dataset_frame1 = Dataset1.copy()\n",
    "Dataset_frame2 = Dataset1.copy()\n",
    "Dataset_frame3 = Dataset1.copy()\n",
    "Dataset_frame4 = Dataset1.copy()\n",
    "Dataset_frame5 = Dataset1.copy()\n",
    "Dataset_frame6 = Dataset1.copy()"
   ]
  },
  {
   "cell_type": "code",
   "execution_count": 281,
   "id": "19ef12c7",
   "metadata": {},
   "outputs": [
    {
     "name": "stdout",
     "output_type": "stream",
     "text": [
      "<class 'pandas.core.frame.DataFrame'>\n",
      "RangeIndex: 1338 entries, 0 to 1337\n",
      "Data columns (total 7 columns):\n",
      " #   Column    Non-Null Count  Dtype  \n",
      "---  ------    --------------  -----  \n",
      " 0   age       1338 non-null   int64  \n",
      " 1   sex       1338 non-null   object \n",
      " 2   bmi       1338 non-null   float64\n",
      " 3   children  1338 non-null   int64  \n",
      " 4   smoker    1338 non-null   object \n",
      " 5   region    1338 non-null   object \n",
      " 6   charges   1338 non-null   float64\n",
      "dtypes: float64(2), int64(2), object(3)\n",
      "memory usage: 73.3+ KB\n",
      "None\n"
     ]
    }
   ],
   "source": [
    "print(Dataset1.info())"
   ]
  },
  {
   "cell_type": "code",
   "execution_count": 282,
   "id": "ccbeb310",
   "metadata": {},
   "outputs": [
    {
     "name": "stdout",
     "output_type": "stream",
     "text": [
      "age           int64\n",
      "sex          object\n",
      "bmi         float64\n",
      "children      int64\n",
      "smoker       object\n",
      "region       object\n",
      "charges     float64\n",
      "dtype: object\n"
     ]
    }
   ],
   "source": [
    "print(Dataset1.dtypes)"
   ]
  },
  {
   "cell_type": "code",
   "execution_count": 283,
   "id": "203db17a",
   "metadata": {},
   "outputs": [
    {
     "name": "stdout",
     "output_type": "stream",
     "text": [
      "    age     sex     bmi  children smoker     region      charges\n",
      "60   43    male  27.360         3     no  northeast   8606.21740\n",
      "70   27  female  24.750         0    yes  southeast  16577.77950\n",
      "80   31    male  26.885         1     no  northeast   4441.21315\n",
      "90   21  female  39.490         0     no  southeast   2026.97410\n"
     ]
    }
   ],
   "source": [
    "alldata = pd.DataFrame(Dataset1, index=[60,70,80,90])\n",
    "print(alldata)"
   ]
  },
  {
   "cell_type": "code",
   "execution_count": 284,
   "id": "de1850b1",
   "metadata": {},
   "outputs": [],
   "source": [
    "#alldata = pd.DataFrame(Dataset1, index=[41:51])\n",
    "#print(alldata)                                         don't do this"
   ]
  },
  {
   "cell_type": "code",
   "execution_count": 285,
   "id": "23f5f035",
   "metadata": {},
   "outputs": [
    {
     "name": "stdout",
     "output_type": "stream",
     "text": [
      "   age     sex     bmi  children smoker     region      charges\n",
      "0   19  female  27.900         0    yes  southwest  16884.92400\n",
      "1   18    male  33.770         1     no  southeast   1725.55230\n",
      "2   28    male  33.000         3     no  southeast   4449.46200\n",
      "3   33    male  22.705         0     no  northwest  21984.47061\n",
      "4   32    male  28.880         0     no  northwest   3866.85520\n"
     ]
    }
   ],
   "source": [
    "print(Dataset1.head())"
   ]
  },
  {
   "cell_type": "code",
   "execution_count": 286,
   "id": "9950f7db",
   "metadata": {},
   "outputs": [
    {
     "name": "stdout",
     "output_type": "stream",
     "text": [
      "   age     sex    bmi  children smoker     region     charges\n",
      "0   19  female  27.90         0    yes  southwest  16884.9240\n",
      "1   18    male  33.77         1     no  southeast   1725.5523\n",
      "2   28    male  33.00         3     no  southeast   4449.4620\n"
     ]
    }
   ],
   "source": [
    "print(Dataset1.head(3))"
   ]
  },
  {
   "cell_type": "code",
   "execution_count": 287,
   "id": "23e7b5c5",
   "metadata": {},
   "outputs": [
    {
     "name": "stdout",
     "output_type": "stream",
     "text": [
      "      age     sex    bmi  children smoker     region     charges\n",
      "1333   50    male  30.97         3     no  northwest  10600.5483\n",
      "1334   18  female  31.92         0     no  northeast   2205.9808\n",
      "1335   18  female  36.85         0     no  southeast   1629.8335\n",
      "1336   21  female  25.80         0     no  southwest   2007.9450\n",
      "1337   61  female  29.07         0    yes  northwest  29141.3603\n"
     ]
    }
   ],
   "source": [
    "print(Dataset1.tail())"
   ]
  },
  {
   "cell_type": "code",
   "execution_count": 288,
   "id": "70d08604",
   "metadata": {},
   "outputs": [
    {
     "name": "stdout",
     "output_type": "stream",
     "text": [
      "      age     sex    bmi  children smoker     region     charges\n",
      "1334   18  female  31.92         0     no  northeast   2205.9808\n",
      "1335   18  female  36.85         0     no  southeast   1629.8335\n",
      "1336   21  female  25.80         0     no  southwest   2007.9450\n",
      "1337   61  female  29.07         0    yes  northwest  29141.3603\n"
     ]
    }
   ],
   "source": [
    "print(Dataset1.tail(4))"
   ]
  },
  {
   "cell_type": "code",
   "execution_count": 289,
   "id": "5afdc1d6",
   "metadata": {},
   "outputs": [
    {
     "name": "stdout",
     "output_type": "stream",
     "text": [
      "     age     sex     bmi  children smoker     region      charges\n",
      "101   30    male  25.460         0     no  northeast   3645.08940\n",
      "102   18  female  30.115         0     no  northeast  21344.84670\n",
      "103   61  female  29.920         3    yes  southeast  30942.19180\n",
      "104   34  female  27.500         1     no  southwest   5003.85300\n",
      "105   20    male  28.025         1    yes  northwest  17560.37975\n",
      "..   ...     ...     ...       ...    ...        ...          ...\n",
      "196   39  female  32.800         0     no  southwest   5649.71500\n",
      "197   45  female  28.600         2     no  southeast   8516.82900\n",
      "198   51  female  18.050         0     no  northwest   9644.25250\n",
      "199   64  female  39.330         0     no  northeast  14901.51670\n",
      "200   19  female  32.110         0     no  northwest   2130.67590\n",
      "\n",
      "[100 rows x 7 columns]\n"
     ]
    }
   ],
   "source": [
    "print(Dataset1[101:201])"
   ]
  },
  {
   "cell_type": "code",
   "execution_count": 290,
   "id": "f3a2035c",
   "metadata": {},
   "outputs": [
    {
     "name": "stdout",
     "output_type": "stream",
     "text": [
      "      Age     Sex     Bmi  Children Smoker     Region      Charges\n",
      "0      19  female  27.900         0    yes  southwest  16884.92400\n",
      "1      18    male  33.770         1     no  southeast   1725.55230\n",
      "2      28    male  33.000         3     no  southeast   4449.46200\n",
      "3      33    male  22.705         0     no  northwest  21984.47061\n",
      "4      32    male  28.880         0     no  northwest   3866.85520\n",
      "...   ...     ...     ...       ...    ...        ...          ...\n",
      "1333   50    male  30.970         3     no  northwest  10600.54830\n",
      "1334   18  female  31.920         0     no  northeast   2205.98080\n",
      "1335   18  female  36.850         0     no  southeast   1629.83350\n",
      "1336   21  female  25.800         0     no  southwest   2007.94500\n",
      "1337   61  female  29.070         0    yes  northwest  29141.36030\n",
      "\n",
      "[1338 rows x 7 columns]\n"
     ]
    }
   ],
   "source": [
    "#column Rename\n",
    "#Dataset1.rename(columns=['Age','Sex','Bmi','Children','Smoker','Region','Charges'], inplace=True) X Don't\n",
    "Dataset1.rename({'age':'Age','sex':'Sex','bmi':'Bmi','children':'Children','smoker':'Smoker','region':'Region','charges':'Charges'}, axis=1, inplace=True)\n",
    "print(Dataset1)"
   ]
  },
  {
   "cell_type": "code",
   "execution_count": 291,
   "id": "39f1214e",
   "metadata": {},
   "outputs": [],
   "source": [
    "#new_dataset = pd.DataFrame(Dataset1, columns=['AGE','SEX','BMI','CHILDREN','SMOKER','REGION','CHARGES'])\n",
    "#print(new_dataset) x DON'T"
   ]
  },
  {
   "cell_type": "code",
   "execution_count": 292,
   "id": "443651fc",
   "metadata": {},
   "outputs": [
    {
     "data": {
      "text/plain": [
       "61    southeast\n",
       "62    northwest\n",
       "63    northwest\n",
       "64    northwest\n",
       "65    southwest\n",
       "66    southwest\n",
       "67    northwest\n",
       "68    southeast\n",
       "69    southeast\n",
       "70    southeast\n",
       "Name: Region, dtype: object"
      ]
     },
     "execution_count": 292,
     "metadata": {},
     "output_type": "execute_result"
    }
   ],
   "source": [
    "Dataset1['Region'][61:71]"
   ]
  },
  {
   "cell_type": "code",
   "execution_count": 293,
   "id": "4d843364",
   "metadata": {},
   "outputs": [
    {
     "name": "stdout",
     "output_type": "stream",
     "text": [
      "     Age     Sex     Bmi  Children Smoker     Region      Charges\n",
      "0     19  female  27.900         0    yes  southwest  16884.92400\n",
      "1     18    male  33.770         1     no  southeast   1725.55230\n",
      "2     28    male  33.000         3     no  southeast   4449.46200\n",
      "3     33    male  22.705         0     no  northwest  21984.47061\n",
      "4     32    male  28.880         0     no  northwest   3866.85520\n",
      "...   ..     ...     ...       ...    ...        ...          ...\n",
      "1333  50    male  30.970         3     no  northwest  10600.54830\n",
      "1334  18  female  31.920         0     no  northeast   2205.98080\n",
      "1335  18  female  36.850         0     no  southeast   1629.83350\n",
      "1336  21  female  25.800         0     no  southwest   2007.94500\n",
      "1337  61  female  29.070         0    yes  northwest  29141.36030\n",
      "\n",
      "[1338 rows x 7 columns]\n"
     ]
    }
   ],
   "source": [
    "Dataset1['Age'] = Dataset1['Age'].astype(str, errors='ignore')\n",
    "print(Dataset1)"
   ]
  },
  {
   "cell_type": "code",
   "execution_count": 294,
   "id": "a5550505",
   "metadata": {},
   "outputs": [
    {
     "name": "stdout",
     "output_type": "stream",
     "text": [
      "<class 'pandas.core.frame.DataFrame'>\n",
      "RangeIndex: 1338 entries, 0 to 1337\n",
      "Data columns (total 7 columns):\n",
      " #   Column    Non-Null Count  Dtype  \n",
      "---  ------    --------------  -----  \n",
      " 0   Age       1338 non-null   object \n",
      " 1   Sex       1338 non-null   object \n",
      " 2   Bmi       1338 non-null   float64\n",
      " 3   Children  1338 non-null   int64  \n",
      " 4   Smoker    1338 non-null   object \n",
      " 5   Region    1338 non-null   object \n",
      " 6   Charges   1338 non-null   float64\n",
      "dtypes: float64(2), int64(1), object(4)\n",
      "memory usage: 73.3+ KB\n",
      "None\n"
     ]
    }
   ],
   "source": [
    "print(Dataset1.info())"
   ]
  },
  {
   "cell_type": "code",
   "execution_count": 295,
   "id": "dd934861",
   "metadata": {},
   "outputs": [
    {
     "name": "stdout",
     "output_type": "stream",
     "text": [
      "      Age     Sex     Bmi  Children Smoker     Region      Charges\n",
      "0      19  female  27.900         0    yes  southwest  16884.92400\n",
      "1      18    male  33.770         1     no  southeast   1725.55230\n",
      "2      28    male  33.000         3     no  southeast   4449.46200\n",
      "3      33    male  22.705         0     no  northwest  21984.47061\n",
      "4      32    male  28.880         0     no  northwest   3866.85520\n",
      "...   ...     ...     ...       ...    ...        ...          ...\n",
      "1333   50    male  30.970         3     no  northwest  10600.54830\n",
      "1334   18  female  31.920         0     no  northeast   2205.98080\n",
      "1335   18  female  36.850         0     no  southeast   1629.83350\n",
      "1336   21  female  25.800         0     no  southwest   2007.94500\n",
      "1337   61  female  29.070         0    yes  northwest  29141.36030\n",
      "\n",
      "[1338 rows x 7 columns]\n"
     ]
    }
   ],
   "source": [
    "Dataset1['Age'] = Dataset1['Age'].astype(int, errors='ignore')\n",
    "print(Dataset1)"
   ]
  },
  {
   "cell_type": "code",
   "execution_count": 296,
   "id": "b622c99c",
   "metadata": {},
   "outputs": [
    {
     "name": "stdout",
     "output_type": "stream",
     "text": [
      "<class 'pandas.core.frame.DataFrame'>\n",
      "RangeIndex: 1338 entries, 0 to 1337\n",
      "Data columns (total 7 columns):\n",
      " #   Column    Non-Null Count  Dtype  \n",
      "---  ------    --------------  -----  \n",
      " 0   Age       1338 non-null   int64  \n",
      " 1   Sex       1338 non-null   object \n",
      " 2   Bmi       1338 non-null   float64\n",
      " 3   Children  1338 non-null   int64  \n",
      " 4   Smoker    1338 non-null   object \n",
      " 5   Region    1338 non-null   object \n",
      " 6   Charges   1338 non-null   float64\n",
      "dtypes: float64(2), int64(2), object(3)\n",
      "memory usage: 73.3+ KB\n",
      "None\n"
     ]
    }
   ],
   "source": [
    "print(Dataset1.info())"
   ]
  },
  {
   "cell_type": "code",
   "execution_count": 297,
   "id": "c60271a5",
   "metadata": {},
   "outputs": [
    {
     "name": "stdout",
     "output_type": "stream",
     "text": [
      "      Age     Sex  Bmi  Children Smoker     Region      Charges\n",
      "0      19  female   27         0    yes  southwest  16884.92400\n",
      "1      18    male   33         1     no  southeast   1725.55230\n",
      "2      28    male   33         3     no  southeast   4449.46200\n",
      "3      33    male   22         0     no  northwest  21984.47061\n",
      "4      32    male   28         0     no  northwest   3866.85520\n",
      "...   ...     ...  ...       ...    ...        ...          ...\n",
      "1333   50    male   30         3     no  northwest  10600.54830\n",
      "1334   18  female   31         0     no  northeast   2205.98080\n",
      "1335   18  female   36         0     no  southeast   1629.83350\n",
      "1336   21  female   25         0     no  southwest   2007.94500\n",
      "1337   61  female   29         0    yes  northwest  29141.36030\n",
      "\n",
      "[1338 rows x 7 columns]\n"
     ]
    }
   ],
   "source": [
    "Dataset1['Bmi'] = Dataset1['Bmi'].astype(int, errors='ignore')\n",
    "print(Dataset1)"
   ]
  },
  {
   "cell_type": "code",
   "execution_count": 298,
   "id": "685ff637",
   "metadata": {},
   "outputs": [
    {
     "name": "stdout",
     "output_type": "stream",
     "text": [
      "      Age     Sex   Bmi  Children Smoker     Region      Charges\n",
      "0      19  female  27.0         0    yes  southwest  16884.92400\n",
      "1      18    male  33.0         1     no  southeast   1725.55230\n",
      "2      28    male  33.0         3     no  southeast   4449.46200\n",
      "3      33    male  22.0         0     no  northwest  21984.47061\n",
      "4      32    male  28.0         0     no  northwest   3866.85520\n",
      "...   ...     ...   ...       ...    ...        ...          ...\n",
      "1333   50    male  30.0         3     no  northwest  10600.54830\n",
      "1334   18  female  31.0         0     no  northeast   2205.98080\n",
      "1335   18  female  36.0         0     no  southeast   1629.83350\n",
      "1336   21  female  25.0         0     no  southwest   2007.94500\n",
      "1337   61  female  29.0         0    yes  northwest  29141.36030\n",
      "\n",
      "[1338 rows x 7 columns]\n"
     ]
    }
   ],
   "source": [
    "Dataset1['Bmi'] = Dataset1['Bmi'].astype(float, errors='ignore')\n",
    "print(Dataset1)"
   ]
  },
  {
   "cell_type": "code",
   "execution_count": 299,
   "id": "409fbaad",
   "metadata": {},
   "outputs": [
    {
     "name": "stdout",
     "output_type": "stream",
     "text": [
      "      Age     Sex   Bmi  Children Smoker     Region      Charges\n",
      "0      19  female  27.0         0    yes  southwest  16884.92400\n",
      "1      18    male  33.0         1     no  southeast   1725.55230\n",
      "2      28    male  33.0         3     no  southeast   4449.46200\n",
      "3      33    male  22.0         0     no  northwest  21984.47061\n",
      "4      32    male  28.0         0     no  northwest   3866.85520\n",
      "...   ...     ...   ...       ...    ...        ...          ...\n",
      "1333   50    male  30.0         3     no  northwest  10600.54830\n",
      "1334   18  female  31.0         0     no  northeast   2205.98080\n",
      "1335   18  female  36.0         0     no  southeast   1629.83350\n",
      "1336   21  female  25.0         0     no  southwest   2007.94500\n",
      "1337   61  female  29.0         0    yes  northwest  29141.36030\n",
      "\n",
      "[1338 rows x 7 columns]\n"
     ]
    }
   ],
   "source": [
    "Dataset1['Sex'] = Dataset1['Sex'].astype('category')\n",
    "print(Dataset1)"
   ]
  },
  {
   "cell_type": "code",
   "execution_count": 300,
   "id": "92a1dccc",
   "metadata": {},
   "outputs": [
    {
     "name": "stdout",
     "output_type": "stream",
     "text": [
      "<class 'pandas.core.frame.DataFrame'>\n",
      "RangeIndex: 1338 entries, 0 to 1337\n",
      "Data columns (total 7 columns):\n",
      " #   Column    Non-Null Count  Dtype   \n",
      "---  ------    --------------  -----   \n",
      " 0   Age       1338 non-null   int64   \n",
      " 1   Sex       1338 non-null   category\n",
      " 2   Bmi       1338 non-null   float64 \n",
      " 3   Children  1338 non-null   int64   \n",
      " 4   Smoker    1338 non-null   object  \n",
      " 5   Region    1338 non-null   object  \n",
      " 6   Charges   1338 non-null   float64 \n",
      "dtypes: category(1), float64(2), int64(2), object(2)\n",
      "memory usage: 64.3+ KB\n",
      "None\n"
     ]
    }
   ],
   "source": [
    "print(Dataset1.info())"
   ]
  },
  {
   "cell_type": "code",
   "execution_count": 301,
   "id": "715d47d4",
   "metadata": {},
   "outputs": [
    {
     "name": "stdout",
     "output_type": "stream",
     "text": [
      "      Age     Sex   Bmi  Children Smoker     Region      Charges\n",
      "0      19  female  27.0         0    yes  southwest  16884.92400\n",
      "1      18    male  33.0         1     no  southeast   1725.55230\n",
      "2      28    male  33.0         3     no  southeast   4449.46200\n",
      "3      33    male  22.0         0     no  northwest  21984.47061\n",
      "4      32    male  28.0         0     no  northwest   3866.85520\n",
      "...   ...     ...   ...       ...    ...        ...          ...\n",
      "1333   50    male  30.0         3     no  northwest  10600.54830\n",
      "1334   18  female  31.0         0     no  northeast   2205.98080\n",
      "1335   18  female  36.0         0     no  southeast   1629.83350\n",
      "1336   21  female  25.0         0     no  southwest   2007.94500\n",
      "1337   61  female  29.0         0    yes  northwest  29141.36030\n",
      "\n",
      "[1338 rows x 7 columns]\n"
     ]
    }
   ],
   "source": [
    "Dataset1['Sex'] = Dataset1['Sex'].astype(str, errors='ignore')\n",
    "print(Dataset1)"
   ]
  },
  {
   "cell_type": "code",
   "execution_count": 302,
   "id": "07ca7aa5",
   "metadata": {},
   "outputs": [
    {
     "name": "stdout",
     "output_type": "stream",
     "text": [
      "<class 'pandas.core.frame.DataFrame'>\n",
      "RangeIndex: 1338 entries, 0 to 1337\n",
      "Data columns (total 7 columns):\n",
      " #   Column    Non-Null Count  Dtype  \n",
      "---  ------    --------------  -----  \n",
      " 0   Age       1338 non-null   int64  \n",
      " 1   Sex       1338 non-null   object \n",
      " 2   Bmi       1338 non-null   float64\n",
      " 3   Children  1338 non-null   int64  \n",
      " 4   Smoker    1338 non-null   object \n",
      " 5   Region    1338 non-null   object \n",
      " 6   Charges   1338 non-null   float64\n",
      "dtypes: float64(2), int64(2), object(3)\n",
      "memory usage: 73.3+ KB\n",
      "None\n"
     ]
    }
   ],
   "source": [
    "print(Dataset1.info())"
   ]
  },
  {
   "cell_type": "code",
   "execution_count": 303,
   "id": "99ab5d99",
   "metadata": {},
   "outputs": [
    {
     "name": "stdout",
     "output_type": "stream",
     "text": [
      "    Age     Sex   Bmi  Children Smoker     Region      Charges\n",
      "0    19  female  27.0         0    yes  southwest  16884.92400\n",
      "1    18    male  33.0         1     no  southeast   1725.55230\n",
      "2    28    male  33.0         3     no  southeast   4449.46200\n",
      "3    33    male  22.0         0     no  northwest  21984.47061\n",
      "4    32    male  28.0         0     no  northwest   3866.85520\n",
      "5    50    male  30.0         3     no  northwest  10600.54830\n",
      "6    18  female  31.0         0     no  northeast   2205.98080\n",
      "7    18  female  36.0         0     no  southeast   1629.83350\n",
      "8    21  female  25.0         0     no  southwest   2007.94500\n",
      "9    61  female  29.0         0    yes  northwest  29141.36030\n",
      "10   51    male  31.0         0     no  northwest   9174.13565\n",
      "11   56  female  25.0         0     no  southwest  11070.53500\n",
      "12   64  female  39.0         3     no  southeast  16085.12750\n",
      "13   19  female  28.0         0    yes  northwest  17468.98390\n",
      "14   51  female  34.0         0     no  southeast   9283.56200\n"
     ]
    }
   ],
   "source": [
    "top = Dataset1.head()\n",
    "bottom = Dataset1.tail()\n",
    "random = Dataset1[601:606]\n",
    "a_new_datset = pd.concat([top,bottom,random], ignore_index=True)\n",
    "print(a_new_datset)"
   ]
  },
  {
   "cell_type": "code",
   "execution_count": 304,
   "id": "d63192d5",
   "metadata": {},
   "outputs": [
    {
     "name": "stdout",
     "output_type": "stream",
     "text": [
      "   AGE     SEX   BMI  CHILDREN  SMOKER     REGION     CHARGES  Age     Sex  \\\n",
      "0   21  female  25.0         0      no  southwest   2007.9450   19  female   \n",
      "1   61  female  29.0         0     yes  northwest  29141.3603   18    male   \n",
      "\n",
      "    Bmi  ...  Smoker     Region     Charges  AGE   SEX   BMI  CHILDREN  \\\n",
      "0  27.0  ...     yes  southwest  16884.9240   24  male  32.0         0   \n",
      "1  33.0  ...      no  southeast   1725.5523   24  male  25.0         0   \n",
      "\n",
      "   SMOKER     REGION    Charges  \n",
      "0     yes  southwest  34472.841  \n",
      "1      no  southwest   1972.950  \n",
      "\n",
      "[2 rows x 21 columns]\n"
     ]
    }
   ],
   "source": [
    "change_bottom = Dataset1.tail(2).rename(columns={\n",
    "    'Age':'AGE',\n",
    "    'Sex':'SEX',\n",
    "    'Bmi':'BMI',\n",
    "    'Children':'CHILDREN',\n",
    "    'Smoker':'SMOKER',\n",
    "    'Region':'REGION',\n",
    "    'Charges':'CHARGES'\n",
    "    })\n",
    "change_bottom = change_bottom.reset_index(drop=True)\n",
    "change_top = Dataset1.head(2)\n",
    "change_top = change_top.reset_index(drop=True)\n",
    "change_center = Dataset1[1001:1003].rename(columns={\n",
    "    'Age':'AGE',\n",
    "    'Sex':'SEX',\n",
    "    'Bmi':'BMI',\n",
    "    'Children':'CHILDREN',\n",
    "    'Smoker':'SMOKER',\n",
    "    'Region':'REGION',\n",
    "})\n",
    "change_center = change_center.reset_index(drop=True)\n",
    "b_new_set = pd.concat([change_bottom, change_top, change_center], axis=1)\n",
    "print(b_new_set)"
   ]
  },
  {
   "cell_type": "code",
   "execution_count": 305,
   "id": "4aea2e9e",
   "metadata": {},
   "outputs": [
    {
     "name": "stdout",
     "output_type": "stream",
     "text": [
      "[0.1281685  0.95040032 0.0823014  0.03117693 0.86126964 0.89721699]\n",
      "[0.35584251 0.80820474 0.47426803 0.158433   0.84552033 0.36422985]\n",
      "[0.25304758 0.38776165 0.13658855 0.62347651 0.4466031  0.90684827]\n",
      "[0.94900362 0.22777781 0.02671336 0.81577448 0.02460793 0.41720883]\n",
      "[0.6418654  0.26404087 0.65861235 0.64561989 0.38563048 0.44415474]\n",
      "[0.23528439 0.74974607 0.02341431 0.6519899  0.39363492 0.93513498]\n",
      "[0.12704098 0.84835939 0.7053759  0.5301645  0.02079388 0.371611  ]\n",
      "[0.84974165 0.00246305 0.09248427 0.52827615 0.25534556 0.09476413]\n",
      "[0.60081729 0.10668624 0.95210766 0.40102064 0.177527   0.62297134]\n",
      "[0.75809977 0.3017053  0.69006733 0.34038263 0.08870062 0.78915368]\n"
     ]
    }
   ],
   "source": [
    "import numpy as np\n",
    "randomly = np.random.rand(10,6)\n",
    "for i in randomly:\n",
    "    print(i)"
   ]
  },
  {
   "cell_type": "code",
   "execution_count": 306,
   "id": "92237fe7",
   "metadata": {},
   "outputs": [
    {
     "name": "stdout",
     "output_type": "stream",
     "text": [
      "          0         1         2         3         4         5\n",
      "0       NaN       NaN       NaN       NaN  0.232203       NaN\n",
      "1  0.873350  0.758506  0.184480  0.224124       NaN  0.725123\n",
      "2  0.074263       NaN  0.646835  0.351645       NaN  0.733141\n",
      "3       NaN  0.720455       NaN       NaN       NaN       NaN\n",
      "4       NaN       NaN       NaN       NaN  0.757922       NaN\n",
      "5  0.116178  0.566939  0.805502  0.167879  0.664977  0.351688\n",
      "6  0.415353  0.370317  0.876862  0.008966  0.532838  0.213853\n",
      "7  0.247595  0.429059  0.800194  0.339044  0.173631  0.795551\n",
      "8  0.465030  0.905909  0.870075  0.671605  0.214056  0.615018\n",
      "9  0.109216  0.885750  0.071303  0.036560  0.952275  0.320208\n"
     ]
    }
   ],
   "source": [
    "import pandas as pd\n",
    "import numpy as np\n",
    "random_col = np.random.rand(10,6)\n",
    "for i in range(random_col.shape[1]):\n",
    "    nan_value = np.random.choice(5,3, replace=False)\n",
    "    random_col[nan_value, i] = np.nan\n",
    "    data_f = pd.DataFrame(random_col)\n",
    "print(data_f)"
   ]
  },
  {
   "cell_type": "code",
   "execution_count": 307,
   "id": "71de51f8",
   "metadata": {},
   "outputs": [
    {
     "name": "stdout",
     "output_type": "stream",
     "text": [
      "       col1      col2      col3      col4      col5      col6\n",
      "0       NaN       NaN       NaN       NaN  0.232203       NaN\n",
      "1  0.873350  0.758506  0.184480  0.224124       NaN  0.725123\n",
      "2  0.074263       NaN  0.646835  0.351645       NaN  0.733141\n",
      "3       NaN  0.720455       NaN       NaN       NaN       NaN\n",
      "4       NaN       NaN       NaN       NaN  0.757922       NaN\n",
      "5  0.116178  0.566939  0.805502  0.167879  0.664977  0.351688\n",
      "6  0.415353  0.370317  0.876862  0.008966  0.532838  0.213853\n",
      "7  0.247595  0.429059  0.800194  0.339044  0.173631  0.795551\n",
      "8  0.465030  0.905909  0.870075  0.671605  0.214056  0.615018\n",
      "9  0.109216  0.885750  0.071303  0.036560  0.952275  0.320208\n"
     ]
    }
   ],
   "source": [
    "data_f.columns=['col1','col2','col3','col4','col5','col6']\n",
    "print(data_f)"
   ]
  },
  {
   "cell_type": "code",
   "execution_count": 308,
   "id": "a910f1df",
   "metadata": {},
   "outputs": [
    {
     "name": "stdout",
     "output_type": "stream",
     "text": [
      "          0         1         2\n",
      "0  0.563298       NaN       NaN\n",
      "1       NaN       NaN       NaN\n",
      "2       NaN  0.940851  0.101882\n",
      "3  0.318925  0.298956  0.671819\n",
      "4  0.690558  0.783943  0.656085\n",
      "5  0.863789  0.602558  0.333977\n"
     ]
    }
   ],
   "source": [
    "individual = np.random.rand(6,3)\n",
    "#print(individual)\n",
    "for y in range(individual.shape[1]):\n",
    "    #print(y)\n",
    "    nan_indi = np.random.choice(3,2, replace=False)\n",
    "    individual[nan_indi, y] = np.nan\n",
    "    data_frame = pd.DataFrame(individual)\n",
    "print(data_frame)\n"
   ]
  },
  {
   "cell_type": "code",
   "execution_count": 309,
   "id": "8a2810b7",
   "metadata": {},
   "outputs": [
    {
     "name": "stdout",
     "output_type": "stream",
     "text": [
      "       col1      col2      col3\n",
      "0  0.563298       NaN       NaN\n",
      "1       NaN       NaN       NaN\n",
      "2       NaN  0.940851  0.101882\n",
      "3  0.318925  0.298956  0.671819\n",
      "4  0.690558  0.783943  0.656085\n",
      "5  0.863789  0.602558  0.333977\n"
     ]
    }
   ],
   "source": [
    "data_frame.columns=['col1','col2','col3']\n",
    "print(data_frame)"
   ]
  },
  {
   "cell_type": "code",
   "execution_count": 310,
   "id": "1aa660f2",
   "metadata": {},
   "outputs": [],
   "source": [
    "data_frame1 = data_frame.copy()\n",
    "data_frame2 = data_frame.copy()\n",
    "data_frame3 = data_frame.copy()\n",
    "data_frame4 = data_frame.copy()\n",
    "data_frame5 = data_frame.copy()\n",
    "data_frame6 = data_frame.copy()\n",
    "data_frame7 = data_frame.copy()\n",
    "data_frame8 = data_frame.copy()"
   ]
  },
  {
   "cell_type": "code",
   "execution_count": 311,
   "id": "57cc1652",
   "metadata": {},
   "outputs": [
    {
     "name": "stdout",
     "output_type": "stream",
     "text": [
      "       col1      col2      col3\n",
      "3  0.318925  0.298956  0.671819\n",
      "4  0.690558  0.783943  0.656085\n",
      "5  0.863789  0.602558  0.333977\n"
     ]
    }
   ],
   "source": [
    "new_data1 = data_frame.dropna()\n",
    "print(new_data1)"
   ]
  },
  {
   "cell_type": "code",
   "execution_count": 312,
   "id": "a65ad4e2",
   "metadata": {},
   "outputs": [
    {
     "name": "stdout",
     "output_type": "stream",
     "text": [
      "       col2      col3\n",
      "0       NaN       NaN\n",
      "1       NaN       NaN\n",
      "2  0.940851  0.101882\n",
      "3  0.298956  0.671819\n",
      "4  0.783943  0.656085\n",
      "5  0.602558  0.333977\n"
     ]
    }
   ],
   "source": [
    "data_frame.drop('col1', axis=1, inplace=True)\n",
    "print(data_frame)"
   ]
  },
  {
   "cell_type": "code",
   "execution_count": 313,
   "id": "e8240e1c",
   "metadata": {},
   "outputs": [
    {
     "name": "stdout",
     "output_type": "stream",
     "text": [
      "       col3\n",
      "0       NaN\n",
      "1       NaN\n",
      "2  0.101882\n",
      "3  0.671819\n",
      "4  0.656085\n",
      "5  0.333977\n"
     ]
    }
   ],
   "source": [
    "data_frame1.drop(['col1','col2'], axis=1, inplace=True)\n",
    "print(data_frame1)"
   ]
  },
  {
   "cell_type": "code",
   "execution_count": 314,
   "id": "b4107bdc",
   "metadata": {},
   "outputs": [
    {
     "name": "stdout",
     "output_type": "stream",
     "text": [
      "       col1      col2      col3\n",
      "0  0.563298  6.000000  6.000000\n",
      "1  6.000000  6.000000  6.000000\n",
      "2  6.000000  0.940851  0.101882\n",
      "3  0.318925  0.298956  0.671819\n",
      "4  0.690558  0.783943  0.656085\n",
      "5  0.863789  0.602558  0.333977\n"
     ]
    }
   ],
   "source": [
    "data_frame2.fillna(6, inplace=True)\n",
    "print(data_frame2)"
   ]
  },
  {
   "cell_type": "code",
   "execution_count": 315,
   "id": "0f036967",
   "metadata": {},
   "outputs": [
    {
     "name": "stdout",
     "output_type": "stream",
     "text": [
      "       col1      col2      col3\n",
      "0  3.000000       NaN       NaN\n",
      "1  3.000000       NaN       NaN\n",
      "2  0.940851  0.940851  0.101882\n",
      "3  0.298956  0.298956  0.671819\n",
      "4  0.783943  0.783943  0.656085\n",
      "5  0.602558  0.602558  0.333977\n"
     ]
    }
   ],
   "source": [
    "data_frame3['col1'] = data_frame3['col2'].fillna(3)\n",
    "print(data_frame3)"
   ]
  },
  {
   "cell_type": "code",
   "execution_count": 316,
   "id": "1c64a98c",
   "metadata": {},
   "outputs": [
    {
     "name": "stdout",
     "output_type": "stream",
     "text": [
      "       col1      col2      col3\n",
      "0  3.000000  0.656577       NaN\n",
      "1  3.000000  0.656577       NaN\n",
      "2  0.940851  0.940851  0.101882\n",
      "3  0.298956  0.298956  0.671819\n",
      "4  0.783943  0.783943  0.656085\n",
      "5  0.602558  0.602558  0.333977\n"
     ]
    }
   ],
   "source": [
    "data_frame3['col2'] = data_frame3['col2'].fillna(data_frame3['col2'].mean())\n",
    "print(data_frame3)"
   ]
  },
  {
   "cell_type": "code",
   "execution_count": 317,
   "id": "a7abf607",
   "metadata": {},
   "outputs": [
    {
     "name": "stdout",
     "output_type": "stream",
     "text": [
      "       col1      col2      col3\n",
      "0  3.000000  0.656577  0.671819\n",
      "1  3.000000  0.656577  0.671819\n",
      "2  0.940851  0.940851  0.101882\n",
      "3  0.298956  0.298956  0.671819\n",
      "4  0.783943  0.783943  0.656085\n",
      "5  0.602558  0.602558  0.333977\n"
     ]
    }
   ],
   "source": [
    "data_frame3['col3'] = data_frame3['col3'].fillna(data_frame3['col3'].max())\n",
    "print(data_frame3)"
   ]
  },
  {
   "cell_type": "code",
   "execution_count": 318,
   "id": "12bac149",
   "metadata": {},
   "outputs": [
    {
     "name": "stdout",
     "output_type": "stream",
     "text": [
      "     Age     Sex   Bmi  Children Smoker     Region      Charges\n",
      "61   NaN    male  33.0       NaN    NaN  southeast   4504.66240\n",
      "62   NaN    male   NaN       NaN     no        NaN  30166.61817\n",
      "63  28.0  female  25.0       1.0     no  northwest   4133.64165\n",
      "64  20.0     NaN   NaN       NaN    NaN        NaN          NaN\n",
      "65  19.0  female   NaN       0.0     no        NaN   1743.21400\n",
      "66   NaN     NaN   NaN       2.0     no  southwest          NaN\n",
      "67   NaN     NaN  26.0       1.0     no  northwest          NaN\n",
      "68  40.0  female  36.0       0.0     no        NaN          NaN\n",
      "69  28.0     NaN  23.0       NaN    NaN  southeast  17663.14420\n",
      "70  27.0  female  24.0       0.0    NaN  southeast  16577.77950\n"
     ]
    }
   ],
   "source": [
    "import pandas as pd\n",
    "import numpy as np\n",
    "Dataset1_new = Dataset1.copy()\n",
    "nan_add = Dataset1_new[61:71].copy()\n",
    "#print(nan_add)\n",
    "for z in range(nan_add.shape[1]):\n",
    "    nan_add_rand = np.random.choice(nan_add.shape[0],4, replace=False)\n",
    "    nan_add.iloc[nan_add_rand, z] = np.nan\n",
    "Dataset1_new.iloc[61:71] = nan_add\n",
    "print(Dataset1_new.iloc[61:71])"
   ]
  },
  {
   "cell_type": "code",
   "execution_count": 319,
   "id": "412380a5",
   "metadata": {},
   "outputs": [
    {
     "name": "stdout",
     "output_type": "stream",
     "text": [
      "      age     sex     bmi  children smoker     region      charges\n",
      "501   NaN    male  26.030       NaN     no        NaN   6837.36870\n",
      "502  51.0    male  23.210       NaN    NaN  southeast  22218.11490\n",
      "503   NaN    male  30.250       0.0    yes  southeast          NaN\n",
      "504  38.0     NaN  28.930       1.0     no  southeast   5974.38470\n",
      "505  37.0    male  30.875       3.0    NaN  northwest   6796.86325\n",
      "506  22.0     NaN     NaN       1.0    NaN        NaN   2643.26850\n",
      "507  21.0     NaN     NaN       NaN     no  northwest          NaN\n",
      "508  24.0  female  25.270       0.0     no        NaN   3044.21330\n",
      "509   NaN  female  28.700       0.0     no  southwest  11455.28000\n",
      "510  56.0    male     NaN       1.0     no  northeast          NaN\n"
     ]
    }
   ],
   "source": [
    "import pandas as pd\n",
    "import numpy as np\n",
    "Dataset_frame_copy = Dataset_frame1.copy()\n",
    "new_Dataset_frame_copy = Dataset_frame_copy[501:511].copy()\n",
    "for a in range(new_Dataset_frame_copy.shape[1]):\n",
    "    Dataset_frame_copy_nan = np.random.choice(new_Dataset_frame_copy.shape[0],3, replace=True)\n",
    "    new_Dataset_frame_copy.iloc[Dataset_frame_copy_nan, a] = np.nan\n",
    "Dataset_frame_copy.iloc[501:511] = new_Dataset_frame_copy\n",
    "print(Dataset_frame_copy.iloc[501:511])"
   ]
  },
  {
   "cell_type": "code",
   "execution_count": 320,
   "id": "dbe6406f",
   "metadata": {},
   "outputs": [
    {
     "name": "stdout",
     "output_type": "stream",
     "text": [
      "      age     sex     bmi  children smoker     region      charges\n",
      "751  21.0    male     NaN       NaN     no  northwest          NaN\n",
      "752  64.0    male     NaN       0.0     no  northwest  14210.53595\n",
      "753  58.0  female  22.770       NaN    NaN  southeast  11833.78230\n",
      "754  24.0     NaN  33.630       4.0    NaN  northeast  17128.42608\n",
      "755   NaN    male  27.645       2.0     no  northeast   5031.26955\n",
      "756  39.0     NaN  22.800       3.0     no  northeast   7985.81500\n",
      "757  47.0  female  27.830       0.0    yes        NaN  23065.42070\n",
      "758   NaN    male  37.430       3.0     no  northeast   5428.72770\n",
      "759  18.0    male  38.170       0.0    yes        NaN  36307.79830\n",
      "760  22.0  female  34.580       2.0     no  northeast          NaN\n"
     ]
    }
   ],
   "source": [
    "import numpy as np\n",
    "import pandas as pd\n",
    "Dataset_frame2_copy = Dataset_frame2.copy()\n",
    "copy_Dataset_frame_copy = Dataset_frame2_copy[751:761].copy()\n",
    "for b in range(copy_Dataset_frame_copy.shape[1]):\n",
    "    nan_copy_Dataset_frame_copy = np.random.choice(copy_Dataset_frame_copy.shape[0], 2, replace=True)\n",
    "    copy_Dataset_frame_copy.iloc[nan_copy_Dataset_frame_copy, b] = np.nan\n",
    "Dataset_frame2_copy.iloc[751:761] = copy_Dataset_frame_copy\n",
    "print(Dataset_frame2_copy.iloc[751:761])"
   ]
  },
  {
   "cell_type": "code",
   "execution_count": 321,
   "id": "83b62561",
   "metadata": {},
   "outputs": [],
   "source": [
    "#Dataset_frame2_copy.iloc[751:761].dropna()"
   ]
  },
  {
   "cell_type": "code",
   "execution_count": 322,
   "id": "b7deeedc",
   "metadata": {},
   "outputs": [],
   "source": [
    "#Dataset_frame2_copy.iloc[751:761].drop('sex', axis=1)\n",
    "#Dataset_frame2_copy.iloc[751:761].drop(['sex', 'children'], axis=1)"
   ]
  },
  {
   "cell_type": "code",
   "execution_count": 323,
   "id": "9596c31e",
   "metadata": {},
   "outputs": [],
   "source": [
    "#Dataset_frame2_copy.iloc[751:761].fillna(24)"
   ]
  },
  {
   "cell_type": "code",
   "execution_count": 324,
   "id": "2316bf7a",
   "metadata": {},
   "outputs": [],
   "source": [
    "#Dataset_frame2_copy.iloc[751:761]['children'].mean()"
   ]
  },
  {
   "cell_type": "code",
   "execution_count": null,
   "id": "ccf65ea3",
   "metadata": {},
   "outputs": [],
   "source": []
  }
 ],
 "metadata": {
  "kernelspec": {
   "display_name": "Python 3",
   "language": "python",
   "name": "python3"
  },
  "language_info": {
   "codemirror_mode": {
    "name": "ipython",
    "version": 3
   },
   "file_extension": ".py",
   "mimetype": "text/x-python",
   "name": "python",
   "nbconvert_exporter": "python",
   "pygments_lexer": "ipython3",
   "version": "3.11.4"
  }
 },
 "nbformat": 4,
 "nbformat_minor": 5
}
