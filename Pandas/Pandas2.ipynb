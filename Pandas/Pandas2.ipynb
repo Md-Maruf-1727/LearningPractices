{
 "cells": [
  {
   "cell_type": "code",
   "execution_count": null,
   "id": "c5aebdc0",
   "metadata": {},
   "outputs": [],
   "source": [
    "#info,index,column,rename,axis,astype,concate,condition,ignor_index,random row-column, shape[]\n",
    "#replace with nun-non-null value, head(), tail(), fillna(), dropna(), drop, inplace(), max\n",
    "#min,mean, quantile, median"
   ]
  },
  {
   "cell_type": "code",
   "execution_count": null,
   "id": "fca01fdb",
   "metadata": {},
   "outputs": [
    {
     "name": "stdout",
     "output_type": "stream",
     "text": [
      "      age     sex     bmi  children smoker     region      charges\n",
      "0      19  female  27.900         0    yes  southwest  16884.92400\n",
      "1      18    male  33.770         1     no  southeast   1725.55230\n",
      "2      28    male  33.000         3     no  southeast   4449.46200\n",
      "3      33    male  22.705         0     no  northwest  21984.47061\n",
      "4      32    male  28.880         0     no  northwest   3866.85520\n",
      "...   ...     ...     ...       ...    ...        ...          ...\n",
      "1333   50    male  30.970         3     no  northwest  10600.54830\n",
      "1334   18  female  31.920         0     no  northeast   2205.98080\n",
      "1335   18  female  36.850         0     no  southeast   1629.83350\n",
      "1336   21  female  25.800         0     no  southwest   2007.94500\n",
      "1337   61  female  29.070         0    yes  northwest  29141.36030\n",
      "\n",
      "[1338 rows x 7 columns]\n"
     ]
    }
   ],
   "source": [
    "import pandas as pd\n",
    "import numpy as np\n",
    "Dataset1 = pd.read_csv('insurance (1).csv')\n",
    "print(Dataset1)"
   ]
  },
  {
   "cell_type": "code",
   "execution_count": 3,
   "id": "19ef12c7",
   "metadata": {},
   "outputs": [
    {
     "name": "stdout",
     "output_type": "stream",
     "text": [
      "<class 'pandas.core.frame.DataFrame'>\n",
      "RangeIndex: 1338 entries, 0 to 1337\n",
      "Data columns (total 7 columns):\n",
      " #   Column    Non-Null Count  Dtype  \n",
      "---  ------    --------------  -----  \n",
      " 0   age       1338 non-null   int64  \n",
      " 1   sex       1338 non-null   object \n",
      " 2   bmi       1338 non-null   float64\n",
      " 3   children  1338 non-null   int64  \n",
      " 4   smoker    1338 non-null   object \n",
      " 5   region    1338 non-null   object \n",
      " 6   charges   1338 non-null   float64\n",
      "dtypes: float64(2), int64(2), object(3)\n",
      "memory usage: 73.3+ KB\n",
      "None\n"
     ]
    }
   ],
   "source": [
    "print(Dataset1.info())"
   ]
  },
  {
   "cell_type": "code",
   "execution_count": 5,
   "id": "ccbeb310",
   "metadata": {},
   "outputs": [
    {
     "name": "stdout",
     "output_type": "stream",
     "text": [
      "age           int64\n",
      "sex          object\n",
      "bmi         float64\n",
      "children      int64\n",
      "smoker       object\n",
      "region       object\n",
      "charges     float64\n",
      "dtype: object\n"
     ]
    }
   ],
   "source": [
    "print(Dataset1.dtypes)"
   ]
  },
  {
   "cell_type": "code",
   "execution_count": 10,
   "id": "203db17a",
   "metadata": {},
   "outputs": [
    {
     "name": "stdout",
     "output_type": "stream",
     "text": [
      "    age     sex     bmi  children smoker     region      charges\n",
      "60   43    male  27.360         3     no  northeast   8606.21740\n",
      "70   27  female  24.750         0    yes  southeast  16577.77950\n",
      "80   31    male  26.885         1     no  northeast   4441.21315\n",
      "90   21  female  39.490         0     no  southeast   2026.97410\n"
     ]
    }
   ],
   "source": [
    "alldata = pd.DataFrame(Dataset1, index=[60,70,80,90])\n",
    "print(alldata)"
   ]
  },
  {
   "cell_type": "code",
   "execution_count": 21,
   "id": "de1850b1",
   "metadata": {},
   "outputs": [],
   "source": [
    "#alldata = pd.DataFrame(Dataset1, index=[41:51])\n",
    "#print(alldata)                                         don't do this"
   ]
  },
  {
   "cell_type": "code",
   "execution_count": 13,
   "id": "23f5f035",
   "metadata": {},
   "outputs": [
    {
     "name": "stdout",
     "output_type": "stream",
     "text": [
      "   age     sex     bmi  children smoker     region      charges\n",
      "0   19  female  27.900         0    yes  southwest  16884.92400\n",
      "1   18    male  33.770         1     no  southeast   1725.55230\n",
      "2   28    male  33.000         3     no  southeast   4449.46200\n",
      "3   33    male  22.705         0     no  northwest  21984.47061\n",
      "4   32    male  28.880         0     no  northwest   3866.85520\n"
     ]
    }
   ],
   "source": [
    "print(Dataset1.head())"
   ]
  },
  {
   "cell_type": "code",
   "execution_count": 14,
   "id": "9950f7db",
   "metadata": {},
   "outputs": [
    {
     "name": "stdout",
     "output_type": "stream",
     "text": [
      "   age     sex    bmi  children smoker     region     charges\n",
      "0   19  female  27.90         0    yes  southwest  16884.9240\n",
      "1   18    male  33.77         1     no  southeast   1725.5523\n",
      "2   28    male  33.00         3     no  southeast   4449.4620\n"
     ]
    }
   ],
   "source": [
    "print(Dataset1.head(3))"
   ]
  },
  {
   "cell_type": "code",
   "execution_count": 15,
   "id": "23e7b5c5",
   "metadata": {},
   "outputs": [
    {
     "name": "stdout",
     "output_type": "stream",
     "text": [
      "      age     sex    bmi  children smoker     region     charges\n",
      "1333   50    male  30.97         3     no  northwest  10600.5483\n",
      "1334   18  female  31.92         0     no  northeast   2205.9808\n",
      "1335   18  female  36.85         0     no  southeast   1629.8335\n",
      "1336   21  female  25.80         0     no  southwest   2007.9450\n",
      "1337   61  female  29.07         0    yes  northwest  29141.3603\n"
     ]
    }
   ],
   "source": [
    "print(Dataset1.tail())"
   ]
  },
  {
   "cell_type": "code",
   "execution_count": 17,
   "id": "70d08604",
   "metadata": {},
   "outputs": [
    {
     "name": "stdout",
     "output_type": "stream",
     "text": [
      "      age     sex    bmi  children smoker     region     charges\n",
      "1334   18  female  31.92         0     no  northeast   2205.9808\n",
      "1335   18  female  36.85         0     no  southeast   1629.8335\n",
      "1336   21  female  25.80         0     no  southwest   2007.9450\n",
      "1337   61  female  29.07         0    yes  northwest  29141.3603\n"
     ]
    }
   ],
   "source": [
    "print(Dataset1.tail(4))"
   ]
  },
  {
   "cell_type": "code",
   "execution_count": 19,
   "id": "5afdc1d6",
   "metadata": {},
   "outputs": [
    {
     "name": "stdout",
     "output_type": "stream",
     "text": [
      "     age     sex     bmi  children smoker     region      charges\n",
      "101   30    male  25.460         0     no  northeast   3645.08940\n",
      "102   18  female  30.115         0     no  northeast  21344.84670\n",
      "103   61  female  29.920         3    yes  southeast  30942.19180\n",
      "104   34  female  27.500         1     no  southwest   5003.85300\n",
      "105   20    male  28.025         1    yes  northwest  17560.37975\n",
      "..   ...     ...     ...       ...    ...        ...          ...\n",
      "196   39  female  32.800         0     no  southwest   5649.71500\n",
      "197   45  female  28.600         2     no  southeast   8516.82900\n",
      "198   51  female  18.050         0     no  northwest   9644.25250\n",
      "199   64  female  39.330         0     no  northeast  14901.51670\n",
      "200   19  female  32.110         0     no  northwest   2130.67590\n",
      "\n",
      "[100 rows x 7 columns]\n"
     ]
    }
   ],
   "source": [
    "print(Dataset1[101:201])"
   ]
  },
  {
   "cell_type": "code",
   "execution_count": 27,
   "id": "f3a2035c",
   "metadata": {},
   "outputs": [
    {
     "name": "stdout",
     "output_type": "stream",
     "text": [
      "      Age     Sex     Bmi  Children Smoker     Region      Charges\n",
      "0      19  female  27.900         0    yes  southwest  16884.92400\n",
      "1      18    male  33.770         1     no  southeast   1725.55230\n",
      "2      28    male  33.000         3     no  southeast   4449.46200\n",
      "3      33    male  22.705         0     no  northwest  21984.47061\n",
      "4      32    male  28.880         0     no  northwest   3866.85520\n",
      "...   ...     ...     ...       ...    ...        ...          ...\n",
      "1333   50    male  30.970         3     no  northwest  10600.54830\n",
      "1334   18  female  31.920         0     no  northeast   2205.98080\n",
      "1335   18  female  36.850         0     no  southeast   1629.83350\n",
      "1336   21  female  25.800         0     no  southwest   2007.94500\n",
      "1337   61  female  29.070         0    yes  northwest  29141.36030\n",
      "\n",
      "[1338 rows x 7 columns]\n"
     ]
    }
   ],
   "source": [
    "#column Rename\n",
    "#Dataset1.rename(columns=['Age','Sex','Bmi','Children','Smoker','Region','Charges'], inplace=True) X Don't\n",
    "Dataset1.rename({'age':'Age','sex':'Sex','bmi':'Bmi','children':'Children','smoker':'Smoker','region':'Region','charges':'Charges'}, axis=1, inplace=True)\n",
    "print(Dataset1)"
   ]
  },
  {
   "cell_type": "code",
   "execution_count": 31,
   "id": "39f1214e",
   "metadata": {},
   "outputs": [],
   "source": [
    "#new_dataset = pd.DataFrame(Dataset1, columns=['AGE','SEX','BMI','CHILDREN','SMOKER','REGION','CHARGES'])\n",
    "#print(new_dataset) x DON'T"
   ]
  },
  {
   "cell_type": "code",
   "execution_count": 37,
   "id": "443651fc",
   "metadata": {},
   "outputs": [
    {
     "data": {
      "text/plain": [
       "61    southeast\n",
       "62    northwest\n",
       "63    northwest\n",
       "64    northwest\n",
       "65    southwest\n",
       "66    southwest\n",
       "67    northwest\n",
       "68    southeast\n",
       "69    southeast\n",
       "70    southeast\n",
       "Name: Region, dtype: object"
      ]
     },
     "execution_count": 37,
     "metadata": {},
     "output_type": "execute_result"
    }
   ],
   "source": [
    "Dataset1['Region'][61:71]"
   ]
  },
  {
   "cell_type": "code",
   "execution_count": 38,
   "id": "4d843364",
   "metadata": {},
   "outputs": [
    {
     "name": "stdout",
     "output_type": "stream",
     "text": [
      "     Age     Sex     Bmi  Children Smoker     Region      Charges\n",
      "0     19  female  27.900         0    yes  southwest  16884.92400\n",
      "1     18    male  33.770         1     no  southeast   1725.55230\n",
      "2     28    male  33.000         3     no  southeast   4449.46200\n",
      "3     33    male  22.705         0     no  northwest  21984.47061\n",
      "4     32    male  28.880         0     no  northwest   3866.85520\n",
      "...   ..     ...     ...       ...    ...        ...          ...\n",
      "1333  50    male  30.970         3     no  northwest  10600.54830\n",
      "1334  18  female  31.920         0     no  northeast   2205.98080\n",
      "1335  18  female  36.850         0     no  southeast   1629.83350\n",
      "1336  21  female  25.800         0     no  southwest   2007.94500\n",
      "1337  61  female  29.070         0    yes  northwest  29141.36030\n",
      "\n",
      "[1338 rows x 7 columns]\n"
     ]
    }
   ],
   "source": [
    "Dataset1['Age'] = Dataset1['Age'].astype(str, errors='ignore')\n",
    "print(Dataset1)"
   ]
  },
  {
   "cell_type": "code",
   "execution_count": 39,
   "id": "a5550505",
   "metadata": {},
   "outputs": [
    {
     "name": "stdout",
     "output_type": "stream",
     "text": [
      "<class 'pandas.core.frame.DataFrame'>\n",
      "RangeIndex: 1338 entries, 0 to 1337\n",
      "Data columns (total 7 columns):\n",
      " #   Column    Non-Null Count  Dtype  \n",
      "---  ------    --------------  -----  \n",
      " 0   Age       1338 non-null   object \n",
      " 1   Sex       1338 non-null   object \n",
      " 2   Bmi       1338 non-null   float64\n",
      " 3   Children  1338 non-null   int64  \n",
      " 4   Smoker    1338 non-null   object \n",
      " 5   Region    1338 non-null   object \n",
      " 6   Charges   1338 non-null   float64\n",
      "dtypes: float64(2), int64(1), object(4)\n",
      "memory usage: 73.3+ KB\n",
      "None\n"
     ]
    }
   ],
   "source": [
    "print(Dataset1.info())"
   ]
  },
  {
   "cell_type": "code",
   "execution_count": 42,
   "id": "dd934861",
   "metadata": {},
   "outputs": [
    {
     "name": "stdout",
     "output_type": "stream",
     "text": [
      "      Age     Sex     Bmi  Children Smoker     Region      Charges\n",
      "0      19  female  27.900         0    yes  southwest  16884.92400\n",
      "1      18    male  33.770         1     no  southeast   1725.55230\n",
      "2      28    male  33.000         3     no  southeast   4449.46200\n",
      "3      33    male  22.705         0     no  northwest  21984.47061\n",
      "4      32    male  28.880         0     no  northwest   3866.85520\n",
      "...   ...     ...     ...       ...    ...        ...          ...\n",
      "1333   50    male  30.970         3     no  northwest  10600.54830\n",
      "1334   18  female  31.920         0     no  northeast   2205.98080\n",
      "1335   18  female  36.850         0     no  southeast   1629.83350\n",
      "1336   21  female  25.800         0     no  southwest   2007.94500\n",
      "1337   61  female  29.070         0    yes  northwest  29141.36030\n",
      "\n",
      "[1338 rows x 7 columns]\n"
     ]
    }
   ],
   "source": [
    "Dataset1['Age'] = Dataset1['Age'].astype(int, errors='ignore')\n",
    "print(Dataset1)"
   ]
  },
  {
   "cell_type": "code",
   "execution_count": 44,
   "id": "b622c99c",
   "metadata": {},
   "outputs": [
    {
     "name": "stdout",
     "output_type": "stream",
     "text": [
      "<class 'pandas.core.frame.DataFrame'>\n",
      "RangeIndex: 1338 entries, 0 to 1337\n",
      "Data columns (total 7 columns):\n",
      " #   Column    Non-Null Count  Dtype  \n",
      "---  ------    --------------  -----  \n",
      " 0   Age       1338 non-null   int64  \n",
      " 1   Sex       1338 non-null   object \n",
      " 2   Bmi       1338 non-null   float64\n",
      " 3   Children  1338 non-null   int64  \n",
      " 4   Smoker    1338 non-null   object \n",
      " 5   Region    1338 non-null   object \n",
      " 6   Charges   1338 non-null   float64\n",
      "dtypes: float64(2), int64(2), object(3)\n",
      "memory usage: 73.3+ KB\n",
      "None\n"
     ]
    }
   ],
   "source": [
    "print(Dataset1.info())"
   ]
  },
  {
   "cell_type": "code",
   "execution_count": 46,
   "id": "c60271a5",
   "metadata": {},
   "outputs": [
    {
     "name": "stdout",
     "output_type": "stream",
     "text": [
      "      Age     Sex  Bmi  Children Smoker     Region      Charges\n",
      "0      19  female   27         0    yes  southwest  16884.92400\n",
      "1      18    male   33         1     no  southeast   1725.55230\n",
      "2      28    male   33         3     no  southeast   4449.46200\n",
      "3      33    male   22         0     no  northwest  21984.47061\n",
      "4      32    male   28         0     no  northwest   3866.85520\n",
      "...   ...     ...  ...       ...    ...        ...          ...\n",
      "1333   50    male   30         3     no  northwest  10600.54830\n",
      "1334   18  female   31         0     no  northeast   2205.98080\n",
      "1335   18  female   36         0     no  southeast   1629.83350\n",
      "1336   21  female   25         0     no  southwest   2007.94500\n",
      "1337   61  female   29         0    yes  northwest  29141.36030\n",
      "\n",
      "[1338 rows x 7 columns]\n"
     ]
    }
   ],
   "source": [
    "Dataset1['Bmi'] = Dataset1['Bmi'].astype(int, errors='ignore')\n",
    "print(Dataset1)"
   ]
  },
  {
   "cell_type": "code",
   "execution_count": 49,
   "id": "685ff637",
   "metadata": {},
   "outputs": [
    {
     "name": "stdout",
     "output_type": "stream",
     "text": [
      "      Age     Sex   Bmi  Children Smoker     Region      Charges\n",
      "0      19  female  27.0         0    yes  southwest  16884.92400\n",
      "1      18    male  33.0         1     no  southeast   1725.55230\n",
      "2      28    male  33.0         3     no  southeast   4449.46200\n",
      "3      33    male  22.0         0     no  northwest  21984.47061\n",
      "4      32    male  28.0         0     no  northwest   3866.85520\n",
      "...   ...     ...   ...       ...    ...        ...          ...\n",
      "1333   50    male  30.0         3     no  northwest  10600.54830\n",
      "1334   18  female  31.0         0     no  northeast   2205.98080\n",
      "1335   18  female  36.0         0     no  southeast   1629.83350\n",
      "1336   21  female  25.0         0     no  southwest   2007.94500\n",
      "1337   61  female  29.0         0    yes  northwest  29141.36030\n",
      "\n",
      "[1338 rows x 7 columns]\n"
     ]
    }
   ],
   "source": [
    "Dataset1['Bmi'] = Dataset1['Bmi'].astype(float, errors='ignore')\n",
    "print(Dataset1)"
   ]
  },
  {
   "cell_type": "code",
   "execution_count": 52,
   "id": "409fbaad",
   "metadata": {},
   "outputs": [
    {
     "name": "stdout",
     "output_type": "stream",
     "text": [
      "      Age     Sex   Bmi  Children Smoker     Region      Charges\n",
      "0      19  female  27.0         0    yes  southwest  16884.92400\n",
      "1      18    male  33.0         1     no  southeast   1725.55230\n",
      "2      28    male  33.0         3     no  southeast   4449.46200\n",
      "3      33    male  22.0         0     no  northwest  21984.47061\n",
      "4      32    male  28.0         0     no  northwest   3866.85520\n",
      "...   ...     ...   ...       ...    ...        ...          ...\n",
      "1333   50    male  30.0         3     no  northwest  10600.54830\n",
      "1334   18  female  31.0         0     no  northeast   2205.98080\n",
      "1335   18  female  36.0         0     no  southeast   1629.83350\n",
      "1336   21  female  25.0         0     no  southwest   2007.94500\n",
      "1337   61  female  29.0         0    yes  northwest  29141.36030\n",
      "\n",
      "[1338 rows x 7 columns]\n"
     ]
    }
   ],
   "source": [
    "Dataset1['Sex'] = Dataset1['Sex'].astype('category')\n",
    "print(Dataset1)"
   ]
  },
  {
   "cell_type": "code",
   "execution_count": 53,
   "id": "92a1dccc",
   "metadata": {},
   "outputs": [
    {
     "name": "stdout",
     "output_type": "stream",
     "text": [
      "<class 'pandas.core.frame.DataFrame'>\n",
      "RangeIndex: 1338 entries, 0 to 1337\n",
      "Data columns (total 7 columns):\n",
      " #   Column    Non-Null Count  Dtype   \n",
      "---  ------    --------------  -----   \n",
      " 0   Age       1338 non-null   int64   \n",
      " 1   Sex       1338 non-null   category\n",
      " 2   Bmi       1338 non-null   float64 \n",
      " 3   Children  1338 non-null   int64   \n",
      " 4   Smoker    1338 non-null   object  \n",
      " 5   Region    1338 non-null   object  \n",
      " 6   Charges   1338 non-null   float64 \n",
      "dtypes: category(1), float64(2), int64(2), object(2)\n",
      "memory usage: 64.3+ KB\n",
      "None\n"
     ]
    }
   ],
   "source": [
    "print(Dataset1.info())"
   ]
  },
  {
   "cell_type": "code",
   "execution_count": 58,
   "id": "715d47d4",
   "metadata": {},
   "outputs": [
    {
     "name": "stdout",
     "output_type": "stream",
     "text": [
      "      Age     Sex   Bmi  Children Smoker     Region      Charges\n",
      "0      19  female  27.0         0    yes  southwest  16884.92400\n",
      "1      18    male  33.0         1     no  southeast   1725.55230\n",
      "2      28    male  33.0         3     no  southeast   4449.46200\n",
      "3      33    male  22.0         0     no  northwest  21984.47061\n",
      "4      32    male  28.0         0     no  northwest   3866.85520\n",
      "...   ...     ...   ...       ...    ...        ...          ...\n",
      "1333   50    male  30.0         3     no  northwest  10600.54830\n",
      "1334   18  female  31.0         0     no  northeast   2205.98080\n",
      "1335   18  female  36.0         0     no  southeast   1629.83350\n",
      "1336   21  female  25.0         0     no  southwest   2007.94500\n",
      "1337   61  female  29.0         0    yes  northwest  29141.36030\n",
      "\n",
      "[1338 rows x 7 columns]\n"
     ]
    }
   ],
   "source": [
    "Dataset1['Sex'] = Dataset1['Sex'].astype(str, errors='ignore')\n",
    "print(Dataset1)"
   ]
  },
  {
   "cell_type": "code",
   "execution_count": 59,
   "id": "07ca7aa5",
   "metadata": {},
   "outputs": [
    {
     "name": "stdout",
     "output_type": "stream",
     "text": [
      "<class 'pandas.core.frame.DataFrame'>\n",
      "RangeIndex: 1338 entries, 0 to 1337\n",
      "Data columns (total 7 columns):\n",
      " #   Column    Non-Null Count  Dtype  \n",
      "---  ------    --------------  -----  \n",
      " 0   Age       1338 non-null   int64  \n",
      " 1   Sex       1338 non-null   object \n",
      " 2   Bmi       1338 non-null   object \n",
      " 3   Children  1338 non-null   int64  \n",
      " 4   Smoker    1338 non-null   object \n",
      " 5   Region    1338 non-null   object \n",
      " 6   Charges   1338 non-null   float64\n",
      "dtypes: float64(1), int64(2), object(4)\n",
      "memory usage: 73.3+ KB\n",
      "None\n"
     ]
    }
   ],
   "source": [
    "print(Dataset1.info())"
   ]
  },
  {
   "cell_type": "code",
   "execution_count": 71,
   "id": "99ab5d99",
   "metadata": {},
   "outputs": [
    {
     "name": "stdout",
     "output_type": "stream",
     "text": [
      "    Age     Sex   Bmi  Children Smoker     Region      Charges\n",
      "0    19  female  27.0         0    yes  southwest  16884.92400\n",
      "1    18    male  33.0         1     no  southeast   1725.55230\n",
      "2    28    male  33.0         3     no  southeast   4449.46200\n",
      "3    33    male  22.0         0     no  northwest  21984.47061\n",
      "4    32    male  28.0         0     no  northwest   3866.85520\n",
      "5    50    male  30.0         3     no  northwest  10600.54830\n",
      "6    18  female  31.0         0     no  northeast   2205.98080\n",
      "7    18  female  36.0         0     no  southeast   1629.83350\n",
      "8    21  female  25.0         0     no  southwest   2007.94500\n",
      "9    61  female  29.0         0    yes  northwest  29141.36030\n",
      "10   51    male  31.0         0     no  northwest   9174.13565\n",
      "11   56  female  25.0         0     no  southwest  11070.53500\n",
      "12   64  female  39.0         3     no  southeast  16085.12750\n",
      "13   19  female  28.0         0    yes  northwest  17468.98390\n",
      "14   51  female  34.0         0     no  southeast   9283.56200\n"
     ]
    }
   ],
   "source": [
    "top = Dataset1.head()\n",
    "bottom = Dataset1.tail()\n",
    "random = Dataset1[601:606]\n",
    "a_new_datset = pd.concat([top,bottom,random], ignore_index=True)\n",
    "print(a_new_datset)"
   ]
  },
  {
   "cell_type": "code",
   "execution_count": 98,
   "id": "d63192d5",
   "metadata": {},
   "outputs": [
    {
     "name": "stdout",
     "output_type": "stream",
     "text": [
      "   AGE     SEX   BMI CHILDREN  SMOKER     REGION     CHARGES  Age     Sex  \\\n",
      "0   21  female  25.0        0      no  southwest   2007.9450   19  female   \n",
      "1   61  female  29.0        0     yes  northwest  29141.3603   18    male   \n",
      "\n",
      "    Bmi  ...  Smoker     Region     Charges  AGE   SEX   BMI CHILDREN  SMOKER  \\\n",
      "0  27.0  ...     yes  southwest  16884.9240   24  male  32.0        0     yes   \n",
      "1  33.0  ...      no  southeast   1725.5523   24  male  25.0        0      no   \n",
      "\n",
      "      REGION    Charges  \n",
      "0  southwest  34472.841  \n",
      "1  southwest   1972.950  \n",
      "\n",
      "[2 rows x 21 columns]\n"
     ]
    }
   ],
   "source": [
    "change_bottom = Dataset1.tail(2).rename(columns={\n",
    "    'Age':'AGE',\n",
    "    'Sex':'SEX',\n",
    "    'Bmi':'BMI',\n",
    "    'Children':'CHILDREN',\n",
    "    'Smoker':'SMOKER',\n",
    "    'Region':'REGION',\n",
    "    'Charges':'CHARGES'\n",
    "    })\n",
    "change_bottom = change_bottom.reset_index(drop=True)\n",
    "change_top = Dataset1.head(2)\n",
    "change_top = change_top.reset_index(drop=True)\n",
    "change_center = Dataset1[1001:1003].rename(columns={\n",
    "    'Age':'AGE',\n",
    "    'Sex':'SEX',\n",
    "    'Bmi':'BMI',\n",
    "    'Children':'CHILDREN',\n",
    "    'Smoker':'SMOKER',\n",
    "    'Region':'REGION',\n",
    "})\n",
    "change_center = change_center.reset_index(drop=True)\n",
    "b_new_set = pd.concat([change_bottom, change_top, change_center], axis=1)\n",
    "print(b_new_set)"
   ]
  },
  {
   "cell_type": "code",
   "execution_count": 115,
   "id": "92237fe7",
   "metadata": {},
   "outputs": [
    {
     "ename": "ValueError",
     "evalue": "a must be greater than 0 unless no samples are taken",
     "output_type": "error",
     "traceback": [
      "\u001b[31m---------------------------------------------------------------------------\u001b[39m",
      "\u001b[31mValueError\u001b[39m                                Traceback (most recent call last)",
      "\u001b[36mCell\u001b[39m\u001b[36m \u001b[39m\u001b[32mIn[115]\u001b[39m\u001b[32m, line 5\u001b[39m\n\u001b[32m      3\u001b[39m \u001b[38;5;66;03m#print(randomly)\u001b[39;00m\n\u001b[32m      4\u001b[39m \u001b[38;5;28;01mfor\u001b[39;00m i \u001b[38;5;129;01min\u001b[39;00m \u001b[38;5;28mrange\u001b[39m(randomly.shape[\u001b[32m1\u001b[39m]):\n\u001b[32m----> \u001b[39m\u001b[32m5\u001b[39m     entering_nan = \u001b[43mnp\u001b[49m\u001b[43m.\u001b[49m\u001b[43mrandom\u001b[49m\u001b[43m.\u001b[49m\u001b[43mchoice\u001b[49m\u001b[43m(\u001b[49m\u001b[43mrandomly\u001b[49m\u001b[43m.\u001b[49m\u001b[43mshape\u001b[49m\u001b[43m[\u001b[49m\u001b[32;43m0\u001b[39;49m\u001b[43m]\u001b[49m\u001b[43m,\u001b[49m\u001b[32;43m3\u001b[39;49m\u001b[43m,\u001b[49m\u001b[43m \u001b[49m\u001b[43mreplace\u001b[49m\u001b[43m=\u001b[49m\u001b[38;5;28;43;01mFalse\u001b[39;49;00m\u001b[43m)\u001b[49m\n\u001b[32m      6\u001b[39m     randomly.iloc[entering_nan, i] = np.nan\n\u001b[32m      7\u001b[39m     Dataset1 = pd.DataFrame(randomly)\n",
      "\u001b[36mFile \u001b[39m\u001b[32mnumpy/random/mtrand.pyx:964\u001b[39m, in \u001b[36mnumpy.random.mtrand.RandomState.choice\u001b[39m\u001b[34m()\u001b[39m\n",
      "\u001b[31mValueError\u001b[39m: a must be greater than 0 unless no samples are taken"
     ]
    }
   ],
   "source": [
    "import numpy as np\n",
    "randomly = Dataset1[22:27]\n",
    "#print(randomly)\n",
    "for i in range(randomly.shape[1]):\n",
    "    entering_nan = np.random.choice(randomly.shape[0],3, replace=False)\n",
    "    randomly.iloc[entering_nan, i] = np.nan\n",
    "    Dataset1 = pd.DataFrame(randomly)\n"
   ]
  },
  {
   "cell_type": "code",
   "execution_count": null,
   "id": "71de51f8",
   "metadata": {},
   "outputs": [],
   "source": []
  }
 ],
 "metadata": {
  "kernelspec": {
   "display_name": "Python 3",
   "language": "python",
   "name": "python3"
  },
  "language_info": {
   "codemirror_mode": {
    "name": "ipython",
    "version": 3
   },
   "file_extension": ".py",
   "mimetype": "text/x-python",
   "name": "python",
   "nbconvert_exporter": "python",
   "pygments_lexer": "ipython3",
   "version": "3.11.4"
  }
 },
 "nbformat": 4,
 "nbformat_minor": 5
}
