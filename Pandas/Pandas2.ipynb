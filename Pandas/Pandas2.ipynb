{
 "cells": [
  {
   "cell_type": "code",
   "execution_count": 232,
   "id": "c5aebdc0",
   "metadata": {},
   "outputs": [],
   "source": [
    "#info,index,column,rename,axis,astype,concate,condition,ignor_index,random row-column, shape[]\n",
    "#replace with nun-non-null value, head(), tail(), fillna(), dropna(), drop, inplace(), max\n",
    "#min,mean, quantile, median"
   ]
  },
  {
   "cell_type": "code",
   "execution_count": 233,
   "id": "fca01fdb",
   "metadata": {},
   "outputs": [
    {
     "name": "stdout",
     "output_type": "stream",
     "text": [
      "      age     sex     bmi  children smoker     region      charges\n",
      "0      19  female  27.900         0    yes  southwest  16884.92400\n",
      "1      18    male  33.770         1     no  southeast   1725.55230\n",
      "2      28    male  33.000         3     no  southeast   4449.46200\n",
      "3      33    male  22.705         0     no  northwest  21984.47061\n",
      "4      32    male  28.880         0     no  northwest   3866.85520\n",
      "...   ...     ...     ...       ...    ...        ...          ...\n",
      "1333   50    male  30.970         3     no  northwest  10600.54830\n",
      "1334   18  female  31.920         0     no  northeast   2205.98080\n",
      "1335   18  female  36.850         0     no  southeast   1629.83350\n",
      "1336   21  female  25.800         0     no  southwest   2007.94500\n",
      "1337   61  female  29.070         0    yes  northwest  29141.36030\n",
      "\n",
      "[1338 rows x 7 columns]\n"
     ]
    }
   ],
   "source": [
    "import pandas as pd\n",
    "import numpy as np\n",
    "Dataset1 = pd.read_csv('insurance (1).csv')\n",
    "print(Dataset1)"
   ]
  },
  {
   "cell_type": "code",
   "execution_count": 234,
   "id": "19ef12c7",
   "metadata": {},
   "outputs": [
    {
     "name": "stdout",
     "output_type": "stream",
     "text": [
      "<class 'pandas.core.frame.DataFrame'>\n",
      "RangeIndex: 1338 entries, 0 to 1337\n",
      "Data columns (total 7 columns):\n",
      " #   Column    Non-Null Count  Dtype  \n",
      "---  ------    --------------  -----  \n",
      " 0   age       1338 non-null   int64  \n",
      " 1   sex       1338 non-null   object \n",
      " 2   bmi       1338 non-null   float64\n",
      " 3   children  1338 non-null   int64  \n",
      " 4   smoker    1338 non-null   object \n",
      " 5   region    1338 non-null   object \n",
      " 6   charges   1338 non-null   float64\n",
      "dtypes: float64(2), int64(2), object(3)\n",
      "memory usage: 73.3+ KB\n",
      "None\n"
     ]
    }
   ],
   "source": [
    "print(Dataset1.info())"
   ]
  },
  {
   "cell_type": "code",
   "execution_count": 235,
   "id": "ccbeb310",
   "metadata": {},
   "outputs": [
    {
     "name": "stdout",
     "output_type": "stream",
     "text": [
      "age           int64\n",
      "sex          object\n",
      "bmi         float64\n",
      "children      int64\n",
      "smoker       object\n",
      "region       object\n",
      "charges     float64\n",
      "dtype: object\n"
     ]
    }
   ],
   "source": [
    "print(Dataset1.dtypes)"
   ]
  },
  {
   "cell_type": "code",
   "execution_count": 236,
   "id": "203db17a",
   "metadata": {},
   "outputs": [
    {
     "name": "stdout",
     "output_type": "stream",
     "text": [
      "    age     sex     bmi  children smoker     region      charges\n",
      "60   43    male  27.360         3     no  northeast   8606.21740\n",
      "70   27  female  24.750         0    yes  southeast  16577.77950\n",
      "80   31    male  26.885         1     no  northeast   4441.21315\n",
      "90   21  female  39.490         0     no  southeast   2026.97410\n"
     ]
    }
   ],
   "source": [
    "alldata = pd.DataFrame(Dataset1, index=[60,70,80,90])\n",
    "print(alldata)"
   ]
  },
  {
   "cell_type": "code",
   "execution_count": 237,
   "id": "de1850b1",
   "metadata": {},
   "outputs": [],
   "source": [
    "#alldata = pd.DataFrame(Dataset1, index=[41:51])\n",
    "#print(alldata)                                         don't do this"
   ]
  },
  {
   "cell_type": "code",
   "execution_count": 238,
   "id": "23f5f035",
   "metadata": {},
   "outputs": [
    {
     "name": "stdout",
     "output_type": "stream",
     "text": [
      "   age     sex     bmi  children smoker     region      charges\n",
      "0   19  female  27.900         0    yes  southwest  16884.92400\n",
      "1   18    male  33.770         1     no  southeast   1725.55230\n",
      "2   28    male  33.000         3     no  southeast   4449.46200\n",
      "3   33    male  22.705         0     no  northwest  21984.47061\n",
      "4   32    male  28.880         0     no  northwest   3866.85520\n"
     ]
    }
   ],
   "source": [
    "print(Dataset1.head())"
   ]
  },
  {
   "cell_type": "code",
   "execution_count": 239,
   "id": "9950f7db",
   "metadata": {},
   "outputs": [
    {
     "name": "stdout",
     "output_type": "stream",
     "text": [
      "   age     sex    bmi  children smoker     region     charges\n",
      "0   19  female  27.90         0    yes  southwest  16884.9240\n",
      "1   18    male  33.77         1     no  southeast   1725.5523\n",
      "2   28    male  33.00         3     no  southeast   4449.4620\n"
     ]
    }
   ],
   "source": [
    "print(Dataset1.head(3))"
   ]
  },
  {
   "cell_type": "code",
   "execution_count": 240,
   "id": "23e7b5c5",
   "metadata": {},
   "outputs": [
    {
     "name": "stdout",
     "output_type": "stream",
     "text": [
      "      age     sex    bmi  children smoker     region     charges\n",
      "1333   50    male  30.97         3     no  northwest  10600.5483\n",
      "1334   18  female  31.92         0     no  northeast   2205.9808\n",
      "1335   18  female  36.85         0     no  southeast   1629.8335\n",
      "1336   21  female  25.80         0     no  southwest   2007.9450\n",
      "1337   61  female  29.07         0    yes  northwest  29141.3603\n"
     ]
    }
   ],
   "source": [
    "print(Dataset1.tail())"
   ]
  },
  {
   "cell_type": "code",
   "execution_count": 241,
   "id": "70d08604",
   "metadata": {},
   "outputs": [
    {
     "name": "stdout",
     "output_type": "stream",
     "text": [
      "      age     sex    bmi  children smoker     region     charges\n",
      "1334   18  female  31.92         0     no  northeast   2205.9808\n",
      "1335   18  female  36.85         0     no  southeast   1629.8335\n",
      "1336   21  female  25.80         0     no  southwest   2007.9450\n",
      "1337   61  female  29.07         0    yes  northwest  29141.3603\n"
     ]
    }
   ],
   "source": [
    "print(Dataset1.tail(4))"
   ]
  },
  {
   "cell_type": "code",
   "execution_count": 242,
   "id": "5afdc1d6",
   "metadata": {},
   "outputs": [
    {
     "name": "stdout",
     "output_type": "stream",
     "text": [
      "     age     sex     bmi  children smoker     region      charges\n",
      "101   30    male  25.460         0     no  northeast   3645.08940\n",
      "102   18  female  30.115         0     no  northeast  21344.84670\n",
      "103   61  female  29.920         3    yes  southeast  30942.19180\n",
      "104   34  female  27.500         1     no  southwest   5003.85300\n",
      "105   20    male  28.025         1    yes  northwest  17560.37975\n",
      "..   ...     ...     ...       ...    ...        ...          ...\n",
      "196   39  female  32.800         0     no  southwest   5649.71500\n",
      "197   45  female  28.600         2     no  southeast   8516.82900\n",
      "198   51  female  18.050         0     no  northwest   9644.25250\n",
      "199   64  female  39.330         0     no  northeast  14901.51670\n",
      "200   19  female  32.110         0     no  northwest   2130.67590\n",
      "\n",
      "[100 rows x 7 columns]\n"
     ]
    }
   ],
   "source": [
    "print(Dataset1[101:201])"
   ]
  },
  {
   "cell_type": "code",
   "execution_count": 243,
   "id": "f3a2035c",
   "metadata": {},
   "outputs": [
    {
     "name": "stdout",
     "output_type": "stream",
     "text": [
      "      Age     Sex     Bmi  Children Smoker     Region      Charges\n",
      "0      19  female  27.900         0    yes  southwest  16884.92400\n",
      "1      18    male  33.770         1     no  southeast   1725.55230\n",
      "2      28    male  33.000         3     no  southeast   4449.46200\n",
      "3      33    male  22.705         0     no  northwest  21984.47061\n",
      "4      32    male  28.880         0     no  northwest   3866.85520\n",
      "...   ...     ...     ...       ...    ...        ...          ...\n",
      "1333   50    male  30.970         3     no  northwest  10600.54830\n",
      "1334   18  female  31.920         0     no  northeast   2205.98080\n",
      "1335   18  female  36.850         0     no  southeast   1629.83350\n",
      "1336   21  female  25.800         0     no  southwest   2007.94500\n",
      "1337   61  female  29.070         0    yes  northwest  29141.36030\n",
      "\n",
      "[1338 rows x 7 columns]\n"
     ]
    }
   ],
   "source": [
    "#column Rename\n",
    "#Dataset1.rename(columns=['Age','Sex','Bmi','Children','Smoker','Region','Charges'], inplace=True) X Don't\n",
    "Dataset1.rename({'age':'Age','sex':'Sex','bmi':'Bmi','children':'Children','smoker':'Smoker','region':'Region','charges':'Charges'}, axis=1, inplace=True)\n",
    "print(Dataset1)"
   ]
  },
  {
   "cell_type": "code",
   "execution_count": 244,
   "id": "39f1214e",
   "metadata": {},
   "outputs": [],
   "source": [
    "#new_dataset = pd.DataFrame(Dataset1, columns=['AGE','SEX','BMI','CHILDREN','SMOKER','REGION','CHARGES'])\n",
    "#print(new_dataset) x DON'T"
   ]
  },
  {
   "cell_type": "code",
   "execution_count": 245,
   "id": "443651fc",
   "metadata": {},
   "outputs": [
    {
     "data": {
      "text/plain": [
       "61    southeast\n",
       "62    northwest\n",
       "63    northwest\n",
       "64    northwest\n",
       "65    southwest\n",
       "66    southwest\n",
       "67    northwest\n",
       "68    southeast\n",
       "69    southeast\n",
       "70    southeast\n",
       "Name: Region, dtype: object"
      ]
     },
     "execution_count": 245,
     "metadata": {},
     "output_type": "execute_result"
    }
   ],
   "source": [
    "Dataset1['Region'][61:71]"
   ]
  },
  {
   "cell_type": "code",
   "execution_count": 246,
   "id": "4d843364",
   "metadata": {},
   "outputs": [
    {
     "name": "stdout",
     "output_type": "stream",
     "text": [
      "     Age     Sex     Bmi  Children Smoker     Region      Charges\n",
      "0     19  female  27.900         0    yes  southwest  16884.92400\n",
      "1     18    male  33.770         1     no  southeast   1725.55230\n",
      "2     28    male  33.000         3     no  southeast   4449.46200\n",
      "3     33    male  22.705         0     no  northwest  21984.47061\n",
      "4     32    male  28.880         0     no  northwest   3866.85520\n",
      "...   ..     ...     ...       ...    ...        ...          ...\n",
      "1333  50    male  30.970         3     no  northwest  10600.54830\n",
      "1334  18  female  31.920         0     no  northeast   2205.98080\n",
      "1335  18  female  36.850         0     no  southeast   1629.83350\n",
      "1336  21  female  25.800         0     no  southwest   2007.94500\n",
      "1337  61  female  29.070         0    yes  northwest  29141.36030\n",
      "\n",
      "[1338 rows x 7 columns]\n"
     ]
    }
   ],
   "source": [
    "Dataset1['Age'] = Dataset1['Age'].astype(str, errors='ignore')\n",
    "print(Dataset1)"
   ]
  },
  {
   "cell_type": "code",
   "execution_count": 247,
   "id": "a5550505",
   "metadata": {},
   "outputs": [
    {
     "name": "stdout",
     "output_type": "stream",
     "text": [
      "<class 'pandas.core.frame.DataFrame'>\n",
      "RangeIndex: 1338 entries, 0 to 1337\n",
      "Data columns (total 7 columns):\n",
      " #   Column    Non-Null Count  Dtype  \n",
      "---  ------    --------------  -----  \n",
      " 0   Age       1338 non-null   object \n",
      " 1   Sex       1338 non-null   object \n",
      " 2   Bmi       1338 non-null   float64\n",
      " 3   Children  1338 non-null   int64  \n",
      " 4   Smoker    1338 non-null   object \n",
      " 5   Region    1338 non-null   object \n",
      " 6   Charges   1338 non-null   float64\n",
      "dtypes: float64(2), int64(1), object(4)\n",
      "memory usage: 73.3+ KB\n",
      "None\n"
     ]
    }
   ],
   "source": [
    "print(Dataset1.info())"
   ]
  },
  {
   "cell_type": "code",
   "execution_count": 248,
   "id": "dd934861",
   "metadata": {},
   "outputs": [
    {
     "name": "stdout",
     "output_type": "stream",
     "text": [
      "      Age     Sex     Bmi  Children Smoker     Region      Charges\n",
      "0      19  female  27.900         0    yes  southwest  16884.92400\n",
      "1      18    male  33.770         1     no  southeast   1725.55230\n",
      "2      28    male  33.000         3     no  southeast   4449.46200\n",
      "3      33    male  22.705         0     no  northwest  21984.47061\n",
      "4      32    male  28.880         0     no  northwest   3866.85520\n",
      "...   ...     ...     ...       ...    ...        ...          ...\n",
      "1333   50    male  30.970         3     no  northwest  10600.54830\n",
      "1334   18  female  31.920         0     no  northeast   2205.98080\n",
      "1335   18  female  36.850         0     no  southeast   1629.83350\n",
      "1336   21  female  25.800         0     no  southwest   2007.94500\n",
      "1337   61  female  29.070         0    yes  northwest  29141.36030\n",
      "\n",
      "[1338 rows x 7 columns]\n"
     ]
    }
   ],
   "source": [
    "Dataset1['Age'] = Dataset1['Age'].astype(int, errors='ignore')\n",
    "print(Dataset1)"
   ]
  },
  {
   "cell_type": "code",
   "execution_count": 249,
   "id": "b622c99c",
   "metadata": {},
   "outputs": [
    {
     "name": "stdout",
     "output_type": "stream",
     "text": [
      "<class 'pandas.core.frame.DataFrame'>\n",
      "RangeIndex: 1338 entries, 0 to 1337\n",
      "Data columns (total 7 columns):\n",
      " #   Column    Non-Null Count  Dtype  \n",
      "---  ------    --------------  -----  \n",
      " 0   Age       1338 non-null   int64  \n",
      " 1   Sex       1338 non-null   object \n",
      " 2   Bmi       1338 non-null   float64\n",
      " 3   Children  1338 non-null   int64  \n",
      " 4   Smoker    1338 non-null   object \n",
      " 5   Region    1338 non-null   object \n",
      " 6   Charges   1338 non-null   float64\n",
      "dtypes: float64(2), int64(2), object(3)\n",
      "memory usage: 73.3+ KB\n",
      "None\n"
     ]
    }
   ],
   "source": [
    "print(Dataset1.info())"
   ]
  },
  {
   "cell_type": "code",
   "execution_count": 250,
   "id": "c60271a5",
   "metadata": {},
   "outputs": [
    {
     "name": "stdout",
     "output_type": "stream",
     "text": [
      "      Age     Sex  Bmi  Children Smoker     Region      Charges\n",
      "0      19  female   27         0    yes  southwest  16884.92400\n",
      "1      18    male   33         1     no  southeast   1725.55230\n",
      "2      28    male   33         3     no  southeast   4449.46200\n",
      "3      33    male   22         0     no  northwest  21984.47061\n",
      "4      32    male   28         0     no  northwest   3866.85520\n",
      "...   ...     ...  ...       ...    ...        ...          ...\n",
      "1333   50    male   30         3     no  northwest  10600.54830\n",
      "1334   18  female   31         0     no  northeast   2205.98080\n",
      "1335   18  female   36         0     no  southeast   1629.83350\n",
      "1336   21  female   25         0     no  southwest   2007.94500\n",
      "1337   61  female   29         0    yes  northwest  29141.36030\n",
      "\n",
      "[1338 rows x 7 columns]\n"
     ]
    }
   ],
   "source": [
    "Dataset1['Bmi'] = Dataset1['Bmi'].astype(int, errors='ignore')\n",
    "print(Dataset1)"
   ]
  },
  {
   "cell_type": "code",
   "execution_count": 251,
   "id": "685ff637",
   "metadata": {},
   "outputs": [
    {
     "name": "stdout",
     "output_type": "stream",
     "text": [
      "      Age     Sex   Bmi  Children Smoker     Region      Charges\n",
      "0      19  female  27.0         0    yes  southwest  16884.92400\n",
      "1      18    male  33.0         1     no  southeast   1725.55230\n",
      "2      28    male  33.0         3     no  southeast   4449.46200\n",
      "3      33    male  22.0         0     no  northwest  21984.47061\n",
      "4      32    male  28.0         0     no  northwest   3866.85520\n",
      "...   ...     ...   ...       ...    ...        ...          ...\n",
      "1333   50    male  30.0         3     no  northwest  10600.54830\n",
      "1334   18  female  31.0         0     no  northeast   2205.98080\n",
      "1335   18  female  36.0         0     no  southeast   1629.83350\n",
      "1336   21  female  25.0         0     no  southwest   2007.94500\n",
      "1337   61  female  29.0         0    yes  northwest  29141.36030\n",
      "\n",
      "[1338 rows x 7 columns]\n"
     ]
    }
   ],
   "source": [
    "Dataset1['Bmi'] = Dataset1['Bmi'].astype(float, errors='ignore')\n",
    "print(Dataset1)"
   ]
  },
  {
   "cell_type": "code",
   "execution_count": 252,
   "id": "409fbaad",
   "metadata": {},
   "outputs": [
    {
     "name": "stdout",
     "output_type": "stream",
     "text": [
      "      Age     Sex   Bmi  Children Smoker     Region      Charges\n",
      "0      19  female  27.0         0    yes  southwest  16884.92400\n",
      "1      18    male  33.0         1     no  southeast   1725.55230\n",
      "2      28    male  33.0         3     no  southeast   4449.46200\n",
      "3      33    male  22.0         0     no  northwest  21984.47061\n",
      "4      32    male  28.0         0     no  northwest   3866.85520\n",
      "...   ...     ...   ...       ...    ...        ...          ...\n",
      "1333   50    male  30.0         3     no  northwest  10600.54830\n",
      "1334   18  female  31.0         0     no  northeast   2205.98080\n",
      "1335   18  female  36.0         0     no  southeast   1629.83350\n",
      "1336   21  female  25.0         0     no  southwest   2007.94500\n",
      "1337   61  female  29.0         0    yes  northwest  29141.36030\n",
      "\n",
      "[1338 rows x 7 columns]\n"
     ]
    }
   ],
   "source": [
    "Dataset1['Sex'] = Dataset1['Sex'].astype('category')\n",
    "print(Dataset1)"
   ]
  },
  {
   "cell_type": "code",
   "execution_count": 253,
   "id": "92a1dccc",
   "metadata": {},
   "outputs": [
    {
     "name": "stdout",
     "output_type": "stream",
     "text": [
      "<class 'pandas.core.frame.DataFrame'>\n",
      "RangeIndex: 1338 entries, 0 to 1337\n",
      "Data columns (total 7 columns):\n",
      " #   Column    Non-Null Count  Dtype   \n",
      "---  ------    --------------  -----   \n",
      " 0   Age       1338 non-null   int64   \n",
      " 1   Sex       1338 non-null   category\n",
      " 2   Bmi       1338 non-null   float64 \n",
      " 3   Children  1338 non-null   int64   \n",
      " 4   Smoker    1338 non-null   object  \n",
      " 5   Region    1338 non-null   object  \n",
      " 6   Charges   1338 non-null   float64 \n",
      "dtypes: category(1), float64(2), int64(2), object(2)\n",
      "memory usage: 64.3+ KB\n",
      "None\n"
     ]
    }
   ],
   "source": [
    "print(Dataset1.info())"
   ]
  },
  {
   "cell_type": "code",
   "execution_count": 254,
   "id": "715d47d4",
   "metadata": {},
   "outputs": [
    {
     "name": "stdout",
     "output_type": "stream",
     "text": [
      "      Age     Sex   Bmi  Children Smoker     Region      Charges\n",
      "0      19  female  27.0         0    yes  southwest  16884.92400\n",
      "1      18    male  33.0         1     no  southeast   1725.55230\n",
      "2      28    male  33.0         3     no  southeast   4449.46200\n",
      "3      33    male  22.0         0     no  northwest  21984.47061\n",
      "4      32    male  28.0         0     no  northwest   3866.85520\n",
      "...   ...     ...   ...       ...    ...        ...          ...\n",
      "1333   50    male  30.0         3     no  northwest  10600.54830\n",
      "1334   18  female  31.0         0     no  northeast   2205.98080\n",
      "1335   18  female  36.0         0     no  southeast   1629.83350\n",
      "1336   21  female  25.0         0     no  southwest   2007.94500\n",
      "1337   61  female  29.0         0    yes  northwest  29141.36030\n",
      "\n",
      "[1338 rows x 7 columns]\n"
     ]
    }
   ],
   "source": [
    "Dataset1['Sex'] = Dataset1['Sex'].astype(str, errors='ignore')\n",
    "print(Dataset1)"
   ]
  },
  {
   "cell_type": "code",
   "execution_count": 255,
   "id": "07ca7aa5",
   "metadata": {},
   "outputs": [
    {
     "name": "stdout",
     "output_type": "stream",
     "text": [
      "<class 'pandas.core.frame.DataFrame'>\n",
      "RangeIndex: 1338 entries, 0 to 1337\n",
      "Data columns (total 7 columns):\n",
      " #   Column    Non-Null Count  Dtype  \n",
      "---  ------    --------------  -----  \n",
      " 0   Age       1338 non-null   int64  \n",
      " 1   Sex       1338 non-null   object \n",
      " 2   Bmi       1338 non-null   float64\n",
      " 3   Children  1338 non-null   int64  \n",
      " 4   Smoker    1338 non-null   object \n",
      " 5   Region    1338 non-null   object \n",
      " 6   Charges   1338 non-null   float64\n",
      "dtypes: float64(2), int64(2), object(3)\n",
      "memory usage: 73.3+ KB\n",
      "None\n"
     ]
    }
   ],
   "source": [
    "print(Dataset1.info())"
   ]
  },
  {
   "cell_type": "code",
   "execution_count": 256,
   "id": "99ab5d99",
   "metadata": {},
   "outputs": [
    {
     "name": "stdout",
     "output_type": "stream",
     "text": [
      "    Age     Sex   Bmi  Children Smoker     Region      Charges\n",
      "0    19  female  27.0         0    yes  southwest  16884.92400\n",
      "1    18    male  33.0         1     no  southeast   1725.55230\n",
      "2    28    male  33.0         3     no  southeast   4449.46200\n",
      "3    33    male  22.0         0     no  northwest  21984.47061\n",
      "4    32    male  28.0         0     no  northwest   3866.85520\n",
      "5    50    male  30.0         3     no  northwest  10600.54830\n",
      "6    18  female  31.0         0     no  northeast   2205.98080\n",
      "7    18  female  36.0         0     no  southeast   1629.83350\n",
      "8    21  female  25.0         0     no  southwest   2007.94500\n",
      "9    61  female  29.0         0    yes  northwest  29141.36030\n",
      "10   51    male  31.0         0     no  northwest   9174.13565\n",
      "11   56  female  25.0         0     no  southwest  11070.53500\n",
      "12   64  female  39.0         3     no  southeast  16085.12750\n",
      "13   19  female  28.0         0    yes  northwest  17468.98390\n",
      "14   51  female  34.0         0     no  southeast   9283.56200\n"
     ]
    }
   ],
   "source": [
    "top = Dataset1.head()\n",
    "bottom = Dataset1.tail()\n",
    "random = Dataset1[601:606]\n",
    "a_new_datset = pd.concat([top,bottom,random], ignore_index=True)\n",
    "print(a_new_datset)"
   ]
  },
  {
   "cell_type": "code",
   "execution_count": 257,
   "id": "d63192d5",
   "metadata": {},
   "outputs": [
    {
     "name": "stdout",
     "output_type": "stream",
     "text": [
      "   AGE     SEX   BMI  CHILDREN  SMOKER     REGION     CHARGES  Age     Sex  \\\n",
      "0   21  female  25.0         0      no  southwest   2007.9450   19  female   \n",
      "1   61  female  29.0         0     yes  northwest  29141.3603   18    male   \n",
      "\n",
      "    Bmi  ...  Smoker     Region     Charges  AGE   SEX   BMI  CHILDREN  \\\n",
      "0  27.0  ...     yes  southwest  16884.9240   24  male  32.0         0   \n",
      "1  33.0  ...      no  southeast   1725.5523   24  male  25.0         0   \n",
      "\n",
      "   SMOKER     REGION    Charges  \n",
      "0     yes  southwest  34472.841  \n",
      "1      no  southwest   1972.950  \n",
      "\n",
      "[2 rows x 21 columns]\n"
     ]
    }
   ],
   "source": [
    "change_bottom = Dataset1.tail(2).rename(columns={\n",
    "    'Age':'AGE',\n",
    "    'Sex':'SEX',\n",
    "    'Bmi':'BMI',\n",
    "    'Children':'CHILDREN',\n",
    "    'Smoker':'SMOKER',\n",
    "    'Region':'REGION',\n",
    "    'Charges':'CHARGES'\n",
    "    })\n",
    "change_bottom = change_bottom.reset_index(drop=True)\n",
    "change_top = Dataset1.head(2)\n",
    "change_top = change_top.reset_index(drop=True)\n",
    "change_center = Dataset1[1001:1003].rename(columns={\n",
    "    'Age':'AGE',\n",
    "    'Sex':'SEX',\n",
    "    'Bmi':'BMI',\n",
    "    'Children':'CHILDREN',\n",
    "    'Smoker':'SMOKER',\n",
    "    'Region':'REGION',\n",
    "})\n",
    "change_center = change_center.reset_index(drop=True)\n",
    "b_new_set = pd.concat([change_bottom, change_top, change_center], axis=1)\n",
    "print(b_new_set)"
   ]
  },
  {
   "cell_type": "code",
   "execution_count": 258,
   "id": "4aea2e9e",
   "metadata": {},
   "outputs": [
    {
     "name": "stdout",
     "output_type": "stream",
     "text": [
      "[0.44602732 0.13906016 0.22285551 0.67395952 0.48064831 0.11218272]\n",
      "[0.62542304 0.47072537 0.10650842 0.81176556 0.05996213 0.27735229]\n",
      "[0.4143528  0.67043222 0.62818155 0.09024767 0.83185754 0.1466481 ]\n",
      "[0.19834694 0.53685918 0.79625119 0.40910954 0.18682742 0.1930606 ]\n",
      "[0.3771862  0.03983944 0.81340671 0.26799025 0.63852303 0.99276433]\n",
      "[0.20991118 0.37141387 0.88025573 0.05994027 0.68450162 0.79316652]\n",
      "[0.95587841 0.30365178 0.38887372 0.86681118 0.21659002 0.13638578]\n",
      "[0.09826163 0.42133565 0.12362431 0.41809041 0.17089938 0.98388363]\n",
      "[0.34318779 0.31716822 0.10009542 0.93609452 0.76545493 0.97699354]\n",
      "[0.99160031 0.97866556 0.70622665 0.34600627 0.4641167  0.22751979]\n"
     ]
    }
   ],
   "source": [
    "import numpy as np\n",
    "randomly = np.random.rand(10,6)\n",
    "for i in randomly:\n",
    "    print(i)"
   ]
  },
  {
   "cell_type": "code",
   "execution_count": 259,
   "id": "92237fe7",
   "metadata": {},
   "outputs": [
    {
     "name": "stdout",
     "output_type": "stream",
     "text": [
      "          0         1         2         3         4         5\n",
      "0       NaN       NaN  0.071680       NaN  0.554177       NaN\n",
      "1  0.123551       NaN  0.671472       NaN       NaN       NaN\n",
      "2       NaN  0.017741       NaN       NaN  0.477433  0.872990\n",
      "3  0.388356  0.174776       NaN  0.222698       NaN       NaN\n",
      "4       NaN       NaN       NaN  0.183137       NaN  0.523432\n",
      "5  0.824067  0.807897  0.809777  0.222370  0.922036  0.733477\n",
      "6  0.050082  0.409725  0.972862  0.093514  0.059775  0.601934\n",
      "7  0.693163  0.904394  0.416228  0.291507  0.762494  0.639662\n",
      "8  0.698785  0.627949  0.001669  0.099050  0.807246  0.468685\n",
      "9  0.081800  0.811929  0.396249  0.415496  0.452978  0.262386\n"
     ]
    }
   ],
   "source": [
    "import pandas as pd\n",
    "import numpy as np\n",
    "random_col = np.random.rand(10,6)\n",
    "for i in range(random_col.shape[1]):\n",
    "    nan_value = np.random.choice(5,3, replace=False)\n",
    "    random_col[nan_value, i] = np.nan\n",
    "    data_f = pd.DataFrame(random_col)\n",
    "print(data_f)"
   ]
  },
  {
   "cell_type": "code",
   "execution_count": 260,
   "id": "71de51f8",
   "metadata": {},
   "outputs": [
    {
     "name": "stdout",
     "output_type": "stream",
     "text": [
      "       col1      col2      col3      col4      col5      col6\n",
      "0       NaN       NaN  0.071680       NaN  0.554177       NaN\n",
      "1  0.123551       NaN  0.671472       NaN       NaN       NaN\n",
      "2       NaN  0.017741       NaN       NaN  0.477433  0.872990\n",
      "3  0.388356  0.174776       NaN  0.222698       NaN       NaN\n",
      "4       NaN       NaN       NaN  0.183137       NaN  0.523432\n",
      "5  0.824067  0.807897  0.809777  0.222370  0.922036  0.733477\n",
      "6  0.050082  0.409725  0.972862  0.093514  0.059775  0.601934\n",
      "7  0.693163  0.904394  0.416228  0.291507  0.762494  0.639662\n",
      "8  0.698785  0.627949  0.001669  0.099050  0.807246  0.468685\n",
      "9  0.081800  0.811929  0.396249  0.415496  0.452978  0.262386\n"
     ]
    }
   ],
   "source": [
    "data_f.columns=['col1','col2','col3','col4','col5','col6']\n",
    "print(data_f)"
   ]
  },
  {
   "cell_type": "code",
   "execution_count": 261,
   "id": "a910f1df",
   "metadata": {},
   "outputs": [
    {
     "name": "stdout",
     "output_type": "stream",
     "text": [
      "          0         1         2\n",
      "0       NaN  0.554095  0.551424\n",
      "1  0.716360       NaN       NaN\n",
      "2       NaN       NaN       NaN\n",
      "3  0.031832  0.988271  0.782672\n",
      "4  0.131056  0.589050  0.760480\n",
      "5  0.437897  0.149703  0.836903\n"
     ]
    }
   ],
   "source": [
    "individual = np.random.rand(6,3)\n",
    "#print(individual)\n",
    "for y in range(individual.shape[1]):\n",
    "    #print(y)\n",
    "    nan_indi = np.random.choice(3,2, replace=False)\n",
    "    individual[nan_indi, y] = np.nan\n",
    "    data_frame = pd.DataFrame(individual)\n",
    "print(data_frame)\n"
   ]
  },
  {
   "cell_type": "code",
   "execution_count": 262,
   "id": "8a2810b7",
   "metadata": {},
   "outputs": [
    {
     "name": "stdout",
     "output_type": "stream",
     "text": [
      "       col1      col2      col3\n",
      "0       NaN  0.554095  0.551424\n",
      "1  0.716360       NaN       NaN\n",
      "2       NaN       NaN       NaN\n",
      "3  0.031832  0.988271  0.782672\n",
      "4  0.131056  0.589050  0.760480\n",
      "5  0.437897  0.149703  0.836903\n"
     ]
    }
   ],
   "source": [
    "data_frame.columns=['col1','col2','col3']\n",
    "print(data_frame)"
   ]
  },
  {
   "cell_type": "code",
   "execution_count": 263,
   "id": "1aa660f2",
   "metadata": {},
   "outputs": [],
   "source": [
    "data_frame1 = data_frame.copy()\n",
    "data_frame2 = data_frame.copy()\n",
    "data_frame3 = data_frame.copy()\n",
    "data_frame4 = data_frame.copy()\n",
    "data_frame5 = data_frame.copy()\n",
    "data_frame6 = data_frame.copy()\n",
    "data_frame7 = data_frame.copy()\n",
    "data_frame8 = data_frame.copy()"
   ]
  },
  {
   "cell_type": "code",
   "execution_count": 264,
   "id": "57cc1652",
   "metadata": {},
   "outputs": [
    {
     "name": "stdout",
     "output_type": "stream",
     "text": [
      "       col1      col2      col3\n",
      "3  0.031832  0.988271  0.782672\n",
      "4  0.131056  0.589050  0.760480\n",
      "5  0.437897  0.149703  0.836903\n"
     ]
    }
   ],
   "source": [
    "new_data1 = data_frame.dropna()\n",
    "print(new_data1)"
   ]
  },
  {
   "cell_type": "code",
   "execution_count": 265,
   "id": "a65ad4e2",
   "metadata": {},
   "outputs": [
    {
     "name": "stdout",
     "output_type": "stream",
     "text": [
      "       col2      col3\n",
      "0  0.554095  0.551424\n",
      "1       NaN       NaN\n",
      "2       NaN       NaN\n",
      "3  0.988271  0.782672\n",
      "4  0.589050  0.760480\n",
      "5  0.149703  0.836903\n"
     ]
    }
   ],
   "source": [
    "data_frame.drop('col1', axis=1, inplace=True)\n",
    "print(data_frame)"
   ]
  },
  {
   "cell_type": "code",
   "execution_count": 266,
   "id": "e8240e1c",
   "metadata": {},
   "outputs": [
    {
     "name": "stdout",
     "output_type": "stream",
     "text": [
      "       col3\n",
      "0  0.551424\n",
      "1       NaN\n",
      "2       NaN\n",
      "3  0.782672\n",
      "4  0.760480\n",
      "5  0.836903\n"
     ]
    }
   ],
   "source": [
    "data_frame1.drop(['col1','col2'], axis=1, inplace=True)\n",
    "print(data_frame1)"
   ]
  },
  {
   "cell_type": "code",
   "execution_count": 272,
   "id": "b4107bdc",
   "metadata": {},
   "outputs": [
    {
     "name": "stdout",
     "output_type": "stream",
     "text": [
      "       col1      col2      col3\n",
      "0  6.000000  0.554095  0.551424\n",
      "1  0.716360  6.000000  6.000000\n",
      "2  6.000000  6.000000  6.000000\n",
      "3  0.031832  0.988271  0.782672\n",
      "4  0.131056  0.589050  0.760480\n",
      "5  0.437897  0.149703  0.836903\n"
     ]
    }
   ],
   "source": [
    "data_frame2.fillna(6, inplace=True)\n",
    "print(data_frame2)"
   ]
  },
  {
   "cell_type": "code",
   "execution_count": 278,
   "id": "0f036967",
   "metadata": {},
   "outputs": [
    {
     "name": "stdout",
     "output_type": "stream",
     "text": [
      "       col1      col2      col3\n",
      "0  0.554095  0.554095  0.551424\n",
      "1  3.000000       NaN       NaN\n",
      "2  3.000000       NaN       NaN\n",
      "3  0.988271  0.988271  0.782672\n",
      "4  0.589050  0.589050  0.760480\n",
      "5  0.149703  0.149703  0.836903\n"
     ]
    }
   ],
   "source": [
    "data_frame3['col1'] = data_frame3['col2'].fillna(3)\n",
    "print(data_frame3)"
   ]
  },
  {
   "cell_type": "code",
   "execution_count": 286,
   "id": "1c64a98c",
   "metadata": {},
   "outputs": [
    {
     "name": "stdout",
     "output_type": "stream",
     "text": [
      "       col1      col2      col3\n",
      "0  0.554095  0.554095  0.551424\n",
      "1  3.000000  0.570280       NaN\n",
      "2  3.000000  0.570280       NaN\n",
      "3  0.988271  0.988271  0.782672\n",
      "4  0.589050  0.589050  0.760480\n",
      "5  0.149703  0.149703  0.836903\n"
     ]
    }
   ],
   "source": [
    "data_frame3['col2'] = data_frame3['col2'].fillna(data_frame3['col2'].mean())\n",
    "print(data_frame3)"
   ]
  },
  {
   "cell_type": "code",
   "execution_count": 288,
   "id": "a7abf607",
   "metadata": {},
   "outputs": [
    {
     "name": "stdout",
     "output_type": "stream",
     "text": [
      "       col1      col2      col3\n",
      "0  0.554095  0.554095  0.551424\n",
      "1  3.000000  0.570280  0.836903\n",
      "2  3.000000  0.570280  0.836903\n",
      "3  0.988271  0.988271  0.782672\n",
      "4  0.589050  0.589050  0.760480\n",
      "5  0.149703  0.149703  0.836903\n"
     ]
    }
   ],
   "source": [
    "data_frame3['col3'] = data_frame3['col3'].fillna(data_frame3['col3'].max())\n",
    "print(data_frame3)"
   ]
  }
 ],
 "metadata": {
  "kernelspec": {
   "display_name": "Python 3",
   "language": "python",
   "name": "python3"
  },
  "language_info": {
   "codemirror_mode": {
    "name": "ipython",
    "version": 3
   },
   "file_extension": ".py",
   "mimetype": "text/x-python",
   "name": "python",
   "nbconvert_exporter": "python",
   "pygments_lexer": "ipython3",
   "version": "3.11.4"
  }
 },
 "nbformat": 4,
 "nbformat_minor": 5
}
