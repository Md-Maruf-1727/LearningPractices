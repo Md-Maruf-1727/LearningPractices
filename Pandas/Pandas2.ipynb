{
 "cells": [
  {
   "cell_type": "code",
   "execution_count": 2,
   "id": "c5aebdc0",
   "metadata": {},
   "outputs": [],
   "source": [
    "#info,index,column,rename,axis,astype,concate,condition,ignor_index,random row-column, shape[]\n",
    "#replace with nun-non-null value, head(), tail(), fillna(), dropna(), drop, inplace(), max\n",
    "#min,mean, quantile, median"
   ]
  },
  {
   "cell_type": "code",
   "execution_count": 72,
   "id": "fca01fdb",
   "metadata": {},
   "outputs": [
    {
     "name": "stdout",
     "output_type": "stream",
     "text": [
      "      age     sex     bmi  children smoker     region      charges\n",
      "0      19  female  27.900         0    yes  southwest  16884.92400\n",
      "1      18    male  33.770         1     no  southeast   1725.55230\n",
      "2      28    male  33.000         3     no  southeast   4449.46200\n",
      "3      33    male  22.705         0     no  northwest  21984.47061\n",
      "4      32    male  28.880         0     no  northwest   3866.85520\n",
      "...   ...     ...     ...       ...    ...        ...          ...\n",
      "1333   50    male  30.970         3     no  northwest  10600.54830\n",
      "1334   18  female  31.920         0     no  northeast   2205.98080\n",
      "1335   18  female  36.850         0     no  southeast   1629.83350\n",
      "1336   21  female  25.800         0     no  southwest   2007.94500\n",
      "1337   61  female  29.070         0    yes  northwest  29141.36030\n",
      "\n",
      "[1338 rows x 7 columns]\n"
     ]
    }
   ],
   "source": [
    "import pandas as pd\n",
    "import numpy as np\n",
    "Dataset1 = pd.read_csv('insurance (1).csv')\n",
    "print(Dataset1)\n"
   ]
  },
  {
   "cell_type": "code",
   "execution_count": 76,
   "id": "972887db",
   "metadata": {},
   "outputs": [],
   "source": [
    "Dataset_frame1 = Dataset1.copy()\n",
    "Dataset_frame2 = Dataset1.copy()\n",
    "Dataset_frame3 = Dataset1.copy()\n",
    "Dataset_frame4 = Dataset1.copy()\n",
    "Dataset_frame5 = Dataset1.copy()\n",
    "Dataset_frame6 = Dataset1.copy()"
   ]
  },
  {
   "cell_type": "code",
   "execution_count": 4,
   "id": "19ef12c7",
   "metadata": {},
   "outputs": [
    {
     "name": "stdout",
     "output_type": "stream",
     "text": [
      "<class 'pandas.core.frame.DataFrame'>\n",
      "RangeIndex: 1338 entries, 0 to 1337\n",
      "Data columns (total 7 columns):\n",
      " #   Column    Non-Null Count  Dtype  \n",
      "---  ------    --------------  -----  \n",
      " 0   age       1338 non-null   int64  \n",
      " 1   sex       1338 non-null   object \n",
      " 2   bmi       1338 non-null   float64\n",
      " 3   children  1338 non-null   int64  \n",
      " 4   smoker    1338 non-null   object \n",
      " 5   region    1338 non-null   object \n",
      " 6   charges   1338 non-null   float64\n",
      "dtypes: float64(2), int64(2), object(3)\n",
      "memory usage: 73.3+ KB\n",
      "None\n"
     ]
    }
   ],
   "source": [
    "print(Dataset1.info())"
   ]
  },
  {
   "cell_type": "code",
   "execution_count": 5,
   "id": "ccbeb310",
   "metadata": {},
   "outputs": [
    {
     "name": "stdout",
     "output_type": "stream",
     "text": [
      "age           int64\n",
      "sex          object\n",
      "bmi         float64\n",
      "children      int64\n",
      "smoker       object\n",
      "region       object\n",
      "charges     float64\n",
      "dtype: object\n"
     ]
    }
   ],
   "source": [
    "print(Dataset1.dtypes)"
   ]
  },
  {
   "cell_type": "code",
   "execution_count": 6,
   "id": "203db17a",
   "metadata": {},
   "outputs": [
    {
     "name": "stdout",
     "output_type": "stream",
     "text": [
      "    age     sex     bmi  children smoker     region      charges\n",
      "60   43    male  27.360         3     no  northeast   8606.21740\n",
      "70   27  female  24.750         0    yes  southeast  16577.77950\n",
      "80   31    male  26.885         1     no  northeast   4441.21315\n",
      "90   21  female  39.490         0     no  southeast   2026.97410\n"
     ]
    }
   ],
   "source": [
    "alldata = pd.DataFrame(Dataset1, index=[60,70,80,90])\n",
    "print(alldata)"
   ]
  },
  {
   "cell_type": "code",
   "execution_count": 7,
   "id": "de1850b1",
   "metadata": {},
   "outputs": [],
   "source": [
    "#alldata = pd.DataFrame(Dataset1, index=[41:51])\n",
    "#print(alldata)                                         don't do this"
   ]
  },
  {
   "cell_type": "code",
   "execution_count": 8,
   "id": "23f5f035",
   "metadata": {},
   "outputs": [
    {
     "name": "stdout",
     "output_type": "stream",
     "text": [
      "   age     sex     bmi  children smoker     region      charges\n",
      "0   19  female  27.900         0    yes  southwest  16884.92400\n",
      "1   18    male  33.770         1     no  southeast   1725.55230\n",
      "2   28    male  33.000         3     no  southeast   4449.46200\n",
      "3   33    male  22.705         0     no  northwest  21984.47061\n",
      "4   32    male  28.880         0     no  northwest   3866.85520\n"
     ]
    }
   ],
   "source": [
    "print(Dataset1.head())"
   ]
  },
  {
   "cell_type": "code",
   "execution_count": 9,
   "id": "9950f7db",
   "metadata": {},
   "outputs": [
    {
     "name": "stdout",
     "output_type": "stream",
     "text": [
      "   age     sex    bmi  children smoker     region     charges\n",
      "0   19  female  27.90         0    yes  southwest  16884.9240\n",
      "1   18    male  33.77         1     no  southeast   1725.5523\n",
      "2   28    male  33.00         3     no  southeast   4449.4620\n"
     ]
    }
   ],
   "source": [
    "print(Dataset1.head(3))"
   ]
  },
  {
   "cell_type": "code",
   "execution_count": 10,
   "id": "23e7b5c5",
   "metadata": {},
   "outputs": [
    {
     "name": "stdout",
     "output_type": "stream",
     "text": [
      "      age     sex    bmi  children smoker     region     charges\n",
      "1333   50    male  30.97         3     no  northwest  10600.5483\n",
      "1334   18  female  31.92         0     no  northeast   2205.9808\n",
      "1335   18  female  36.85         0     no  southeast   1629.8335\n",
      "1336   21  female  25.80         0     no  southwest   2007.9450\n",
      "1337   61  female  29.07         0    yes  northwest  29141.3603\n"
     ]
    }
   ],
   "source": [
    "print(Dataset1.tail())"
   ]
  },
  {
   "cell_type": "code",
   "execution_count": 11,
   "id": "70d08604",
   "metadata": {},
   "outputs": [
    {
     "name": "stdout",
     "output_type": "stream",
     "text": [
      "      age     sex    bmi  children smoker     region     charges\n",
      "1334   18  female  31.92         0     no  northeast   2205.9808\n",
      "1335   18  female  36.85         0     no  southeast   1629.8335\n",
      "1336   21  female  25.80         0     no  southwest   2007.9450\n",
      "1337   61  female  29.07         0    yes  northwest  29141.3603\n"
     ]
    }
   ],
   "source": [
    "print(Dataset1.tail(4))"
   ]
  },
  {
   "cell_type": "code",
   "execution_count": 12,
   "id": "5afdc1d6",
   "metadata": {},
   "outputs": [
    {
     "name": "stdout",
     "output_type": "stream",
     "text": [
      "     age     sex     bmi  children smoker     region      charges\n",
      "101   30    male  25.460         0     no  northeast   3645.08940\n",
      "102   18  female  30.115         0     no  northeast  21344.84670\n",
      "103   61  female  29.920         3    yes  southeast  30942.19180\n",
      "104   34  female  27.500         1     no  southwest   5003.85300\n",
      "105   20    male  28.025         1    yes  northwest  17560.37975\n",
      "..   ...     ...     ...       ...    ...        ...          ...\n",
      "196   39  female  32.800         0     no  southwest   5649.71500\n",
      "197   45  female  28.600         2     no  southeast   8516.82900\n",
      "198   51  female  18.050         0     no  northwest   9644.25250\n",
      "199   64  female  39.330         0     no  northeast  14901.51670\n",
      "200   19  female  32.110         0     no  northwest   2130.67590\n",
      "\n",
      "[100 rows x 7 columns]\n"
     ]
    }
   ],
   "source": [
    "print(Dataset1[101:201])"
   ]
  },
  {
   "cell_type": "code",
   "execution_count": 13,
   "id": "f3a2035c",
   "metadata": {},
   "outputs": [
    {
     "name": "stdout",
     "output_type": "stream",
     "text": [
      "      Age     Sex     Bmi  Children Smoker     Region      Charges\n",
      "0      19  female  27.900         0    yes  southwest  16884.92400\n",
      "1      18    male  33.770         1     no  southeast   1725.55230\n",
      "2      28    male  33.000         3     no  southeast   4449.46200\n",
      "3      33    male  22.705         0     no  northwest  21984.47061\n",
      "4      32    male  28.880         0     no  northwest   3866.85520\n",
      "...   ...     ...     ...       ...    ...        ...          ...\n",
      "1333   50    male  30.970         3     no  northwest  10600.54830\n",
      "1334   18  female  31.920         0     no  northeast   2205.98080\n",
      "1335   18  female  36.850         0     no  southeast   1629.83350\n",
      "1336   21  female  25.800         0     no  southwest   2007.94500\n",
      "1337   61  female  29.070         0    yes  northwest  29141.36030\n",
      "\n",
      "[1338 rows x 7 columns]\n"
     ]
    }
   ],
   "source": [
    "#column Rename\n",
    "#Dataset1.rename(columns=['Age','Sex','Bmi','Children','Smoker','Region','Charges'], inplace=True) X Don't\n",
    "Dataset1.rename({'age':'Age','sex':'Sex','bmi':'Bmi','children':'Children','smoker':'Smoker','region':'Region','charges':'Charges'}, axis=1, inplace=True)\n",
    "print(Dataset1)"
   ]
  },
  {
   "cell_type": "code",
   "execution_count": 14,
   "id": "39f1214e",
   "metadata": {},
   "outputs": [],
   "source": [
    "#new_dataset = pd.DataFrame(Dataset1, columns=['AGE','SEX','BMI','CHILDREN','SMOKER','REGION','CHARGES'])\n",
    "#print(new_dataset) x DON'T"
   ]
  },
  {
   "cell_type": "code",
   "execution_count": 15,
   "id": "443651fc",
   "metadata": {},
   "outputs": [
    {
     "data": {
      "text/plain": [
       "61    southeast\n",
       "62    northwest\n",
       "63    northwest\n",
       "64    northwest\n",
       "65    southwest\n",
       "66    southwest\n",
       "67    northwest\n",
       "68    southeast\n",
       "69    southeast\n",
       "70    southeast\n",
       "Name: Region, dtype: object"
      ]
     },
     "execution_count": 15,
     "metadata": {},
     "output_type": "execute_result"
    }
   ],
   "source": [
    "Dataset1['Region'][61:71]"
   ]
  },
  {
   "cell_type": "code",
   "execution_count": 16,
   "id": "4d843364",
   "metadata": {},
   "outputs": [
    {
     "name": "stdout",
     "output_type": "stream",
     "text": [
      "     Age     Sex     Bmi  Children Smoker     Region      Charges\n",
      "0     19  female  27.900         0    yes  southwest  16884.92400\n",
      "1     18    male  33.770         1     no  southeast   1725.55230\n",
      "2     28    male  33.000         3     no  southeast   4449.46200\n",
      "3     33    male  22.705         0     no  northwest  21984.47061\n",
      "4     32    male  28.880         0     no  northwest   3866.85520\n",
      "...   ..     ...     ...       ...    ...        ...          ...\n",
      "1333  50    male  30.970         3     no  northwest  10600.54830\n",
      "1334  18  female  31.920         0     no  northeast   2205.98080\n",
      "1335  18  female  36.850         0     no  southeast   1629.83350\n",
      "1336  21  female  25.800         0     no  southwest   2007.94500\n",
      "1337  61  female  29.070         0    yes  northwest  29141.36030\n",
      "\n",
      "[1338 rows x 7 columns]\n"
     ]
    }
   ],
   "source": [
    "Dataset1['Age'] = Dataset1['Age'].astype(str, errors='ignore')\n",
    "print(Dataset1)"
   ]
  },
  {
   "cell_type": "code",
   "execution_count": 17,
   "id": "a5550505",
   "metadata": {},
   "outputs": [
    {
     "name": "stdout",
     "output_type": "stream",
     "text": [
      "<class 'pandas.core.frame.DataFrame'>\n",
      "RangeIndex: 1338 entries, 0 to 1337\n",
      "Data columns (total 7 columns):\n",
      " #   Column    Non-Null Count  Dtype  \n",
      "---  ------    --------------  -----  \n",
      " 0   Age       1338 non-null   object \n",
      " 1   Sex       1338 non-null   object \n",
      " 2   Bmi       1338 non-null   float64\n",
      " 3   Children  1338 non-null   int64  \n",
      " 4   Smoker    1338 non-null   object \n",
      " 5   Region    1338 non-null   object \n",
      " 6   Charges   1338 non-null   float64\n",
      "dtypes: float64(2), int64(1), object(4)\n",
      "memory usage: 73.3+ KB\n",
      "None\n"
     ]
    }
   ],
   "source": [
    "print(Dataset1.info())"
   ]
  },
  {
   "cell_type": "code",
   "execution_count": 18,
   "id": "dd934861",
   "metadata": {},
   "outputs": [
    {
     "name": "stdout",
     "output_type": "stream",
     "text": [
      "      Age     Sex     Bmi  Children Smoker     Region      Charges\n",
      "0      19  female  27.900         0    yes  southwest  16884.92400\n",
      "1      18    male  33.770         1     no  southeast   1725.55230\n",
      "2      28    male  33.000         3     no  southeast   4449.46200\n",
      "3      33    male  22.705         0     no  northwest  21984.47061\n",
      "4      32    male  28.880         0     no  northwest   3866.85520\n",
      "...   ...     ...     ...       ...    ...        ...          ...\n",
      "1333   50    male  30.970         3     no  northwest  10600.54830\n",
      "1334   18  female  31.920         0     no  northeast   2205.98080\n",
      "1335   18  female  36.850         0     no  southeast   1629.83350\n",
      "1336   21  female  25.800         0     no  southwest   2007.94500\n",
      "1337   61  female  29.070         0    yes  northwest  29141.36030\n",
      "\n",
      "[1338 rows x 7 columns]\n"
     ]
    }
   ],
   "source": [
    "Dataset1['Age'] = Dataset1['Age'].astype(int, errors='ignore')\n",
    "print(Dataset1)"
   ]
  },
  {
   "cell_type": "code",
   "execution_count": 19,
   "id": "b622c99c",
   "metadata": {},
   "outputs": [
    {
     "name": "stdout",
     "output_type": "stream",
     "text": [
      "<class 'pandas.core.frame.DataFrame'>\n",
      "RangeIndex: 1338 entries, 0 to 1337\n",
      "Data columns (total 7 columns):\n",
      " #   Column    Non-Null Count  Dtype  \n",
      "---  ------    --------------  -----  \n",
      " 0   Age       1338 non-null   int64  \n",
      " 1   Sex       1338 non-null   object \n",
      " 2   Bmi       1338 non-null   float64\n",
      " 3   Children  1338 non-null   int64  \n",
      " 4   Smoker    1338 non-null   object \n",
      " 5   Region    1338 non-null   object \n",
      " 6   Charges   1338 non-null   float64\n",
      "dtypes: float64(2), int64(2), object(3)\n",
      "memory usage: 73.3+ KB\n",
      "None\n"
     ]
    }
   ],
   "source": [
    "print(Dataset1.info())"
   ]
  },
  {
   "cell_type": "code",
   "execution_count": 20,
   "id": "c60271a5",
   "metadata": {},
   "outputs": [
    {
     "name": "stdout",
     "output_type": "stream",
     "text": [
      "      Age     Sex  Bmi  Children Smoker     Region      Charges\n",
      "0      19  female   27         0    yes  southwest  16884.92400\n",
      "1      18    male   33         1     no  southeast   1725.55230\n",
      "2      28    male   33         3     no  southeast   4449.46200\n",
      "3      33    male   22         0     no  northwest  21984.47061\n",
      "4      32    male   28         0     no  northwest   3866.85520\n",
      "...   ...     ...  ...       ...    ...        ...          ...\n",
      "1333   50    male   30         3     no  northwest  10600.54830\n",
      "1334   18  female   31         0     no  northeast   2205.98080\n",
      "1335   18  female   36         0     no  southeast   1629.83350\n",
      "1336   21  female   25         0     no  southwest   2007.94500\n",
      "1337   61  female   29         0    yes  northwest  29141.36030\n",
      "\n",
      "[1338 rows x 7 columns]\n"
     ]
    }
   ],
   "source": [
    "Dataset1['Bmi'] = Dataset1['Bmi'].astype(int, errors='ignore')\n",
    "print(Dataset1)"
   ]
  },
  {
   "cell_type": "code",
   "execution_count": 21,
   "id": "685ff637",
   "metadata": {},
   "outputs": [
    {
     "name": "stdout",
     "output_type": "stream",
     "text": [
      "      Age     Sex   Bmi  Children Smoker     Region      Charges\n",
      "0      19  female  27.0         0    yes  southwest  16884.92400\n",
      "1      18    male  33.0         1     no  southeast   1725.55230\n",
      "2      28    male  33.0         3     no  southeast   4449.46200\n",
      "3      33    male  22.0         0     no  northwest  21984.47061\n",
      "4      32    male  28.0         0     no  northwest   3866.85520\n",
      "...   ...     ...   ...       ...    ...        ...          ...\n",
      "1333   50    male  30.0         3     no  northwest  10600.54830\n",
      "1334   18  female  31.0         0     no  northeast   2205.98080\n",
      "1335   18  female  36.0         0     no  southeast   1629.83350\n",
      "1336   21  female  25.0         0     no  southwest   2007.94500\n",
      "1337   61  female  29.0         0    yes  northwest  29141.36030\n",
      "\n",
      "[1338 rows x 7 columns]\n"
     ]
    }
   ],
   "source": [
    "Dataset1['Bmi'] = Dataset1['Bmi'].astype(float, errors='ignore')\n",
    "print(Dataset1)"
   ]
  },
  {
   "cell_type": "code",
   "execution_count": 22,
   "id": "409fbaad",
   "metadata": {},
   "outputs": [
    {
     "name": "stdout",
     "output_type": "stream",
     "text": [
      "      Age     Sex   Bmi  Children Smoker     Region      Charges\n",
      "0      19  female  27.0         0    yes  southwest  16884.92400\n",
      "1      18    male  33.0         1     no  southeast   1725.55230\n",
      "2      28    male  33.0         3     no  southeast   4449.46200\n",
      "3      33    male  22.0         0     no  northwest  21984.47061\n",
      "4      32    male  28.0         0     no  northwest   3866.85520\n",
      "...   ...     ...   ...       ...    ...        ...          ...\n",
      "1333   50    male  30.0         3     no  northwest  10600.54830\n",
      "1334   18  female  31.0         0     no  northeast   2205.98080\n",
      "1335   18  female  36.0         0     no  southeast   1629.83350\n",
      "1336   21  female  25.0         0     no  southwest   2007.94500\n",
      "1337   61  female  29.0         0    yes  northwest  29141.36030\n",
      "\n",
      "[1338 rows x 7 columns]\n"
     ]
    }
   ],
   "source": [
    "Dataset1['Sex'] = Dataset1['Sex'].astype('category')\n",
    "print(Dataset1)"
   ]
  },
  {
   "cell_type": "code",
   "execution_count": 23,
   "id": "92a1dccc",
   "metadata": {},
   "outputs": [
    {
     "name": "stdout",
     "output_type": "stream",
     "text": [
      "<class 'pandas.core.frame.DataFrame'>\n",
      "RangeIndex: 1338 entries, 0 to 1337\n",
      "Data columns (total 7 columns):\n",
      " #   Column    Non-Null Count  Dtype   \n",
      "---  ------    --------------  -----   \n",
      " 0   Age       1338 non-null   int64   \n",
      " 1   Sex       1338 non-null   category\n",
      " 2   Bmi       1338 non-null   float64 \n",
      " 3   Children  1338 non-null   int64   \n",
      " 4   Smoker    1338 non-null   object  \n",
      " 5   Region    1338 non-null   object  \n",
      " 6   Charges   1338 non-null   float64 \n",
      "dtypes: category(1), float64(2), int64(2), object(2)\n",
      "memory usage: 64.3+ KB\n",
      "None\n"
     ]
    }
   ],
   "source": [
    "print(Dataset1.info())"
   ]
  },
  {
   "cell_type": "code",
   "execution_count": 24,
   "id": "715d47d4",
   "metadata": {},
   "outputs": [
    {
     "name": "stdout",
     "output_type": "stream",
     "text": [
      "      Age     Sex   Bmi  Children Smoker     Region      Charges\n",
      "0      19  female  27.0         0    yes  southwest  16884.92400\n",
      "1      18    male  33.0         1     no  southeast   1725.55230\n",
      "2      28    male  33.0         3     no  southeast   4449.46200\n",
      "3      33    male  22.0         0     no  northwest  21984.47061\n",
      "4      32    male  28.0         0     no  northwest   3866.85520\n",
      "...   ...     ...   ...       ...    ...        ...          ...\n",
      "1333   50    male  30.0         3     no  northwest  10600.54830\n",
      "1334   18  female  31.0         0     no  northeast   2205.98080\n",
      "1335   18  female  36.0         0     no  southeast   1629.83350\n",
      "1336   21  female  25.0         0     no  southwest   2007.94500\n",
      "1337   61  female  29.0         0    yes  northwest  29141.36030\n",
      "\n",
      "[1338 rows x 7 columns]\n"
     ]
    }
   ],
   "source": [
    "Dataset1['Sex'] = Dataset1['Sex'].astype(str, errors='ignore')\n",
    "print(Dataset1)"
   ]
  },
  {
   "cell_type": "code",
   "execution_count": 25,
   "id": "07ca7aa5",
   "metadata": {},
   "outputs": [
    {
     "name": "stdout",
     "output_type": "stream",
     "text": [
      "<class 'pandas.core.frame.DataFrame'>\n",
      "RangeIndex: 1338 entries, 0 to 1337\n",
      "Data columns (total 7 columns):\n",
      " #   Column    Non-Null Count  Dtype  \n",
      "---  ------    --------------  -----  \n",
      " 0   Age       1338 non-null   int64  \n",
      " 1   Sex       1338 non-null   object \n",
      " 2   Bmi       1338 non-null   float64\n",
      " 3   Children  1338 non-null   int64  \n",
      " 4   Smoker    1338 non-null   object \n",
      " 5   Region    1338 non-null   object \n",
      " 6   Charges   1338 non-null   float64\n",
      "dtypes: float64(2), int64(2), object(3)\n",
      "memory usage: 73.3+ KB\n",
      "None\n"
     ]
    }
   ],
   "source": [
    "print(Dataset1.info())"
   ]
  },
  {
   "cell_type": "code",
   "execution_count": 26,
   "id": "99ab5d99",
   "metadata": {},
   "outputs": [
    {
     "name": "stdout",
     "output_type": "stream",
     "text": [
      "    Age     Sex   Bmi  Children Smoker     Region      Charges\n",
      "0    19  female  27.0         0    yes  southwest  16884.92400\n",
      "1    18    male  33.0         1     no  southeast   1725.55230\n",
      "2    28    male  33.0         3     no  southeast   4449.46200\n",
      "3    33    male  22.0         0     no  northwest  21984.47061\n",
      "4    32    male  28.0         0     no  northwest   3866.85520\n",
      "5    50    male  30.0         3     no  northwest  10600.54830\n",
      "6    18  female  31.0         0     no  northeast   2205.98080\n",
      "7    18  female  36.0         0     no  southeast   1629.83350\n",
      "8    21  female  25.0         0     no  southwest   2007.94500\n",
      "9    61  female  29.0         0    yes  northwest  29141.36030\n",
      "10   51    male  31.0         0     no  northwest   9174.13565\n",
      "11   56  female  25.0         0     no  southwest  11070.53500\n",
      "12   64  female  39.0         3     no  southeast  16085.12750\n",
      "13   19  female  28.0         0    yes  northwest  17468.98390\n",
      "14   51  female  34.0         0     no  southeast   9283.56200\n"
     ]
    }
   ],
   "source": [
    "top = Dataset1.head()\n",
    "bottom = Dataset1.tail()\n",
    "random = Dataset1[601:606]\n",
    "a_new_datset = pd.concat([top,bottom,random], ignore_index=True)\n",
    "print(a_new_datset)"
   ]
  },
  {
   "cell_type": "code",
   "execution_count": 27,
   "id": "d63192d5",
   "metadata": {},
   "outputs": [
    {
     "name": "stdout",
     "output_type": "stream",
     "text": [
      "   AGE     SEX   BMI  CHILDREN  SMOKER     REGION     CHARGES  Age     Sex  \\\n",
      "0   21  female  25.0         0      no  southwest   2007.9450   19  female   \n",
      "1   61  female  29.0         0     yes  northwest  29141.3603   18    male   \n",
      "\n",
      "    Bmi  ...  Smoker     Region     Charges  AGE   SEX   BMI  CHILDREN  \\\n",
      "0  27.0  ...     yes  southwest  16884.9240   24  male  32.0         0   \n",
      "1  33.0  ...      no  southeast   1725.5523   24  male  25.0         0   \n",
      "\n",
      "   SMOKER     REGION    Charges  \n",
      "0     yes  southwest  34472.841  \n",
      "1      no  southwest   1972.950  \n",
      "\n",
      "[2 rows x 21 columns]\n"
     ]
    }
   ],
   "source": [
    "change_bottom = Dataset1.tail(2).rename(columns={\n",
    "    'Age':'AGE',\n",
    "    'Sex':'SEX',\n",
    "    'Bmi':'BMI',\n",
    "    'Children':'CHILDREN',\n",
    "    'Smoker':'SMOKER',\n",
    "    'Region':'REGION',\n",
    "    'Charges':'CHARGES'\n",
    "    })\n",
    "change_bottom = change_bottom.reset_index(drop=True)\n",
    "change_top = Dataset1.head(2)\n",
    "change_top = change_top.reset_index(drop=True)\n",
    "change_center = Dataset1[1001:1003].rename(columns={\n",
    "    'Age':'AGE',\n",
    "    'Sex':'SEX',\n",
    "    'Bmi':'BMI',\n",
    "    'Children':'CHILDREN',\n",
    "    'Smoker':'SMOKER',\n",
    "    'Region':'REGION',\n",
    "})\n",
    "change_center = change_center.reset_index(drop=True)\n",
    "b_new_set = pd.concat([change_bottom, change_top, change_center], axis=1)\n",
    "print(b_new_set)"
   ]
  },
  {
   "cell_type": "code",
   "execution_count": 28,
   "id": "4aea2e9e",
   "metadata": {},
   "outputs": [
    {
     "name": "stdout",
     "output_type": "stream",
     "text": [
      "[0.93415082 0.42547008 0.86421288 0.6384032  0.27659025 0.64196871]\n",
      "[0.00400197 0.49229939 0.37371877 0.94857497 0.06019534 0.73121246]\n",
      "[0.14923778 0.05619785 0.83339548 0.07253461 0.41141136 0.55082874]\n",
      "[0.24346362 0.69820499 0.10411604 0.81523027 0.84516443 0.88033402]\n",
      "[0.32239862 0.29492049 0.62386758 0.78210724 0.09371014 0.96327713]\n",
      "[0.11088648 0.22561716 0.82090016 0.03636063 0.7291353  0.86681383]\n",
      "[0.87719301 0.14818838 0.64355696 0.22535875 0.30373984 0.98269677]\n",
      "[0.31539767 0.52723632 0.7034082  0.67613822 0.21269341 0.44292529]\n",
      "[2.41765988e-04 2.11766757e-01 7.50487594e-01 5.18609948e-01\n",
      " 4.29472109e-01 2.11214303e-01]\n",
      "[0.05709101 0.34802864 0.70769766 0.5016075  0.37722547 0.07255583]\n"
     ]
    }
   ],
   "source": [
    "import numpy as np\n",
    "randomly = np.random.rand(10,6)\n",
    "for i in randomly:\n",
    "    print(i)"
   ]
  },
  {
   "cell_type": "code",
   "execution_count": 29,
   "id": "92237fe7",
   "metadata": {},
   "outputs": [
    {
     "name": "stdout",
     "output_type": "stream",
     "text": [
      "          0         1         2         3         4         5\n",
      "0  0.215622  0.637428       NaN       NaN       NaN  0.241125\n",
      "1       NaN       NaN       NaN       NaN  0.419948  0.553259\n",
      "2       NaN       NaN  0.154342  0.719951       NaN       NaN\n",
      "3       NaN  0.969642  0.924289  0.213746       NaN       NaN\n",
      "4  0.971079       NaN       NaN       NaN  0.320278       NaN\n",
      "5  0.461919  0.448829  0.380253  0.722185  0.019304  0.538564\n",
      "6  0.361488  0.635634  0.445780  0.920459  0.218627  0.305238\n",
      "7  0.645114  0.172539  0.036665  0.119121  0.528304  0.714588\n",
      "8  0.347043  0.218876  0.142018  0.368253  0.136960  0.044611\n",
      "9  0.418439  0.334608  0.792867  0.396132  0.611818  0.741815\n"
     ]
    }
   ],
   "source": [
    "import pandas as pd\n",
    "import numpy as np\n",
    "random_col = np.random.rand(10,6)\n",
    "for i in range(random_col.shape[1]):\n",
    "    nan_value = np.random.choice(5,3, replace=False)\n",
    "    random_col[nan_value, i] = np.nan\n",
    "    data_f = pd.DataFrame(random_col)\n",
    "print(data_f)"
   ]
  },
  {
   "cell_type": "code",
   "execution_count": 30,
   "id": "71de51f8",
   "metadata": {},
   "outputs": [
    {
     "name": "stdout",
     "output_type": "stream",
     "text": [
      "       col1      col2      col3      col4      col5      col6\n",
      "0  0.215622  0.637428       NaN       NaN       NaN  0.241125\n",
      "1       NaN       NaN       NaN       NaN  0.419948  0.553259\n",
      "2       NaN       NaN  0.154342  0.719951       NaN       NaN\n",
      "3       NaN  0.969642  0.924289  0.213746       NaN       NaN\n",
      "4  0.971079       NaN       NaN       NaN  0.320278       NaN\n",
      "5  0.461919  0.448829  0.380253  0.722185  0.019304  0.538564\n",
      "6  0.361488  0.635634  0.445780  0.920459  0.218627  0.305238\n",
      "7  0.645114  0.172539  0.036665  0.119121  0.528304  0.714588\n",
      "8  0.347043  0.218876  0.142018  0.368253  0.136960  0.044611\n",
      "9  0.418439  0.334608  0.792867  0.396132  0.611818  0.741815\n"
     ]
    }
   ],
   "source": [
    "data_f.columns=['col1','col2','col3','col4','col5','col6']\n",
    "print(data_f)"
   ]
  },
  {
   "cell_type": "code",
   "execution_count": 31,
   "id": "a910f1df",
   "metadata": {},
   "outputs": [
    {
     "name": "stdout",
     "output_type": "stream",
     "text": [
      "          0         1         2\n",
      "0  0.373940  0.402847       NaN\n",
      "1       NaN       NaN  0.740422\n",
      "2       NaN       NaN       NaN\n",
      "3  0.710578  0.689185  0.850300\n",
      "4  0.999189  0.803609  0.559837\n",
      "5  0.991874  0.128098  0.891445\n"
     ]
    }
   ],
   "source": [
    "individual = np.random.rand(6,3)\n",
    "#print(individual)\n",
    "for y in range(individual.shape[1]):\n",
    "    #print(y)\n",
    "    nan_indi = np.random.choice(3,2, replace=False)\n",
    "    individual[nan_indi, y] = np.nan\n",
    "    data_frame = pd.DataFrame(individual)\n",
    "print(data_frame)\n"
   ]
  },
  {
   "cell_type": "code",
   "execution_count": 32,
   "id": "8a2810b7",
   "metadata": {},
   "outputs": [
    {
     "name": "stdout",
     "output_type": "stream",
     "text": [
      "       col1      col2      col3\n",
      "0  0.373940  0.402847       NaN\n",
      "1       NaN       NaN  0.740422\n",
      "2       NaN       NaN       NaN\n",
      "3  0.710578  0.689185  0.850300\n",
      "4  0.999189  0.803609  0.559837\n",
      "5  0.991874  0.128098  0.891445\n"
     ]
    }
   ],
   "source": [
    "data_frame.columns=['col1','col2','col3']\n",
    "print(data_frame)"
   ]
  },
  {
   "cell_type": "code",
   "execution_count": 63,
   "id": "1aa660f2",
   "metadata": {},
   "outputs": [],
   "source": [
    "data_frame1 = data_frame.copy()\n",
    "data_frame2 = data_frame.copy()\n",
    "data_frame3 = data_frame.copy()\n",
    "data_frame4 = data_frame.copy()\n",
    "data_frame5 = data_frame.copy()\n",
    "data_frame6 = data_frame.copy()\n",
    "data_frame7 = data_frame.copy()\n",
    "data_frame8 = data_frame.copy()"
   ]
  },
  {
   "cell_type": "code",
   "execution_count": 34,
   "id": "57cc1652",
   "metadata": {},
   "outputs": [
    {
     "name": "stdout",
     "output_type": "stream",
     "text": [
      "       col1      col2      col3\n",
      "3  0.710578  0.689185  0.850300\n",
      "4  0.999189  0.803609  0.559837\n",
      "5  0.991874  0.128098  0.891445\n"
     ]
    }
   ],
   "source": [
    "new_data1 = data_frame.dropna()\n",
    "print(new_data1)"
   ]
  },
  {
   "cell_type": "code",
   "execution_count": 35,
   "id": "a65ad4e2",
   "metadata": {},
   "outputs": [
    {
     "name": "stdout",
     "output_type": "stream",
     "text": [
      "       col2      col3\n",
      "0  0.402847       NaN\n",
      "1       NaN  0.740422\n",
      "2       NaN       NaN\n",
      "3  0.689185  0.850300\n",
      "4  0.803609  0.559837\n",
      "5  0.128098  0.891445\n"
     ]
    }
   ],
   "source": [
    "data_frame.drop('col1', axis=1, inplace=True)\n",
    "print(data_frame)"
   ]
  },
  {
   "cell_type": "code",
   "execution_count": 36,
   "id": "e8240e1c",
   "metadata": {},
   "outputs": [
    {
     "name": "stdout",
     "output_type": "stream",
     "text": [
      "       col3\n",
      "0       NaN\n",
      "1  0.740422\n",
      "2       NaN\n",
      "3  0.850300\n",
      "4  0.559837\n",
      "5  0.891445\n"
     ]
    }
   ],
   "source": [
    "data_frame1.drop(['col1','col2'], axis=1, inplace=True)\n",
    "print(data_frame1)"
   ]
  },
  {
   "cell_type": "code",
   "execution_count": 37,
   "id": "b4107bdc",
   "metadata": {},
   "outputs": [
    {
     "name": "stdout",
     "output_type": "stream",
     "text": [
      "       col1      col2      col3\n",
      "0  0.373940  0.402847  6.000000\n",
      "1  6.000000  6.000000  0.740422\n",
      "2  6.000000  6.000000  6.000000\n",
      "3  0.710578  0.689185  0.850300\n",
      "4  0.999189  0.803609  0.559837\n",
      "5  0.991874  0.128098  0.891445\n"
     ]
    }
   ],
   "source": [
    "data_frame2.fillna(6, inplace=True)\n",
    "print(data_frame2)"
   ]
  },
  {
   "cell_type": "code",
   "execution_count": 38,
   "id": "0f036967",
   "metadata": {},
   "outputs": [
    {
     "name": "stdout",
     "output_type": "stream",
     "text": [
      "       col1      col2      col3\n",
      "0  0.402847  0.402847       NaN\n",
      "1  3.000000       NaN  0.740422\n",
      "2  3.000000       NaN       NaN\n",
      "3  0.689185  0.689185  0.850300\n",
      "4  0.803609  0.803609  0.559837\n",
      "5  0.128098  0.128098  0.891445\n"
     ]
    }
   ],
   "source": [
    "data_frame3['col1'] = data_frame3['col2'].fillna(3)\n",
    "print(data_frame3)"
   ]
  },
  {
   "cell_type": "code",
   "execution_count": 39,
   "id": "1c64a98c",
   "metadata": {},
   "outputs": [
    {
     "name": "stdout",
     "output_type": "stream",
     "text": [
      "       col1      col2      col3\n",
      "0  0.402847  0.402847       NaN\n",
      "1  3.000000  0.505935  0.740422\n",
      "2  3.000000  0.505935       NaN\n",
      "3  0.689185  0.689185  0.850300\n",
      "4  0.803609  0.803609  0.559837\n",
      "5  0.128098  0.128098  0.891445\n"
     ]
    }
   ],
   "source": [
    "data_frame3['col2'] = data_frame3['col2'].fillna(data_frame3['col2'].mean())\n",
    "print(data_frame3)"
   ]
  },
  {
   "cell_type": "code",
   "execution_count": 40,
   "id": "a7abf607",
   "metadata": {},
   "outputs": [
    {
     "name": "stdout",
     "output_type": "stream",
     "text": [
      "       col1      col2      col3\n",
      "0  0.402847  0.402847  0.891445\n",
      "1  3.000000  0.505935  0.740422\n",
      "2  3.000000  0.505935  0.891445\n",
      "3  0.689185  0.689185  0.850300\n",
      "4  0.803609  0.803609  0.559837\n",
      "5  0.128098  0.128098  0.891445\n"
     ]
    }
   ],
   "source": [
    "data_frame3['col3'] = data_frame3['col3'].fillna(data_frame3['col3'].max())\n",
    "print(data_frame3)"
   ]
  },
  {
   "cell_type": "code",
   "execution_count": 41,
   "id": "12bac149",
   "metadata": {},
   "outputs": [
    {
     "name": "stdout",
     "output_type": "stream",
     "text": [
      "     Age     Sex   Bmi  Children Smoker     Region      Charges\n",
      "61  25.0    male  33.0       4.0    NaN        NaN   4504.66240\n",
      "62   NaN    male  24.0       NaN    NaN  northwest          NaN\n",
      "63   NaN     NaN   NaN       1.0     no  northwest   4133.64165\n",
      "64  20.0  female  22.0       0.0    yes  northwest          NaN\n",
      "65  19.0     NaN  28.0       NaN    NaN        NaN          NaN\n",
      "66  61.0  female   NaN       2.0     no        NaN  14235.07200\n",
      "67   NaN     NaN   NaN       1.0     no  northwest   6389.37785\n",
      "68   NaN  female  36.0       NaN     no  southeast          NaN\n",
      "69  28.0    male  23.0       3.0    NaN        NaN  17663.14420\n",
      "70  27.0     NaN   NaN       NaN    yes  southeast  16577.77950\n"
     ]
    }
   ],
   "source": [
    "import pandas as pd\n",
    "import numpy as np\n",
    "Dataset1_new = Dataset1.copy()\n",
    "nan_add = Dataset1_new[61:71].copy()\n",
    "#print(nan_add)\n",
    "for z in range(nan_add.shape[1]):\n",
    "    nan_add_rand = np.random.choice(nan_add.shape[0],4, replace=False)\n",
    "    nan_add.iloc[nan_add_rand, z] = np.nan\n",
    "Dataset1_new.iloc[61:71] = nan_add\n",
    "print(Dataset1_new.iloc[61:71])"
   ]
  },
  {
   "cell_type": "code",
   "execution_count": 137,
   "id": "412380a5",
   "metadata": {},
   "outputs": [
    {
     "name": "stdout",
     "output_type": "stream",
     "text": [
      "      age     sex    bmi  children smoker     region      charges\n",
      "501   NaN    male    NaN       0.0    NaN        NaN   6837.36870\n",
      "502   NaN    male  23.21       1.0    yes  southeast  22218.11490\n",
      "503  19.0    male    NaN       0.0    yes  southeast          NaN\n",
      "504   NaN     NaN  28.93       1.0     no  southeast          NaN\n",
      "505  37.0     NaN    NaN       NaN    NaN        NaN   6796.86325\n",
      "506  22.0    male  31.35       NaN     no  northwest   2643.26850\n",
      "507  21.0     NaN  23.75       2.0    NaN  northwest   3077.09550\n",
      "508  24.0  female  25.27       0.0     no  northeast   3044.21330\n",
      "509  57.0  female  28.70       0.0     no  southwest  11455.28000\n",
      "510  56.0    male  32.11       1.0     no  northeast  11763.00090\n"
     ]
    }
   ],
   "source": [
    "import pandas as pd\n",
    "import numpy as np\n",
    "Dataset_frame_copy = Dataset_frame1.copy()\n",
    "new_Dataset_frame_copy = Dataset_frame_copy[501:511].copy()\n",
    "for a in range(new_Dataset_frame_copy.shape[1]):\n",
    "    Dataset_frame_copy_nan = np.random.choice(new_Dataset_frame_copy.shape[1],3, replace=True)\n",
    "    new_Dataset_frame_copy.iloc[Dataset_frame_copy_nan, a] = np.nan\n",
    "Dataset_frame_copy.iloc[501:511] = new_Dataset_frame_copy\n",
    "print(Dataset_frame_copy.iloc[501:511])"
   ]
  },
  {
   "cell_type": "code",
   "execution_count": 138,
   "id": "dbe6406f",
   "metadata": {},
   "outputs": [
    {
     "name": "stdout",
     "output_type": "stream",
     "text": [
      "      age     sex     bmi  children smoker     region      charges\n",
      "0      19  female  27.900         0    yes  southwest  16884.92400\n",
      "1      18    male  33.770         1     no  southeast   1725.55230\n",
      "2      28    male  33.000         3     no  southeast   4449.46200\n",
      "3      33    male  22.705         0     no  northwest  21984.47061\n",
      "4      32    male  28.880         0     no  northwest   3866.85520\n",
      "...   ...     ...     ...       ...    ...        ...          ...\n",
      "1333   50    male  30.970         3     no  northwest  10600.54830\n",
      "1334   18  female  31.920         0     no  northeast   2205.98080\n",
      "1335   18  female  36.850         0     no  southeast   1629.83350\n",
      "1336   21  female  25.800         0     no  southwest   2007.94500\n",
      "1337   61  female  29.070         0    yes  northwest  29141.36030\n",
      "\n",
      "[1338 rows x 7 columns]\n"
     ]
    }
   ],
   "source": [
    "print(Dataset_frame2)"
   ]
  }
 ],
 "metadata": {
  "kernelspec": {
   "display_name": "Python 3",
   "language": "python",
   "name": "python3"
  },
  "language_info": {
   "codemirror_mode": {
    "name": "ipython",
    "version": 3
   },
   "file_extension": ".py",
   "mimetype": "text/x-python",
   "name": "python",
   "nbconvert_exporter": "python",
   "pygments_lexer": "ipython3",
   "version": "3.11.4"
  }
 },
 "nbformat": 4,
 "nbformat_minor": 5
}
