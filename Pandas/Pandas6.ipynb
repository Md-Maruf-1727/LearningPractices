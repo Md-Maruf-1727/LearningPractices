{
 "cells": [
  {
   "cell_type": "code",
   "execution_count": 1,
   "id": "44c6a7b2",
   "metadata": {},
   "outputs": [],
   "source": [
    "import pandas as pd"
   ]
  },
  {
   "cell_type": "code",
   "execution_count": 3,
   "metadata": {},
   "outputs": [
    {
     "name": "stdout",
     "output_type": "stream",
     "text": [
      "    order_id     customer_name product_category  product_price  quantity  \\\n",
      "0       1001          John Doe      Electronics         299.99         1   \n",
      "1       1002        Jane Smith         Clothing          49.99         2   \n",
      "2       1003       Bob Johnson   Home & Kitchen          89.50         1   \n",
      "3       1004    Alice Williams            Books          19.99         3   \n",
      "4       1005     Michael Brown      Electronics         499.99         1   \n",
      "5       1006       Linda Davis             Toys          29.99         2   \n",
      "6       1007      James Wilson         Clothing          59.99         1   \n",
      "7       1008    Patricia Moore   Home & Kitchen          79.99         1   \n",
      "8       1009     Robert Taylor            Books          14.99         5   \n",
      "9       1010  Barbara Anderson      Electronics         199.99         1   \n",
      "10      1011         Kevin Lee             Toys          39.99         2   \n",
      "11      1012       Emily Clark         Clothing          69.99         1   \n",
      "12      1013      David Harris   Home & Kitchen          59.99         2   \n",
      "13      1014       Susan Lewis            Books          24.99         4   \n",
      "14      1015        Mark Young      Electronics         349.99         1   \n",
      "15      1016        Laura King             Toys          49.99         3   \n",
      "16      1017      Daniel Scott         Clothing          79.99         2   \n",
      "17      1018        Karen Hill   Home & Kitchen          99.99         1   \n",
      "18      1019        Paul Allen            Books          29.99         2   \n",
      "19      1020    Jessica Wright      Electronics         399.99         1   \n",
      "\n",
      "    order_date delivery_status  \n",
      "0   2023-05-10       Delivered  \n",
      "1   2023-05-12         Shipped  \n",
      "2   2023-05-13         Pending  \n",
      "3   2023-05-14       Delivered  \n",
      "4   2023-05-15       Cancelled  \n",
      "5   2023-05-16       Delivered  \n",
      "6   2023-05-17         Shipped  \n",
      "7   2023-05-18       Delivered  \n",
      "8   2023-05-19         Pending  \n",
      "9   2023-05-20       Delivered  \n",
      "10  2023-05-21         Shipped  \n",
      "11  2023-05-22       Delivered  \n",
      "12  2023-05-23         Pending  \n",
      "13  2023-05-24       Delivered  \n",
      "14  2023-05-25         Shipped  \n",
      "15  2023-05-26       Delivered  \n",
      "16  2023-05-27         Pending  \n",
      "17  2023-05-28       Delivered  \n",
      "18  2023-05-29         Shipped  \n",
      "19  2023-05-30       Delivered  \n"
     ]
    }
   ],
   "source": [
    "main_dataset = pd.read_csv(\"practice_dataset2.csv\")\n",
    "print(main_dataset)"
   ]
  },
  {
   "cell_type": "code",
   "execution_count": null,
   "metadata": {},
   "outputs": [],
   "source": []
  },
  {
   "cell_type": "code",
   "execution_count": null,
   "id": "a1ab6835",
   "metadata": {},
   "outputs": [],
   "source": []
  },
  {
   "cell_type": "code",
   "execution_count": null,
   "metadata": {},
   "outputs": [],
   "source": []
  },
  {
   "cell_type": "code",
   "execution_count": null,
   "id": "909100eb",
   "metadata": {},
   "outputs": [],
   "source": []
  },
  {
   "cell_type": "code",
   "execution_count": null,
   "metadata": {},
   "outputs": [],
   "source": []
  },
  {
   "cell_type": "code",
   "execution_count": null,
   "id": "65758178",
   "metadata": {},
   "outputs": [],
   "source": []
  },
  {
   "cell_type": "code",
   "execution_count": null,
   "id": "62818988",
   "metadata": {},
   "outputs": [],
   "source": []
  }
 ],
 "metadata": {
  "kernelspec": {
   "display_name": "Python 3",
   "language": "python",
   "name": "python3"
  },
  "language_info": {
   "codemirror_mode": {
    "name": "ipython",
    "version": 3
   },
   "file_extension": ".py",
   "mimetype": "text/x-python",
   "name": "python",
   "nbconvert_exporter": "python",
   "pygments_lexer": "ipython3",
   "version": "3.11.4"
  }
 },
 "nbformat": 4,
 "nbformat_minor": 5
}
