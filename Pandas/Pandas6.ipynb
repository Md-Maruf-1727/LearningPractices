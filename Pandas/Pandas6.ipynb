{
 "cells": [
  {
   "cell_type": "code",
   "execution_count": null,
   "id": "2463b6fe",
   "metadata": {},
   "outputs": [
    {
     "data": {
      "text/plain": [
       "\"Part A: Day 1 – DataFrame Basics & Attributes\\n1.\\tDataFrame এর row এবং column সংখ্যা বের করো।\\n2.\\tDataFrame এ মোট element সংখ্যা বের করো।\\n3.\\tDataFrame এর dimension সংখ্যা দেখো।\\n4.\\tসব column এর নাম বের করো।\\n5.\\tRow index কেমন সাজানো আছে দেখো।\\n6.\\tColumn-wise data type দেখো।\\n7.\\tDataFrame summary দেখো।\\n8.\\tসব values numpy array আকারে দেখো।\\n9.\\tDataFrame transpose করো।\\n10.\\tপ্রথম 5 row দেখো।\\n11.\\tশেষের 5 row দেখো।\\n12.\\tNumeric column এর summary statistics দেখো।\\n13.\\tNon-null value count বের করো।\\n14.\\tColumn-wise mean বের করো।\\n15.\\tColumn-wise median বের করো।\\n16.\\tColumn-wise sum বের করো।\\n17.\\tColumn-wise minimum বের করো।\\n18.\\tColumn-wise maximum বের করো।\\n19.\\t“age” column এর unique value বের করো।\\n20.\\t“region” column এর frequency count দেখো।\\n21.\\tColumn-wise unique value সংখ্যা দেখো।\\n________________________________________\\nPart B: Day 2 – Selection Functions\\n22.\\t“age” column নির্বাচন করো।\\n23.\\t“age” এবং “bmi” column একসাথে নির্বাচন করো।\\n24.\\tLabel ব্যবহার করে নির্দিষ্ট row এবং column এর মান বের করো।\\n25.\\tPosition ব্যবহার করে নির্দিষ্ট row এবং column এর মান বের করো।\\n26.\\tFast single value selection ব্যবহার করে নির্দিষ্ট row-column এর মান বের করো।\\n27.\\tPosition-based fast single value selection ব্যবহার করো।\\n28.\\tপ্রথম 10 row এবং প্রথম 3 column বের করো।\\n29.\\tRandom 7 row নির্বাচন করো।\\n30.\\t“age” > 30 row বের করো।\\n31.\\tbmi > 25 এবং smoker = 'yes' row বের করো।\\n32.\\tপ্রথম 10 row এবং শেষের 5 row দেখো।\\n________________________________________\\nPart C: Day 2 – Modification Functions\\n33.\\tনতুন column যোগ করো।\\n34.\\tColumn এর নাম পরিবর্তন করো।\\n35.\\tColumn drop করো।\\n36.\\tনির্দিষ্ট row-column update করো।\\n37.\\tনতুন column নির্দিষ্ট অবস্থানে insert করো।\\n38.\\tDataFrame copy করো এবং copy তে value replace করো।\\n39.\\tColumn type change করো।\\n40.\\tColumn কে index হিসেবে set করো এবং পরে reset করো।\\n41.\\tকিছু random row এর value update করো।\\n________________________________________\\nPart D: Day 2 – Cleaning Functions\\n42.\\tMissing value check করো।\\n43.\\tMissing value পূরণ করো।\\n44.\\tMissing value যুক্ত row drop করো।\\n45.\\tDuplicate row check করো।\\n46.\\tDuplicate row drop করো।\\n47.\\tColumn value replace করো।\\n48.\\tColumn value clip করো।\\n49.\\tColumn-wise data type check করো।\\n________________________________________\\nPart E: Mixed Day 1 + Day 2 Analysis\\n50.\\tDataFrame shape দেখো।\\n51.\\tTotal element size দেখো।\\n52.\\tNumeric column summary statistics দেখো।\\n53.\\tColumn-wise unique value দেখো।\\n54.\\tColumn max, min, mean, median বের করো।\\n55.\\tNumeric column correlation দেখো।\\n56.\\tRow index check করো।\\n57.\\tColumn-wise dtype check করো।\\n58.\\tNumeric column ছাড়া correlation চেষ্টা করো এবং observation note করো।\""
      ]
     },
     "execution_count": 4,
     "metadata": {},
     "output_type": "execute_result"
    }
   ],
   "source": [
    "'''Part A: Day 1  DataFrame Basics & Attributes\n",
    "1.\tDataFrame এর row এবং column সংখ্যা বের করো।\n",
    "2.\tDataFrame এ মোট element সংখ্যা বের করো।\n",
    "3.\tDataFrame এর dimension সংখ্যা দেখো।\n",
    "4.\tসব column এর নাম বের করো।\n",
    "5.\tRow index কেমন সাজানো আছে দেখো।\n",
    "6.\tColumn-wise data type দেখো।\n",
    "7.\tDataFrame summary দেখো।\n",
    "8.\tসব values numpy array আকারে দেখো।\n",
    "9.\tDataFrame transpose করো।\n",
    "10.\tপ্রথম 5 row দেখো।\n",
    "11.\tশেষের 5 row দেখো।\n",
    "12.\tNumeric column এর summary statistics দেখো।\n",
    "13.\tNon-null value count বের করো।\n",
    "14.\tColumn-wise mean বের করো।\n",
    "15.\tColumn-wise median বের করো।\n",
    "16.\tColumn-wise sum বের করো।\n",
    "17.\tColumn-wise minimum বের করো।\n",
    "18.\tColumn-wise maximum বের করো।\n",
    "19.\t“age” column এর unique value বের করো।\n",
    "20.\t“region” column এর frequency count দেখো।\n",
    "21.\tColumn-wise unique value সংখ্যা দেখো।\n",
    "________________________________________\n",
    "Part B: Day 2 – Selection Functions\n",
    "22.\t“age” column নির্বাচন করো।\n",
    "23.\t“age” এবং “bmi” column একসাথে নির্বাচন করো।\n",
    "24.\tLabel ব্যবহার করে নির্দিষ্ট row এবং column এর মান বের করো।\n",
    "25.\tPosition ব্যবহার করে নির্দিষ্ট row এবং column এর মান বের করো।\n",
    "26.\tFast single value selection ব্যবহার করে নির্দিষ্ট row-column এর মান বের করো।\n",
    "27.\tPosition-based fast single value selection ব্যবহার করো।\n",
    "28.\tপ্রথম 10 row এবং প্রথম 3 column বের করো।\n",
    "29.\tRandom 7 row নির্বাচন করো।\n",
    "30.\t“age” > 30 row বের করো।\n",
    "31.\tbmi > 25 এবং smoker = 'yes' row বের করো।\n",
    "32.\tপ্রথম 10 row এবং শেষের 5 row দেখো।\n",
    "________________________________________\n",
    "Part C: Day 2 – Modification Functions\n",
    "33.\tনতুন column যোগ করো।\n",
    "34.\tColumn এর নাম পরিবর্তন করো।\n",
    "35.\tColumn drop করো।\n",
    "36.\tনির্দিষ্ট row-column update করো।\n",
    "37.\tনতুন column নির্দিষ্ট অবস্থানে insert করো।\n",
    "38.\tDataFrame copy করো এবং copy তে value replace করো।\n",
    "39.\tColumn type change করো।\n",
    "40.\tColumn কে index হিসেবে set করো এবং পরে reset করো।\n",
    "41.\tকিছু random row এর value update করো।\n",
    "________________________________________\n",
    "Part D: Day 2 – Cleaning Functions\n",
    "42.\tMissing value check করো।\n",
    "43.\tMissing value পূরণ করো।\n",
    "44.\tMissing value যুক্ত row drop করো।\n",
    "45.\tDuplicate row check করো।\n",
    "46.\tDuplicate row drop করো।\n",
    "47.\tColumn value replace করো।\n",
    "48.\tColumn value clip করো।\n",
    "49.\tColumn-wise data type check করো।\n",
    "________________________________________\n",
    "Part E: Mixed Day 1 + Day 2 Analysis\n",
    "50.\tDataFrame shape দেখো।\n",
    "51.\tTotal element size দেখো।\n",
    "52.\tNumeric column summary statistics দেখো।\n",
    "53.\tColumn-wise unique value দেখো।\n",
    "54.\tColumn max, min, mean, median বের করো।\n",
    "55.\tNumeric column correlation দেখো।\n",
    "56.\tRow index check করো।\n",
    "57.\tColumn-wise dtype check করো।\n",
    "58.\tNumeric column ছাড়া correlation চেষ্টা করো এবং observation note করো।'''\n"
   ]
  },
  {
   "cell_type": "code",
   "execution_count": 1,
   "id": "44c6a7b2",
   "metadata": {},
   "outputs": [],
   "source": [
    "import pandas as pd"
   ]
  },
  {
   "cell_type": "code",
   "execution_count": 3,
   "metadata": {},
   "outputs": [
    {
     "name": "stdout",
     "output_type": "stream",
     "text": [
      "    order_id     customer_name product_category  product_price  quantity  \\\n",
      "0       1001          John Doe      Electronics         299.99         1   \n",
      "1       1002        Jane Smith         Clothing          49.99         2   \n",
      "2       1003       Bob Johnson   Home & Kitchen          89.50         1   \n",
      "3       1004    Alice Williams            Books          19.99         3   \n",
      "4       1005     Michael Brown      Electronics         499.99         1   \n",
      "5       1006       Linda Davis             Toys          29.99         2   \n",
      "6       1007      James Wilson         Clothing          59.99         1   \n",
      "7       1008    Patricia Moore   Home & Kitchen          79.99         1   \n",
      "8       1009     Robert Taylor            Books          14.99         5   \n",
      "9       1010  Barbara Anderson      Electronics         199.99         1   \n",
      "10      1011         Kevin Lee             Toys          39.99         2   \n",
      "11      1012       Emily Clark         Clothing          69.99         1   \n",
      "12      1013      David Harris   Home & Kitchen          59.99         2   \n",
      "13      1014       Susan Lewis            Books          24.99         4   \n",
      "14      1015        Mark Young      Electronics         349.99         1   \n",
      "15      1016        Laura King             Toys          49.99         3   \n",
      "16      1017      Daniel Scott         Clothing          79.99         2   \n",
      "17      1018        Karen Hill   Home & Kitchen          99.99         1   \n",
      "18      1019        Paul Allen            Books          29.99         2   \n",
      "19      1020    Jessica Wright      Electronics         399.99         1   \n",
      "\n",
      "    order_date delivery_status  \n",
      "0   2023-05-10       Delivered  \n",
      "1   2023-05-12         Shipped  \n",
      "2   2023-05-13         Pending  \n",
      "3   2023-05-14       Delivered  \n",
      "4   2023-05-15       Cancelled  \n",
      "5   2023-05-16       Delivered  \n",
      "6   2023-05-17         Shipped  \n",
      "7   2023-05-18       Delivered  \n",
      "8   2023-05-19         Pending  \n",
      "9   2023-05-20       Delivered  \n",
      "10  2023-05-21         Shipped  \n",
      "11  2023-05-22       Delivered  \n",
      "12  2023-05-23         Pending  \n",
      "13  2023-05-24       Delivered  \n",
      "14  2023-05-25         Shipped  \n",
      "15  2023-05-26       Delivered  \n",
      "16  2023-05-27         Pending  \n",
      "17  2023-05-28       Delivered  \n",
      "18  2023-05-29         Shipped  \n",
      "19  2023-05-30       Delivered  \n"
     ]
    }
   ],
   "source": [
    "main_dataset = pd.read_csv(\"practice_dataset2.csv\")\n",
    "print(main_dataset)"
   ]
  },
  {
   "cell_type": "code",
   "execution_count": 5,
   "metadata": {},
   "outputs": [
    {
     "data": {
      "text/plain": [
       "(20, 7)"
      ]
     },
     "execution_count": 5,
     "metadata": {},
     "output_type": "execute_result"
    }
   ],
   "source": [
    "#1.\tDataFrame এর row এবং column সংখ্যা বের করো।\n",
    "main_dataset.shape"
   ]
  },
  {
   "cell_type": "code",
   "execution_count": 6,
   "id": "a1ab6835",
   "metadata": {},
   "outputs": [
    {
     "data": {
      "text/plain": [
       "140"
      ]
     },
     "execution_count": 6,
     "metadata": {},
     "output_type": "execute_result"
    }
   ],
   "source": [
    "#2.\tDataFrame এ মোট element সংখ্যা বের করো।\n",
    "main_dataset.size"
   ]
  },
  {
   "cell_type": "code",
   "execution_count": 7,
   "metadata": {},
   "outputs": [
    {
     "data": {
      "text/plain": [
       "2"
      ]
     },
     "execution_count": 7,
     "metadata": {},
     "output_type": "execute_result"
    }
   ],
   "source": [
    "#3.\tDataFrame এর dimension সংখ্যা দেখো।\n",
    "main_dataset.ndim"
   ]
  },
  {
   "cell_type": "code",
   "execution_count": 10,
   "id": "909100eb",
   "metadata": {},
   "outputs": [
    {
     "name": "stdout",
     "output_type": "stream",
     "text": [
      "['order_id', 'customer_name', 'product_category', 'product_price', 'quantity', 'order_date', 'delivery_status']\n"
     ]
    }
   ],
   "source": [
    "#4.\tসব column এর নাম বের করো।\n",
    "print(list(main_dataset.columns))"
   ]
  },
  {
   "cell_type": "code",
   "execution_count": 11,
   "metadata": {},
   "outputs": [
    {
     "data": {
      "text/plain": [
       "RangeIndex(start=0, stop=20, step=1)"
      ]
     },
     "execution_count": 11,
     "metadata": {},
     "output_type": "execute_result"
    }
   ],
   "source": [
    "#5.\tRow index কেমন সাজানো আছে দেখো।\n",
    "main_dataset.index"
   ]
  },
  {
   "cell_type": "code",
   "execution_count": 12,
   "id": "65758178",
   "metadata": {},
   "outputs": [
    {
     "data": {
      "text/plain": [
       "order_id              int64\n",
       "customer_name        object\n",
       "product_category     object\n",
       "product_price       float64\n",
       "quantity              int64\n",
       "order_date           object\n",
       "delivery_status      object\n",
       "dtype: object"
      ]
     },
     "execution_count": 12,
     "metadata": {},
     "output_type": "execute_result"
    }
   ],
   "source": [
    "#6.\tColumn-wise data type দেখো।\n",
    "main_dataset.dtypes"
   ]
  },
  {
   "cell_type": "code",
   "execution_count": 13,
   "id": "62818988",
   "metadata": {},
   "outputs": [
    {
     "name": "stdout",
     "output_type": "stream",
     "text": [
      "<class 'pandas.core.frame.DataFrame'>\n",
      "RangeIndex: 20 entries, 0 to 19\n",
      "Data columns (total 7 columns):\n",
      " #   Column            Non-Null Count  Dtype  \n",
      "---  ------            --------------  -----  \n",
      " 0   order_id          20 non-null     int64  \n",
      " 1   customer_name     20 non-null     object \n",
      " 2   product_category  20 non-null     object \n",
      " 3   product_price     20 non-null     float64\n",
      " 4   quantity          20 non-null     int64  \n",
      " 5   order_date        20 non-null     object \n",
      " 6   delivery_status   20 non-null     object \n",
      "dtypes: float64(1), int64(2), object(4)\n",
      "memory usage: 1.2+ KB\n"
     ]
    }
   ],
   "source": [
    "#7.\tDataFrame summary দেখো।\n",
    "main_dataset.info()"
   ]
  },
  {
   "cell_type": "code",
   "execution_count": 14,
   "id": "69466062",
   "metadata": {},
   "outputs": [
    {
     "data": {
      "text/plain": [
       "array([[1001, 'John Doe', 'Electronics', 299.99, 1, '2023-05-10',\n",
       "        'Delivered'],\n",
       "       [1002, 'Jane Smith', 'Clothing', 49.99, 2, '2023-05-12',\n",
       "        'Shipped'],\n",
       "       [1003, 'Bob Johnson', 'Home & Kitchen', 89.5, 1, '2023-05-13',\n",
       "        'Pending'],\n",
       "       [1004, 'Alice Williams', 'Books', 19.99, 3, '2023-05-14',\n",
       "        'Delivered'],\n",
       "       [1005, 'Michael Brown', 'Electronics', 499.99, 1, '2023-05-15',\n",
       "        'Cancelled'],\n",
       "       [1006, 'Linda Davis', 'Toys', 29.99, 2, '2023-05-16', 'Delivered'],\n",
       "       [1007, 'James Wilson', 'Clothing', 59.99, 1, '2023-05-17',\n",
       "        'Shipped'],\n",
       "       [1008, 'Patricia Moore', 'Home & Kitchen', 79.99, 1, '2023-05-18',\n",
       "        'Delivered'],\n",
       "       [1009, 'Robert Taylor', 'Books', 14.99, 5, '2023-05-19',\n",
       "        'Pending'],\n",
       "       [1010, 'Barbara Anderson', 'Electronics', 199.99, 1, '2023-05-20',\n",
       "        'Delivered'],\n",
       "       [1011, 'Kevin Lee', 'Toys', 39.99, 2, '2023-05-21', 'Shipped'],\n",
       "       [1012, 'Emily Clark', 'Clothing', 69.99, 1, '2023-05-22',\n",
       "        'Delivered'],\n",
       "       [1013, 'David Harris', 'Home & Kitchen', 59.99, 2, '2023-05-23',\n",
       "        'Pending'],\n",
       "       [1014, 'Susan Lewis', 'Books', 24.99, 4, '2023-05-24',\n",
       "        'Delivered'],\n",
       "       [1015, 'Mark Young', 'Electronics', 349.99, 1, '2023-05-25',\n",
       "        'Shipped'],\n",
       "       [1016, 'Laura King', 'Toys', 49.99, 3, '2023-05-26', 'Delivered'],\n",
       "       [1017, 'Daniel Scott', 'Clothing', 79.99, 2, '2023-05-27',\n",
       "        'Pending'],\n",
       "       [1018, 'Karen Hill', 'Home & Kitchen', 99.99, 1, '2023-05-28',\n",
       "        'Delivered'],\n",
       "       [1019, 'Paul Allen', 'Books', 29.99, 2, '2023-05-29', 'Shipped'],\n",
       "       [1020, 'Jessica Wright', 'Electronics', 399.99, 1, '2023-05-30',\n",
       "        'Delivered']], dtype=object)"
      ]
     },
     "execution_count": 14,
     "metadata": {},
     "output_type": "execute_result"
    }
   ],
   "source": [
    "#8.\tসব values numpy array আকারে দেখো।\n",
    "main_dataset.values"
   ]
  },
  {
   "cell_type": "code",
   "execution_count": 15,
   "metadata": {},
   "outputs": [
    {
     "data": {
      "text/plain": [
       "<bound method DataFrame.to_numpy of     order_id     customer_name product_category  product_price  quantity  \\\n",
       "0       1001          John Doe      Electronics         299.99         1   \n",
       "1       1002        Jane Smith         Clothing          49.99         2   \n",
       "2       1003       Bob Johnson   Home & Kitchen          89.50         1   \n",
       "3       1004    Alice Williams            Books          19.99         3   \n",
       "4       1005     Michael Brown      Electronics         499.99         1   \n",
       "5       1006       Linda Davis             Toys          29.99         2   \n",
       "6       1007      James Wilson         Clothing          59.99         1   \n",
       "7       1008    Patricia Moore   Home & Kitchen          79.99         1   \n",
       "8       1009     Robert Taylor            Books          14.99         5   \n",
       "9       1010  Barbara Anderson      Electronics         199.99         1   \n",
       "10      1011         Kevin Lee             Toys          39.99         2   \n",
       "11      1012       Emily Clark         Clothing          69.99         1   \n",
       "12      1013      David Harris   Home & Kitchen          59.99         2   \n",
       "13      1014       Susan Lewis            Books          24.99         4   \n",
       "14      1015        Mark Young      Electronics         349.99         1   \n",
       "15      1016        Laura King             Toys          49.99         3   \n",
       "16      1017      Daniel Scott         Clothing          79.99         2   \n",
       "17      1018        Karen Hill   Home & Kitchen          99.99         1   \n",
       "18      1019        Paul Allen            Books          29.99         2   \n",
       "19      1020    Jessica Wright      Electronics         399.99         1   \n",
       "\n",
       "    order_date delivery_status  \n",
       "0   2023-05-10       Delivered  \n",
       "1   2023-05-12         Shipped  \n",
       "2   2023-05-13         Pending  \n",
       "3   2023-05-14       Delivered  \n",
       "4   2023-05-15       Cancelled  \n",
       "5   2023-05-16       Delivered  \n",
       "6   2023-05-17         Shipped  \n",
       "7   2023-05-18       Delivered  \n",
       "8   2023-05-19         Pending  \n",
       "9   2023-05-20       Delivered  \n",
       "10  2023-05-21         Shipped  \n",
       "11  2023-05-22       Delivered  \n",
       "12  2023-05-23         Pending  \n",
       "13  2023-05-24       Delivered  \n",
       "14  2023-05-25         Shipped  \n",
       "15  2023-05-26       Delivered  \n",
       "16  2023-05-27         Pending  \n",
       "17  2023-05-28       Delivered  \n",
       "18  2023-05-29         Shipped  \n",
       "19  2023-05-30       Delivered  >"
      ]
     },
     "execution_count": 15,
     "metadata": {},
     "output_type": "execute_result"
    }
   ],
   "source": [
    "#8.\tসব values numpy array আকারে দেখো।\n",
    "main_dataset.to_numpy"
   ]
  },
  {
   "cell_type": "code",
   "execution_count": null,
   "id": "4d0f4250",
   "metadata": {},
   "outputs": [],
   "source": []
  },
  {
   "cell_type": "code",
   "execution_count": null,
   "metadata": {},
   "outputs": [],
   "source": []
  },
  {
   "cell_type": "code",
   "execution_count": null,
   "id": "a838af7e",
   "metadata": {},
   "outputs": [],
   "source": []
  },
  {
   "cell_type": "code",
   "execution_count": null,
   "id": "6000ce8c",
   "metadata": {},
   "outputs": [],
   "source": []
  },
  {
   "cell_type": "code",
   "execution_count": null,
   "id": "dbc80f38",
   "metadata": {},
   "outputs": [],
   "source": []
  },
  {
   "cell_type": "code",
   "execution_count": null,
   "id": "5b786f3b",
   "metadata": {},
   "outputs": [],
   "source": []
  },
  {
   "cell_type": "code",
   "execution_count": null,
   "id": "6258485a",
   "metadata": {},
   "outputs": [],
   "source": []
  },
  {
   "cell_type": "code",
   "execution_count": null,
   "id": "526e4898",
   "metadata": {},
   "outputs": [],
   "source": []
  },
  {
   "cell_type": "code",
   "execution_count": null,
   "metadata": {},
   "outputs": [],
   "source": []
  },
  {
   "cell_type": "code",
   "execution_count": null,
   "id": "5ef4c729",
   "metadata": {},
   "outputs": [],
   "source": []
  },
  {
   "cell_type": "code",
   "execution_count": null,
   "id": "1c8652de",
   "metadata": {},
   "outputs": [],
   "source": []
  },
  {
   "cell_type": "code",
   "execution_count": null,
   "id": "c990629f",
   "metadata": {},
   "outputs": [],
   "source": []
  },
  {
   "cell_type": "code",
   "execution_count": null,
   "id": "04bf0c15",
   "metadata": {},
   "outputs": [],
   "source": []
  },
  {
   "cell_type": "code",
   "execution_count": null,
   "id": "38f27799",
   "metadata": {},
   "outputs": [],
   "source": []
  }
 ],
 "metadata": {
  "kernelspec": {
   "display_name": "Python 3",
   "language": "python",
   "name": "python3"
  },
  "language_info": {
   "codemirror_mode": {
    "name": "ipython",
    "version": 3
   },
   "file_extension": ".py",
   "mimetype": "text/x-python",
   "name": "python",
   "nbconvert_exporter": "python",
   "pygments_lexer": "ipython3",
   "version": "3.11.4"
  }
 },
 "nbformat": 4,
 "nbformat_minor": 5
}
