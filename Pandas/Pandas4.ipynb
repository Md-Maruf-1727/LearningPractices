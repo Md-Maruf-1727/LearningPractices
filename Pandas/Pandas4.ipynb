{
 "cells": [
  {
   "cell_type": "code",
   "execution_count": 135,
   "id": "ca6fcfc2",
   "metadata": {},
   "outputs": [],
   "source": [
    "import pandas as pd\n",
    "import numpy as np"
   ]
  },
  {
   "cell_type": "code",
   "execution_count": 136,
   "metadata": {},
   "outputs": [
    {
     "name": "stdout",
     "output_type": "stream",
     "text": [
      "   id   name  age sex   salary   bmi  children smoker region department  \\\n",
      "0   1   John   28   M  55000.0  24.5       2.0    Yes  North      Sales   \n",
      "1   2   Jane   34   F  62000.0  22.1       1.0     No  South  Marketing   \n",
      "2   3    Bob   45   M  70000.0  27.8       3.0    Yes   East         IT   \n",
      "3   4  Alice   29   F  58000.0  23.4       0.0     No   West         HR   \n",
      "4   5   Mike   38   M  65000.0  28.2       NaN    Yes  North    Finance   \n",
      "5   6  Linda   31   F  60000.0  21.9       2.0     No  South         IT   \n",
      "6   7  Steve   42   M  72000.0  26.5       1.0    Yes   East  Marketing   \n",
      "7   8  Karen   36   F      NaN  24.9       2.0     No   West      Sales   \n",
      "8   9    Tom   39   M  68000.0  29.1       3.0    Yes  North    Finance   \n",
      "9  10  Susan   33   F  61000.0  23.0       1.0     No  South         HR   \n",
      "\n",
      "    join_date  is_manager  \n",
      "0  2020-01-15       False  \n",
      "1  2019-06-23        True  \n",
      "2  2015-09-10       False  \n",
      "3  2021-03-12       False  \n",
      "4  2018-12-01        True  \n",
      "5  2020-07-08       False  \n",
      "6  2016-11-20        True  \n",
      "7  2017-04-30       False  \n",
      "8  2015-05-14       False  \n",
      "9  2019-08-25       False  \n"
     ]
    }
   ],
   "source": [
    "main_dataset = pd.read_csv(\"practice_dataset1.csv\")\n",
    "print(main_dataset)"
   ]
  },
  {
   "cell_type": "code",
   "execution_count": 137,
   "id": "07f27c0b",
   "metadata": {},
   "outputs": [],
   "source": [
    "main_dataset1 = main_dataset.copy()\n",
    "main_dataset2 = main_dataset.copy()\n",
    "main_dataset3 = main_dataset.copy()\n",
    "main_dataset4 = main_dataset.copy()\n",
    "main_dataset5 = main_dataset.copy()\n",
    "main_dataset6 = main_dataset.copy()\n",
    "main_dataset7 = main_dataset.copy()\n",
    "main_dataset8 = main_dataset.copy()\n",
    "main_dataset9 = main_dataset.copy()"
   ]
  },
  {
   "cell_type": "code",
   "execution_count": 138,
   "metadata": {},
   "outputs": [
    {
     "data": {
      "text/plain": [
       "(10, 12)"
      ]
     },
     "execution_count": 138,
     "metadata": {},
     "output_type": "execute_result"
    }
   ],
   "source": [
    "main_dataset.shape"
   ]
  },
  {
   "cell_type": "code",
   "execution_count": 139,
   "id": "bdfe5da2",
   "metadata": {},
   "outputs": [
    {
     "name": "stdout",
     "output_type": "stream",
     "text": [
      "['id', 'name', 'age', 'sex', 'salary', 'bmi', 'children', 'smoker', 'region', 'department', 'join_date', 'is_manager']\n"
     ]
    }
   ],
   "source": [
    "print(list(main_dataset.columns))"
   ]
  },
  {
   "cell_type": "code",
   "execution_count": 140,
   "metadata": {},
   "outputs": [
    {
     "data": {
      "text/plain": [
       "RangeIndex(start=0, stop=10, step=1)"
      ]
     },
     "execution_count": 140,
     "metadata": {},
     "output_type": "execute_result"
    }
   ],
   "source": [
    "main_dataset.index"
   ]
  },
  {
   "cell_type": "code",
   "execution_count": 141,
   "metadata": {},
   "outputs": [
    {
     "data": {
      "text/plain": [
       "120"
      ]
     },
     "execution_count": 141,
     "metadata": {},
     "output_type": "execute_result"
    }
   ],
   "source": [
    "main_dataset.size"
   ]
  },
  {
   "cell_type": "code",
   "execution_count": 142,
   "id": "e3f1cb8a",
   "metadata": {},
   "outputs": [
    {
     "data": {
      "text/plain": [
       "id              int64\n",
       "name           object\n",
       "age             int64\n",
       "sex            object\n",
       "salary        float64\n",
       "bmi           float64\n",
       "children      float64\n",
       "smoker         object\n",
       "region         object\n",
       "department     object\n",
       "join_date      object\n",
       "is_manager       bool\n",
       "dtype: object"
      ]
     },
     "execution_count": 142,
     "metadata": {},
     "output_type": "execute_result"
    }
   ],
   "source": [
    "main_dataset.dtypes"
   ]
  },
  {
   "cell_type": "code",
   "execution_count": 143,
   "id": "3e94024c",
   "metadata": {},
   "outputs": [
    {
     "name": "stdout",
     "output_type": "stream",
     "text": [
      "   id  age   salary   bmi  children\n",
      "0   1   28  55000.0  24.5       2.0\n",
      "1   2   34  62000.0  22.1       1.0\n",
      "2   3   45  70000.0  27.8       3.0\n",
      "3   4   29  58000.0  23.4       0.0\n",
      "4   5   38  65000.0  28.2       NaN\n",
      "5   6   31  60000.0  21.9       2.0\n",
      "6   7   42  72000.0  26.5       1.0\n",
      "7   8   36      NaN  24.9       2.0\n",
      "8   9   39  68000.0  29.1       3.0\n",
      "9  10   33  61000.0  23.0       1.0\n"
     ]
    }
   ],
   "source": [
    "numeric_columns = main_dataset.select_dtypes(include='number')\n",
    "print(numeric_columns)"
   ]
  },
  {
   "cell_type": "code",
   "execution_count": 144,
   "id": "27a6131d",
   "metadata": {},
   "outputs": [
    {
     "name": "stdout",
     "output_type": "stream",
     "text": [
      "Index(['id', 'age', 'salary', 'bmi', 'children'], dtype='object')\n"
     ]
    }
   ],
   "source": [
    "numeric_columns = main_dataset.select_dtypes(include='number').columns\n",
    "print(numeric_columns)"
   ]
  },
  {
   "cell_type": "code",
   "execution_count": 145,
   "id": "f4737eb6",
   "metadata": {},
   "outputs": [
    {
     "name": "stdout",
     "output_type": "stream",
     "text": [
      "    name sex smoker region department   join_date\n",
      "0   John   M    Yes  North      Sales  2020-01-15\n",
      "1   Jane   F     No  South  Marketing  2019-06-23\n",
      "2    Bob   M    Yes   East         IT  2015-09-10\n",
      "3  Alice   F     No   West         HR  2021-03-12\n",
      "4   Mike   M    Yes  North    Finance  2018-12-01\n",
      "5  Linda   F     No  South         IT  2020-07-08\n",
      "6  Steve   M    Yes   East  Marketing  2016-11-20\n",
      "7  Karen   F     No   West      Sales  2017-04-30\n",
      "8    Tom   M    Yes  North    Finance  2015-05-14\n",
      "9  Susan   F     No  South         HR  2019-08-25\n"
     ]
    }
   ],
   "source": [
    "numeric_objects = main_dataset.select_dtypes(include='object')\n",
    "print(numeric_objects)"
   ]
  },
  {
   "cell_type": "code",
   "execution_count": 146,
   "id": "76d61a45",
   "metadata": {},
   "outputs": [
    {
     "name": "stdout",
     "output_type": "stream",
     "text": [
      "Index(['name', 'sex', 'smoker', 'region', 'department', 'join_date'], dtype='object')\n"
     ]
    }
   ],
   "source": [
    "numeric_objects = main_dataset.select_dtypes(include='object').columns\n",
    "print(numeric_objects)"
   ]
  },
  {
   "cell_type": "code",
   "execution_count": 147,
   "id": "bfc6eb54",
   "metadata": {},
   "outputs": [
    {
     "name": "stdout",
     "output_type": "stream",
     "text": [
      "<class 'pandas.core.frame.DataFrame'>\n",
      "RangeIndex: 10 entries, 0 to 9\n",
      "Data columns (total 12 columns):\n",
      " #   Column      Non-Null Count  Dtype  \n",
      "---  ------      --------------  -----  \n",
      " 0   id          10 non-null     int64  \n",
      " 1   name        10 non-null     object \n",
      " 2   age         10 non-null     int64  \n",
      " 3   sex         10 non-null     object \n",
      " 4   salary      9 non-null      float64\n",
      " 5   bmi         10 non-null     float64\n",
      " 6   children    9 non-null      float64\n",
      " 7   smoker      10 non-null     object \n",
      " 8   region      10 non-null     object \n",
      " 9   department  10 non-null     object \n",
      " 10  join_date   10 non-null     object \n",
      " 11  is_manager  10 non-null     bool   \n",
      "dtypes: bool(1), float64(3), int64(2), object(6)\n",
      "memory usage: 1022.0+ bytes\n",
      "None\n"
     ]
    }
   ],
   "source": [
    "print(main_dataset.info())"
   ]
  },
  {
   "cell_type": "code",
   "execution_count": 148,
   "id": "95c2fa08",
   "metadata": {},
   "outputs": [
    {
     "name": "stdout",
     "output_type": "stream",
     "text": [
      "   id   name  age sex   salary   bmi  children smoker region department  \\\n",
      "0   1   John   28   M  55000.0  24.5       2.0    Yes  North      Sales   \n",
      "1   2   Jane   34   F  62000.0  22.1       1.0     No  South  Marketing   \n",
      "2   3    Bob   45   M  70000.0  27.8       3.0    Yes   East         IT   \n",
      "3   4  Alice   29   F  58000.0  23.4       0.0     No   West         HR   \n",
      "4   5   Mike   38   M  65000.0  28.2       NaN    Yes  North    Finance   \n",
      "5   6  Linda   31   F  60000.0  21.9       2.0     No  South         IT   \n",
      "6   7  Steve   42   M  72000.0  26.5       1.0    Yes   East  Marketing   \n",
      "7   8  Karen   36   F      NaN  24.9       2.0     No   West      Sales   \n",
      "8   9    Tom   39   M  68000.0  29.1       3.0    Yes  North    Finance   \n",
      "9  10  Susan   33   F  61000.0  23.0       1.0     No  South         HR   \n",
      "\n",
      "   join_date  is_manager  \n",
      "0 2020-01-15       False  \n",
      "1 2019-06-23        True  \n",
      "2 2015-09-10       False  \n",
      "3 2021-03-12       False  \n",
      "4 2018-12-01        True  \n",
      "5 2020-07-08       False  \n",
      "6 2016-11-20        True  \n",
      "7 2017-04-30       False  \n",
      "8 2015-05-14       False  \n",
      "9 2019-08-25       False  \n"
     ]
    }
   ],
   "source": [
    "main_dataset['join_date'] = pd.to_datetime(main_dataset['join_date'])\n",
    "print(main_dataset)"
   ]
  },
  {
   "cell_type": "code",
   "execution_count": 149,
   "id": "9c90753d",
   "metadata": {},
   "outputs": [
    {
     "name": "stdout",
     "output_type": "stream",
     "text": [
      "<class 'pandas.core.frame.DataFrame'>\n",
      "RangeIndex: 10 entries, 0 to 9\n",
      "Data columns (total 12 columns):\n",
      " #   Column      Non-Null Count  Dtype         \n",
      "---  ------      --------------  -----         \n",
      " 0   id          10 non-null     int64         \n",
      " 1   name        10 non-null     object        \n",
      " 2   age         10 non-null     int64         \n",
      " 3   sex         10 non-null     object        \n",
      " 4   salary      9 non-null      float64       \n",
      " 5   bmi         10 non-null     float64       \n",
      " 6   children    9 non-null      float64       \n",
      " 7   smoker      10 non-null     object        \n",
      " 8   region      10 non-null     object        \n",
      " 9   department  10 non-null     object        \n",
      " 10  join_date   10 non-null     datetime64[ns]\n",
      " 11  is_manager  10 non-null     bool          \n",
      "dtypes: bool(1), datetime64[ns](1), float64(3), int64(2), object(5)\n",
      "memory usage: 1022.0+ bytes\n"
     ]
    }
   ],
   "source": [
    "main_dataset.info()"
   ]
  },
  {
   "cell_type": "code",
   "execution_count": 150,
   "id": "136e0a82",
   "metadata": {},
   "outputs": [
    {
     "name": "stdout",
     "output_type": "stream",
     "text": [
      "name\n",
      "sex\n",
      "smoker\n",
      "region\n",
      "department\n"
     ]
    }
   ],
   "source": [
    "for col in main_dataset:\n",
    "    if main_dataset[col].dtype == 'object':\n",
    "        print(f\"{col}\")"
   ]
  },
  {
   "cell_type": "code",
   "execution_count": 151,
   "id": "b71e661f",
   "metadata": {},
   "outputs": [
    {
     "data": {
      "text/plain": [
       "Index(['name', 'sex', 'smoker', 'region', 'department'], dtype='object')"
      ]
     },
     "execution_count": 151,
     "metadata": {},
     "output_type": "execute_result"
    }
   ],
   "source": [
    "main_dataset.select_dtypes(include='object').columns"
   ]
  },
  {
   "cell_type": "code",
   "execution_count": 152,
   "id": "c5a82f3d",
   "metadata": {},
   "outputs": [
    {
     "data": {
      "text/plain": [
       "pandas.core.frame.DataFrame"
      ]
     },
     "execution_count": 152,
     "metadata": {},
     "output_type": "execute_result"
    }
   ],
   "source": [
    "type(main_dataset)"
   ]
  },
  {
   "cell_type": "code",
   "execution_count": 153,
   "id": "2e0669be",
   "metadata": {},
   "outputs": [
    {
     "name": "stdout",
     "output_type": "stream",
     "text": [
      "2\n"
     ]
    }
   ],
   "source": [
    "print(main_dataset.ndim)"
   ]
  },
  {
   "cell_type": "code",
   "execution_count": 154,
   "id": "5f6a1122",
   "metadata": {},
   "outputs": [
    {
     "data": {
      "text/plain": [
       "array([[1, 'John', 28, 'M', 55000.0, 24.5, 2.0, 'Yes', 'North', 'Sales',\n",
       "        Timestamp('2020-01-15 00:00:00'), False],\n",
       "       [2, 'Jane', 34, 'F', 62000.0, 22.1, 1.0, 'No', 'South',\n",
       "        'Marketing', Timestamp('2019-06-23 00:00:00'), True],\n",
       "       [3, 'Bob', 45, 'M', 70000.0, 27.8, 3.0, 'Yes', 'East', 'IT',\n",
       "        Timestamp('2015-09-10 00:00:00'), False],\n",
       "       [4, 'Alice', 29, 'F', 58000.0, 23.4, 0.0, 'No', 'West', 'HR',\n",
       "        Timestamp('2021-03-12 00:00:00'), False],\n",
       "       [5, 'Mike', 38, 'M', 65000.0, 28.2, nan, 'Yes', 'North',\n",
       "        'Finance', Timestamp('2018-12-01 00:00:00'), True],\n",
       "       [6, 'Linda', 31, 'F', 60000.0, 21.9, 2.0, 'No', 'South', 'IT',\n",
       "        Timestamp('2020-07-08 00:00:00'), False],\n",
       "       [7, 'Steve', 42, 'M', 72000.0, 26.5, 1.0, 'Yes', 'East',\n",
       "        'Marketing', Timestamp('2016-11-20 00:00:00'), True],\n",
       "       [8, 'Karen', 36, 'F', nan, 24.9, 2.0, 'No', 'West', 'Sales',\n",
       "        Timestamp('2017-04-30 00:00:00'), False],\n",
       "       [9, 'Tom', 39, 'M', 68000.0, 29.1, 3.0, 'Yes', 'North', 'Finance',\n",
       "        Timestamp('2015-05-14 00:00:00'), False],\n",
       "       [10, 'Susan', 33, 'F', 61000.0, 23.0, 1.0, 'No', 'South', 'HR',\n",
       "        Timestamp('2019-08-25 00:00:00'), False]], dtype=object)"
      ]
     },
     "execution_count": 154,
     "metadata": {},
     "output_type": "execute_result"
    }
   ],
   "source": [
    "main_dataset.values"
   ]
  },
  {
   "cell_type": "code",
   "execution_count": 155,
   "id": "45c8c749",
   "metadata": {},
   "outputs": [
    {
     "data": {
      "text/html": [
       "<div>\n",
       "<style scoped>\n",
       "    .dataframe tbody tr th:only-of-type {\n",
       "        vertical-align: middle;\n",
       "    }\n",
       "\n",
       "    .dataframe tbody tr th {\n",
       "        vertical-align: top;\n",
       "    }\n",
       "\n",
       "    .dataframe thead th {\n",
       "        text-align: right;\n",
       "    }\n",
       "</style>\n",
       "<table border=\"1\" class=\"dataframe\">\n",
       "  <thead>\n",
       "    <tr style=\"text-align: right;\">\n",
       "      <th></th>\n",
       "      <th>0</th>\n",
       "      <th>1</th>\n",
       "      <th>2</th>\n",
       "      <th>3</th>\n",
       "      <th>4</th>\n",
       "      <th>5</th>\n",
       "      <th>6</th>\n",
       "      <th>7</th>\n",
       "      <th>8</th>\n",
       "      <th>9</th>\n",
       "    </tr>\n",
       "  </thead>\n",
       "  <tbody>\n",
       "    <tr>\n",
       "      <th>id</th>\n",
       "      <td>1</td>\n",
       "      <td>2</td>\n",
       "      <td>3</td>\n",
       "      <td>4</td>\n",
       "      <td>5</td>\n",
       "      <td>6</td>\n",
       "      <td>7</td>\n",
       "      <td>8</td>\n",
       "      <td>9</td>\n",
       "      <td>10</td>\n",
       "    </tr>\n",
       "    <tr>\n",
       "      <th>name</th>\n",
       "      <td>John</td>\n",
       "      <td>Jane</td>\n",
       "      <td>Bob</td>\n",
       "      <td>Alice</td>\n",
       "      <td>Mike</td>\n",
       "      <td>Linda</td>\n",
       "      <td>Steve</td>\n",
       "      <td>Karen</td>\n",
       "      <td>Tom</td>\n",
       "      <td>Susan</td>\n",
       "    </tr>\n",
       "    <tr>\n",
       "      <th>age</th>\n",
       "      <td>28</td>\n",
       "      <td>34</td>\n",
       "      <td>45</td>\n",
       "      <td>29</td>\n",
       "      <td>38</td>\n",
       "      <td>31</td>\n",
       "      <td>42</td>\n",
       "      <td>36</td>\n",
       "      <td>39</td>\n",
       "      <td>33</td>\n",
       "    </tr>\n",
       "    <tr>\n",
       "      <th>sex</th>\n",
       "      <td>M</td>\n",
       "      <td>F</td>\n",
       "      <td>M</td>\n",
       "      <td>F</td>\n",
       "      <td>M</td>\n",
       "      <td>F</td>\n",
       "      <td>M</td>\n",
       "      <td>F</td>\n",
       "      <td>M</td>\n",
       "      <td>F</td>\n",
       "    </tr>\n",
       "    <tr>\n",
       "      <th>salary</th>\n",
       "      <td>55000.0</td>\n",
       "      <td>62000.0</td>\n",
       "      <td>70000.0</td>\n",
       "      <td>58000.0</td>\n",
       "      <td>65000.0</td>\n",
       "      <td>60000.0</td>\n",
       "      <td>72000.0</td>\n",
       "      <td>NaN</td>\n",
       "      <td>68000.0</td>\n",
       "      <td>61000.0</td>\n",
       "    </tr>\n",
       "    <tr>\n",
       "      <th>bmi</th>\n",
       "      <td>24.5</td>\n",
       "      <td>22.1</td>\n",
       "      <td>27.8</td>\n",
       "      <td>23.4</td>\n",
       "      <td>28.2</td>\n",
       "      <td>21.9</td>\n",
       "      <td>26.5</td>\n",
       "      <td>24.9</td>\n",
       "      <td>29.1</td>\n",
       "      <td>23.0</td>\n",
       "    </tr>\n",
       "    <tr>\n",
       "      <th>children</th>\n",
       "      <td>2.0</td>\n",
       "      <td>1.0</td>\n",
       "      <td>3.0</td>\n",
       "      <td>0.0</td>\n",
       "      <td>NaN</td>\n",
       "      <td>2.0</td>\n",
       "      <td>1.0</td>\n",
       "      <td>2.0</td>\n",
       "      <td>3.0</td>\n",
       "      <td>1.0</td>\n",
       "    </tr>\n",
       "    <tr>\n",
       "      <th>smoker</th>\n",
       "      <td>Yes</td>\n",
       "      <td>No</td>\n",
       "      <td>Yes</td>\n",
       "      <td>No</td>\n",
       "      <td>Yes</td>\n",
       "      <td>No</td>\n",
       "      <td>Yes</td>\n",
       "      <td>No</td>\n",
       "      <td>Yes</td>\n",
       "      <td>No</td>\n",
       "    </tr>\n",
       "    <tr>\n",
       "      <th>region</th>\n",
       "      <td>North</td>\n",
       "      <td>South</td>\n",
       "      <td>East</td>\n",
       "      <td>West</td>\n",
       "      <td>North</td>\n",
       "      <td>South</td>\n",
       "      <td>East</td>\n",
       "      <td>West</td>\n",
       "      <td>North</td>\n",
       "      <td>South</td>\n",
       "    </tr>\n",
       "    <tr>\n",
       "      <th>department</th>\n",
       "      <td>Sales</td>\n",
       "      <td>Marketing</td>\n",
       "      <td>IT</td>\n",
       "      <td>HR</td>\n",
       "      <td>Finance</td>\n",
       "      <td>IT</td>\n",
       "      <td>Marketing</td>\n",
       "      <td>Sales</td>\n",
       "      <td>Finance</td>\n",
       "      <td>HR</td>\n",
       "    </tr>\n",
       "    <tr>\n",
       "      <th>join_date</th>\n",
       "      <td>2020-01-15 00:00:00</td>\n",
       "      <td>2019-06-23 00:00:00</td>\n",
       "      <td>2015-09-10 00:00:00</td>\n",
       "      <td>2021-03-12 00:00:00</td>\n",
       "      <td>2018-12-01 00:00:00</td>\n",
       "      <td>2020-07-08 00:00:00</td>\n",
       "      <td>2016-11-20 00:00:00</td>\n",
       "      <td>2017-04-30 00:00:00</td>\n",
       "      <td>2015-05-14 00:00:00</td>\n",
       "      <td>2019-08-25 00:00:00</td>\n",
       "    </tr>\n",
       "    <tr>\n",
       "      <th>is_manager</th>\n",
       "      <td>False</td>\n",
       "      <td>True</td>\n",
       "      <td>False</td>\n",
       "      <td>False</td>\n",
       "      <td>True</td>\n",
       "      <td>False</td>\n",
       "      <td>True</td>\n",
       "      <td>False</td>\n",
       "      <td>False</td>\n",
       "      <td>False</td>\n",
       "    </tr>\n",
       "  </tbody>\n",
       "</table>\n",
       "</div>"
      ],
      "text/plain": [
       "                              0                    1                    2  \\\n",
       "id                            1                    2                    3   \n",
       "name                       John                 Jane                  Bob   \n",
       "age                          28                   34                   45   \n",
       "sex                           M                    F                    M   \n",
       "salary                  55000.0              62000.0              70000.0   \n",
       "bmi                        24.5                 22.1                 27.8   \n",
       "children                    2.0                  1.0                  3.0   \n",
       "smoker                      Yes                   No                  Yes   \n",
       "region                    North                South                 East   \n",
       "department                Sales            Marketing                   IT   \n",
       "join_date   2020-01-15 00:00:00  2019-06-23 00:00:00  2015-09-10 00:00:00   \n",
       "is_manager                False                 True                False   \n",
       "\n",
       "                              3                    4                    5  \\\n",
       "id                            4                    5                    6   \n",
       "name                      Alice                 Mike                Linda   \n",
       "age                          29                   38                   31   \n",
       "sex                           F                    M                    F   \n",
       "salary                  58000.0              65000.0              60000.0   \n",
       "bmi                        23.4                 28.2                 21.9   \n",
       "children                    0.0                  NaN                  2.0   \n",
       "smoker                       No                  Yes                   No   \n",
       "region                     West                North                South   \n",
       "department                   HR              Finance                   IT   \n",
       "join_date   2021-03-12 00:00:00  2018-12-01 00:00:00  2020-07-08 00:00:00   \n",
       "is_manager                False                 True                False   \n",
       "\n",
       "                              6                    7                    8  \\\n",
       "id                            7                    8                    9   \n",
       "name                      Steve                Karen                  Tom   \n",
       "age                          42                   36                   39   \n",
       "sex                           M                    F                    M   \n",
       "salary                  72000.0                  NaN              68000.0   \n",
       "bmi                        26.5                 24.9                 29.1   \n",
       "children                    1.0                  2.0                  3.0   \n",
       "smoker                      Yes                   No                  Yes   \n",
       "region                     East                 West                North   \n",
       "department            Marketing                Sales              Finance   \n",
       "join_date   2016-11-20 00:00:00  2017-04-30 00:00:00  2015-05-14 00:00:00   \n",
       "is_manager                 True                False                False   \n",
       "\n",
       "                              9  \n",
       "id                           10  \n",
       "name                      Susan  \n",
       "age                          33  \n",
       "sex                           F  \n",
       "salary                  61000.0  \n",
       "bmi                        23.0  \n",
       "children                    1.0  \n",
       "smoker                       No  \n",
       "region                    South  \n",
       "department                   HR  \n",
       "join_date   2019-08-25 00:00:00  \n",
       "is_manager                False  "
      ]
     },
     "execution_count": 155,
     "metadata": {},
     "output_type": "execute_result"
    }
   ],
   "source": [
    "main_dataset.T"
   ]
  },
  {
   "cell_type": "code",
   "execution_count": 156,
   "id": "e33a760c",
   "metadata": {},
   "outputs": [
    {
     "data": {
      "text/plain": [
       "np.int64(10)"
      ]
     },
     "execution_count": 156,
     "metadata": {},
     "output_type": "execute_result"
    }
   ],
   "source": [
    "main_dataset.count()['id']"
   ]
  },
  {
   "cell_type": "code",
   "execution_count": 157,
   "id": "bd6b00b3",
   "metadata": {},
   "outputs": [
    {
     "data": {
      "text/plain": [
       "np.float64(9.0)"
      ]
     },
     "execution_count": 157,
     "metadata": {},
     "output_type": "execute_result"
    }
   ],
   "source": [
    "main_dataset.count()['salary'].mean()"
   ]
  },
  {
   "cell_type": "code",
   "execution_count": 158,
   "id": "05709364",
   "metadata": {},
   "outputs": [
    {
     "data": {
      "text/plain": [
       "np.float64(63444.444444444445)"
      ]
     },
     "execution_count": 158,
     "metadata": {},
     "output_type": "execute_result"
    }
   ],
   "source": [
    "main_dataset['salary'].mean()"
   ]
  },
  {
   "cell_type": "code",
   "execution_count": 159,
   "id": "32cf251f",
   "metadata": {},
   "outputs": [
    {
     "name": "stdout",
     "output_type": "stream",
     "text": [
      "   id   name  age sex        salary   bmi  children smoker region department  \\\n",
      "0   1   John   28   M  55000.000000  24.5       2.0    Yes  North      Sales   \n",
      "1   2   Jane   34   F  62000.000000  22.1       1.0     No  South  Marketing   \n",
      "2   3    Bob   45   M  70000.000000  27.8       3.0    Yes   East         IT   \n",
      "3   4  Alice   29   F  58000.000000  23.4       0.0     No   West         HR   \n",
      "4   5   Mike   38   M  65000.000000  28.2       NaN    Yes  North    Finance   \n",
      "5   6  Linda   31   F  60000.000000  21.9       2.0     No  South         IT   \n",
      "6   7  Steve   42   M  72000.000000  26.5       1.0    Yes   East  Marketing   \n",
      "7   8  Karen   36   F  63444.444444  24.9       2.0     No   West      Sales   \n",
      "8   9    Tom   39   M  68000.000000  29.1       3.0    Yes  North    Finance   \n",
      "9  10  Susan   33   F  61000.000000  23.0       1.0     No  South         HR   \n",
      "\n",
      "   join_date  is_manager  \n",
      "0 2020-01-15       False  \n",
      "1 2019-06-23        True  \n",
      "2 2015-09-10       False  \n",
      "3 2021-03-12       False  \n",
      "4 2018-12-01        True  \n",
      "5 2020-07-08       False  \n",
      "6 2016-11-20        True  \n",
      "7 2017-04-30       False  \n",
      "8 2015-05-14       False  \n",
      "9 2019-08-25       False  \n"
     ]
    }
   ],
   "source": [
    "main_dataset['salary'] = main_dataset['salary'].fillna(main_dataset['salary'].mean())\n",
    "print(main_dataset)"
   ]
  },
  {
   "cell_type": "code",
   "execution_count": 160,
   "id": "60e7961d",
   "metadata": {},
   "outputs": [
    {
     "name": "stdout",
     "output_type": "stream",
     "text": [
      "   id   name  age sex        salary   bmi  children smoker region department  \\\n",
      "0   1   John   28   M  55000.000000  24.5  2.000000    Yes  North      Sales   \n",
      "1   2   Jane   34   F  62000.000000  22.1  1.000000     No  South  Marketing   \n",
      "2   3    Bob   45   M  70000.000000  27.8  3.000000    Yes   East         IT   \n",
      "3   4  Alice   29   F  58000.000000  23.4  0.000000     No   West         HR   \n",
      "4   5   Mike   38   M  65000.000000  28.2  1.666667    Yes  North    Finance   \n",
      "5   6  Linda   31   F  60000.000000  21.9  2.000000     No  South         IT   \n",
      "6   7  Steve   42   M  72000.000000  26.5  1.000000    Yes   East  Marketing   \n",
      "7   8  Karen   36   F  63444.444444  24.9  2.000000     No   West      Sales   \n",
      "8   9    Tom   39   M  68000.000000  29.1  3.000000    Yes  North    Finance   \n",
      "9  10  Susan   33   F  61000.000000  23.0  1.000000     No  South         HR   \n",
      "\n",
      "   join_date  is_manager  \n",
      "0 2020-01-15       False  \n",
      "1 2019-06-23        True  \n",
      "2 2015-09-10       False  \n",
      "3 2021-03-12       False  \n",
      "4 2018-12-01        True  \n",
      "5 2020-07-08       False  \n",
      "6 2016-11-20        True  \n",
      "7 2017-04-30       False  \n",
      "8 2015-05-14       False  \n",
      "9 2019-08-25       False  \n"
     ]
    }
   ],
   "source": [
    "main_dataset['children'] = main_dataset['children'].fillna(main_dataset['children'].mean())\n",
    "print(main_dataset)"
   ]
  },
  {
   "cell_type": "code",
   "execution_count": 161,
   "id": "0fbb100e",
   "metadata": {},
   "outputs": [
    {
     "data": {
      "text/plain": [
       "np.float64(72000.0)"
      ]
     },
     "execution_count": 161,
     "metadata": {},
     "output_type": "execute_result"
    }
   ],
   "source": [
    "main_dataset['salary'].max()"
   ]
  },
  {
   "cell_type": "code",
   "execution_count": 162,
   "id": "a21207ac",
   "metadata": {},
   "outputs": [
    {
     "data": {
      "text/plain": [
       "np.float64(55000.0)"
      ]
     },
     "execution_count": 162,
     "metadata": {},
     "output_type": "execute_result"
    }
   ],
   "source": [
    "main_dataset['salary'].min()"
   ]
  },
  {
   "cell_type": "code",
   "execution_count": 163,
   "id": "d0be6859",
   "metadata": {},
   "outputs": [
    {
     "data": {
      "text/plain": [
       "np.float64(3.0)"
      ]
     },
     "execution_count": 163,
     "metadata": {},
     "output_type": "execute_result"
    }
   ],
   "source": [
    "main_dataset1['children'].max()"
   ]
  },
  {
   "cell_type": "code",
   "execution_count": 164,
   "metadata": {},
   "outputs": [
    {
     "data": {
      "text/plain": [
       "np.float64(0.0)"
      ]
     },
     "execution_count": 164,
     "metadata": {},
     "output_type": "execute_result"
    }
   ],
   "source": [
    "main_dataset1['children'].min()"
   ]
  },
  {
   "cell_type": "code",
   "execution_count": 165,
   "id": "7ed31855",
   "metadata": {},
   "outputs": [
    {
     "data": {
      "text/plain": [
       "np.float64(2.0)"
      ]
     },
     "execution_count": 165,
     "metadata": {},
     "output_type": "execute_result"
    }
   ],
   "source": [
    "main_dataset1['children'].median()"
   ]
  },
  {
   "cell_type": "code",
   "execution_count": 166,
   "id": "52d68f06",
   "metadata": {},
   "outputs": [
    {
     "data": {
      "text/plain": [
       "np.float64(1.0)"
      ]
     },
     "execution_count": 166,
     "metadata": {},
     "output_type": "execute_result"
    }
   ],
   "source": [
    "main_dataset1['children'].quantile(.25)"
   ]
  },
  {
   "cell_type": "code",
   "execution_count": 167,
   "metadata": {},
   "outputs": [
    {
     "data": {
      "text/plain": [
       "array([28, 34, 45, 29, 38, 31, 42, 36, 39, 33])"
      ]
     },
     "execution_count": 167,
     "metadata": {},
     "output_type": "execute_result"
    }
   ],
   "source": [
    "main_dataset['age'].unique()"
   ]
  },
  {
   "cell_type": "code",
   "execution_count": 168,
   "metadata": {},
   "outputs": [
    {
     "data": {
      "text/plain": [
       "array(['Sales', 'Marketing', 'IT', 'HR', 'Finance'], dtype=object)"
      ]
     },
     "execution_count": 168,
     "metadata": {},
     "output_type": "execute_result"
    }
   ],
   "source": [
    "main_dataset['department'].unique()"
   ]
  },
  {
   "cell_type": "code",
   "execution_count": 169,
   "id": "1e35a7a3",
   "metadata": {},
   "outputs": [
    {
     "data": {
      "text/plain": [
       "id            10\n",
       "name          10\n",
       "age           10\n",
       "sex            2\n",
       "salary        10\n",
       "bmi           10\n",
       "children       5\n",
       "smoker         2\n",
       "region         4\n",
       "department     5\n",
       "join_date     10\n",
       "is_manager     2\n",
       "dtype: int64"
      ]
     },
     "execution_count": 169,
     "metadata": {},
     "output_type": "execute_result"
    }
   ],
   "source": [
    "main_dataset.nunique()"
   ]
  },
  {
   "cell_type": "code",
   "execution_count": 170,
   "id": "e64e9201",
   "metadata": {},
   "outputs": [
    {
     "data": {
      "text/plain": [
       "id            10\n",
       "name          10\n",
       "age           10\n",
       "sex           10\n",
       "salary        10\n",
       "bmi           10\n",
       "children      10\n",
       "smoker        10\n",
       "region        10\n",
       "department    10\n",
       "join_date     10\n",
       "is_manager    10\n",
       "dtype: int64"
      ]
     },
     "execution_count": 170,
     "metadata": {},
     "output_type": "execute_result"
    }
   ],
   "source": [
    "main_dataset.count()"
   ]
  },
  {
   "cell_type": "code",
   "execution_count": 171,
   "id": "059f5c39",
   "metadata": {},
   "outputs": [
    {
     "data": {
      "text/html": [
       "<div>\n",
       "<style scoped>\n",
       "    .dataframe tbody tr th:only-of-type {\n",
       "        vertical-align: middle;\n",
       "    }\n",
       "\n",
       "    .dataframe tbody tr th {\n",
       "        vertical-align: top;\n",
       "    }\n",
       "\n",
       "    .dataframe thead th {\n",
       "        text-align: right;\n",
       "    }\n",
       "</style>\n",
       "<table border=\"1\" class=\"dataframe\">\n",
       "  <thead>\n",
       "    <tr style=\"text-align: right;\">\n",
       "      <th></th>\n",
       "      <th>id</th>\n",
       "      <th>name</th>\n",
       "      <th>age</th>\n",
       "      <th>sex</th>\n",
       "      <th>salary</th>\n",
       "      <th>bmi</th>\n",
       "      <th>children</th>\n",
       "      <th>smoker</th>\n",
       "      <th>region</th>\n",
       "      <th>department</th>\n",
       "      <th>join_date</th>\n",
       "      <th>is_manager</th>\n",
       "    </tr>\n",
       "  </thead>\n",
       "  <tbody>\n",
       "    <tr>\n",
       "      <th>0</th>\n",
       "      <td>1</td>\n",
       "      <td>John</td>\n",
       "      <td>28</td>\n",
       "      <td>M</td>\n",
       "      <td>55000.000000</td>\n",
       "      <td>24.5</td>\n",
       "      <td>2.000000</td>\n",
       "      <td>Yes</td>\n",
       "      <td>North</td>\n",
       "      <td>Sales</td>\n",
       "      <td>2020-01-15</td>\n",
       "      <td>False</td>\n",
       "    </tr>\n",
       "    <tr>\n",
       "      <th>1</th>\n",
       "      <td>2</td>\n",
       "      <td>Jane</td>\n",
       "      <td>34</td>\n",
       "      <td>F</td>\n",
       "      <td>62000.000000</td>\n",
       "      <td>22.1</td>\n",
       "      <td>1.000000</td>\n",
       "      <td>No</td>\n",
       "      <td>South</td>\n",
       "      <td>Marketing</td>\n",
       "      <td>2019-06-23</td>\n",
       "      <td>True</td>\n",
       "    </tr>\n",
       "    <tr>\n",
       "      <th>2</th>\n",
       "      <td>3</td>\n",
       "      <td>Bob</td>\n",
       "      <td>45</td>\n",
       "      <td>M</td>\n",
       "      <td>70000.000000</td>\n",
       "      <td>27.8</td>\n",
       "      <td>3.000000</td>\n",
       "      <td>Yes</td>\n",
       "      <td>East</td>\n",
       "      <td>IT</td>\n",
       "      <td>2015-09-10</td>\n",
       "      <td>False</td>\n",
       "    </tr>\n",
       "    <tr>\n",
       "      <th>3</th>\n",
       "      <td>4</td>\n",
       "      <td>Alice</td>\n",
       "      <td>29</td>\n",
       "      <td>F</td>\n",
       "      <td>58000.000000</td>\n",
       "      <td>23.4</td>\n",
       "      <td>0.000000</td>\n",
       "      <td>No</td>\n",
       "      <td>West</td>\n",
       "      <td>HR</td>\n",
       "      <td>2021-03-12</td>\n",
       "      <td>False</td>\n",
       "    </tr>\n",
       "    <tr>\n",
       "      <th>4</th>\n",
       "      <td>5</td>\n",
       "      <td>Mike</td>\n",
       "      <td>38</td>\n",
       "      <td>M</td>\n",
       "      <td>65000.000000</td>\n",
       "      <td>28.2</td>\n",
       "      <td>1.666667</td>\n",
       "      <td>Yes</td>\n",
       "      <td>North</td>\n",
       "      <td>Finance</td>\n",
       "      <td>2018-12-01</td>\n",
       "      <td>True</td>\n",
       "    </tr>\n",
       "    <tr>\n",
       "      <th>5</th>\n",
       "      <td>6</td>\n",
       "      <td>Linda</td>\n",
       "      <td>31</td>\n",
       "      <td>F</td>\n",
       "      <td>60000.000000</td>\n",
       "      <td>21.9</td>\n",
       "      <td>2.000000</td>\n",
       "      <td>No</td>\n",
       "      <td>South</td>\n",
       "      <td>IT</td>\n",
       "      <td>2020-07-08</td>\n",
       "      <td>False</td>\n",
       "    </tr>\n",
       "    <tr>\n",
       "      <th>6</th>\n",
       "      <td>7</td>\n",
       "      <td>Steve</td>\n",
       "      <td>42</td>\n",
       "      <td>M</td>\n",
       "      <td>72000.000000</td>\n",
       "      <td>26.5</td>\n",
       "      <td>1.000000</td>\n",
       "      <td>Yes</td>\n",
       "      <td>East</td>\n",
       "      <td>Marketing</td>\n",
       "      <td>2016-11-20</td>\n",
       "      <td>True</td>\n",
       "    </tr>\n",
       "    <tr>\n",
       "      <th>7</th>\n",
       "      <td>8</td>\n",
       "      <td>Karen</td>\n",
       "      <td>36</td>\n",
       "      <td>F</td>\n",
       "      <td>63444.444444</td>\n",
       "      <td>24.9</td>\n",
       "      <td>2.000000</td>\n",
       "      <td>No</td>\n",
       "      <td>West</td>\n",
       "      <td>Sales</td>\n",
       "      <td>2017-04-30</td>\n",
       "      <td>False</td>\n",
       "    </tr>\n",
       "    <tr>\n",
       "      <th>8</th>\n",
       "      <td>9</td>\n",
       "      <td>Tom</td>\n",
       "      <td>39</td>\n",
       "      <td>M</td>\n",
       "      <td>68000.000000</td>\n",
       "      <td>29.1</td>\n",
       "      <td>3.000000</td>\n",
       "      <td>Yes</td>\n",
       "      <td>North</td>\n",
       "      <td>Finance</td>\n",
       "      <td>2015-05-14</td>\n",
       "      <td>False</td>\n",
       "    </tr>\n",
       "    <tr>\n",
       "      <th>9</th>\n",
       "      <td>10</td>\n",
       "      <td>Susan</td>\n",
       "      <td>33</td>\n",
       "      <td>F</td>\n",
       "      <td>61000.000000</td>\n",
       "      <td>23.0</td>\n",
       "      <td>1.000000</td>\n",
       "      <td>No</td>\n",
       "      <td>South</td>\n",
       "      <td>HR</td>\n",
       "      <td>2019-08-25</td>\n",
       "      <td>False</td>\n",
       "    </tr>\n",
       "  </tbody>\n",
       "</table>\n",
       "</div>"
      ],
      "text/plain": [
       "   id   name  age sex        salary   bmi  children smoker region department  \\\n",
       "0   1   John   28   M  55000.000000  24.5  2.000000    Yes  North      Sales   \n",
       "1   2   Jane   34   F  62000.000000  22.1  1.000000     No  South  Marketing   \n",
       "2   3    Bob   45   M  70000.000000  27.8  3.000000    Yes   East         IT   \n",
       "3   4  Alice   29   F  58000.000000  23.4  0.000000     No   West         HR   \n",
       "4   5   Mike   38   M  65000.000000  28.2  1.666667    Yes  North    Finance   \n",
       "5   6  Linda   31   F  60000.000000  21.9  2.000000     No  South         IT   \n",
       "6   7  Steve   42   M  72000.000000  26.5  1.000000    Yes   East  Marketing   \n",
       "7   8  Karen   36   F  63444.444444  24.9  2.000000     No   West      Sales   \n",
       "8   9    Tom   39   M  68000.000000  29.1  3.000000    Yes  North    Finance   \n",
       "9  10  Susan   33   F  61000.000000  23.0  1.000000     No  South         HR   \n",
       "\n",
       "   join_date  is_manager  \n",
       "0 2020-01-15       False  \n",
       "1 2019-06-23        True  \n",
       "2 2015-09-10       False  \n",
       "3 2021-03-12       False  \n",
       "4 2018-12-01        True  \n",
       "5 2020-07-08       False  \n",
       "6 2016-11-20        True  \n",
       "7 2017-04-30       False  \n",
       "8 2015-05-14       False  \n",
       "9 2019-08-25       False  "
      ]
     },
     "execution_count": 171,
     "metadata": {},
     "output_type": "execute_result"
    }
   ],
   "source": [
    "main_dataset"
   ]
  },
  {
   "cell_type": "code",
   "execution_count": 172,
   "metadata": {},
   "outputs": [
    {
     "data": {
      "text/plain": [
       "id  name   age  sex  salary        bmi   children  smoker  region  department  join_date   is_manager\n",
       "1   John   28   M    55000.000000  24.5  2.000000  Yes     North   Sales       2020-01-15  False         1\n",
       "2   Jane   34   F    62000.000000  22.1  1.000000  No      South   Marketing   2019-06-23  True          1\n",
       "3   Bob    45   M    70000.000000  27.8  3.000000  Yes     East    IT          2015-09-10  False         1\n",
       "4   Alice  29   F    58000.000000  23.4  0.000000  No      West    HR          2021-03-12  False         1\n",
       "5   Mike   38   M    65000.000000  28.2  1.666667  Yes     North   Finance     2018-12-01  True          1\n",
       "6   Linda  31   F    60000.000000  21.9  2.000000  No      South   IT          2020-07-08  False         1\n",
       "7   Steve  42   M    72000.000000  26.5  1.000000  Yes     East    Marketing   2016-11-20  True          1\n",
       "8   Karen  36   F    63444.444444  24.9  2.000000  No      West    Sales       2017-04-30  False         1\n",
       "9   Tom    39   M    68000.000000  29.1  3.000000  Yes     North   Finance     2015-05-14  False         1\n",
       "10  Susan  33   F    61000.000000  23.0  1.000000  No      South   HR          2019-08-25  False         1\n",
       "Name: count, dtype: int64"
      ]
     },
     "execution_count": 172,
     "metadata": {},
     "output_type": "execute_result"
    }
   ],
   "source": [
    "main_dataset.value_counts()"
   ]
  },
  {
   "cell_type": "code",
   "execution_count": 173,
   "metadata": {},
   "outputs": [
    {
     "data": {
      "text/plain": [
       "id  name   age  sex  salary        bmi   children  smoker  region  department  join_date   is_manager\n",
       "1   John   28   M    55000.000000  24.5  2.000000  Yes     North   Sales       2020-01-15  False         0.1\n",
       "2   Jane   34   F    62000.000000  22.1  1.000000  No      South   Marketing   2019-06-23  True          0.1\n",
       "3   Bob    45   M    70000.000000  27.8  3.000000  Yes     East    IT          2015-09-10  False         0.1\n",
       "4   Alice  29   F    58000.000000  23.4  0.000000  No      West    HR          2021-03-12  False         0.1\n",
       "5   Mike   38   M    65000.000000  28.2  1.666667  Yes     North   Finance     2018-12-01  True          0.1\n",
       "6   Linda  31   F    60000.000000  21.9  2.000000  No      South   IT          2020-07-08  False         0.1\n",
       "7   Steve  42   M    72000.000000  26.5  1.000000  Yes     East    Marketing   2016-11-20  True          0.1\n",
       "8   Karen  36   F    63444.444444  24.9  2.000000  No      West    Sales       2017-04-30  False         0.1\n",
       "9   Tom    39   M    68000.000000  29.1  3.000000  Yes     North   Finance     2015-05-14  False         0.1\n",
       "10  Susan  33   F    61000.000000  23.0  1.000000  No      South   HR          2019-08-25  False         0.1\n",
       "Name: proportion, dtype: float64"
      ]
     },
     "execution_count": 173,
     "metadata": {},
     "output_type": "execute_result"
    }
   ],
   "source": [
    "main_dataset.value_counts(normalize=True)"
   ]
  },
  {
   "cell_type": "code",
   "execution_count": null,
   "id": "ca0b9a12",
   "metadata": {},
   "outputs": [],
   "source": []
  },
  {
   "cell_type": "code",
   "execution_count": null,
   "id": "87d0af27",
   "metadata": {},
   "outputs": [],
   "source": []
  },
  {
   "cell_type": "code",
   "execution_count": null,
   "metadata": {},
   "outputs": [],
   "source": []
  },
  {
   "cell_type": "code",
   "execution_count": null,
   "id": "2b444438",
   "metadata": {},
   "outputs": [],
   "source": []
  },
  {
   "cell_type": "code",
   "execution_count": null,
   "id": "2631be55",
   "metadata": {},
   "outputs": [],
   "source": []
  },
  {
   "cell_type": "code",
   "execution_count": null,
   "metadata": {},
   "outputs": [],
   "source": []
  },
  {
   "cell_type": "code",
   "execution_count": null,
   "id": "3941cf75",
   "metadata": {},
   "outputs": [],
   "source": []
  }
 ],
 "metadata": {
  "kernelspec": {
   "display_name": "Python 3",
   "language": "python",
   "name": "python3"
  },
  "language_info": {
   "codemirror_mode": {
    "name": "ipython",
    "version": 3
   },
   "file_extension": ".py",
   "mimetype": "text/x-python",
   "name": "python",
   "nbconvert_exporter": "python",
   "pygments_lexer": "ipython3",
   "version": "3.11.4"
  }
 },
 "nbformat": 4,
 "nbformat_minor": 5
}
