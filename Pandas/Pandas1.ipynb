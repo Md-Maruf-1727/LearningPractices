{
 "cells": [
  {
   "cell_type": "code",
   "execution_count": 4,
   "id": "deb08501",
   "metadata": {},
   "outputs": [
    {
     "data": {
      "text/plain": [
       "0    3\n",
       "1    5\n",
       "2    7\n",
       "dtype: int64"
      ]
     },
     "execution_count": 4,
     "metadata": {},
     "output_type": "execute_result"
    }
   ],
   "source": [
    "import pandas as pd\n",
    "a = [3,5,7]\n",
    "df = pd.Series(a)\n",
    "df"
   ]
  },
  {
   "cell_type": "code",
   "execution_count": 5,
   "id": "a63b9633",
   "metadata": {},
   "outputs": [
    {
     "name": "stdout",
     "output_type": "stream",
     "text": [
      "<class 'pandas.core.series.Series'>\n",
      "RangeIndex: 3 entries, 0 to 2\n",
      "Series name: None\n",
      "Non-Null Count  Dtype\n",
      "--------------  -----\n",
      "3 non-null      int64\n",
      "dtypes: int64(1)\n",
      "memory usage: 156.0 bytes\n"
     ]
    }
   ],
   "source": [
    "df.info()"
   ]
  },
  {
   "cell_type": "code",
   "execution_count": 6,
   "id": "9edb7902",
   "metadata": {},
   "outputs": [
    {
     "data": {
      "text/plain": [
       "0    3\n",
       "1    5\n",
       "2    7\n",
       "dtype: int64"
      ]
     },
     "execution_count": 6,
     "metadata": {},
     "output_type": "execute_result"
    }
   ],
   "source": [
    "a = (3,5,7)\n",
    "df = pd.Series(a)\n",
    "df"
   ]
  },
  {
   "cell_type": "code",
   "execution_count": null,
   "id": "abf971a2",
   "metadata": {},
   "outputs": [
    {
     "data": {
      "text/plain": [
       "Name      [Maruf, Jidni]\n",
       "Roll    [884598, 884588]\n",
       "dtype: object"
      ]
     },
     "execution_count": 12,
     "metadata": {},
     "output_type": "execute_result"
    }
   ],
   "source": [
    "dic = {\n",
    "    'Name':['Maruf', 'Jidni'],\n",
    "    'Roll': [884598, 884588]\n",
    "    }\n",
    "df = pd.Series(dic)\n",
    "df"
   ]
  },
  {
   "cell_type": "code",
   "execution_count": 13,
   "id": "80d3e90f",
   "metadata": {},
   "outputs": [
    {
     "name": "stdout",
     "output_type": "stream",
     "text": [
      "<class 'pandas.core.series.Series'>\n",
      "Index: 2 entries, Name to Roll\n",
      "Series name: None\n",
      "Non-Null Count  Dtype \n",
      "--------------  ----- \n",
      "2 non-null      object\n",
      "dtypes: object(1)\n",
      "memory usage: 140.0+ bytes\n"
     ]
    }
   ],
   "source": [
    "df.info()"
   ]
  },
  {
   "cell_type": "code",
   "execution_count": 18,
   "id": "2dd3d73a",
   "metadata": {},
   "outputs": [
    {
     "data": {
      "text/plain": [
       "Name    [Maruf, Rajin, Jidni]\n",
       "Roll             [23, 56, 21]\n",
       "dep          [cst, auto, cst]\n",
       "dtype: object"
      ]
     },
     "execution_count": 18,
     "metadata": {},
     "output_type": "execute_result"
    }
   ],
   "source": [
    "dic = {\n",
    "    'Name' : ['Maruf', 'Rajin', 'Jidni'],\n",
    "    'Roll' : [23, 56, 21],\n",
    "    'dep' : ['cst', 'auto', 'cst']\n",
    "}\n",
    "df = pd.Series(dic, index=['Name', 'Roll', 'dep'])\n",
    "df"
   ]
  },
  {
   "cell_type": "code",
   "execution_count": 19,
   "id": "c3a85c57",
   "metadata": {},
   "outputs": [
    {
     "name": "stdout",
     "output_type": "stream",
     "text": [
      "<class 'pandas.core.series.Series'>\n",
      "Index: 3 entries, Name to dep\n",
      "Series name: None\n",
      "Non-Null Count  Dtype \n",
      "--------------  ----- \n",
      "3 non-null      object\n",
      "dtypes: object(1)\n",
      "memory usage: 156.0+ bytes\n"
     ]
    }
   ],
   "source": [
    "df.info()"
   ]
  },
  {
   "cell_type": "code",
   "execution_count": 31,
   "id": "8d0cda0d",
   "metadata": {},
   "outputs": [
    {
     "data": {
      "text/html": [
       "<div>\n",
       "<style scoped>\n",
       "    .dataframe tbody tr th:only-of-type {\n",
       "        vertical-align: middle;\n",
       "    }\n",
       "\n",
       "    .dataframe tbody tr th {\n",
       "        vertical-align: top;\n",
       "    }\n",
       "\n",
       "    .dataframe thead th {\n",
       "        text-align: right;\n",
       "    }\n",
       "</style>\n",
       "<table border=\"1\" class=\"dataframe\">\n",
       "  <thead>\n",
       "    <tr style=\"text-align: right;\">\n",
       "      <th></th>\n",
       "      <th>0</th>\n",
       "      <th>1</th>\n",
       "      <th>2</th>\n",
       "    </tr>\n",
       "  </thead>\n",
       "  <tbody>\n",
       "    <tr>\n",
       "      <th>0</th>\n",
       "      <td>3</td>\n",
       "      <td>5</td>\n",
       "      <td>7</td>\n",
       "    </tr>\n",
       "  </tbody>\n",
       "</table>\n",
       "</div>"
      ],
      "text/plain": [
       "   0  1  2\n",
       "0  3  5  7"
      ]
     },
     "execution_count": 31,
     "metadata": {},
     "output_type": "execute_result"
    }
   ],
   "source": [
    "a = [[3,5,7]]\n",
    "df = pd.DataFrame(a)\n",
    "df\n"
   ]
  },
  {
   "cell_type": "code",
   "execution_count": 27,
   "id": "139edd18",
   "metadata": {},
   "outputs": [
    {
     "name": "stdout",
     "output_type": "stream",
     "text": [
      "<class 'pandas.core.frame.DataFrame'>\n",
      "RangeIndex: 1 entries, 0 to 0\n",
      "Data columns (total 3 columns):\n",
      " #   Column  Non-Null Count  Dtype\n",
      "---  ------  --------------  -----\n",
      " 0   0       1 non-null      int64\n",
      " 1   1       1 non-null      int64\n",
      " 2   2       1 non-null      int64\n",
      "dtypes: int64(3)\n",
      "memory usage: 156.0 bytes\n"
     ]
    }
   ],
   "source": [
    "df.info()"
   ]
  },
  {
   "cell_type": "code",
   "execution_count": 26,
   "id": "193276bb",
   "metadata": {},
   "outputs": [
    {
     "data": {
      "text/html": [
       "<div>\n",
       "<style scoped>\n",
       "    .dataframe tbody tr th:only-of-type {\n",
       "        vertical-align: middle;\n",
       "    }\n",
       "\n",
       "    .dataframe tbody tr th {\n",
       "        vertical-align: top;\n",
       "    }\n",
       "\n",
       "    .dataframe thead th {\n",
       "        text-align: right;\n",
       "    }\n",
       "</style>\n",
       "<table border=\"1\" class=\"dataframe\">\n",
       "  <thead>\n",
       "    <tr style=\"text-align: right;\">\n",
       "      <th></th>\n",
       "      <th>0</th>\n",
       "    </tr>\n",
       "  </thead>\n",
       "  <tbody>\n",
       "    <tr>\n",
       "      <th>0</th>\n",
       "      <td>3</td>\n",
       "    </tr>\n",
       "    <tr>\n",
       "      <th>1</th>\n",
       "      <td>5</td>\n",
       "    </tr>\n",
       "    <tr>\n",
       "      <th>2</th>\n",
       "      <td>7</td>\n",
       "    </tr>\n",
       "  </tbody>\n",
       "</table>\n",
       "</div>"
      ],
      "text/plain": [
       "   0\n",
       "0  3\n",
       "1  5\n",
       "2  7"
      ]
     },
     "execution_count": 26,
     "metadata": {},
     "output_type": "execute_result"
    }
   ],
   "source": [
    "b = [3,5,7]\n",
    "df2 = pd.DataFrame(b)\n",
    "df2"
   ]
  },
  {
   "cell_type": "code",
   "execution_count": 28,
   "id": "4bf80948",
   "metadata": {},
   "outputs": [
    {
     "name": "stdout",
     "output_type": "stream",
     "text": [
      "<class 'pandas.core.frame.DataFrame'>\n",
      "RangeIndex: 3 entries, 0 to 2\n",
      "Data columns (total 1 columns):\n",
      " #   Column  Non-Null Count  Dtype\n",
      "---  ------  --------------  -----\n",
      " 0   0       3 non-null      int64\n",
      "dtypes: int64(1)\n",
      "memory usage: 156.0 bytes\n"
     ]
    }
   ],
   "source": [
    "df2.info()"
   ]
  },
  {
   "cell_type": "code",
   "execution_count": 32,
   "id": "12a4c1a4",
   "metadata": {},
   "outputs": [
    {
     "data": {
      "text/html": [
       "<div>\n",
       "<style scoped>\n",
       "    .dataframe tbody tr th:only-of-type {\n",
       "        vertical-align: middle;\n",
       "    }\n",
       "\n",
       "    .dataframe tbody tr th {\n",
       "        vertical-align: top;\n",
       "    }\n",
       "\n",
       "    .dataframe thead th {\n",
       "        text-align: right;\n",
       "    }\n",
       "</style>\n",
       "<table border=\"1\" class=\"dataframe\">\n",
       "  <thead>\n",
       "    <tr style=\"text-align: right;\">\n",
       "      <th></th>\n",
       "      <th>N1</th>\n",
       "      <th>N2</th>\n",
       "      <th>N3</th>\n",
       "    </tr>\n",
       "  </thead>\n",
       "  <tbody>\n",
       "    <tr>\n",
       "      <th>0</th>\n",
       "      <td>3</td>\n",
       "      <td>5</td>\n",
       "      <td>7</td>\n",
       "    </tr>\n",
       "  </tbody>\n",
       "</table>\n",
       "</div>"
      ],
      "text/plain": [
       "   N1  N2  N3\n",
       "0   3   5   7"
      ]
     },
     "execution_count": 32,
     "metadata": {},
     "output_type": "execute_result"
    }
   ],
   "source": [
    "a = [[3,5,7]]\n",
    "df = pd.DataFrame(a, columns=['N1', 'N2', 'N3'])\n",
    "df"
   ]
  },
  {
   "cell_type": "code",
   "execution_count": 33,
   "id": "eb329228",
   "metadata": {},
   "outputs": [
    {
     "name": "stdout",
     "output_type": "stream",
     "text": [
      "<class 'pandas.core.frame.DataFrame'>\n",
      "RangeIndex: 1 entries, 0 to 0\n",
      "Data columns (total 3 columns):\n",
      " #   Column  Non-Null Count  Dtype\n",
      "---  ------  --------------  -----\n",
      " 0   N1      1 non-null      int64\n",
      " 1   N2      1 non-null      int64\n",
      " 2   N3      1 non-null      int64\n",
      "dtypes: int64(3)\n",
      "memory usage: 156.0 bytes\n"
     ]
    }
   ],
   "source": [
    "df.info()"
   ]
  },
  {
   "cell_type": "code",
   "execution_count": 38,
   "id": "da41e04d",
   "metadata": {},
   "outputs": [
    {
     "data": {
      "text/html": [
       "<div>\n",
       "<style scoped>\n",
       "    .dataframe tbody tr th:only-of-type {\n",
       "        vertical-align: middle;\n",
       "    }\n",
       "\n",
       "    .dataframe tbody tr th {\n",
       "        vertical-align: top;\n",
       "    }\n",
       "\n",
       "    .dataframe thead th {\n",
       "        text-align: right;\n",
       "    }\n",
       "</style>\n",
       "<table border=\"1\" class=\"dataframe\">\n",
       "  <thead>\n",
       "    <tr style=\"text-align: right;\">\n",
       "      <th></th>\n",
       "      <th>Rolls</th>\n",
       "    </tr>\n",
       "  </thead>\n",
       "  <tbody>\n",
       "    <tr>\n",
       "      <th>0</th>\n",
       "      <td>3</td>\n",
       "    </tr>\n",
       "    <tr>\n",
       "      <th>1</th>\n",
       "      <td>5</td>\n",
       "    </tr>\n",
       "    <tr>\n",
       "      <th>2</th>\n",
       "      <td>7</td>\n",
       "    </tr>\n",
       "  </tbody>\n",
       "</table>\n",
       "</div>"
      ],
      "text/plain": [
       "   Rolls\n",
       "0      3\n",
       "1      5\n",
       "2      7"
      ]
     },
     "execution_count": 38,
     "metadata": {},
     "output_type": "execute_result"
    }
   ],
   "source": [
    "b = [3,5,7]\n",
    "df2 = pd.DataFrame(b, columns=['Rolls'])\n",
    "df2"
   ]
  },
  {
   "cell_type": "code",
   "execution_count": 36,
   "id": "da3a00a2",
   "metadata": {},
   "outputs": [
    {
     "name": "stdout",
     "output_type": "stream",
     "text": [
      "<class 'pandas.core.frame.DataFrame'>\n",
      "RangeIndex: 3 entries, 0 to 2\n",
      "Data columns (total 1 columns):\n",
      " #   Column  Non-Null Count  Dtype\n",
      "---  ------  --------------  -----\n",
      " 0   0       3 non-null      int64\n",
      "dtypes: int64(1)\n",
      "memory usage: 156.0 bytes\n"
     ]
    }
   ],
   "source": [
    "df2.info()"
   ]
  },
  {
   "cell_type": "code",
   "execution_count": 50,
   "id": "5f04d6cd",
   "metadata": {},
   "outputs": [
    {
     "data": {
      "text/html": [
       "<div>\n",
       "<style scoped>\n",
       "    .dataframe tbody tr th:only-of-type {\n",
       "        vertical-align: middle;\n",
       "    }\n",
       "\n",
       "    .dataframe tbody tr th {\n",
       "        vertical-align: top;\n",
       "    }\n",
       "\n",
       "    .dataframe thead th {\n",
       "        text-align: right;\n",
       "    }\n",
       "</style>\n",
       "<table border=\"1\" class=\"dataframe\">\n",
       "  <thead>\n",
       "    <tr style=\"text-align: right;\">\n",
       "      <th></th>\n",
       "      <th>0</th>\n",
       "      <th>1</th>\n",
       "      <th>2</th>\n",
       "    </tr>\n",
       "  </thead>\n",
       "  <tbody>\n",
       "    <tr>\n",
       "      <th>0</th>\n",
       "      <td>maruf</td>\n",
       "      <td>jidni</td>\n",
       "      <td>rajin</td>\n",
       "    </tr>\n",
       "    <tr>\n",
       "      <th>1</th>\n",
       "      <td>3</td>\n",
       "      <td>5</td>\n",
       "      <td>7</td>\n",
       "    </tr>\n",
       "  </tbody>\n",
       "</table>\n",
       "</div>"
      ],
      "text/plain": [
       "       0      1      2\n",
       "0  maruf  jidni  rajin\n",
       "1      3      5      7"
      ]
     },
     "execution_count": 50,
     "metadata": {},
     "output_type": "execute_result"
    }
   ],
   "source": [
    "b = [['maruf', 'jidni', 'rajin'],[3,5,7]]\n",
    "df2 = pd.DataFrame(b)\n",
    "df2"
   ]
  },
  {
   "cell_type": "code",
   "execution_count": 41,
   "id": "8e966335",
   "metadata": {},
   "outputs": [
    {
     "name": "stdout",
     "output_type": "stream",
     "text": [
      "<class 'pandas.core.frame.DataFrame'>\n",
      "RangeIndex: 2 entries, 0 to 1\n",
      "Data columns (total 3 columns):\n",
      " #   Column  Non-Null Count  Dtype \n",
      "---  ------  --------------  ----- \n",
      " 0   0       2 non-null      object\n",
      " 1   1       2 non-null      object\n",
      " 2   2       2 non-null      object\n",
      "dtypes: object(3)\n",
      "memory usage: 180.0+ bytes\n"
     ]
    }
   ],
   "source": [
    "df2.info()"
   ]
  },
  {
   "cell_type": "code",
   "execution_count": 45,
   "id": "5eec769b",
   "metadata": {},
   "outputs": [
    {
     "data": {
      "text/html": [
       "<div>\n",
       "<style scoped>\n",
       "    .dataframe tbody tr th:only-of-type {\n",
       "        vertical-align: middle;\n",
       "    }\n",
       "\n",
       "    .dataframe tbody tr th {\n",
       "        vertical-align: top;\n",
       "    }\n",
       "\n",
       "    .dataframe thead th {\n",
       "        text-align: right;\n",
       "    }\n",
       "</style>\n",
       "<table border=\"1\" class=\"dataframe\">\n",
       "  <thead>\n",
       "    <tr style=\"text-align: right;\">\n",
       "      <th></th>\n",
       "      <th>col1</th>\n",
       "      <th>col2</th>\n",
       "      <th>col3</th>\n",
       "    </tr>\n",
       "  </thead>\n",
       "  <tbody>\n",
       "    <tr>\n",
       "      <th>0</th>\n",
       "      <td>maruf</td>\n",
       "      <td>jidni</td>\n",
       "      <td>rajin</td>\n",
       "    </tr>\n",
       "    <tr>\n",
       "      <th>1</th>\n",
       "      <td>3</td>\n",
       "      <td>5</td>\n",
       "      <td>7</td>\n",
       "    </tr>\n",
       "  </tbody>\n",
       "</table>\n",
       "</div>"
      ],
      "text/plain": [
       "    col1   col2   col3\n",
       "0  maruf  jidni  rajin\n",
       "1      3      5      7"
      ]
     },
     "execution_count": 45,
     "metadata": {},
     "output_type": "execute_result"
    }
   ],
   "source": [
    "b = [['maruf', 'jidni', 'rajin'],[3,5,7]]\n",
    "df2 = pd.DataFrame(b, columns= ['col1', 'col2', 'col3'])\n",
    "df2"
   ]
  },
  {
   "cell_type": "code",
   "execution_count": 46,
   "id": "c43b3e59",
   "metadata": {},
   "outputs": [
    {
     "name": "stdout",
     "output_type": "stream",
     "text": [
      "<class 'pandas.core.frame.DataFrame'>\n",
      "RangeIndex: 2 entries, 0 to 1\n",
      "Data columns (total 3 columns):\n",
      " #   Column  Non-Null Count  Dtype \n",
      "---  ------  --------------  ----- \n",
      " 0   col1    2 non-null      object\n",
      " 1   col2    2 non-null      object\n",
      " 2   col3    2 non-null      object\n",
      "dtypes: object(3)\n",
      "memory usage: 180.0+ bytes\n"
     ]
    }
   ],
   "source": [
    "df2.info()"
   ]
  },
  {
   "cell_type": "code",
   "execution_count": 54,
   "id": "a92ed591",
   "metadata": {},
   "outputs": [
    {
     "data": {
      "text/html": [
       "<div>\n",
       "<style scoped>\n",
       "    .dataframe tbody tr th:only-of-type {\n",
       "        vertical-align: middle;\n",
       "    }\n",
       "\n",
       "    .dataframe tbody tr th {\n",
       "        vertical-align: top;\n",
       "    }\n",
       "\n",
       "    .dataframe thead th {\n",
       "        text-align: right;\n",
       "    }\n",
       "</style>\n",
       "<table border=\"1\" class=\"dataframe\">\n",
       "  <thead>\n",
       "    <tr style=\"text-align: right;\">\n",
       "      <th></th>\n",
       "      <th>Name</th>\n",
       "      <th>Roll</th>\n",
       "      <th>dep</th>\n",
       "    </tr>\n",
       "  </thead>\n",
       "  <tbody>\n",
       "    <tr>\n",
       "      <th>0</th>\n",
       "      <td>Maruf</td>\n",
       "      <td>23</td>\n",
       "      <td>cst</td>\n",
       "    </tr>\n",
       "    <tr>\n",
       "      <th>1</th>\n",
       "      <td>Rajin</td>\n",
       "      <td>56</td>\n",
       "      <td>auto</td>\n",
       "    </tr>\n",
       "    <tr>\n",
       "      <th>2</th>\n",
       "      <td>Jidni</td>\n",
       "      <td>21</td>\n",
       "      <td>cst</td>\n",
       "    </tr>\n",
       "    <tr>\n",
       "      <th>3</th>\n",
       "      <td>robin</td>\n",
       "      <td>56</td>\n",
       "      <td>Et</td>\n",
       "    </tr>\n",
       "  </tbody>\n",
       "</table>\n",
       "</div>"
      ],
      "text/plain": [
       "    Name  Roll   dep\n",
       "0  Maruf    23   cst\n",
       "1  Rajin    56  auto\n",
       "2  Jidni    21   cst\n",
       "3  robin    56    Et"
      ]
     },
     "execution_count": 54,
     "metadata": {},
     "output_type": "execute_result"
    }
   ],
   "source": [
    "dic = {\n",
    "    'Name' : ['Maruf', 'Rajin', 'Jidni', 'robin'],\n",
    "    'Roll' : [23, 56, 21, 56],\n",
    "    'dep' : ['cst', 'auto', 'cst', 'Et']\n",
    "}\n",
    "df = pd.DataFrame(dic)\n",
    "df"
   ]
  },
  {
   "cell_type": "code",
   "execution_count": 55,
   "id": "b7187c5f",
   "metadata": {},
   "outputs": [
    {
     "name": "stdout",
     "output_type": "stream",
     "text": [
      "<class 'pandas.core.frame.DataFrame'>\n",
      "RangeIndex: 4 entries, 0 to 3\n",
      "Data columns (total 3 columns):\n",
      " #   Column  Non-Null Count  Dtype \n",
      "---  ------  --------------  ----- \n",
      " 0   Name    4 non-null      object\n",
      " 1   Roll    4 non-null      int64 \n",
      " 2   dep     4 non-null      object\n",
      "dtypes: int64(1), object(2)\n",
      "memory usage: 228.0+ bytes\n"
     ]
    }
   ],
   "source": [
    "df.info()"
   ]
  },
  {
   "cell_type": "code",
   "execution_count": null,
   "id": "d3e66b60",
   "metadata": {},
   "outputs": [
    {
     "data": {
      "text/html": [
       "<div>\n",
       "<style scoped>\n",
       "    .dataframe tbody tr th:only-of-type {\n",
       "        vertical-align: middle;\n",
       "    }\n",
       "\n",
       "    .dataframe tbody tr th {\n",
       "        vertical-align: top;\n",
       "    }\n",
       "\n",
       "    .dataframe thead th {\n",
       "        text-align: right;\n",
       "    }\n",
       "</style>\n",
       "<table border=\"1\" class=\"dataframe\">\n",
       "  <thead>\n",
       "    <tr style=\"text-align: right;\">\n",
       "      <th></th>\n",
       "      <th>Name</th>\n",
       "      <th>Roll</th>\n",
       "      <th>dep</th>\n",
       "    </tr>\n",
       "  </thead>\n",
       "  <tbody>\n",
       "    <tr>\n",
       "      <th>0</th>\n",
       "      <td>Maruf</td>\n",
       "      <td>23</td>\n",
       "      <td>cst</td>\n",
       "    </tr>\n",
       "    <tr>\n",
       "      <th>1</th>\n",
       "      <td>Rajin</td>\n",
       "      <td>56</td>\n",
       "      <td>auto</td>\n",
       "    </tr>\n",
       "    <tr>\n",
       "      <th>2</th>\n",
       "      <td>Jidni</td>\n",
       "      <td>21</td>\n",
       "      <td>cst</td>\n",
       "    </tr>\n",
       "    <tr>\n",
       "      <th>3</th>\n",
       "      <td>robin</td>\n",
       "      <td>56</td>\n",
       "      <td>Et</td>\n",
       "    </tr>\n",
       "  </tbody>\n",
       "</table>\n",
       "</div>"
      ],
      "text/plain": [
       "    Name  Roll   dep\n",
       "0  Maruf    23   cst\n",
       "1  Rajin    56  auto\n",
       "2  Jidni    21   cst\n",
       "3  robin    56    Et"
      ]
     },
     "execution_count": 64,
     "metadata": {},
     "output_type": "execute_result"
    }
   ],
   "source": [
    "dic = {\n",
    "    'Name' : ['Maruf', 'Rajin', 'Jidni', 'robin'],\n",
    "    'Roll' : [23, 56, 21, 56],\n",
    "    'dep' : ['cst', 'auto', 'cst', 'Et']\n",
    "}\n",
    "df = pd.DataFrame(dic)\n",
    "#df = pd.DataFrame(dic, columns=['NAME','ROLL', 'DEP']) don't change like this\n",
    "df"
   ]
  },
  {
   "cell_type": "code",
   "execution_count": 59,
   "id": "b1a3f4da",
   "metadata": {},
   "outputs": [
    {
     "data": {
      "text/html": [
       "<div>\n",
       "<style scoped>\n",
       "    .dataframe tbody tr th:only-of-type {\n",
       "        vertical-align: middle;\n",
       "    }\n",
       "\n",
       "    .dataframe tbody tr th {\n",
       "        vertical-align: top;\n",
       "    }\n",
       "\n",
       "    .dataframe thead th {\n",
       "        text-align: right;\n",
       "    }\n",
       "</style>\n",
       "<table border=\"1\" class=\"dataframe\">\n",
       "  <thead>\n",
       "    <tr style=\"text-align: right;\">\n",
       "      <th></th>\n",
       "      <th>নাম</th>\n",
       "      <th>রোল</th>\n",
       "      <th>ডিপারট্মেন্ট</th>\n",
       "    </tr>\n",
       "  </thead>\n",
       "  <tbody>\n",
       "    <tr>\n",
       "      <th>0</th>\n",
       "      <td>Maruf</td>\n",
       "      <td>23</td>\n",
       "      <td>cst</td>\n",
       "    </tr>\n",
       "    <tr>\n",
       "      <th>1</th>\n",
       "      <td>Rajin</td>\n",
       "      <td>56</td>\n",
       "      <td>auto</td>\n",
       "    </tr>\n",
       "    <tr>\n",
       "      <th>2</th>\n",
       "      <td>Jidni</td>\n",
       "      <td>21</td>\n",
       "      <td>cst</td>\n",
       "    </tr>\n",
       "    <tr>\n",
       "      <th>3</th>\n",
       "      <td>robin</td>\n",
       "      <td>56</td>\n",
       "      <td>Et</td>\n",
       "    </tr>\n",
       "  </tbody>\n",
       "</table>\n",
       "</div>"
      ],
      "text/plain": [
       "     নাম  রোল ডিপারট্মেন্ট\n",
       "0  Maruf   23          cst\n",
       "1  Rajin   56         auto\n",
       "2  Jidni   21          cst\n",
       "3  robin   56           Et"
      ]
     },
     "execution_count": 59,
     "metadata": {},
     "output_type": "execute_result"
    }
   ],
   "source": [
    "df = df.rename({'Name':'নাম', 'Roll':'রোল', 'dep':'ডিপারট্মেন্ট'}, axis=1)\n",
    "df"
   ]
  },
  {
   "cell_type": "code",
   "execution_count": 62,
   "id": "9be97992",
   "metadata": {},
   "outputs": [
    {
     "name": "stdout",
     "output_type": "stream",
     "text": [
      "<class 'pandas.core.frame.DataFrame'>\n",
      "Index: 4 entries, 0 to 3\n",
      "Data columns (total 3 columns):\n",
      " #   Column        Non-Null Count  Dtype \n",
      "---  ------        --------------  ----- \n",
      " 0   নাম           4 non-null      object\n",
      " 1   রোল           4 non-null      int64 \n",
      " 2   ডিপারট্মেন্ট  4 non-null      object\n",
      "dtypes: int64(1), object(2)\n",
      "memory usage: 128.0+ bytes\n"
     ]
    }
   ],
   "source": [
    "df.info()"
   ]
  },
  {
   "cell_type": "code",
   "execution_count": 65,
   "id": "7705baaf",
   "metadata": {},
   "outputs": [
    {
     "data": {
      "text/html": [
       "<div>\n",
       "<style scoped>\n",
       "    .dataframe tbody tr th:only-of-type {\n",
       "        vertical-align: middle;\n",
       "    }\n",
       "\n",
       "    .dataframe tbody tr th {\n",
       "        vertical-align: top;\n",
       "    }\n",
       "\n",
       "    .dataframe thead th {\n",
       "        text-align: right;\n",
       "    }\n",
       "</style>\n",
       "<table border=\"1\" class=\"dataframe\">\n",
       "  <thead>\n",
       "    <tr style=\"text-align: right;\">\n",
       "      <th></th>\n",
       "      <th>Name</th>\n",
       "      <th>Roll</th>\n",
       "      <th>dep</th>\n",
       "    </tr>\n",
       "  </thead>\n",
       "  <tbody>\n",
       "    <tr>\n",
       "      <th>0</th>\n",
       "      <td>Maruf</td>\n",
       "      <td>23</td>\n",
       "      <td>cst</td>\n",
       "    </tr>\n",
       "    <tr>\n",
       "      <th>1</th>\n",
       "      <td>Rajin</td>\n",
       "      <td>56</td>\n",
       "      <td>auto</td>\n",
       "    </tr>\n",
       "    <tr>\n",
       "      <th>2</th>\n",
       "      <td>Jidni</td>\n",
       "      <td>21</td>\n",
       "      <td>cst</td>\n",
       "    </tr>\n",
       "    <tr>\n",
       "      <th>3</th>\n",
       "      <td>robin</td>\n",
       "      <td>56</td>\n",
       "      <td>Et</td>\n",
       "    </tr>\n",
       "  </tbody>\n",
       "</table>\n",
       "</div>"
      ],
      "text/plain": [
       "    Name  Roll   dep\n",
       "0  Maruf    23   cst\n",
       "1  Rajin    56  auto\n",
       "2  Jidni    21   cst\n",
       "3  robin    56    Et"
      ]
     },
     "execution_count": 65,
     "metadata": {},
     "output_type": "execute_result"
    }
   ],
   "source": [
    "dic = {\n",
    "    'Name' : ['Maruf', 'Rajin', 'Jidni', 'robin'],\n",
    "    'Roll' : [23, 56, 21, 56],\n",
    "    'dep' : ['cst', 'auto', 'cst', 'Et']\n",
    "}\n",
    "df = pd.DataFrame(dic)\n",
    "df"
   ]
  },
  {
   "cell_type": "code",
   "execution_count": 67,
   "id": "60a18372",
   "metadata": {},
   "outputs": [
    {
     "data": {
      "text/plain": [
       "0    23\n",
       "1    56\n",
       "2    21\n",
       "3    56\n",
       "Name: Roll, dtype: int64"
      ]
     },
     "execution_count": 67,
     "metadata": {},
     "output_type": "execute_result"
    }
   ],
   "source": [
    "df['Roll']"
   ]
  },
  {
   "cell_type": "code",
   "execution_count": 70,
   "id": "3be56616",
   "metadata": {},
   "outputs": [
    {
     "data": {
      "text/html": [
       "<div>\n",
       "<style scoped>\n",
       "    .dataframe tbody tr th:only-of-type {\n",
       "        vertical-align: middle;\n",
       "    }\n",
       "\n",
       "    .dataframe tbody tr th {\n",
       "        vertical-align: top;\n",
       "    }\n",
       "\n",
       "    .dataframe thead th {\n",
       "        text-align: right;\n",
       "    }\n",
       "</style>\n",
       "<table border=\"1\" class=\"dataframe\">\n",
       "  <thead>\n",
       "    <tr style=\"text-align: right;\">\n",
       "      <th></th>\n",
       "      <th>Roll</th>\n",
       "    </tr>\n",
       "  </thead>\n",
       "  <tbody>\n",
       "    <tr>\n",
       "      <th>0</th>\n",
       "      <td>23</td>\n",
       "    </tr>\n",
       "    <tr>\n",
       "      <th>1</th>\n",
       "      <td>56</td>\n",
       "    </tr>\n",
       "    <tr>\n",
       "      <th>2</th>\n",
       "      <td>21</td>\n",
       "    </tr>\n",
       "    <tr>\n",
       "      <th>3</th>\n",
       "      <td>56</td>\n",
       "    </tr>\n",
       "  </tbody>\n",
       "</table>\n",
       "</div>"
      ],
      "text/plain": [
       "   Roll\n",
       "0    23\n",
       "1    56\n",
       "2    21\n",
       "3    56"
      ]
     },
     "execution_count": 70,
     "metadata": {},
     "output_type": "execute_result"
    }
   ],
   "source": [
    "df[['Roll']]"
   ]
  },
  {
   "cell_type": "code",
   "execution_count": 71,
   "id": "ec10d96d",
   "metadata": {},
   "outputs": [
    {
     "data": {
      "text/html": [
       "<div>\n",
       "<style scoped>\n",
       "    .dataframe tbody tr th:only-of-type {\n",
       "        vertical-align: middle;\n",
       "    }\n",
       "\n",
       "    .dataframe tbody tr th {\n",
       "        vertical-align: top;\n",
       "    }\n",
       "\n",
       "    .dataframe thead th {\n",
       "        text-align: right;\n",
       "    }\n",
       "</style>\n",
       "<table border=\"1\" class=\"dataframe\">\n",
       "  <thead>\n",
       "    <tr style=\"text-align: right;\">\n",
       "      <th></th>\n",
       "      <th>Name</th>\n",
       "    </tr>\n",
       "  </thead>\n",
       "  <tbody>\n",
       "    <tr>\n",
       "      <th>0</th>\n",
       "      <td>Maruf</td>\n",
       "    </tr>\n",
       "    <tr>\n",
       "      <th>1</th>\n",
       "      <td>Rajin</td>\n",
       "    </tr>\n",
       "    <tr>\n",
       "      <th>2</th>\n",
       "      <td>Jidni</td>\n",
       "    </tr>\n",
       "    <tr>\n",
       "      <th>3</th>\n",
       "      <td>robin</td>\n",
       "    </tr>\n",
       "  </tbody>\n",
       "</table>\n",
       "</div>"
      ],
      "text/plain": [
       "    Name\n",
       "0  Maruf\n",
       "1  Rajin\n",
       "2  Jidni\n",
       "3  robin"
      ]
     },
     "execution_count": 71,
     "metadata": {},
     "output_type": "execute_result"
    }
   ],
   "source": [
    "df[['Name']]"
   ]
  },
  {
   "cell_type": "code",
   "execution_count": 72,
   "id": "0b80cf96",
   "metadata": {},
   "outputs": [
    {
     "data": {
      "text/html": [
       "<div>\n",
       "<style scoped>\n",
       "    .dataframe tbody tr th:only-of-type {\n",
       "        vertical-align: middle;\n",
       "    }\n",
       "\n",
       "    .dataframe tbody tr th {\n",
       "        vertical-align: top;\n",
       "    }\n",
       "\n",
       "    .dataframe thead th {\n",
       "        text-align: right;\n",
       "    }\n",
       "</style>\n",
       "<table border=\"1\" class=\"dataframe\">\n",
       "  <thead>\n",
       "    <tr style=\"text-align: right;\">\n",
       "      <th></th>\n",
       "      <th>dep</th>\n",
       "    </tr>\n",
       "  </thead>\n",
       "  <tbody>\n",
       "    <tr>\n",
       "      <th>0</th>\n",
       "      <td>cst</td>\n",
       "    </tr>\n",
       "    <tr>\n",
       "      <th>1</th>\n",
       "      <td>auto</td>\n",
       "    </tr>\n",
       "    <tr>\n",
       "      <th>2</th>\n",
       "      <td>cst</td>\n",
       "    </tr>\n",
       "    <tr>\n",
       "      <th>3</th>\n",
       "      <td>Et</td>\n",
       "    </tr>\n",
       "  </tbody>\n",
       "</table>\n",
       "</div>"
      ],
      "text/plain": [
       "    dep\n",
       "0   cst\n",
       "1  auto\n",
       "2   cst\n",
       "3    Et"
      ]
     },
     "execution_count": 72,
     "metadata": {},
     "output_type": "execute_result"
    }
   ],
   "source": [
    "df[['dep']]"
   ]
  },
  {
   "cell_type": "code",
   "execution_count": 74,
   "id": "060b0b9d",
   "metadata": {},
   "outputs": [
    {
     "data": {
      "text/html": [
       "<div>\n",
       "<style scoped>\n",
       "    .dataframe tbody tr th:only-of-type {\n",
       "        vertical-align: middle;\n",
       "    }\n",
       "\n",
       "    .dataframe tbody tr th {\n",
       "        vertical-align: top;\n",
       "    }\n",
       "\n",
       "    .dataframe thead th {\n",
       "        text-align: right;\n",
       "    }\n",
       "</style>\n",
       "<table border=\"1\" class=\"dataframe\">\n",
       "  <thead>\n",
       "    <tr style=\"text-align: right;\">\n",
       "      <th></th>\n",
       "      <th>Name</th>\n",
       "      <th>Roll</th>\n",
       "      <th>dep</th>\n",
       "    </tr>\n",
       "  </thead>\n",
       "  <tbody>\n",
       "    <tr>\n",
       "      <th>0</th>\n",
       "      <td>Maruf</td>\n",
       "      <td>2354367467</td>\n",
       "      <td>cst</td>\n",
       "    </tr>\n",
       "    <tr>\n",
       "      <th>1</th>\n",
       "      <td>Rajin</td>\n",
       "      <td>564567756</td>\n",
       "      <td>auto</td>\n",
       "    </tr>\n",
       "    <tr>\n",
       "      <th>2</th>\n",
       "      <td>Jidni</td>\n",
       "      <td>214567567</td>\n",
       "      <td>cst</td>\n",
       "    </tr>\n",
       "    <tr>\n",
       "      <th>3</th>\n",
       "      <td>robin</td>\n",
       "      <td>56567457</td>\n",
       "      <td>Et</td>\n",
       "    </tr>\n",
       "  </tbody>\n",
       "</table>\n",
       "</div>"
      ],
      "text/plain": [
       "    Name        Roll   dep\n",
       "0  Maruf  2354367467   cst\n",
       "1  Rajin   564567756  auto\n",
       "2  Jidni   214567567   cst\n",
       "3  robin    56567457    Et"
      ]
     },
     "execution_count": 74,
     "metadata": {},
     "output_type": "execute_result"
    }
   ],
   "source": [
    "dic = {\n",
    "    'Name' : ['Maruf', 'Rajin', 'Jidni', 'robin'],\n",
    "    'Roll' : [2354367467, 564567756, 214567567, 56567457],\n",
    "    'dep' : ['cst', 'auto', 'cst', 'Et']\n",
    "}\n",
    "df = pd.DataFrame(dic)\n",
    "df"
   ]
  },
  {
   "cell_type": "code",
   "execution_count": 76,
   "id": "f5c24ff8",
   "metadata": {},
   "outputs": [
    {
     "name": "stdout",
     "output_type": "stream",
     "text": [
      "<class 'pandas.core.frame.DataFrame'>\n",
      "RangeIndex: 4 entries, 0 to 3\n",
      "Data columns (total 3 columns):\n",
      " #   Column  Non-Null Count  Dtype \n",
      "---  ------  --------------  ----- \n",
      " 0   Name    4 non-null      object\n",
      " 1   Roll    4 non-null      int64 \n",
      " 2   dep     4 non-null      object\n",
      "dtypes: int64(1), object(2)\n",
      "memory usage: 228.0+ bytes\n"
     ]
    }
   ],
   "source": [
    "df.info()"
   ]
  },
  {
   "cell_type": "code",
   "execution_count": 81,
   "id": "e86ffaf0",
   "metadata": {},
   "outputs": [
    {
     "data": {
      "text/html": [
       "<div>\n",
       "<style scoped>\n",
       "    .dataframe tbody tr th:only-of-type {\n",
       "        vertical-align: middle;\n",
       "    }\n",
       "\n",
       "    .dataframe tbody tr th {\n",
       "        vertical-align: top;\n",
       "    }\n",
       "\n",
       "    .dataframe thead th {\n",
       "        text-align: right;\n",
       "    }\n",
       "</style>\n",
       "<table border=\"1\" class=\"dataframe\">\n",
       "  <thead>\n",
       "    <tr style=\"text-align: right;\">\n",
       "      <th></th>\n",
       "      <th>Roll</th>\n",
       "    </tr>\n",
       "  </thead>\n",
       "  <tbody>\n",
       "    <tr>\n",
       "      <th>0</th>\n",
       "      <td>2354367467</td>\n",
       "    </tr>\n",
       "    <tr>\n",
       "      <th>1</th>\n",
       "      <td>564567756</td>\n",
       "    </tr>\n",
       "    <tr>\n",
       "      <th>2</th>\n",
       "      <td>214567567</td>\n",
       "    </tr>\n",
       "    <tr>\n",
       "      <th>3</th>\n",
       "      <td>56567457</td>\n",
       "    </tr>\n",
       "  </tbody>\n",
       "</table>\n",
       "</div>"
      ],
      "text/plain": [
       "         Roll\n",
       "0  2354367467\n",
       "1   564567756\n",
       "2   214567567\n",
       "3    56567457"
      ]
     },
     "execution_count": 81,
     "metadata": {},
     "output_type": "execute_result"
    }
   ],
   "source": [
    "df[['Roll']].astype('int64')"
   ]
  },
  {
   "cell_type": "code",
   "execution_count": 83,
   "id": "0216d197",
   "metadata": {},
   "outputs": [
    {
     "data": {
      "text/html": [
       "<div>\n",
       "<style scoped>\n",
       "    .dataframe tbody tr th:only-of-type {\n",
       "        vertical-align: middle;\n",
       "    }\n",
       "\n",
       "    .dataframe tbody tr th {\n",
       "        vertical-align: top;\n",
       "    }\n",
       "\n",
       "    .dataframe thead th {\n",
       "        text-align: right;\n",
       "    }\n",
       "</style>\n",
       "<table border=\"1\" class=\"dataframe\">\n",
       "  <thead>\n",
       "    <tr style=\"text-align: right;\">\n",
       "      <th></th>\n",
       "      <th>Roll</th>\n",
       "    </tr>\n",
       "  </thead>\n",
       "  <tbody>\n",
       "    <tr>\n",
       "      <th>0</th>\n",
       "      <td>-1940599829</td>\n",
       "    </tr>\n",
       "    <tr>\n",
       "      <th>1</th>\n",
       "      <td>564567756</td>\n",
       "    </tr>\n",
       "    <tr>\n",
       "      <th>2</th>\n",
       "      <td>214567567</td>\n",
       "    </tr>\n",
       "    <tr>\n",
       "      <th>3</th>\n",
       "      <td>56567457</td>\n",
       "    </tr>\n",
       "  </tbody>\n",
       "</table>\n",
       "</div>"
      ],
      "text/plain": [
       "         Roll\n",
       "0 -1940599829\n",
       "1   564567756\n",
       "2   214567567\n",
       "3    56567457"
      ]
     },
     "execution_count": 83,
     "metadata": {},
     "output_type": "execute_result"
    }
   ],
   "source": [
    "df[['Roll']].astype('int32')"
   ]
  },
  {
   "cell_type": "code",
   "execution_count": 84,
   "id": "4f4f726f",
   "metadata": {},
   "outputs": [
    {
     "data": {
      "text/html": [
       "<div>\n",
       "<style scoped>\n",
       "    .dataframe tbody tr th:only-of-type {\n",
       "        vertical-align: middle;\n",
       "    }\n",
       "\n",
       "    .dataframe tbody tr th {\n",
       "        vertical-align: top;\n",
       "    }\n",
       "\n",
       "    .dataframe thead th {\n",
       "        text-align: right;\n",
       "    }\n",
       "</style>\n",
       "<table border=\"1\" class=\"dataframe\">\n",
       "  <thead>\n",
       "    <tr style=\"text-align: right;\">\n",
       "      <th></th>\n",
       "      <th>Roll</th>\n",
       "    </tr>\n",
       "  </thead>\n",
       "  <tbody>\n",
       "    <tr>\n",
       "      <th>0</th>\n",
       "      <td>-13333</td>\n",
       "    </tr>\n",
       "    <tr>\n",
       "      <th>1</th>\n",
       "      <td>-24884</td>\n",
       "    </tr>\n",
       "    <tr>\n",
       "      <th>2</th>\n",
       "      <td>2703</td>\n",
       "    </tr>\n",
       "    <tr>\n",
       "      <th>3</th>\n",
       "      <td>9889</td>\n",
       "    </tr>\n",
       "  </tbody>\n",
       "</table>\n",
       "</div>"
      ],
      "text/plain": [
       "    Roll\n",
       "0 -13333\n",
       "1 -24884\n",
       "2   2703\n",
       "3   9889"
      ]
     },
     "execution_count": 84,
     "metadata": {},
     "output_type": "execute_result"
    }
   ],
   "source": [
    "df[['Roll']].astype('int16')"
   ]
  },
  {
   "cell_type": "code",
   "execution_count": 85,
   "id": "313dfe32",
   "metadata": {},
   "outputs": [
    {
     "data": {
      "text/html": [
       "<div>\n",
       "<style scoped>\n",
       "    .dataframe tbody tr th:only-of-type {\n",
       "        vertical-align: middle;\n",
       "    }\n",
       "\n",
       "    .dataframe tbody tr th {\n",
       "        vertical-align: top;\n",
       "    }\n",
       "\n",
       "    .dataframe thead th {\n",
       "        text-align: right;\n",
       "    }\n",
       "</style>\n",
       "<table border=\"1\" class=\"dataframe\">\n",
       "  <thead>\n",
       "    <tr style=\"text-align: right;\">\n",
       "      <th></th>\n",
       "      <th>Name</th>\n",
       "      <th>Roll</th>\n",
       "      <th>dep</th>\n",
       "    </tr>\n",
       "  </thead>\n",
       "  <tbody>\n",
       "    <tr>\n",
       "      <th>0</th>\n",
       "      <td>Maruf</td>\n",
       "      <td>230</td>\n",
       "      <td>cst</td>\n",
       "    </tr>\n",
       "    <tr>\n",
       "      <th>1</th>\n",
       "      <td>Rajin</td>\n",
       "      <td>560</td>\n",
       "      <td>auto</td>\n",
       "    </tr>\n",
       "    <tr>\n",
       "      <th>2</th>\n",
       "      <td>Jidni</td>\n",
       "      <td>210</td>\n",
       "      <td>cst</td>\n",
       "    </tr>\n",
       "    <tr>\n",
       "      <th>3</th>\n",
       "      <td>robin</td>\n",
       "      <td>500</td>\n",
       "      <td>Et</td>\n",
       "    </tr>\n",
       "  </tbody>\n",
       "</table>\n",
       "</div>"
      ],
      "text/plain": [
       "    Name  Roll   dep\n",
       "0  Maruf   230   cst\n",
       "1  Rajin   560  auto\n",
       "2  Jidni   210   cst\n",
       "3  robin   500    Et"
      ]
     },
     "execution_count": 85,
     "metadata": {},
     "output_type": "execute_result"
    }
   ],
   "source": [
    "dic = {\n",
    "    'Name' : ['Maruf', 'Rajin', 'Jidni', 'robin'],\n",
    "    'Roll' : [230, 560, 210, 500],\n",
    "    'dep' : ['cst', 'auto', 'cst', 'Et']\n",
    "}\n",
    "df = pd.DataFrame(dic)\n",
    "df"
   ]
  },
  {
   "cell_type": "code",
   "execution_count": 89,
   "id": "732a065e",
   "metadata": {},
   "outputs": [
    {
     "data": {
      "text/plain": [
       "0    False\n",
       "1     True\n",
       "2    False\n",
       "3     True\n",
       "Name: Roll, dtype: bool"
      ]
     },
     "execution_count": 89,
     "metadata": {},
     "output_type": "execute_result"
    }
   ],
   "source": [
    "df['Roll']>300 # can't use 2 dimesional array"
   ]
  },
  {
   "cell_type": "code",
   "execution_count": 92,
   "id": "a06ce63f",
   "metadata": {},
   "outputs": [
    {
     "data": {
      "text/html": [
       "<div>\n",
       "<style scoped>\n",
       "    .dataframe tbody tr th:only-of-type {\n",
       "        vertical-align: middle;\n",
       "    }\n",
       "\n",
       "    .dataframe tbody tr th {\n",
       "        vertical-align: top;\n",
       "    }\n",
       "\n",
       "    .dataframe thead th {\n",
       "        text-align: right;\n",
       "    }\n",
       "</style>\n",
       "<table border=\"1\" class=\"dataframe\">\n",
       "  <thead>\n",
       "    <tr style=\"text-align: right;\">\n",
       "      <th></th>\n",
       "      <th>Name</th>\n",
       "      <th>Roll</th>\n",
       "      <th>dep</th>\n",
       "    </tr>\n",
       "  </thead>\n",
       "  <tbody>\n",
       "    <tr>\n",
       "      <th>1</th>\n",
       "      <td>Rajin</td>\n",
       "      <td>560</td>\n",
       "      <td>auto</td>\n",
       "    </tr>\n",
       "    <tr>\n",
       "      <th>3</th>\n",
       "      <td>robin</td>\n",
       "      <td>500</td>\n",
       "      <td>Et</td>\n",
       "    </tr>\n",
       "  </tbody>\n",
       "</table>\n",
       "</div>"
      ],
      "text/plain": [
       "    Name  Roll   dep\n",
       "1  Rajin   560  auto\n",
       "3  robin   500    Et"
      ]
     },
     "execution_count": 92,
     "metadata": {},
     "output_type": "execute_result"
    }
   ],
   "source": [
    "df[df['Roll']>300]"
   ]
  },
  {
   "cell_type": "code",
   "execution_count": 93,
   "id": "ad8daf08",
   "metadata": {},
   "outputs": [
    {
     "data": {
      "text/plain": [
       "1    Rajin\n",
       "3    robin\n",
       "Name: Name, dtype: object"
      ]
     },
     "execution_count": 93,
     "metadata": {},
     "output_type": "execute_result"
    }
   ],
   "source": [
    "df[df['Roll']>300]['Name']"
   ]
  },
  {
   "cell_type": "code",
   "execution_count": 100,
   "id": "9e68a1d5",
   "metadata": {},
   "outputs": [
    {
     "data": {
      "text/html": [
       "<div>\n",
       "<style scoped>\n",
       "    .dataframe tbody tr th:only-of-type {\n",
       "        vertical-align: middle;\n",
       "    }\n",
       "\n",
       "    .dataframe tbody tr th {\n",
       "        vertical-align: top;\n",
       "    }\n",
       "\n",
       "    .dataframe thead th {\n",
       "        text-align: right;\n",
       "    }\n",
       "</style>\n",
       "<table border=\"1\" class=\"dataframe\">\n",
       "  <thead>\n",
       "    <tr style=\"text-align: right;\">\n",
       "      <th></th>\n",
       "      <th>Name</th>\n",
       "      <th>Roll</th>\n",
       "      <th>dep</th>\n",
       "    </tr>\n",
       "  </thead>\n",
       "  <tbody>\n",
       "    <tr>\n",
       "      <th>0</th>\n",
       "      <td>Maruf</td>\n",
       "      <td>230</td>\n",
       "      <td>cst</td>\n",
       "    </tr>\n",
       "    <tr>\n",
       "      <th>1</th>\n",
       "      <td>Rajin</td>\n",
       "      <td>560</td>\n",
       "      <td>auto</td>\n",
       "    </tr>\n",
       "    <tr>\n",
       "      <th>2</th>\n",
       "      <td>Jidni</td>\n",
       "      <td>210</td>\n",
       "      <td>cst</td>\n",
       "    </tr>\n",
       "    <tr>\n",
       "      <th>3</th>\n",
       "      <td>robin</td>\n",
       "      <td>500</td>\n",
       "      <td>Et</td>\n",
       "    </tr>\n",
       "  </tbody>\n",
       "</table>\n",
       "</div>"
      ],
      "text/plain": [
       "    Name  Roll   dep\n",
       "0  Maruf   230   cst\n",
       "1  Rajin   560  auto\n",
       "2  Jidni   210   cst\n",
       "3  robin   500    Et"
      ]
     },
     "execution_count": 100,
     "metadata": {},
     "output_type": "execute_result"
    }
   ],
   "source": [
    "dic1 = {\n",
    "    'Name' : ['Maruf', 'Rajin', 'Jidni', 'robin'],\n",
    "    'Roll' : [230, 560, 210, 500],\n",
    "    'Dep' : ['cst', 'auto', 'cst', 'Et']\n",
    "}\n",
    "df3 = pd.DataFrame(dic)\n",
    "df3"
   ]
  },
  {
   "cell_type": "code",
   "execution_count": 101,
   "id": "ccc391eb",
   "metadata": {},
   "outputs": [
    {
     "name": "stdout",
     "output_type": "stream",
     "text": [
      "      name  roll   dep\n",
      "0    nibir   435   mec\n",
      "1  alimoon    65    sc\n",
      "2   sameer     5  auto\n",
      "3    aryan    67   cst\n"
     ]
    }
   ],
   "source": [
    "dic2 = {\n",
    "    'name':['nibir','alimoon','sameer','aryan'],\n",
    "    'roll':[435,65,5,67],\n",
    "    'dep':['mec','sc','auto','cst']\n",
    "\n",
    "}\n",
    "df4 = pd.DataFrame(dic2)\n",
    "print(df4)"
   ]
  },
  {
   "cell_type": "code",
   "execution_count": 104,
   "id": "67856856",
   "metadata": {},
   "outputs": [
    {
     "name": "stdout",
     "output_type": "stream",
     "text": [
      "    Name   Roll   dep     name   roll\n",
      "0  Maruf  230.0   cst      NaN    NaN\n",
      "1  Rajin  560.0  auto      NaN    NaN\n",
      "2  Jidni  210.0   cst      NaN    NaN\n",
      "3  robin  500.0    Et      NaN    NaN\n",
      "0    NaN    NaN   mec    nibir  435.0\n",
      "1    NaN    NaN    sc  alimoon   65.0\n",
      "2    NaN    NaN  auto   sameer    5.0\n",
      "3    NaN    NaN   cst    aryan   67.0\n"
     ]
    }
   ],
   "source": [
    "new_dic = pd.concat([df3,df4])\n",
    "print(new_dic)"
   ]
  },
  {
   "cell_type": "code",
   "execution_count": 106,
   "id": "f212fac1",
   "metadata": {},
   "outputs": [
    {
     "name": "stdout",
     "output_type": "stream",
     "text": [
      "    Name  Roll   dep     name  roll   dep\n",
      "0  Maruf   230   cst    nibir   435   mec\n",
      "1  Rajin   560  auto  alimoon    65    sc\n",
      "2  Jidni   210   cst   sameer     5  auto\n",
      "3  robin   500    Et    aryan    67   cst\n"
     ]
    }
   ],
   "source": [
    "new_dic = pd.concat([df3,df4], axis=1)\n",
    "print(new_dic)"
   ]
  },
  {
   "cell_type": "code",
   "execution_count": 115,
   "id": "4c3284cb",
   "metadata": {},
   "outputs": [
    {
     "data": {
      "text/html": [
       "<div>\n",
       "<style scoped>\n",
       "    .dataframe tbody tr th:only-of-type {\n",
       "        vertical-align: middle;\n",
       "    }\n",
       "\n",
       "    .dataframe tbody tr th {\n",
       "        vertical-align: top;\n",
       "    }\n",
       "\n",
       "    .dataframe thead th {\n",
       "        text-align: right;\n",
       "    }\n",
       "</style>\n",
       "<table border=\"1\" class=\"dataframe\">\n",
       "  <thead>\n",
       "    <tr style=\"text-align: right;\">\n",
       "      <th></th>\n",
       "      <th>Name</th>\n",
       "      <th>Roll</th>\n",
       "      <th>Dep</th>\n",
       "    </tr>\n",
       "  </thead>\n",
       "  <tbody>\n",
       "    <tr>\n",
       "      <th>0</th>\n",
       "      <td>Maruf</td>\n",
       "      <td>230</td>\n",
       "      <td>cst</td>\n",
       "    </tr>\n",
       "    <tr>\n",
       "      <th>1</th>\n",
       "      <td>Rajin</td>\n",
       "      <td>560</td>\n",
       "      <td>auto</td>\n",
       "    </tr>\n",
       "    <tr>\n",
       "      <th>2</th>\n",
       "      <td>Jidni</td>\n",
       "      <td>210</td>\n",
       "      <td>cst</td>\n",
       "    </tr>\n",
       "    <tr>\n",
       "      <th>3</th>\n",
       "      <td>robin</td>\n",
       "      <td>500</td>\n",
       "      <td>Et</td>\n",
       "    </tr>\n",
       "  </tbody>\n",
       "</table>\n",
       "</div>"
      ],
      "text/plain": [
       "    Name  Roll   Dep\n",
       "0  Maruf   230   cst\n",
       "1  Rajin   560  auto\n",
       "2  Jidni   210   cst\n",
       "3  robin   500    Et"
      ]
     },
     "execution_count": 115,
     "metadata": {},
     "output_type": "execute_result"
    }
   ],
   "source": [
    "dic1 = {\n",
    "    'Name' : ['Maruf', 'Rajin', 'Jidni', 'robin'],\n",
    "    'Roll' : [230, 560, 210, 500],\n",
    "    'Dep' : ['cst', 'auto', 'cst', 'Et']\n",
    "}\n",
    "df3 = pd.DataFrame(dic1)\n",
    "df3"
   ]
  },
  {
   "cell_type": "code",
   "execution_count": 113,
   "id": "25389117",
   "metadata": {},
   "outputs": [
    {
     "name": "stdout",
     "output_type": "stream",
     "text": [
      "      Name  Roll   Dep\n",
      "0    nibir   435   mec\n",
      "1  alimoon    65    sc\n",
      "2   sameer     5  auto\n",
      "3    aryan    67   cst\n"
     ]
    }
   ],
   "source": [
    "dic2 = {\n",
    "    'Name':['nibir','alimoon','sameer','aryan'],\n",
    "    'Roll':[435,65,5,67],\n",
    "    'Dep':['mec','sc','auto','cst']\n",
    "\n",
    "}\n",
    "df4 = pd.DataFrame(dic2)\n",
    "print(df4)"
   ]
  },
  {
   "cell_type": "code",
   "execution_count": 116,
   "id": "c6e87dff",
   "metadata": {},
   "outputs": [
    {
     "name": "stdout",
     "output_type": "stream",
     "text": [
      "      Name  Roll   Dep\n",
      "0    Maruf   230   cst\n",
      "1    Rajin   560  auto\n",
      "2    Jidni   210   cst\n",
      "3    robin   500    Et\n",
      "0    nibir   435   mec\n",
      "1  alimoon    65    sc\n",
      "2   sameer     5  auto\n",
      "3    aryan    67   cst\n"
     ]
    }
   ],
   "source": [
    "new_dic2 = pd.concat([df3,df4])\n",
    "print(new_dic2)"
   ]
  },
  {
   "cell_type": "code",
   "execution_count": 117,
   "id": "110aeb1a",
   "metadata": {},
   "outputs": [
    {
     "name": "stdout",
     "output_type": "stream",
     "text": [
      "      Name  Roll   Dep\n",
      "0    Maruf   230   cst\n",
      "1    Rajin   560  auto\n",
      "2    Jidni   210   cst\n",
      "3    robin   500    Et\n",
      "4    nibir   435   mec\n",
      "5  alimoon    65    sc\n",
      "6   sameer     5  auto\n",
      "7    aryan    67   cst\n"
     ]
    }
   ],
   "source": [
    "new_dic2 = pd.concat([df3,df4], ignore_index=True)\n",
    "print(new_dic2)"
   ]
  },
  {
   "cell_type": "code",
   "execution_count": 120,
   "id": "5944124b",
   "metadata": {},
   "outputs": [
    {
     "name": "stdout",
     "output_type": "stream",
     "text": [
      "[[0.30811919 0.99285116 0.95646887 0.10477275 0.04463709]\n",
      " [0.66866681 0.29413653 0.35907449 0.82600087 0.39645553]\n",
      " [0.43154484 0.2176686  0.88444627 0.93482596 0.31577976]\n",
      " [0.35434311 0.62279777 0.69762564 0.97737693 0.37674516]\n",
      " [0.65921608 0.57315556 0.91229736 0.965634   0.24095254]\n",
      " [0.95280931 0.20968364 0.1031416  0.65845113 0.83746602]\n",
      " [0.55379773 0.29120523 0.37644402 0.18026444 0.9138162 ]\n",
      " [0.98363647 0.85834018 0.01013491 0.96513293 0.01705273]\n",
      " [0.65020876 0.22145084 0.90288327 0.59503862 0.03656721]\n",
      " [0.69473499 0.37668486 0.93874492 0.98983777 0.8826212 ]]\n"
     ]
    }
   ],
   "source": [
    "import numpy as np\n",
    "data = np.random.rand(10,5)\n",
    "print(data)"
   ]
  },
  {
   "cell_type": "code",
   "execution_count": 122,
   "id": "4bf3c6f6",
   "metadata": {},
   "outputs": [
    {
     "name": "stdout",
     "output_type": "stream",
     "text": [
      "[0.2329046  0.71164058 0.89737341 0.14272985 0.56484852]\n",
      "[0.08775462 0.27958273 0.46572533 0.9236855  0.03108869]\n",
      "[0.99332306 0.96198944 0.32614333 0.65132847 0.91414647]\n",
      "[0.35936406 0.26440382 0.34143749 0.43563402 0.46677923]\n",
      "[0.48164564 0.10469323 0.61356482 0.75659758 0.80419393]\n",
      "[0.04498866 0.93655952 0.39461489 0.06648538 0.62272337]\n",
      "[0.88715298 0.78140119 0.14341764 0.06175053 0.15984595]\n",
      "[0.2242978  0.17251653 0.23095747 0.25088656 0.12205014]\n",
      "[0.87966799 0.71068088 0.25450018 0.03529956 0.16338991]\n",
      "[0.22061589 0.215305   0.56587393 0.03328683 0.71296935]\n"
     ]
    }
   ],
   "source": [
    "data = np.random.rand(10,5)\n",
    "for x in data:\n",
    "    print(x)"
   ]
  },
  {
   "cell_type": "code",
   "execution_count": 2,
   "id": "8ca91549",
   "metadata": {},
   "outputs": [
    {
     "name": "stdout",
     "output_type": "stream",
     "text": [
      "0\n",
      "1\n",
      "2\n",
      "3\n",
      "4\n"
     ]
    }
   ],
   "source": [
    "import numpy as np\n",
    "data = np.random.rand(10,5)\n",
    "for x in range(data.shape[1]):\n",
    "    print(x)"
   ]
  },
  {
   "cell_type": "code",
   "execution_count": 17,
   "id": "fd1c93cd",
   "metadata": {},
   "outputs": [
    {
     "name": "stdout",
     "output_type": "stream",
     "text": [
      "          0         1         2         3         4\n",
      "0  0.965033       NaN       NaN       NaN  0.304996\n",
      "1       NaN       NaN       NaN       NaN       NaN\n",
      "2       NaN  0.440526       NaN  0.466514       NaN\n",
      "3       NaN       NaN  0.220013  0.676454       NaN\n",
      "4       NaN       NaN       NaN       NaN  0.390046\n",
      "5  0.825963  0.252814  0.916089       NaN       NaN\n",
      "6  0.441491  0.914045  0.485289  0.945844  0.583843\n",
      "7  0.126204  0.338109  0.594286  0.998447  0.250549\n",
      "8  0.811040  0.076154  0.625736  0.662709  0.533222\n",
      "9  0.308857  0.751008  0.886644  0.843958  0.495046\n"
     ]
    }
   ],
   "source": [
    "import numpy as np\n",
    "import pandas as pd\n",
    "data = np.random.rand(10,5)\n",
    "for x in range(data.shape[1]):\n",
    "    nan_value = np.random.choice(6,4, replace=False)\n",
    "    data[nan_value, x] = np.nan\n",
    "    daf = pd.DataFrame(data)\n",
    "print(daf)"
   ]
  },
  {
   "cell_type": "code",
   "execution_count": 30,
   "id": "3328f1a8",
   "metadata": {},
   "outputs": [
    {
     "name": "stdout",
     "output_type": "stream",
     "text": [
      "          0         1         2         3         4\n",
      "0  0.965033       NaN       NaN       NaN  0.304996\n",
      "1       NaN       NaN       NaN       NaN       NaN\n",
      "2       NaN  0.440526       NaN  0.466514       NaN\n",
      "3       NaN       NaN  0.220013  0.676454       NaN\n",
      "4       NaN       NaN       NaN       NaN  0.390046\n"
     ]
    }
   ],
   "source": [
    "print(daf.head())"
   ]
  },
  {
   "cell_type": "code",
   "execution_count": 31,
   "id": "f0e063a7",
   "metadata": {},
   "outputs": [
    {
     "name": "stdout",
     "output_type": "stream",
     "text": [
      "          0         1   2         3         4\n",
      "0  0.965033       NaN NaN       NaN  0.304996\n",
      "1       NaN       NaN NaN       NaN       NaN\n",
      "2       NaN  0.440526 NaN  0.466514       NaN\n"
     ]
    }
   ],
   "source": [
    "print(daf.head(3))"
   ]
  },
  {
   "cell_type": "code",
   "execution_count": 38,
   "id": "6ff9affe",
   "metadata": {},
   "outputs": [
    {
     "name": "stdout",
     "output_type": "stream",
     "text": [
      "          0         1         2         3         4\n",
      "0       NaN  0.880770       NaN       NaN  0.418406\n",
      "1  0.032249       NaN       NaN  0.766325       NaN\n",
      "2       NaN  0.316912  0.923455  0.650182       NaN\n",
      "3  0.272869       NaN  0.272141  0.144242  0.004186\n",
      "4       NaN  0.715416       NaN       NaN       NaN\n",
      "5  0.360734       NaN  0.065420       NaN  0.268755\n",
      "6  0.079400  0.626312  0.425440  0.961799  0.853566\n",
      "7  0.986644  0.698572  0.319666  0.585658  0.478646\n",
      "8  0.671531  0.240139  0.147347  0.997064  0.033232\n",
      "9  0.500927  0.614739  0.989838  0.907353  0.164693\n"
     ]
    }
   ],
   "source": [
    "import numpy as np\n",
    "import pandas as pd\n",
    "data = np.random.rand(10,5)\n",
    "for x in range(data.shape[1]):\n",
    "    nan_value = np.random.choice(6,3, replace=False)\n",
    "    data[nan_value, x] = np.nan\n",
    "    daf = pd.DataFrame(data)\n",
    "print(daf)"
   ]
  },
  {
   "cell_type": "code",
   "execution_count": 39,
   "id": "3e68636b",
   "metadata": {},
   "outputs": [
    {
     "name": "stdout",
     "output_type": "stream",
     "text": [
      "       col1      col2      col3      col4      col5\n",
      "0       NaN  0.880770       NaN       NaN  0.418406\n",
      "1  0.032249       NaN       NaN  0.766325       NaN\n",
      "2       NaN  0.316912  0.923455  0.650182       NaN\n",
      "3  0.272869       NaN  0.272141  0.144242  0.004186\n",
      "4       NaN  0.715416       NaN       NaN       NaN\n",
      "5  0.360734       NaN  0.065420       NaN  0.268755\n",
      "6  0.079400  0.626312  0.425440  0.961799  0.853566\n",
      "7  0.986644  0.698572  0.319666  0.585658  0.478646\n",
      "8  0.671531  0.240139  0.147347  0.997064  0.033232\n",
      "9  0.500927  0.614739  0.989838  0.907353  0.164693\n"
     ]
    }
   ],
   "source": [
    "daf.columns=['col1','col2','col3','col4', 'col5']\n",
    "print(daf)"
   ]
  },
  {
   "cell_type": "code",
   "execution_count": 40,
   "id": "c5918554",
   "metadata": {},
   "outputs": [],
   "source": [
    "daf1 = daf.copy()\n",
    "daf2 = daf.copy()\n",
    "daf3 = daf.copy()\n",
    "daf4 = daf.copy()"
   ]
  },
  {
   "cell_type": "code",
   "execution_count": 41,
   "id": "687791bf",
   "metadata": {},
   "outputs": [
    {
     "data": {
      "text/html": [
       "<div>\n",
       "<style scoped>\n",
       "    .dataframe tbody tr th:only-of-type {\n",
       "        vertical-align: middle;\n",
       "    }\n",
       "\n",
       "    .dataframe tbody tr th {\n",
       "        vertical-align: top;\n",
       "    }\n",
       "\n",
       "    .dataframe thead th {\n",
       "        text-align: right;\n",
       "    }\n",
       "</style>\n",
       "<table border=\"1\" class=\"dataframe\">\n",
       "  <thead>\n",
       "    <tr style=\"text-align: right;\">\n",
       "      <th></th>\n",
       "      <th>col1</th>\n",
       "      <th>col2</th>\n",
       "      <th>col3</th>\n",
       "      <th>col4</th>\n",
       "      <th>col5</th>\n",
       "    </tr>\n",
       "  </thead>\n",
       "  <tbody>\n",
       "    <tr>\n",
       "      <th>6</th>\n",
       "      <td>0.079400</td>\n",
       "      <td>0.626312</td>\n",
       "      <td>0.425440</td>\n",
       "      <td>0.961799</td>\n",
       "      <td>0.853566</td>\n",
       "    </tr>\n",
       "    <tr>\n",
       "      <th>7</th>\n",
       "      <td>0.986644</td>\n",
       "      <td>0.698572</td>\n",
       "      <td>0.319666</td>\n",
       "      <td>0.585658</td>\n",
       "      <td>0.478646</td>\n",
       "    </tr>\n",
       "    <tr>\n",
       "      <th>8</th>\n",
       "      <td>0.671531</td>\n",
       "      <td>0.240139</td>\n",
       "      <td>0.147347</td>\n",
       "      <td>0.997064</td>\n",
       "      <td>0.033232</td>\n",
       "    </tr>\n",
       "    <tr>\n",
       "      <th>9</th>\n",
       "      <td>0.500927</td>\n",
       "      <td>0.614739</td>\n",
       "      <td>0.989838</td>\n",
       "      <td>0.907353</td>\n",
       "      <td>0.164693</td>\n",
       "    </tr>\n",
       "  </tbody>\n",
       "</table>\n",
       "</div>"
      ],
      "text/plain": [
       "       col1      col2      col3      col4      col5\n",
       "6  0.079400  0.626312  0.425440  0.961799  0.853566\n",
       "7  0.986644  0.698572  0.319666  0.585658  0.478646\n",
       "8  0.671531  0.240139  0.147347  0.997064  0.033232\n",
       "9  0.500927  0.614739  0.989838  0.907353  0.164693"
      ]
     },
     "execution_count": 41,
     "metadata": {},
     "output_type": "execute_result"
    }
   ],
   "source": [
    "daf.dropna()"
   ]
  },
  {
   "cell_type": "code",
   "execution_count": 42,
   "id": "957dc178",
   "metadata": {},
   "outputs": [
    {
     "data": {
      "text/html": [
       "<div>\n",
       "<style scoped>\n",
       "    .dataframe tbody tr th:only-of-type {\n",
       "        vertical-align: middle;\n",
       "    }\n",
       "\n",
       "    .dataframe tbody tr th {\n",
       "        vertical-align: top;\n",
       "    }\n",
       "\n",
       "    .dataframe thead th {\n",
       "        text-align: right;\n",
       "    }\n",
       "</style>\n",
       "<table border=\"1\" class=\"dataframe\">\n",
       "  <thead>\n",
       "    <tr style=\"text-align: right;\">\n",
       "      <th></th>\n",
       "      <th>col1</th>\n",
       "      <th>col2</th>\n",
       "      <th>col3</th>\n",
       "      <th>col4</th>\n",
       "      <th>col5</th>\n",
       "    </tr>\n",
       "  </thead>\n",
       "  <tbody>\n",
       "    <tr>\n",
       "      <th>6</th>\n",
       "      <td>0.079400</td>\n",
       "      <td>0.626312</td>\n",
       "      <td>0.425440</td>\n",
       "      <td>0.961799</td>\n",
       "      <td>0.853566</td>\n",
       "    </tr>\n",
       "    <tr>\n",
       "      <th>7</th>\n",
       "      <td>0.986644</td>\n",
       "      <td>0.698572</td>\n",
       "      <td>0.319666</td>\n",
       "      <td>0.585658</td>\n",
       "      <td>0.478646</td>\n",
       "    </tr>\n",
       "    <tr>\n",
       "      <th>8</th>\n",
       "      <td>0.671531</td>\n",
       "      <td>0.240139</td>\n",
       "      <td>0.147347</td>\n",
       "      <td>0.997064</td>\n",
       "      <td>0.033232</td>\n",
       "    </tr>\n",
       "    <tr>\n",
       "      <th>9</th>\n",
       "      <td>0.500927</td>\n",
       "      <td>0.614739</td>\n",
       "      <td>0.989838</td>\n",
       "      <td>0.907353</td>\n",
       "      <td>0.164693</td>\n",
       "    </tr>\n",
       "  </tbody>\n",
       "</table>\n",
       "</div>"
      ],
      "text/plain": [
       "       col1      col2      col3      col4      col5\n",
       "6  0.079400  0.626312  0.425440  0.961799  0.853566\n",
       "7  0.986644  0.698572  0.319666  0.585658  0.478646\n",
       "8  0.671531  0.240139  0.147347  0.997064  0.033232\n",
       "9  0.500927  0.614739  0.989838  0.907353  0.164693"
      ]
     },
     "execution_count": 42,
     "metadata": {},
     "output_type": "execute_result"
    }
   ],
   "source": [
    "daf = daf.dropna()\n",
    "daf"
   ]
  },
  {
   "cell_type": "code",
   "execution_count": 43,
   "id": "e0104305",
   "metadata": {},
   "outputs": [],
   "source": [
    "daf1 = daf1.drop(['col3'], axis=1)"
   ]
  },
  {
   "cell_type": "code",
   "execution_count": 44,
   "id": "97962bda",
   "metadata": {},
   "outputs": [],
   "source": [
    "daf2.drop(['col5'], axis=1, inplace=True)"
   ]
  },
  {
   "cell_type": "code",
   "execution_count": 45,
   "id": "8133dabb",
   "metadata": {},
   "outputs": [
    {
     "data": {
      "text/html": [
       "<div>\n",
       "<style scoped>\n",
       "    .dataframe tbody tr th:only-of-type {\n",
       "        vertical-align: middle;\n",
       "    }\n",
       "\n",
       "    .dataframe tbody tr th {\n",
       "        vertical-align: top;\n",
       "    }\n",
       "\n",
       "    .dataframe thead th {\n",
       "        text-align: right;\n",
       "    }\n",
       "</style>\n",
       "<table border=\"1\" class=\"dataframe\">\n",
       "  <thead>\n",
       "    <tr style=\"text-align: right;\">\n",
       "      <th></th>\n",
       "      <th>col1</th>\n",
       "      <th>col2</th>\n",
       "      <th>col3</th>\n",
       "      <th>col4</th>\n",
       "    </tr>\n",
       "  </thead>\n",
       "  <tbody>\n",
       "    <tr>\n",
       "      <th>0</th>\n",
       "      <td>NaN</td>\n",
       "      <td>0.880770</td>\n",
       "      <td>NaN</td>\n",
       "      <td>NaN</td>\n",
       "    </tr>\n",
       "    <tr>\n",
       "      <th>1</th>\n",
       "      <td>0.032249</td>\n",
       "      <td>NaN</td>\n",
       "      <td>NaN</td>\n",
       "      <td>0.766325</td>\n",
       "    </tr>\n",
       "    <tr>\n",
       "      <th>2</th>\n",
       "      <td>NaN</td>\n",
       "      <td>0.316912</td>\n",
       "      <td>0.923455</td>\n",
       "      <td>0.650182</td>\n",
       "    </tr>\n",
       "    <tr>\n",
       "      <th>3</th>\n",
       "      <td>0.272869</td>\n",
       "      <td>NaN</td>\n",
       "      <td>0.272141</td>\n",
       "      <td>0.144242</td>\n",
       "    </tr>\n",
       "    <tr>\n",
       "      <th>4</th>\n",
       "      <td>NaN</td>\n",
       "      <td>0.715416</td>\n",
       "      <td>NaN</td>\n",
       "      <td>NaN</td>\n",
       "    </tr>\n",
       "    <tr>\n",
       "      <th>5</th>\n",
       "      <td>0.360734</td>\n",
       "      <td>NaN</td>\n",
       "      <td>0.065420</td>\n",
       "      <td>NaN</td>\n",
       "    </tr>\n",
       "    <tr>\n",
       "      <th>6</th>\n",
       "      <td>0.079400</td>\n",
       "      <td>0.626312</td>\n",
       "      <td>0.425440</td>\n",
       "      <td>0.961799</td>\n",
       "    </tr>\n",
       "    <tr>\n",
       "      <th>7</th>\n",
       "      <td>0.986644</td>\n",
       "      <td>0.698572</td>\n",
       "      <td>0.319666</td>\n",
       "      <td>0.585658</td>\n",
       "    </tr>\n",
       "    <tr>\n",
       "      <th>8</th>\n",
       "      <td>0.671531</td>\n",
       "      <td>0.240139</td>\n",
       "      <td>0.147347</td>\n",
       "      <td>0.997064</td>\n",
       "    </tr>\n",
       "    <tr>\n",
       "      <th>9</th>\n",
       "      <td>0.500927</td>\n",
       "      <td>0.614739</td>\n",
       "      <td>0.989838</td>\n",
       "      <td>0.907353</td>\n",
       "    </tr>\n",
       "  </tbody>\n",
       "</table>\n",
       "</div>"
      ],
      "text/plain": [
       "       col1      col2      col3      col4\n",
       "0       NaN  0.880770       NaN       NaN\n",
       "1  0.032249       NaN       NaN  0.766325\n",
       "2       NaN  0.316912  0.923455  0.650182\n",
       "3  0.272869       NaN  0.272141  0.144242\n",
       "4       NaN  0.715416       NaN       NaN\n",
       "5  0.360734       NaN  0.065420       NaN\n",
       "6  0.079400  0.626312  0.425440  0.961799\n",
       "7  0.986644  0.698572  0.319666  0.585658\n",
       "8  0.671531  0.240139  0.147347  0.997064\n",
       "9  0.500927  0.614739  0.989838  0.907353"
      ]
     },
     "execution_count": 45,
     "metadata": {},
     "output_type": "execute_result"
    }
   ],
   "source": [
    "daf2"
   ]
  },
  {
   "cell_type": "code",
   "execution_count": 46,
   "id": "d86f6f13",
   "metadata": {},
   "outputs": [
    {
     "data": {
      "text/html": [
       "<div>\n",
       "<style scoped>\n",
       "    .dataframe tbody tr th:only-of-type {\n",
       "        vertical-align: middle;\n",
       "    }\n",
       "\n",
       "    .dataframe tbody tr th {\n",
       "        vertical-align: top;\n",
       "    }\n",
       "\n",
       "    .dataframe thead th {\n",
       "        text-align: right;\n",
       "    }\n",
       "</style>\n",
       "<table border=\"1\" class=\"dataframe\">\n",
       "  <thead>\n",
       "    <tr style=\"text-align: right;\">\n",
       "      <th></th>\n",
       "      <th>col3</th>\n",
       "      <th>col4</th>\n",
       "    </tr>\n",
       "  </thead>\n",
       "  <tbody>\n",
       "    <tr>\n",
       "      <th>0</th>\n",
       "      <td>NaN</td>\n",
       "      <td>NaN</td>\n",
       "    </tr>\n",
       "    <tr>\n",
       "      <th>1</th>\n",
       "      <td>NaN</td>\n",
       "      <td>0.766325</td>\n",
       "    </tr>\n",
       "    <tr>\n",
       "      <th>2</th>\n",
       "      <td>0.923455</td>\n",
       "      <td>0.650182</td>\n",
       "    </tr>\n",
       "    <tr>\n",
       "      <th>3</th>\n",
       "      <td>0.272141</td>\n",
       "      <td>0.144242</td>\n",
       "    </tr>\n",
       "    <tr>\n",
       "      <th>4</th>\n",
       "      <td>NaN</td>\n",
       "      <td>NaN</td>\n",
       "    </tr>\n",
       "    <tr>\n",
       "      <th>5</th>\n",
       "      <td>0.065420</td>\n",
       "      <td>NaN</td>\n",
       "    </tr>\n",
       "    <tr>\n",
       "      <th>6</th>\n",
       "      <td>0.425440</td>\n",
       "      <td>0.961799</td>\n",
       "    </tr>\n",
       "    <tr>\n",
       "      <th>7</th>\n",
       "      <td>0.319666</td>\n",
       "      <td>0.585658</td>\n",
       "    </tr>\n",
       "    <tr>\n",
       "      <th>8</th>\n",
       "      <td>0.147347</td>\n",
       "      <td>0.997064</td>\n",
       "    </tr>\n",
       "    <tr>\n",
       "      <th>9</th>\n",
       "      <td>0.989838</td>\n",
       "      <td>0.907353</td>\n",
       "    </tr>\n",
       "  </tbody>\n",
       "</table>\n",
       "</div>"
      ],
      "text/plain": [
       "       col3      col4\n",
       "0       NaN       NaN\n",
       "1       NaN  0.766325\n",
       "2  0.923455  0.650182\n",
       "3  0.272141  0.144242\n",
       "4       NaN       NaN\n",
       "5  0.065420       NaN\n",
       "6  0.425440  0.961799\n",
       "7  0.319666  0.585658\n",
       "8  0.147347  0.997064\n",
       "9  0.989838  0.907353"
      ]
     },
     "execution_count": 46,
     "metadata": {},
     "output_type": "execute_result"
    }
   ],
   "source": [
    "daf2 = daf2.drop(['col1','col2'], axis=1)\n",
    "daf2"
   ]
  },
  {
   "cell_type": "code",
   "execution_count": 47,
   "id": "c10f25b3",
   "metadata": {},
   "outputs": [
    {
     "name": "stdout",
     "output_type": "stream",
     "text": [
      "       col1      col2      col3      col4      col5\n",
      "0       NaN  0.880770       NaN       NaN  0.418406\n",
      "1  0.032249       NaN       NaN  0.766325       NaN\n",
      "2       NaN  0.316912  0.923455  0.650182       NaN\n",
      "3  0.272869       NaN  0.272141  0.144242  0.004186\n",
      "4       NaN  0.715416       NaN       NaN       NaN\n",
      "5  0.360734       NaN  0.065420       NaN  0.268755\n",
      "6  0.079400  0.626312  0.425440  0.961799  0.853566\n",
      "7  0.986644  0.698572  0.319666  0.585658  0.478646\n",
      "8  0.671531  0.240139  0.147347  0.997064  0.033232\n",
      "9  0.500927  0.614739  0.989838  0.907353  0.164693\n"
     ]
    }
   ],
   "source": [
    "print(daf3)"
   ]
  },
  {
   "cell_type": "code",
   "execution_count": 50,
   "id": "a3c8be47",
   "metadata": {},
   "outputs": [
    {
     "data": {
      "text/html": [
       "<div>\n",
       "<style scoped>\n",
       "    .dataframe tbody tr th:only-of-type {\n",
       "        vertical-align: middle;\n",
       "    }\n",
       "\n",
       "    .dataframe tbody tr th {\n",
       "        vertical-align: top;\n",
       "    }\n",
       "\n",
       "    .dataframe thead th {\n",
       "        text-align: right;\n",
       "    }\n",
       "</style>\n",
       "<table border=\"1\" class=\"dataframe\">\n",
       "  <thead>\n",
       "    <tr style=\"text-align: right;\">\n",
       "      <th></th>\n",
       "      <th>col1</th>\n",
       "      <th>col2</th>\n",
       "      <th>col3</th>\n",
       "      <th>col4</th>\n",
       "      <th>col5</th>\n",
       "    </tr>\n",
       "  </thead>\n",
       "  <tbody>\n",
       "    <tr>\n",
       "      <th>0</th>\n",
       "      <td>4.000000</td>\n",
       "      <td>0.880770</td>\n",
       "      <td>4.000000</td>\n",
       "      <td>4.000000</td>\n",
       "      <td>0.418406</td>\n",
       "    </tr>\n",
       "    <tr>\n",
       "      <th>1</th>\n",
       "      <td>0.032249</td>\n",
       "      <td>4.000000</td>\n",
       "      <td>4.000000</td>\n",
       "      <td>0.766325</td>\n",
       "      <td>4.000000</td>\n",
       "    </tr>\n",
       "    <tr>\n",
       "      <th>2</th>\n",
       "      <td>4.000000</td>\n",
       "      <td>0.316912</td>\n",
       "      <td>0.923455</td>\n",
       "      <td>0.650182</td>\n",
       "      <td>4.000000</td>\n",
       "    </tr>\n",
       "    <tr>\n",
       "      <th>3</th>\n",
       "      <td>0.272869</td>\n",
       "      <td>4.000000</td>\n",
       "      <td>0.272141</td>\n",
       "      <td>0.144242</td>\n",
       "      <td>0.004186</td>\n",
       "    </tr>\n",
       "    <tr>\n",
       "      <th>4</th>\n",
       "      <td>4.000000</td>\n",
       "      <td>0.715416</td>\n",
       "      <td>4.000000</td>\n",
       "      <td>4.000000</td>\n",
       "      <td>4.000000</td>\n",
       "    </tr>\n",
       "    <tr>\n",
       "      <th>5</th>\n",
       "      <td>0.360734</td>\n",
       "      <td>4.000000</td>\n",
       "      <td>0.065420</td>\n",
       "      <td>4.000000</td>\n",
       "      <td>0.268755</td>\n",
       "    </tr>\n",
       "    <tr>\n",
       "      <th>6</th>\n",
       "      <td>0.079400</td>\n",
       "      <td>0.626312</td>\n",
       "      <td>0.425440</td>\n",
       "      <td>0.961799</td>\n",
       "      <td>0.853566</td>\n",
       "    </tr>\n",
       "    <tr>\n",
       "      <th>7</th>\n",
       "      <td>0.986644</td>\n",
       "      <td>0.698572</td>\n",
       "      <td>0.319666</td>\n",
       "      <td>0.585658</td>\n",
       "      <td>0.478646</td>\n",
       "    </tr>\n",
       "    <tr>\n",
       "      <th>8</th>\n",
       "      <td>0.671531</td>\n",
       "      <td>0.240139</td>\n",
       "      <td>0.147347</td>\n",
       "      <td>0.997064</td>\n",
       "      <td>0.033232</td>\n",
       "    </tr>\n",
       "    <tr>\n",
       "      <th>9</th>\n",
       "      <td>0.500927</td>\n",
       "      <td>0.614739</td>\n",
       "      <td>0.989838</td>\n",
       "      <td>0.907353</td>\n",
       "      <td>0.164693</td>\n",
       "    </tr>\n",
       "  </tbody>\n",
       "</table>\n",
       "</div>"
      ],
      "text/plain": [
       "       col1      col2      col3      col4      col5\n",
       "0  4.000000  0.880770  4.000000  4.000000  0.418406\n",
       "1  0.032249  4.000000  4.000000  0.766325  4.000000\n",
       "2  4.000000  0.316912  0.923455  0.650182  4.000000\n",
       "3  0.272869  4.000000  0.272141  0.144242  0.004186\n",
       "4  4.000000  0.715416  4.000000  4.000000  4.000000\n",
       "5  0.360734  4.000000  0.065420  4.000000  0.268755\n",
       "6  0.079400  0.626312  0.425440  0.961799  0.853566\n",
       "7  0.986644  0.698572  0.319666  0.585658  0.478646\n",
       "8  0.671531  0.240139  0.147347  0.997064  0.033232\n",
       "9  0.500927  0.614739  0.989838  0.907353  0.164693"
      ]
     },
     "execution_count": 50,
     "metadata": {},
     "output_type": "execute_result"
    }
   ],
   "source": [
    "daf3.fillna(4, inplace=True)\n",
    "daf3"
   ]
  },
  {
   "cell_type": "code",
   "execution_count": 51,
   "id": "b036e795",
   "metadata": {},
   "outputs": [
    {
     "data": {
      "text/html": [
       "<div>\n",
       "<style scoped>\n",
       "    .dataframe tbody tr th:only-of-type {\n",
       "        vertical-align: middle;\n",
       "    }\n",
       "\n",
       "    .dataframe tbody tr th {\n",
       "        vertical-align: top;\n",
       "    }\n",
       "\n",
       "    .dataframe thead th {\n",
       "        text-align: right;\n",
       "    }\n",
       "</style>\n",
       "<table border=\"1\" class=\"dataframe\">\n",
       "  <thead>\n",
       "    <tr style=\"text-align: right;\">\n",
       "      <th></th>\n",
       "      <th>col1</th>\n",
       "      <th>col2</th>\n",
       "      <th>col3</th>\n",
       "      <th>col4</th>\n",
       "      <th>col5</th>\n",
       "    </tr>\n",
       "  </thead>\n",
       "  <tbody>\n",
       "    <tr>\n",
       "      <th>0</th>\n",
       "      <td>NaN</td>\n",
       "      <td>0.880770</td>\n",
       "      <td>NaN</td>\n",
       "      <td>NaN</td>\n",
       "      <td>0.418406</td>\n",
       "    </tr>\n",
       "    <tr>\n",
       "      <th>1</th>\n",
       "      <td>0.032249</td>\n",
       "      <td>NaN</td>\n",
       "      <td>NaN</td>\n",
       "      <td>0.766325</td>\n",
       "      <td>NaN</td>\n",
       "    </tr>\n",
       "    <tr>\n",
       "      <th>2</th>\n",
       "      <td>NaN</td>\n",
       "      <td>0.316912</td>\n",
       "      <td>0.923455</td>\n",
       "      <td>0.650182</td>\n",
       "      <td>NaN</td>\n",
       "    </tr>\n",
       "    <tr>\n",
       "      <th>3</th>\n",
       "      <td>0.272869</td>\n",
       "      <td>NaN</td>\n",
       "      <td>0.272141</td>\n",
       "      <td>0.144242</td>\n",
       "      <td>0.004186</td>\n",
       "    </tr>\n",
       "    <tr>\n",
       "      <th>4</th>\n",
       "      <td>NaN</td>\n",
       "      <td>0.715416</td>\n",
       "      <td>NaN</td>\n",
       "      <td>NaN</td>\n",
       "      <td>NaN</td>\n",
       "    </tr>\n",
       "    <tr>\n",
       "      <th>5</th>\n",
       "      <td>0.360734</td>\n",
       "      <td>NaN</td>\n",
       "      <td>0.065420</td>\n",
       "      <td>NaN</td>\n",
       "      <td>0.268755</td>\n",
       "    </tr>\n",
       "    <tr>\n",
       "      <th>6</th>\n",
       "      <td>0.079400</td>\n",
       "      <td>0.626312</td>\n",
       "      <td>0.425440</td>\n",
       "      <td>0.961799</td>\n",
       "      <td>0.853566</td>\n",
       "    </tr>\n",
       "    <tr>\n",
       "      <th>7</th>\n",
       "      <td>0.986644</td>\n",
       "      <td>0.698572</td>\n",
       "      <td>0.319666</td>\n",
       "      <td>0.585658</td>\n",
       "      <td>0.478646</td>\n",
       "    </tr>\n",
       "    <tr>\n",
       "      <th>8</th>\n",
       "      <td>0.671531</td>\n",
       "      <td>0.240139</td>\n",
       "      <td>0.147347</td>\n",
       "      <td>0.997064</td>\n",
       "      <td>0.033232</td>\n",
       "    </tr>\n",
       "    <tr>\n",
       "      <th>9</th>\n",
       "      <td>0.500927</td>\n",
       "      <td>0.614739</td>\n",
       "      <td>0.989838</td>\n",
       "      <td>0.907353</td>\n",
       "      <td>0.164693</td>\n",
       "    </tr>\n",
       "  </tbody>\n",
       "</table>\n",
       "</div>"
      ],
      "text/plain": [
       "       col1      col2      col3      col4      col5\n",
       "0       NaN  0.880770       NaN       NaN  0.418406\n",
       "1  0.032249       NaN       NaN  0.766325       NaN\n",
       "2       NaN  0.316912  0.923455  0.650182       NaN\n",
       "3  0.272869       NaN  0.272141  0.144242  0.004186\n",
       "4       NaN  0.715416       NaN       NaN       NaN\n",
       "5  0.360734       NaN  0.065420       NaN  0.268755\n",
       "6  0.079400  0.626312  0.425440  0.961799  0.853566\n",
       "7  0.986644  0.698572  0.319666  0.585658  0.478646\n",
       "8  0.671531  0.240139  0.147347  0.997064  0.033232\n",
       "9  0.500927  0.614739  0.989838  0.907353  0.164693"
      ]
     },
     "execution_count": 51,
     "metadata": {},
     "output_type": "execute_result"
    }
   ],
   "source": [
    "daf4"
   ]
  },
  {
   "cell_type": "code",
   "execution_count": 52,
   "id": "dc518025",
   "metadata": {},
   "outputs": [
    {
     "data": {
      "text/html": [
       "<div>\n",
       "<style scoped>\n",
       "    .dataframe tbody tr th:only-of-type {\n",
       "        vertical-align: middle;\n",
       "    }\n",
       "\n",
       "    .dataframe tbody tr th {\n",
       "        vertical-align: top;\n",
       "    }\n",
       "\n",
       "    .dataframe thead th {\n",
       "        text-align: right;\n",
       "    }\n",
       "</style>\n",
       "<table border=\"1\" class=\"dataframe\">\n",
       "  <thead>\n",
       "    <tr style=\"text-align: right;\">\n",
       "      <th></th>\n",
       "      <th>col1</th>\n",
       "      <th>col2</th>\n",
       "      <th>col3</th>\n",
       "      <th>col4</th>\n",
       "      <th>col5</th>\n",
       "    </tr>\n",
       "  </thead>\n",
       "  <tbody>\n",
       "    <tr>\n",
       "      <th>count</th>\n",
       "      <td>7.000000</td>\n",
       "      <td>7.000000</td>\n",
       "      <td>7.000000</td>\n",
       "      <td>7.000000</td>\n",
       "      <td>7.000000</td>\n",
       "    </tr>\n",
       "    <tr>\n",
       "      <th>mean</th>\n",
       "      <td>0.414908</td>\n",
       "      <td>0.584694</td>\n",
       "      <td>0.449044</td>\n",
       "      <td>0.716089</td>\n",
       "      <td>0.317355</td>\n",
       "    </tr>\n",
       "    <tr>\n",
       "      <th>std</th>\n",
       "      <td>0.337204</td>\n",
       "      <td>0.227588</td>\n",
       "      <td>0.366129</td>\n",
       "      <td>0.296308</td>\n",
       "      <td>0.296709</td>\n",
       "    </tr>\n",
       "    <tr>\n",
       "      <th>min</th>\n",
       "      <td>0.032249</td>\n",
       "      <td>0.240139</td>\n",
       "      <td>0.065420</td>\n",
       "      <td>0.144242</td>\n",
       "      <td>0.004186</td>\n",
       "    </tr>\n",
       "    <tr>\n",
       "      <th>25%</th>\n",
       "      <td>0.176134</td>\n",
       "      <td>0.465826</td>\n",
       "      <td>0.209744</td>\n",
       "      <td>0.617920</td>\n",
       "      <td>0.098962</td>\n",
       "    </tr>\n",
       "    <tr>\n",
       "      <th>50%</th>\n",
       "      <td>0.360734</td>\n",
       "      <td>0.626312</td>\n",
       "      <td>0.319666</td>\n",
       "      <td>0.766325</td>\n",
       "      <td>0.268755</td>\n",
       "    </tr>\n",
       "    <tr>\n",
       "      <th>75%</th>\n",
       "      <td>0.586229</td>\n",
       "      <td>0.706994</td>\n",
       "      <td>0.674447</td>\n",
       "      <td>0.934576</td>\n",
       "      <td>0.448526</td>\n",
       "    </tr>\n",
       "    <tr>\n",
       "      <th>max</th>\n",
       "      <td>0.986644</td>\n",
       "      <td>0.880770</td>\n",
       "      <td>0.989838</td>\n",
       "      <td>0.997064</td>\n",
       "      <td>0.853566</td>\n",
       "    </tr>\n",
       "  </tbody>\n",
       "</table>\n",
       "</div>"
      ],
      "text/plain": [
       "           col1      col2      col3      col4      col5\n",
       "count  7.000000  7.000000  7.000000  7.000000  7.000000\n",
       "mean   0.414908  0.584694  0.449044  0.716089  0.317355\n",
       "std    0.337204  0.227588  0.366129  0.296308  0.296709\n",
       "min    0.032249  0.240139  0.065420  0.144242  0.004186\n",
       "25%    0.176134  0.465826  0.209744  0.617920  0.098962\n",
       "50%    0.360734  0.626312  0.319666  0.766325  0.268755\n",
       "75%    0.586229  0.706994  0.674447  0.934576  0.448526\n",
       "max    0.986644  0.880770  0.989838  0.997064  0.853566"
      ]
     },
     "execution_count": 52,
     "metadata": {},
     "output_type": "execute_result"
    }
   ],
   "source": [
    "daf4.describe()"
   ]
  },
  {
   "cell_type": "code",
   "execution_count": 55,
   "id": "deaf8195",
   "metadata": {},
   "outputs": [
    {
     "data": {
      "text/plain": [
       "np.float64(0.41490761431950357)"
      ]
     },
     "execution_count": 55,
     "metadata": {},
     "output_type": "execute_result"
    }
   ],
   "source": [
    "daf4['col1'].mean()"
   ]
  },
  {
   "cell_type": "code",
   "execution_count": 56,
   "id": "a45d890a",
   "metadata": {},
   "outputs": [
    {
     "data": {
      "text/plain": [
       "np.float64(0.6263119617448525)"
      ]
     },
     "execution_count": 56,
     "metadata": {},
     "output_type": "execute_result"
    }
   ],
   "source": [
    "daf4['col2'].median()"
   ]
  },
  {
   "cell_type": "code",
   "execution_count": 57,
   "id": "42a4ce84",
   "metadata": {},
   "outputs": [
    {
     "data": {
      "text/plain": [
       "np.float64(0.880769823065273)"
      ]
     },
     "execution_count": 57,
     "metadata": {},
     "output_type": "execute_result"
    }
   ],
   "source": [
    "daf4['col2'].max()"
   ]
  },
  {
   "cell_type": "code",
   "execution_count": 59,
   "id": "967bcc1b",
   "metadata": {},
   "outputs": [
    {
     "data": {
      "text/plain": [
       "np.float64(0.24013937378655215)"
      ]
     },
     "execution_count": 59,
     "metadata": {},
     "output_type": "execute_result"
    }
   ],
   "source": [
    "daf4['col2'].min()"
   ]
  },
  {
   "cell_type": "code",
   "execution_count": 61,
   "id": "0db5c178",
   "metadata": {},
   "outputs": [
    {
     "data": {
      "text/plain": [
       "np.float64(0.46582575348608674)"
      ]
     },
     "execution_count": 61,
     "metadata": {},
     "output_type": "execute_result"
    }
   ],
   "source": [
    "daf4['col2'].quantile(.25)"
   ]
  },
  {
   "cell_type": "code",
   "execution_count": 62,
   "id": "0c8b4cf3",
   "metadata": {},
   "outputs": [
    {
     "data": {
      "text/plain": [
       "np.float64(0.6263119617448525)"
      ]
     },
     "execution_count": 62,
     "metadata": {},
     "output_type": "execute_result"
    }
   ],
   "source": [
    "daf4['col2'].quantile(.50)"
   ]
  }
 ],
 "metadata": {
  "kernelspec": {
   "display_name": "Python 3",
   "language": "python",
   "name": "python3"
  },
  "language_info": {
   "codemirror_mode": {
    "name": "ipython",
    "version": 3
   },
   "file_extension": ".py",
   "mimetype": "text/x-python",
   "name": "python",
   "nbconvert_exporter": "python",
   "pygments_lexer": "ipython3",
   "version": "3.11.4"
  }
 },
 "nbformat": 4,
 "nbformat_minor": 5
}
