{
 "cells": [
  {
   "cell_type": "code",
   "execution_count": 2,
   "id": "2fe59b2a",
   "metadata": {},
   "outputs": [],
   "source": [
    "import pandas as pd\n",
    "import numpy as np"
   ]
  },
  {
   "cell_type": "code",
   "execution_count": 4,
   "metadata": {},
   "outputs": [
    {
     "data": {
      "text/html": [
       "<div>\n",
       "<style scoped>\n",
       "    .dataframe tbody tr th:only-of-type {\n",
       "        vertical-align: middle;\n",
       "    }\n",
       "\n",
       "    .dataframe tbody tr th {\n",
       "        vertical-align: top;\n",
       "    }\n",
       "\n",
       "    .dataframe thead th {\n",
       "        text-align: right;\n",
       "    }\n",
       "</style>\n",
       "<table border=\"1\" class=\"dataframe\">\n",
       "  <thead>\n",
       "    <tr style=\"text-align: right;\">\n",
       "      <th></th>\n",
       "      <th>name</th>\n",
       "      <th>age</th>\n",
       "      <th>profession</th>\n",
       "      <th>income</th>\n",
       "      <th>city</th>\n",
       "    </tr>\n",
       "  </thead>\n",
       "  <tbody>\n",
       "    <tr>\n",
       "      <th>0</th>\n",
       "      <td>Arif</td>\n",
       "      <td>28.0</td>\n",
       "      <td>Engineer</td>\n",
       "      <td>55000.0</td>\n",
       "      <td>Dhaka</td>\n",
       "    </tr>\n",
       "    <tr>\n",
       "      <th>1</th>\n",
       "      <td>Nusrat</td>\n",
       "      <td>24.0</td>\n",
       "      <td>Designer</td>\n",
       "      <td>48000.0</td>\n",
       "      <td>Chittagong</td>\n",
       "    </tr>\n",
       "    <tr>\n",
       "      <th>2</th>\n",
       "      <td>Rafiq</td>\n",
       "      <td>35.0</td>\n",
       "      <td>Teacher</td>\n",
       "      <td>39000.0</td>\n",
       "      <td>Rajshahi</td>\n",
       "    </tr>\n",
       "    <tr>\n",
       "      <th>3</th>\n",
       "      <td>Mina</td>\n",
       "      <td>30.0</td>\n",
       "      <td>Doctor</td>\n",
       "      <td>75000.0</td>\n",
       "      <td>Dhaka</td>\n",
       "    </tr>\n",
       "    <tr>\n",
       "      <th>4</th>\n",
       "      <td>Hasan</td>\n",
       "      <td>27.0</td>\n",
       "      <td>Engineer</td>\n",
       "      <td>58000.0</td>\n",
       "      <td>Khulna</td>\n",
       "    </tr>\n",
       "    <tr>\n",
       "      <th>5</th>\n",
       "      <td>Sadia</td>\n",
       "      <td>26.0</td>\n",
       "      <td>Designer</td>\n",
       "      <td>47000.0</td>\n",
       "      <td>Sylhet</td>\n",
       "    </tr>\n",
       "    <tr>\n",
       "      <th>6</th>\n",
       "      <td>Rahim</td>\n",
       "      <td>31.0</td>\n",
       "      <td>Teacher</td>\n",
       "      <td>NaN</td>\n",
       "      <td>Dhaka</td>\n",
       "    </tr>\n",
       "    <tr>\n",
       "      <th>7</th>\n",
       "      <td>Rina</td>\n",
       "      <td>NaN</td>\n",
       "      <td>Doctor</td>\n",
       "      <td>72000.0</td>\n",
       "      <td>Barisal</td>\n",
       "    </tr>\n",
       "    <tr>\n",
       "      <th>8</th>\n",
       "      <td>Jamil</td>\n",
       "      <td>29.0</td>\n",
       "      <td>Engineer</td>\n",
       "      <td>60000.0</td>\n",
       "      <td>Chittagong</td>\n",
       "    </tr>\n",
       "    <tr>\n",
       "      <th>9</th>\n",
       "      <td>Farah</td>\n",
       "      <td>25.0</td>\n",
       "      <td>Designer</td>\n",
       "      <td>49000.0</td>\n",
       "      <td>Khulna</td>\n",
       "    </tr>\n",
       "  </tbody>\n",
       "</table>\n",
       "</div>"
      ],
      "text/plain": [
       "     name   age profession   income        city\n",
       "0    Arif  28.0   Engineer  55000.0       Dhaka\n",
       "1  Nusrat  24.0   Designer  48000.0  Chittagong\n",
       "2   Rafiq  35.0    Teacher  39000.0    Rajshahi\n",
       "3    Mina  30.0     Doctor  75000.0       Dhaka\n",
       "4   Hasan  27.0   Engineer  58000.0      Khulna\n",
       "5   Sadia  26.0   Designer  47000.0      Sylhet\n",
       "6   Rahim  31.0    Teacher      NaN       Dhaka\n",
       "7    Rina   NaN     Doctor  72000.0     Barisal\n",
       "8   Jamil  29.0   Engineer  60000.0  Chittagong\n",
       "9   Farah  25.0   Designer  49000.0      Khulna"
      ]
     },
     "execution_count": 4,
     "metadata": {},
     "output_type": "execute_result"
    }
   ],
   "source": [
    "dataset_main = pd.read_json(\"data.json\")\n",
    "dataset_main"
   ]
  },
  {
   "cell_type": "code",
   "execution_count": 53,
   "id": "eb1be421",
   "metadata": {},
   "outputs": [],
   "source": [
    "dataset_main1 = dataset_main.copy()\n",
    "dataset_main2 = dataset_main.copy()\n",
    "dataset_main3 = dataset_main.copy()\n",
    "dataset_main4 = dataset_main.copy()\n",
    "dataset_main5 = dataset_main.copy()\n",
    "dataset_main6 = dataset_main.copy()\n",
    "dataset_main7 = dataset_main.copy()\n",
    "dataset_main8 = dataset_main.copy()\n",
    "dataset_main9 = dataset_main.copy()\n",
    "dataset_main10 = dataset_main.copy()\n",
    "dataset_main11 = dataset_main.copy()\n",
    "dataset_main12 = dataset_main.copy()\n",
    "dataset_main13 = dataset_main.copy()\n",
    "dataset_main14 = dataset_main.copy()\n",
    "dataset_main15 = dataset_main.copy()"
   ]
  },
  {
   "cell_type": "code",
   "execution_count": 6,
   "metadata": {},
   "outputs": [
    {
     "name": "stdout",
     "output_type": "stream",
     "text": [
      "     name   age profession   income        city\n",
      "0    Arif  28.0   Engineer  55000.0       Dhaka\n",
      "1  Nusrat  24.0   Designer  48000.0  Chittagong\n",
      "2   Rafiq  35.0    Teacher  39000.0    Rajshahi\n"
     ]
    }
   ],
   "source": [
    "print(dataset_main.head(3))"
   ]
  },
  {
   "cell_type": "code",
   "execution_count": 7,
   "metadata": {},
   "outputs": [
    {
     "name": "stdout",
     "output_type": "stream",
     "text": [
      "    name   age profession   income        city\n",
      "7   Rina   NaN     Doctor  72000.0     Barisal\n",
      "8  Jamil  29.0   Engineer  60000.0  Chittagong\n",
      "9  Farah  25.0   Designer  49000.0      Khulna\n"
     ]
    }
   ],
   "source": [
    "print(dataset_main.tail(3))"
   ]
  },
  {
   "cell_type": "code",
   "execution_count": null,
   "id": "fae7bc27",
   "metadata": {},
   "outputs": [
    {
     "name": "stdout",
     "output_type": "stream",
     "text": [
      "Index(['name', 'age', 'profession', 'income', 'city'], dtype='object')\n"
     ]
    }
   ],
   "source": [
    "#column er nam dekha\n",
    "print(dataset_main.columns)"
   ]
  },
  {
   "cell_type": "code",
   "execution_count": null,
   "id": "0ffacbfb",
   "metadata": {},
   "outputs": [
    {
     "data": {
      "text/plain": [
       "['name', 'age', 'profession', 'income', 'city']"
      ]
     },
     "execution_count": 9,
     "metadata": {},
     "output_type": "execute_result"
    }
   ],
   "source": [
    "print(list(dataset_main.columns))"
   ]
  },
  {
   "cell_type": "code",
   "execution_count": null,
   "metadata": {},
   "outputs": [
    {
     "name": "stdout",
     "output_type": "stream",
     "text": [
      "profession\n"
     ]
    }
   ],
   "source": [
    "#index onujayi column er num dekha\n",
    "print(dataset_main.columns[2])"
   ]
  },
  {
   "cell_type": "code",
   "execution_count": null,
   "metadata": {},
   "outputs": [
    {
     "name": "stdout",
     "output_type": "stream",
     "text": [
      "<class 'pandas.core.frame.DataFrame'>\n",
      "RangeIndex: 10 entries, 0 to 9\n",
      "Data columns (total 5 columns):\n",
      " #   Column      Non-Null Count  Dtype  \n",
      "---  ------      --------------  -----  \n",
      " 0   name        10 non-null     object \n",
      " 1   age         9 non-null      float64\n",
      " 2   profession  10 non-null     object \n",
      " 3   income      9 non-null      float64\n",
      " 4   city        10 non-null     object \n",
      "dtypes: float64(2), object(3)\n",
      "memory usage: 532.0+ bytes\n",
      "None\n"
     ]
    }
   ],
   "source": [
    "#dataset er bistarito\n",
    "print(dataset_main.info())"
   ]
  },
  {
   "cell_type": "code",
   "execution_count": null,
   "id": "5f9d8910",
   "metadata": {},
   "outputs": [
    {
     "name": "stdout",
     "output_type": "stream",
     "text": [
      "(10, 5)\n"
     ]
    }
   ],
   "source": [
    "#dataset er column and row dekha\n",
    "print(dataset_main.shape)"
   ]
  },
  {
   "cell_type": "code",
   "execution_count": null,
   "metadata": {},
   "outputs": [
    {
     "name": "stdout",
     "output_type": "stream",
     "text": [
      "name           object\n",
      "age           float64\n",
      "profession     object\n",
      "income        float64\n",
      "city           object\n",
      "dtype: object\n"
     ]
    }
   ],
   "source": [
    "# data type gula dekha\n",
    "print(dataset_main.dtypes)"
   ]
  },
  {
   "cell_type": "code",
   "execution_count": null,
   "metadata": {},
   "outputs": [
    {
     "name": "stdout",
     "output_type": "stream",
     "text": [
      "             age        income\n",
      "count   9.000000      9.000000\n",
      "mean   28.333333  55888.888889\n",
      "std     3.391165  11836.853936\n",
      "min    24.000000  39000.000000\n",
      "25%    26.000000  48000.000000\n",
      "50%    28.000000  55000.000000\n",
      "75%    30.000000  60000.000000\n",
      "max    35.000000  75000.000000\n"
     ]
    }
   ],
   "source": [
    "#dataframe describe\n",
    "print(dataset_main.describe())"
   ]
  },
  {
   "cell_type": "code",
   "execution_count": null,
   "metadata": {},
   "outputs": [
    {
     "name": "stdout",
     "output_type": "stream",
     "text": [
      "RangeIndex(start=0, stop=10, step=1)\n"
     ]
    }
   ],
   "source": [
    "#dataframe er index dekha\n",
    "print(dataset_main.index)"
   ]
  },
  {
   "cell_type": "code",
   "execution_count": null,
   "metadata": {},
   "outputs": [
    {
     "name": "stdout",
     "output_type": "stream",
     "text": [
      "[['Arif' 28.0 'Engineer' 55000.0 'Dhaka']\n",
      " ['Nusrat' 24.0 'Designer' 48000.0 'Chittagong']\n",
      " ['Rafiq' 35.0 'Teacher' 39000.0 'Rajshahi']\n",
      " ['Mina' 30.0 'Doctor' 75000.0 'Dhaka']\n",
      " ['Hasan' 27.0 'Engineer' 58000.0 'Khulna']\n",
      " ['Sadia' 26.0 'Designer' 47000.0 'Sylhet']\n",
      " ['Rahim' 31.0 'Teacher' nan 'Dhaka']\n",
      " ['Rina' nan 'Doctor' 72000.0 'Barisal']\n",
      " ['Jamil' 29.0 'Engineer' 60000.0 'Chittagong']\n",
      " ['Farah' 25.0 'Designer' 49000.0 'Khulna']]\n"
     ]
    }
   ],
   "source": [
    "#dataset er value gula dekha\n",
    "print(dataset_main.values)"
   ]
  },
  {
   "cell_type": "code",
   "execution_count": null,
   "id": "84631dee",
   "metadata": {},
   "outputs": [
    {
     "name": "stdout",
     "output_type": "stream",
     "text": [
      "     name profession        city\n",
      "0    Arif   Engineer       Dhaka\n",
      "1  Nusrat   Designer  Chittagong\n",
      "2   Rafiq    Teacher    Rajshahi\n",
      "3    Mina     Doctor       Dhaka\n",
      "4   Hasan   Engineer      Khulna\n",
      "5   Sadia   Designer      Sylhet\n",
      "6   Rahim    Teacher       Dhaka\n",
      "7    Rina     Doctor     Barisal\n",
      "8   Jamil   Engineer  Chittagong\n",
      "9   Farah   Designer      Khulna\n"
     ]
    }
   ],
   "source": [
    "#শুধু নির্দিষ্ট টাইপের কলাম দেখতে চাও\n",
    "print(dataset_main.select_dtypes(include='object'))"
   ]
  },
  {
   "cell_type": "code",
   "execution_count": 24,
   "id": "05c85f8e",
   "metadata": {},
   "outputs": [
    {
     "name": "stdout",
     "output_type": "stream",
     "text": [
      "    age   income\n",
      "0  28.0  55000.0\n",
      "1  24.0  48000.0\n",
      "2  35.0  39000.0\n",
      "3  30.0  75000.0\n",
      "4  27.0  58000.0\n",
      "5  26.0  47000.0\n",
      "6  31.0      NaN\n",
      "7   NaN  72000.0\n",
      "8  29.0  60000.0\n",
      "9  25.0  49000.0\n"
     ]
    }
   ],
   "source": [
    "print(dataset_main.select_dtypes(include='number'))"
   ]
  },
  {
   "cell_type": "code",
   "execution_count": 25,
   "id": "31f7045a",
   "metadata": {},
   "outputs": [
    {
     "name": "stdout",
     "output_type": "stream",
     "text": [
      "                   0           1         2        3         4         5  \\\n",
      "name            Arif      Nusrat     Rafiq     Mina     Hasan     Sadia   \n",
      "age             28.0        24.0      35.0     30.0      27.0      26.0   \n",
      "profession  Engineer    Designer   Teacher   Doctor  Engineer  Designer   \n",
      "income       55000.0     48000.0   39000.0  75000.0   58000.0   47000.0   \n",
      "city           Dhaka  Chittagong  Rajshahi    Dhaka    Khulna    Sylhet   \n",
      "\n",
      "                  6        7           8         9  \n",
      "name          Rahim     Rina       Jamil     Farah  \n",
      "age            31.0      NaN        29.0      25.0  \n",
      "profession  Teacher   Doctor    Engineer  Designer  \n",
      "income          NaN  72000.0     60000.0   49000.0  \n",
      "city          Dhaka  Barisal  Chittagong    Khulna  \n"
     ]
    }
   ],
   "source": [
    "#transpose করে (row ↔ column)\n",
    "print(dataset_main.T)"
   ]
  },
  {
   "cell_type": "code",
   "execution_count": 26,
   "id": "c763e62b",
   "metadata": {},
   "outputs": [
    {
     "name": "stdout",
     "output_type": "stream",
     "text": [
      "50\n"
     ]
    }
   ],
   "source": [
    "#মোট element (row × column) সংখ্যা\n",
    "print(dataset_main.size)"
   ]
  },
  {
   "cell_type": "code",
   "execution_count": 27,
   "id": "38ede08d",
   "metadata": {},
   "outputs": [
    {
     "name": "stdout",
     "output_type": "stream",
     "text": [
      "2\n"
     ]
    }
   ],
   "source": [
    "#ডেটাফ্রেমের dimension (2 হলে 2D)\n",
    "print(dataset_main.ndim)"
   ]
  },
  {
   "cell_type": "code",
   "execution_count": 29,
   "id": "53aef704",
   "metadata": {},
   "outputs": [
    {
     "name": "stdout",
     "output_type": "stream",
     "text": [
      "Index         132\n",
      "name           80\n",
      "age            80\n",
      "profession     80\n",
      "income         80\n",
      "city           80\n",
      "dtype: int64\n"
     ]
    }
   ],
   "source": [
    "#প্রতিটি কলামে কত memory লাগছে তা দেখায়\n",
    "print(dataset_main.memory_usage())"
   ]
  },
  {
   "cell_type": "code",
   "execution_count": 36,
   "id": "0ff5cb5c",
   "metadata": {},
   "outputs": [
    {
     "name": "stdout",
     "output_type": "stream",
     "text": [
      "   name   age profession   income   city\n",
      "0  Arif  28.0   Engineer  55000.0  Dhaka\n"
     ]
    }
   ],
   "source": [
    "#র‍্যান্ডম রো দেখায়\n",
    "print(dataset_main.sample())"
   ]
  },
  {
   "cell_type": "code",
   "execution_count": 41,
   "id": "756da9c4",
   "metadata": {},
   "outputs": [
    {
     "name": "stdout",
     "output_type": "stream",
     "text": [
      "     name   age profession   income        city\n",
      "5   Sadia  26.0   Designer  47000.0      Sylhet\n",
      "9   Farah  25.0   Designer  49000.0      Khulna\n",
      "8   Jamil  29.0   Engineer  60000.0  Chittagong\n",
      "3    Mina  30.0     Doctor  75000.0       Dhaka\n",
      "1  Nusrat  24.0   Designer  48000.0  Chittagong\n"
     ]
    }
   ],
   "source": [
    "print(dataset_main.sample(5))"
   ]
  },
  {
   "cell_type": "code",
   "execution_count": 44,
   "id": "88f35c21",
   "metadata": {},
   "outputs": [
    {
     "name": "stdout",
     "output_type": "stream",
     "text": [
      "    name    age  profession  income   city\n",
      "0  False  False       False   False  False\n",
      "1  False  False       False   False  False\n",
      "2  False  False       False   False  False\n",
      "3  False  False       False   False  False\n",
      "4  False  False       False   False  False\n",
      "5  False  False       False   False  False\n",
      "6  False  False       False    True  False\n",
      "7  False   True       False   False  False\n",
      "8  False  False       False   False  False\n",
      "9  False  False       False   False  False\n"
     ]
    }
   ],
   "source": [
    "#কোন মান NaN তা True/False আকারে দেয়\n",
    "print(dataset_main.isnull())"
   ]
  },
  {
   "cell_type": "code",
   "execution_count": 45,
   "id": "b48a8288",
   "metadata": {},
   "outputs": [
    {
     "name": "stdout",
     "output_type": "stream",
     "text": [
      "   name    age  profession  income  city\n",
      "0  True   True        True    True  True\n",
      "1  True   True        True    True  True\n",
      "2  True   True        True    True  True\n",
      "3  True   True        True    True  True\n",
      "4  True   True        True    True  True\n",
      "5  True   True        True    True  True\n",
      "6  True   True        True   False  True\n",
      "7  True  False        True    True  True\n",
      "8  True   True        True    True  True\n",
      "9  True   True        True    True  True\n"
     ]
    }
   ],
   "source": [
    "#Missing না হলে True দেয়\n",
    "print(dataset_main.notnull())"
   ]
  },
  {
   "cell_type": "code",
   "execution_count": 46,
   "id": "6096ffc7",
   "metadata": {},
   "outputs": [
    {
     "name": "stdout",
     "output_type": "stream",
     "text": [
      "name          10\n",
      "age            9\n",
      "profession     4\n",
      "income         9\n",
      "city           6\n",
      "dtype: int64\n"
     ]
    }
   ],
   "source": [
    "#প্রতিটি কলামে unique মানের সংখ্যা\n",
    "print(dataset_main.nunique())"
   ]
  },
  {
   "cell_type": "code",
   "execution_count": 47,
   "id": "8f90e378",
   "metadata": {},
   "outputs": [
    {
     "name": "stdout",
     "output_type": "stream",
     "text": [
      "0    False\n",
      "1    False\n",
      "2    False\n",
      "3    False\n",
      "4    False\n",
      "5    False\n",
      "6    False\n",
      "7    False\n",
      "8    False\n",
      "9    False\n",
      "dtype: bool\n"
     ]
    }
   ],
   "source": [
    "#Duplicate রো চেক করে\n",
    "print(dataset_main.duplicated())"
   ]
  },
  {
   "cell_type": "code",
   "execution_count": 48,
   "id": "c3a96421",
   "metadata": {},
   "outputs": [
    {
     "name": "stdout",
     "output_type": "stream",
     "text": [
      "     name   age profession   income        city\n",
      "0    Arif  28.0   Engineer  55000.0       Dhaka\n",
      "1  Nusrat  24.0   Designer  48000.0  Chittagong\n",
      "2   Rafiq  35.0    Teacher  39000.0    Rajshahi\n",
      "3    Mina  30.0     Doctor  75000.0       Dhaka\n",
      "4   Hasan  27.0   Engineer  58000.0      Khulna\n",
      "5   Sadia  26.0   Designer  47000.0      Sylhet\n",
      "6   Rahim  31.0    Teacher      NaN       Dhaka\n",
      "7    Rina   NaN     Doctor  72000.0     Barisal\n",
      "8   Jamil  29.0   Engineer  60000.0  Chittagong\n",
      "9   Farah  25.0   Designer  49000.0      Khulna\n"
     ]
    }
   ],
   "source": [
    "#Duplicate রো বাদ দেয়\n",
    "print(dataset_main.drop_duplicates())"
   ]
  },
  {
   "cell_type": "code",
   "execution_count": 56,
   "id": "46aae081",
   "metadata": {},
   "outputs": [
    {
     "name": "stdout",
     "output_type": "stream",
     "text": [
      "             age    income\n",
      "age     1.000000 -0.030318\n",
      "income -0.030318  1.000000\n"
     ]
    }
   ],
   "source": [
    "#Numeric কলামগুলোর মধ্যে correlation দেখায়\n",
    "numaric_dataset_main1 = dataset_main1.select_dtypes(include='number')\n",
    "print(numaric_dataset_main1.corr())"
   ]
  },
  {
   "cell_type": "code",
   "execution_count": 58,
   "id": "6bc2ba98",
   "metadata": {},
   "outputs": [
    {
     "name": "stdout",
     "output_type": "stream",
     "text": [
      "     name   age profession   income        city\n",
      "1  Nusrat  24.0   Designer  48000.0  Chittagong\n",
      "9   Farah  25.0   Designer  49000.0      Khulna\n",
      "5   Sadia  26.0   Designer  47000.0      Sylhet\n",
      "4   Hasan  27.0   Engineer  58000.0      Khulna\n",
      "0    Arif  28.0   Engineer  55000.0       Dhaka\n",
      "8   Jamil  29.0   Engineer  60000.0  Chittagong\n",
      "3    Mina  30.0     Doctor  75000.0       Dhaka\n",
      "6   Rahim  31.0    Teacher      NaN       Dhaka\n",
      "2   Rafiq  35.0    Teacher  39000.0    Rajshahi\n",
      "7    Rina   NaN     Doctor  72000.0     Barisal\n"
     ]
    }
   ],
   "source": [
    "#নির্দিষ্ট কলামে sort করে\n",
    "print(dataset_main.sort_values('age'))"
   ]
  },
  {
   "cell_type": "code",
   "execution_count": 59,
   "id": "bdbadb7e",
   "metadata": {},
   "outputs": [
    {
     "name": "stdout",
     "output_type": "stream",
     "text": [
      "     Name   Age profession   income        city\n",
      "0    Arif  28.0   Engineer  55000.0       Dhaka\n",
      "1  Nusrat  24.0   Designer  48000.0  Chittagong\n",
      "2   Rafiq  35.0    Teacher  39000.0    Rajshahi\n",
      "3    Mina  30.0     Doctor  75000.0       Dhaka\n",
      "4   Hasan  27.0   Engineer  58000.0      Khulna\n",
      "5   Sadia  26.0   Designer  47000.0      Sylhet\n",
      "6   Rahim  31.0    Teacher      NaN       Dhaka\n",
      "7    Rina   NaN     Doctor  72000.0     Barisal\n",
      "8   Jamil  29.0   Engineer  60000.0  Chittagong\n",
      "9   Farah  25.0   Designer  49000.0      Khulna\n"
     ]
    }
   ],
   "source": [
    "#কলাম rename করে\n",
    "print(dataset_main1.rename(columns=({'name':'Name','age':'Age'})))"
   ]
  },
  {
   "cell_type": "code",
   "execution_count": 61,
   "id": "51da6fac",
   "metadata": {},
   "outputs": [
    {
     "name": "stdout",
     "output_type": "stream",
     "text": [
      "     name   age profession   income\n",
      "0    Arif  28.0   Engineer  55000.0\n",
      "1  Nusrat  24.0   Designer  48000.0\n",
      "2   Rafiq  35.0    Teacher  39000.0\n",
      "3    Mina  30.0     Doctor  75000.0\n",
      "4   Hasan  27.0   Engineer  58000.0\n",
      "5   Sadia  26.0   Designer  47000.0\n",
      "6   Rahim  31.0    Teacher      NaN\n",
      "7    Rina   NaN     Doctor  72000.0\n",
      "8   Jamil  29.0   Engineer  60000.0\n",
      "9   Farah  25.0   Designer  49000.0\n"
     ]
    }
   ],
   "source": [
    "#কলাম বা রো বাদ দেয়\n",
    "print(dataset_main1.drop('city', axis=1))"
   ]
  },
  {
   "cell_type": "code",
   "execution_count": 62,
   "id": "a14d5eeb",
   "metadata": {},
   "outputs": [
    {
     "name": "stdout",
     "output_type": "stream",
     "text": [
      "   index    name   age profession   income        city\n",
      "0      0    Arif  28.0   Engineer  55000.0       Dhaka\n",
      "1      1  Nusrat  24.0   Designer  48000.0  Chittagong\n",
      "2      2   Rafiq  35.0    Teacher  39000.0    Rajshahi\n",
      "3      3    Mina  30.0     Doctor  75000.0       Dhaka\n",
      "4      4   Hasan  27.0   Engineer  58000.0      Khulna\n",
      "5      5   Sadia  26.0   Designer  47000.0      Sylhet\n",
      "6      6   Rahim  31.0    Teacher      NaN       Dhaka\n",
      "7      7    Rina   NaN     Doctor  72000.0     Barisal\n",
      "8      8   Jamil  29.0   Engineer  60000.0  Chittagong\n",
      "9      9   Farah  25.0   Designer  49000.0      Khulna\n"
     ]
    }
   ],
   "source": [
    "#নতুন index সেট করে\n",
    "print(dataset_main1.reset_index())"
   ]
  },
  {
   "cell_type": "code",
   "execution_count": 69,
   "id": "df4a246f",
   "metadata": {},
   "outputs": [
    {
     "name": "stdout",
     "output_type": "stream",
     "text": [
      "age\n",
      "24.0    48000.0\n",
      "25.0    49000.0\n",
      "26.0    47000.0\n",
      "27.0    58000.0\n",
      "28.0    55000.0\n",
      "29.0    60000.0\n",
      "30.0    75000.0\n",
      "31.0        NaN\n",
      "35.0    39000.0\n",
      "Name: income, dtype: float64\n"
     ]
    }
   ],
   "source": [
    "#Group করে পরিসংখ্যান বের করে\n",
    "grouped = dataset_main1.groupby('age')['income'].mean()\n",
    "print(grouped)"
   ]
  },
  {
   "cell_type": "code",
   "execution_count": null,
   "id": "4b352740",
   "metadata": {},
   "outputs": [],
   "source": [
    "#df.apply()\n",
    "#Custom function প্রয়োগ করে"
   ]
  },
  {
   "cell_type": "code",
   "execution_count": 71,
   "id": "37151b9c",
   "metadata": {},
   "outputs": [
    {
     "name": "stdout",
     "output_type": "stream",
     "text": [
      "     name   age profession   income        city\n",
      "0    Arif  28.0   Engineer  55000.0       Dhaka\n",
      "1  Nusrat  24.0   Designer  48000.0  Chittagong\n",
      "2   Rafiq  35.0    Teacher  39000.0    Rajshahi\n",
      "3    Mina  30.0     Doctor  75000.0       Dhaka\n",
      "4   Hasan  27.0   Engineer  58000.0      Khulna\n",
      "5   Sadia  26.0   Designer  47000.0      Sylhet\n",
      "6   Rahim  31.0    Teacher      3.0       Dhaka\n",
      "7    Rina   3.0     Doctor  72000.0     Barisal\n",
      "8   Jamil  29.0   Engineer  60000.0  Chittagong\n",
      "9   Farah  25.0   Designer  49000.0      Khulna\n"
     ]
    }
   ],
   "source": [
    "#Missing value পূরণ করে\n",
    "print(dataset_main1.fillna(3))"
   ]
  },
  {
   "cell_type": "code",
   "execution_count": 72,
   "id": "fa078a61",
   "metadata": {},
   "outputs": [
    {
     "name": "stdout",
     "output_type": "stream",
     "text": [
      "     name   age profession   income        city\n",
      "0    Arif  28.0   Engineer  55000.0       Dhaka\n",
      "1  Nusrat  24.0   Designer  48000.0  Chittagong\n",
      "2   Rafiq  35.0    Teacher  39000.0    Rajshahi\n",
      "3    Mina  30.0     Doctor  75000.0       Dhaka\n",
      "4   Hasan  27.0   Engineer  58000.0      Khulna\n",
      "5   Sadia  26.0   Designer  47000.0      Sylhet\n",
      "8   Jamil  29.0   Engineer  60000.0  Chittagong\n",
      "9   Farah  25.0   Designer  49000.0      Khulna\n"
     ]
    }
   ],
   "source": [
    "#Missing value বাদ দেয়\n",
    "print(dataset_main1.dropna())"
   ]
  },
  {
   "cell_type": "code",
   "execution_count": 74,
   "id": "f6f38fcf",
   "metadata": {},
   "outputs": [
    {
     "name": "stdout",
     "output_type": "stream",
     "text": [
      "     name   age profession   income        city\n",
      "0    Arif  28.0   Engineer  55000.0       Dhaka\n",
      "1  Nusrat  24.0   Designer  48000.0  Chittagong\n",
      "2   Rafiq  35.0    Teacher  39000.0    Rajshahi\n",
      "3    Mina  30.0     Doctor  75000.0       Dhaka\n",
      "4   Hasan  27.0   Engineer  58000.0      Khulna\n",
      "5   Sadia  26.0   Designer  47000.0      Sylhet\n",
      "6   Jamil  29.0   Engineer  60000.0  Chittagong\n",
      "7   Farah  25.0   Designer  49000.0      Khulna\n"
     ]
    }
   ],
   "source": [
    "print(dataset_main1.dropna().reset_index(drop=True))"
   ]
  },
  {
   "cell_type": "code",
   "execution_count": 79,
   "metadata": {},
   "outputs": [
    {
     "name": "stdout",
     "output_type": "stream",
     "text": [
      ",name,age,profession,income,city\n",
      "0,Arif,28.0,Engineer,55000.0,Dhaka\n",
      "1,Nusrat,24.0,Designer,48000.0,Chittagong\n",
      "2,Rafiq,35.0,Teacher,39000.0,Rajshahi\n",
      "3,Mina,30.0,Doctor,75000.0,Dhaka\n",
      "4,Hasan,27.0,Engineer,58000.0,Khulna\n",
      "5,Sadia,26.0,Designer,47000.0,Sylhet\n",
      "6,Rahim,31.0,Teacher,,Dhaka\n",
      "7,Rina,,Doctor,72000.0,Barisal\n",
      "8,Jamil,29.0,Engineer,60000.0,Chittagong\n",
      "9,Farah,25.0,Designer,49000.0,Khulna\n",
      "\n"
     ]
    }
   ],
   "source": [
    "print(dataset_main1.to_csv())"
   ]
  },
  {
   "cell_type": "code",
   "execution_count": null,
   "id": "2a7f1fad",
   "metadata": {},
   "outputs": [],
   "source": []
  },
  {
   "cell_type": "code",
   "execution_count": null,
   "id": "7b565da2",
   "metadata": {},
   "outputs": [],
   "source": []
  },
  {
   "cell_type": "code",
   "execution_count": null,
   "id": "d9e1a7f3",
   "metadata": {},
   "outputs": [],
   "source": []
  },
  {
   "cell_type": "code",
   "execution_count": null,
   "id": "19889496",
   "metadata": {},
   "outputs": [],
   "source": []
  },
  {
   "cell_type": "code",
   "execution_count": null,
   "id": "1afb5432",
   "metadata": {},
   "outputs": [],
   "source": []
  },
  {
   "cell_type": "code",
   "execution_count": null,
   "id": "ba8b137f",
   "metadata": {},
   "outputs": [],
   "source": []
  },
  {
   "cell_type": "code",
   "execution_count": null,
   "id": "7746e8db",
   "metadata": {},
   "outputs": [],
   "source": []
  },
  {
   "cell_type": "code",
   "execution_count": null,
   "id": "65ded882",
   "metadata": {},
   "outputs": [],
   "source": []
  },
  {
   "cell_type": "code",
   "execution_count": null,
   "id": "309c9d8a",
   "metadata": {},
   "outputs": [],
   "source": []
  },
  {
   "cell_type": "code",
   "execution_count": null,
   "id": "6e6521cb",
   "metadata": {},
   "outputs": [],
   "source": []
  },
  {
   "cell_type": "code",
   "execution_count": null,
   "id": "4b71e952",
   "metadata": {},
   "outputs": [],
   "source": []
  }
 ],
 "metadata": {
  "kernelspec": {
   "display_name": "Python 3",
   "language": "python",
   "name": "python3"
  },
  "language_info": {
   "codemirror_mode": {
    "name": "ipython",
    "version": 3
   },
   "file_extension": ".py",
   "mimetype": "text/x-python",
   "name": "python",
   "nbconvert_exporter": "python",
   "pygments_lexer": "ipython3",
   "version": "3.11.4"
  }
 },
 "nbformat": 4,
 "nbformat_minor": 5
}
