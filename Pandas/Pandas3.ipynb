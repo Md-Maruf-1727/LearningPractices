{
 "cells": [
  {
   "cell_type": "code",
   "execution_count": 2,
   "id": "2fe59b2a",
   "metadata": {},
   "outputs": [],
   "source": [
    "import pandas as pd\n",
    "import numpy as np"
   ]
  },
  {
   "cell_type": "code",
   "execution_count": 4,
   "metadata": {},
   "outputs": [
    {
     "data": {
      "text/html": [
       "<div>\n",
       "<style scoped>\n",
       "    .dataframe tbody tr th:only-of-type {\n",
       "        vertical-align: middle;\n",
       "    }\n",
       "\n",
       "    .dataframe tbody tr th {\n",
       "        vertical-align: top;\n",
       "    }\n",
       "\n",
       "    .dataframe thead th {\n",
       "        text-align: right;\n",
       "    }\n",
       "</style>\n",
       "<table border=\"1\" class=\"dataframe\">\n",
       "  <thead>\n",
       "    <tr style=\"text-align: right;\">\n",
       "      <th></th>\n",
       "      <th>name</th>\n",
       "      <th>age</th>\n",
       "      <th>profession</th>\n",
       "      <th>income</th>\n",
       "      <th>city</th>\n",
       "    </tr>\n",
       "  </thead>\n",
       "  <tbody>\n",
       "    <tr>\n",
       "      <th>0</th>\n",
       "      <td>Arif</td>\n",
       "      <td>28.0</td>\n",
       "      <td>Engineer</td>\n",
       "      <td>55000.0</td>\n",
       "      <td>Dhaka</td>\n",
       "    </tr>\n",
       "    <tr>\n",
       "      <th>1</th>\n",
       "      <td>Nusrat</td>\n",
       "      <td>24.0</td>\n",
       "      <td>Designer</td>\n",
       "      <td>48000.0</td>\n",
       "      <td>Chittagong</td>\n",
       "    </tr>\n",
       "    <tr>\n",
       "      <th>2</th>\n",
       "      <td>Rafiq</td>\n",
       "      <td>35.0</td>\n",
       "      <td>Teacher</td>\n",
       "      <td>39000.0</td>\n",
       "      <td>Rajshahi</td>\n",
       "    </tr>\n",
       "    <tr>\n",
       "      <th>3</th>\n",
       "      <td>Mina</td>\n",
       "      <td>30.0</td>\n",
       "      <td>Doctor</td>\n",
       "      <td>75000.0</td>\n",
       "      <td>Dhaka</td>\n",
       "    </tr>\n",
       "    <tr>\n",
       "      <th>4</th>\n",
       "      <td>Hasan</td>\n",
       "      <td>27.0</td>\n",
       "      <td>Engineer</td>\n",
       "      <td>58000.0</td>\n",
       "      <td>Khulna</td>\n",
       "    </tr>\n",
       "    <tr>\n",
       "      <th>5</th>\n",
       "      <td>Sadia</td>\n",
       "      <td>26.0</td>\n",
       "      <td>Designer</td>\n",
       "      <td>47000.0</td>\n",
       "      <td>Sylhet</td>\n",
       "    </tr>\n",
       "    <tr>\n",
       "      <th>6</th>\n",
       "      <td>Rahim</td>\n",
       "      <td>31.0</td>\n",
       "      <td>Teacher</td>\n",
       "      <td>NaN</td>\n",
       "      <td>Dhaka</td>\n",
       "    </tr>\n",
       "    <tr>\n",
       "      <th>7</th>\n",
       "      <td>Rina</td>\n",
       "      <td>NaN</td>\n",
       "      <td>Doctor</td>\n",
       "      <td>72000.0</td>\n",
       "      <td>Barisal</td>\n",
       "    </tr>\n",
       "    <tr>\n",
       "      <th>8</th>\n",
       "      <td>Jamil</td>\n",
       "      <td>29.0</td>\n",
       "      <td>Engineer</td>\n",
       "      <td>60000.0</td>\n",
       "      <td>Chittagong</td>\n",
       "    </tr>\n",
       "    <tr>\n",
       "      <th>9</th>\n",
       "      <td>Farah</td>\n",
       "      <td>25.0</td>\n",
       "      <td>Designer</td>\n",
       "      <td>49000.0</td>\n",
       "      <td>Khulna</td>\n",
       "    </tr>\n",
       "  </tbody>\n",
       "</table>\n",
       "</div>"
      ],
      "text/plain": [
       "     name   age profession   income        city\n",
       "0    Arif  28.0   Engineer  55000.0       Dhaka\n",
       "1  Nusrat  24.0   Designer  48000.0  Chittagong\n",
       "2   Rafiq  35.0    Teacher  39000.0    Rajshahi\n",
       "3    Mina  30.0     Doctor  75000.0       Dhaka\n",
       "4   Hasan  27.0   Engineer  58000.0      Khulna\n",
       "5   Sadia  26.0   Designer  47000.0      Sylhet\n",
       "6   Rahim  31.0    Teacher      NaN       Dhaka\n",
       "7    Rina   NaN     Doctor  72000.0     Barisal\n",
       "8   Jamil  29.0   Engineer  60000.0  Chittagong\n",
       "9   Farah  25.0   Designer  49000.0      Khulna"
      ]
     },
     "execution_count": 4,
     "metadata": {},
     "output_type": "execute_result"
    }
   ],
   "source": [
    "dataset_main = pd.read_json(\"data.json\")\n",
    "dataset_main"
   ]
  },
  {
   "cell_type": "code",
   "execution_count": 6,
   "metadata": {},
   "outputs": [
    {
     "name": "stdout",
     "output_type": "stream",
     "text": [
      "     name   age profession   income        city\n",
      "0    Arif  28.0   Engineer  55000.0       Dhaka\n",
      "1  Nusrat  24.0   Designer  48000.0  Chittagong\n",
      "2   Rafiq  35.0    Teacher  39000.0    Rajshahi\n"
     ]
    }
   ],
   "source": [
    "print(dataset_main.head(3))"
   ]
  },
  {
   "cell_type": "code",
   "execution_count": 7,
   "metadata": {},
   "outputs": [
    {
     "name": "stdout",
     "output_type": "stream",
     "text": [
      "    name   age profession   income        city\n",
      "7   Rina   NaN     Doctor  72000.0     Barisal\n",
      "8  Jamil  29.0   Engineer  60000.0  Chittagong\n",
      "9  Farah  25.0   Designer  49000.0      Khulna\n"
     ]
    }
   ],
   "source": [
    "print(dataset_main.tail(3))"
   ]
  },
  {
   "cell_type": "code",
   "execution_count": 12,
   "id": "fae7bc27",
   "metadata": {},
   "outputs": [
    {
     "name": "stdout",
     "output_type": "stream",
     "text": [
      "Index(['name', 'age', 'profession', 'income', 'city'], dtype='object')\n"
     ]
    }
   ],
   "source": [
    "print(dataset_main.columns)"
   ]
  },
  {
   "cell_type": "code",
   "execution_count": null,
   "id": "0ffacbfb",
   "metadata": {},
   "outputs": [
    {
     "data": {
      "text/plain": [
       "['name', 'age', 'profession', 'income', 'city']"
      ]
     },
     "execution_count": 9,
     "metadata": {},
     "output_type": "execute_result"
    }
   ],
   "source": [
    "print(list(dataset_main.columns))"
   ]
  },
  {
   "cell_type": "code",
   "execution_count": 13,
   "metadata": {},
   "outputs": [
    {
     "name": "stdout",
     "output_type": "stream",
     "text": [
      "profession\n"
     ]
    }
   ],
   "source": [
    "print(dataset_main.columns[2])"
   ]
  },
  {
   "cell_type": "code",
   "execution_count": 14,
   "metadata": {},
   "outputs": [
    {
     "name": "stdout",
     "output_type": "stream",
     "text": [
      "<class 'pandas.core.frame.DataFrame'>\n",
      "RangeIndex: 10 entries, 0 to 9\n",
      "Data columns (total 5 columns):\n",
      " #   Column      Non-Null Count  Dtype  \n",
      "---  ------      --------------  -----  \n",
      " 0   name        10 non-null     object \n",
      " 1   age         9 non-null      float64\n",
      " 2   profession  10 non-null     object \n",
      " 3   income      9 non-null      float64\n",
      " 4   city        10 non-null     object \n",
      "dtypes: float64(2), object(3)\n",
      "memory usage: 532.0+ bytes\n",
      "None\n"
     ]
    }
   ],
   "source": [
    "print(dataset_main.info())"
   ]
  },
  {
   "cell_type": "code",
   "execution_count": 17,
   "id": "5f9d8910",
   "metadata": {},
   "outputs": [
    {
     "name": "stdout",
     "output_type": "stream",
     "text": [
      "(10, 5)\n"
     ]
    }
   ],
   "source": [
    "print(dataset_main.shape)"
   ]
  },
  {
   "cell_type": "code",
   "execution_count": 18,
   "metadata": {},
   "outputs": [
    {
     "name": "stdout",
     "output_type": "stream",
     "text": [
      "name           object\n",
      "age           float64\n",
      "profession     object\n",
      "income        float64\n",
      "city           object\n",
      "dtype: object\n"
     ]
    }
   ],
   "source": [
    "print(dataset_main.dtypes)"
   ]
  },
  {
   "cell_type": "code",
   "execution_count": 19,
   "metadata": {},
   "outputs": [
    {
     "name": "stdout",
     "output_type": "stream",
     "text": [
      "             age        income\n",
      "count   9.000000      9.000000\n",
      "mean   28.333333  55888.888889\n",
      "std     3.391165  11836.853936\n",
      "min    24.000000  39000.000000\n",
      "25%    26.000000  48000.000000\n",
      "50%    28.000000  55000.000000\n",
      "75%    30.000000  60000.000000\n",
      "max    35.000000  75000.000000\n"
     ]
    }
   ],
   "source": [
    "print(dataset_main.describe())"
   ]
  },
  {
   "cell_type": "code",
   "execution_count": 20,
   "metadata": {},
   "outputs": [
    {
     "name": "stdout",
     "output_type": "stream",
     "text": [
      "RangeIndex(start=0, stop=10, step=1)\n"
     ]
    }
   ],
   "source": [
    "print(dataset_main.index)"
   ]
  },
  {
   "cell_type": "code",
   "execution_count": 21,
   "metadata": {},
   "outputs": [
    {
     "name": "stdout",
     "output_type": "stream",
     "text": [
      "[['Arif' 28.0 'Engineer' 55000.0 'Dhaka']\n",
      " ['Nusrat' 24.0 'Designer' 48000.0 'Chittagong']\n",
      " ['Rafiq' 35.0 'Teacher' 39000.0 'Rajshahi']\n",
      " ['Mina' 30.0 'Doctor' 75000.0 'Dhaka']\n",
      " ['Hasan' 27.0 'Engineer' 58000.0 'Khulna']\n",
      " ['Sadia' 26.0 'Designer' 47000.0 'Sylhet']\n",
      " ['Rahim' 31.0 'Teacher' nan 'Dhaka']\n",
      " ['Rina' nan 'Doctor' 72000.0 'Barisal']\n",
      " ['Jamil' 29.0 'Engineer' 60000.0 'Chittagong']\n",
      " ['Farah' 25.0 'Designer' 49000.0 'Khulna']]\n"
     ]
    }
   ],
   "source": [
    "print(dataset_main.values)"
   ]
  },
  {
   "cell_type": "code",
   "execution_count": null,
   "id": "84631dee",
   "metadata": {},
   "outputs": [],
   "source": []
  },
  {
   "cell_type": "code",
   "execution_count": null,
   "id": "05c85f8e",
   "metadata": {},
   "outputs": [],
   "source": []
  },
  {
   "cell_type": "code",
   "execution_count": null,
   "id": "31f7045a",
   "metadata": {},
   "outputs": [],
   "source": []
  },
  {
   "cell_type": "code",
   "execution_count": null,
   "id": "c763e62b",
   "metadata": {},
   "outputs": [],
   "source": []
  },
  {
   "cell_type": "code",
   "execution_count": null,
   "id": "38ede08d",
   "metadata": {},
   "outputs": [],
   "source": []
  },
  {
   "cell_type": "code",
   "execution_count": null,
   "id": "53aef704",
   "metadata": {},
   "outputs": [],
   "source": []
  }
 ],
 "metadata": {
  "kernelspec": {
   "display_name": "Python 3",
   "language": "python",
   "name": "python3"
  },
  "language_info": {
   "codemirror_mode": {
    "name": "ipython",
    "version": 3
   },
   "file_extension": ".py",
   "mimetype": "text/x-python",
   "name": "python",
   "nbconvert_exporter": "python",
   "pygments_lexer": "ipython3",
   "version": "3.11.4"
  }
 },
 "nbformat": 4,
 "nbformat_minor": 5
}
