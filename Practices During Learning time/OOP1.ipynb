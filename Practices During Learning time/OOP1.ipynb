{
 "cells": [
  {
   "cell_type": "code",
   "execution_count": 3,
   "id": "46673428-af54-409c-ba42-339cab15c4fe",
   "metadata": {},
   "outputs": [
    {
     "name": "stdout",
     "output_type": "stream",
     "text": [
      "A new object is created.\n",
      "A new object is created.\n"
     ]
    }
   ],
   "source": [
    "class student:\n",
    "    def __init__(self):\n",
    "        print(\"A new object is created.\")\n",
    "s1 = student()    \n",
    "s2 = student()"
   ]
  },
  {
   "cell_type": "code",
   "execution_count": 15,
   "id": "0355234c-2ea3-4912-8a79-ed8fb4998c1a",
   "metadata": {},
   "outputs": [
    {
     "name": "stdout",
     "output_type": "stream",
     "text": [
      "Maruf 20\n",
      "Md 21\n"
     ]
    }
   ],
   "source": [
    "class student2:\n",
    "    def __init__(self, name, age):\n",
    "        self.name = name\n",
    "        self.age = age\n",
    "s3 = student2(\"Maruf\", 20)\n",
    "s4 = student2(\"Md\", 21)\n",
    "print(s3.name, s3.age)\n",
    "print(s4.name, s4.age)"
   ]
  },
  {
   "cell_type": "code",
   "execution_count": 25,
   "id": "ea25b42f-d21b-4e9e-8481-f43e8a2f76d1",
   "metadata": {},
   "outputs": [
    {
     "name": "stdout",
     "output_type": "stream",
     "text": [
      "My name is Md.Maruf and age is 94.\n",
      "My name is nadia and age is 98.\n"
     ]
    }
   ],
   "source": [
    "class student3:\n",
    "    \n",
    "    def __init__(self, name, age):\n",
    "        self.name = name\n",
    "        self.age = age\n",
    "        \n",
    "    def show_info(self):\n",
    "        print(f\"My name is {self.name} and age is {self.age}.\")\n",
    "        \n",
    "s5 = student3(\"Md.Maruf\", 94)\n",
    "s6 = student3(\"nadia\", 98)\n",
    "s5.show_info()\n",
    "s6.show_info()"
   ]
  },
  {
   "cell_type": "code",
   "execution_count": 26,
   "id": "1cbcf116-3c5e-47fc-83b4-e93b0b687641",
   "metadata": {},
   "outputs": [
    {
     "name": "stdout",
     "output_type": "stream",
     "text": [
      "Name: Fardin, Age: 40\n"
     ]
    }
   ],
   "source": [
    "class student4:\n",
    "\n",
    "    def __init__(self, name, age):\n",
    "        self.name = name\n",
    "        self.age = age\n",
    "\n",
    "    def info_nadia(self):\n",
    "        print(f\"Name: {self.name}, Age: {self.age}\")\n",
    "s7 = student4(\"Fardin\", 40)\n",
    "s7.info_nadia()"
   ]
  },
  {
   "cell_type": "code",
   "execution_count": 16,
   "id": "f870e684-8c16-456e-a795-21e77539423c",
   "metadata": {},
   "outputs": [
    {
     "name": "stdout",
     "output_type": "stream",
     "text": [
      "Name: Maruf, Age: 20, School: Shukundirbag School.\n",
      "Name: Fardin, Age: 29, School: Shukundirbag School.\n"
     ]
    }
   ],
   "source": [
    "class Student5:\n",
    "    school = \"Haydarabad School.\"\n",
    "    \n",
    "    def __init__(self, name, age):\n",
    "        self.name = name\n",
    "        self.age = age\n",
    "        \n",
    "    def show_info(self):\n",
    "        print(f\"Name: {self.name}, Age: {self.age}, School: {self.school}\")\n",
    "        \n",
    "st1 = Student5(\"Maruf\", 20)\n",
    "st2 = Student5(\"Fardin\", 29)\n",
    "Student5.school = \"Shukundirbag School.\"\n",
    "st1.show_info()\n",
    "st2.show_info()\n",
    "#print(st1.school)"
   ]
  },
  {
   "cell_type": "code",
   "execution_count": 17,
   "id": "4c922db2-2f67-4265-acc7-e0acb73628df",
   "metadata": {},
   "outputs": [
    {
     "name": "stdout",
     "output_type": "stream",
     "text": [
      "Wheels: 6, Color: Black\n",
      "Wheels: 6, Color: Blue\n"
     ]
    }
   ],
   "source": [
    "class Car:\n",
    "    wheels = 4\n",
    "    def __init__(self, color):\n",
    "        self.color = color\n",
    "\n",
    "    def show_info(self):\n",
    "        print(f\"Wheels: {self.wheels}, Color: {self.color}\")\n",
    "\n",
    "c1 = Car(\"Black\")\n",
    "c2 = Car(\"Blue\")\n",
    "Car.wheels = 6\n",
    "c1.show_info()\n",
    "c2.show_info()"
   ]
  },
  {
   "cell_type": "code",
   "execution_count": 1,
   "id": "50788330-17d4-486c-9ca3-80aa2a7aee55",
   "metadata": {},
   "outputs": [
    {
     "name": "stdout",
     "output_type": "stream",
     "text": [
      "Name: Maruf, Age: 20\n",
      "Roll: 884598\n"
     ]
    }
   ],
   "source": [
    "#Inheritance\n",
    "class Person:\n",
    "    def __init__(self, name, age):\n",
    "        self.name = name\n",
    "        self.age = age\n",
    "\n",
    "    def show_info(self):\n",
    "        print(f\"Name: {self.name}, Age: {self.age}\")\n",
    "        \n",
    "class student(Person):\n",
    "    def __init__(self, name, age, roll):\n",
    "        super().__init__(name, age)\n",
    "        self.roll = roll\n",
    "        \n",
    "    def show_stu(self):\n",
    "        print(f\"Roll: {self.roll}\")\n",
    "        \n",
    "p1 = student(\"Maruf\", 20, 884598)\n",
    "p1.show_info()\n",
    "p1.show_stu()"
   ]
  },
  {
   "cell_type": "code",
   "execution_count": 4,
   "id": "0eeac41d-7a84-4efa-9f70-06e148761307",
   "metadata": {},
   "outputs": [
    {
     "name": "stdout",
     "output_type": "stream",
     "text": [
      "My name is Maruf, Age is 20 And Roll 22343\n"
     ]
    }
   ],
   "source": [
    "class Person1:\n",
    "    def __init__(self, name, age):\n",
    "        self.name = name\n",
    "        self.age = age\n",
    "\n",
    "    def person_info(self):\n",
    "        print(f\"Name: {self.name}, Age: {age}\")\n",
    "\n",
    "class Student(Person1):\n",
    "\n",
    "    def __init__(self, name, age, roll):\n",
    "        super().__init__(name, age)\n",
    "        self.roll = roll\n",
    "    #Method Overriding\n",
    "    def person_info(self):\n",
    "        print(f\"My name is {self.name}, Age is {self.age} And Roll {self.roll}\")\n",
    "\n",
    "per1 = Student(\"Maruf\", 20, 22343)\n",
    "per1.person_info()"
   ]
  },
  {
   "cell_type": "code",
   "execution_count": 9,
   "id": "e66dbd65-ef74-45cf-bca4-08d8d076f3fc",
   "metadata": {},
   "outputs": [
    {
     "name": "stdout",
     "output_type": "stream",
     "text": [
      "Brand: Toyota\n",
      "Color: BlacK\n"
     ]
    }
   ],
   "source": [
    "class Vehicle:\n",
    "    def __init__(self, brand):\n",
    "        self.brand = brand\n",
    "        \n",
    "    def show_info(self):\n",
    "        print(f\"Brand: {self.brand}\")\n",
    "\n",
    "class car(Vehicle):\n",
    "    def __init__(self, brand, color):\n",
    "        super().__init__(brand)\n",
    "        self.color = color\n",
    "\n",
    "    def show_color(self):\n",
    "        print(f\"Color: {self.color}\")\n",
    "vehicle1 = car(\"Toyota\", \"BlacK\")\n",
    "vehicle1.show_info()\n",
    "vehicle1.show_color()"
   ]
  },
  {
   "cell_type": "code",
   "execution_count": 12,
   "id": "afbf2028-3138-46ae-9c14-7949bdb16b08",
   "metadata": {},
   "outputs": [
    {
     "name": "stdout",
     "output_type": "stream",
     "text": [
      "Car Brand: BMW, Color: Blue\n"
     ]
    }
   ],
   "source": [
    "class vehicle:\n",
    "    def __init__(self, brand):\n",
    "        self.brand = brand\n",
    "    def show_info(self):\n",
    "        print(f\"Car Brand: {self.brand}\")\n",
    "class car(vehicle):\n",
    "    def __init__(self, brand, color):\n",
    "        super().__init__(brand)\n",
    "        self.color = color\n",
    "    def show_info(self):\n",
    "        print(f\"Car Brand: {self.brand}, Color: {self.color}\")\n",
    "veh1 = car(\"BMW\", \"Blue\")\n",
    "veh1.show_info()"
   ]
  },
  {
   "cell_type": "code",
   "execution_count": 2,
   "id": "1c7c5552-b6df-419b-819e-5b5951254361",
   "metadata": {},
   "outputs": [
    {
     "name": "stdout",
     "output_type": "stream",
     "text": [
      "I am a Person.\n",
      "I am a Student.\n",
      "I am a Teacher.\n"
     ]
    }
   ],
   "source": [
    "#Polymorphism\n",
    "class person:\n",
    "    def show_info(self):\n",
    "        print(\"I am a Person.\")\n",
    "        \n",
    "class student(person):\n",
    "    def show_info(self):\n",
    "        print(\"I am a Student.\")\n",
    "\n",
    "class teacher(person):\n",
    "    def show_info(self):\n",
    "        print(\"I am a Teacher.\")\n",
    "        \n",
    "p1 = person()\n",
    "s1 = student()\n",
    "t1 = teacher()\n",
    "\n",
    "for obj in [p1, s1, t1]:\n",
    "    obj.show_info()"
   ]
  },
  {
   "cell_type": "code",
   "execution_count": 4,
   "id": "3ba04d89-8bf3-4472-af20-501d18e5f0e6",
   "metadata": {},
   "outputs": [
    {
     "name": "stdout",
     "output_type": "stream",
     "text": [
      "Some Sound!\n",
      "Bark!\n",
      "Meow!\n"
     ]
    }
   ],
   "source": [
    "class animal:\n",
    "    def sound(self):\n",
    "        print(\"Some Sound!\")\n",
    "        \n",
    "class dog(animal):\n",
    "    def sound(self):\n",
    "        print(\"Bark!\")\n",
    "\n",
    "class cat(animal):\n",
    "    def sound(self):\n",
    "        print(\"Meow!\")\n",
    "a1 = animal()\n",
    "d1 = dog()\n",
    "c1 = cat()\n",
    "\n",
    "for obj in [a1, d1, c1]:\n",
    "    obj.sound()"
   ]
  },
  {
   "cell_type": "code",
   "execution_count": 6,
   "id": "fedc7f4b-6c01-42f7-b21d-d7d058a7c4d1",
   "metadata": {},
   "outputs": [
    {
     "name": "stdout",
     "output_type": "stream",
     "text": [
      "Account Owner Maruf and your current balance is 2200\n"
     ]
    }
   ],
   "source": [
    "class BankAccount:\n",
    "    def __init__(self, name, balance):\n",
    "        self.name = name \n",
    "        self.__balance = balance\n",
    "\n",
    "    def deposite(self, amount):\n",
    "        self.__balance += amount\n",
    "\n",
    "    def withdrawal(self, amount):\n",
    "        if amount <= self.__balance:\n",
    "            self.__balance -= amount\n",
    "        else:\n",
    "            print(\"Insufficiant Balance.\")\n",
    "\n",
    "    def show_balance(self):\n",
    "        print(f\"Account Owner {self.name} and your current balance is {self.__balance}\")\n",
    "b1 = BankAccount(\"Maruf\", 2000)\n",
    "b1.deposite(500)\n",
    "b1.withdrawal(300)\n",
    "b1.show_balance()"
   ]
  },
  {
   "cell_type": "code",
   "execution_count": 12,
   "id": "817d0ae1-94db-470c-90b9-c573736cc869",
   "metadata": {},
   "outputs": [
    {
     "name": "stdout",
     "output_type": "stream",
     "text": [
      "3000\n",
      "2000\n",
      "Balance can't be negative\n"
     ]
    }
   ],
   "source": [
    "class MyBank:\n",
    "    def __init__(self, name, balance):\n",
    "        self.name = name\n",
    "        self.__balance = balance\n",
    "    #getter\n",
    "    def get_balance(self):\n",
    "        return self.__balance\n",
    "    #setter\n",
    "    def set_balance(self, amount):\n",
    "        if amount >= 0:\n",
    "            self.__balance = amount\n",
    "        else:\n",
    "            print(\"Balance can't be negative\")\n",
    "            \n",
    "my1 = MyBank(\"Maruf\", 3000)\n",
    "print(my1.get_balance())\n",
    "my1.set_balance(2000)\n",
    "print(my1.get_balance())\n",
    "my1.set_balance(-2000)"
   ]
  },
  {
   "cell_type": "code",
   "execution_count": 18,
   "id": "e2def561-2792-4400-8487-86af8b990a58",
   "metadata": {},
   "outputs": [
    {
     "name": "stdout",
     "output_type": "stream",
     "text": [
      "200\n",
      "100\n",
      "Insuffuciant.\n"
     ]
    }
   ],
   "source": [
    "class MyBankAccount:\n",
    "    def __init__(self, name, balance):\n",
    "        self.name = name\n",
    "        self.__balance = balance\n",
    "    #getter\n",
    "    @property\n",
    "    def balance(self):\n",
    "        return self.__balance\n",
    "    #setter\n",
    "    @balance.setter\n",
    "    def balance(self, amount):\n",
    "        if amount >= 0:\n",
    "            self.__balance = amount\n",
    "        else:\n",
    "            print(\"Insuffuciant.\")\n",
    "My1 = MyBankAccount(\"Md.Maruf\", 200)\n",
    "print(My1.balance)\n",
    "My1.balance = 100\n",
    "print(My1.balance)\n",
    "My1.balance = -1000"
   ]
  },
  {
   "cell_type": "code",
   "execution_count": 1,
   "id": "05892aa0-0fd6-49bb-9bd1-a08292563a9a",
   "metadata": {},
   "outputs": [
    {
     "name": "stdout",
     "output_type": "stream",
     "text": [
      "Circle area: 50.2656\n",
      "Square area: 16\n"
     ]
    }
   ],
   "source": [
    "#Abstract\n",
    "from abc import ABC, abstractmethod\n",
    "\n",
    "class Shape(ABC):\n",
    "    @abstractmethod\n",
    "    def area(self):\n",
    "        pass\n",
    "\n",
    "class Circle(Shape):\n",
    "    def __init__(self, radius):\n",
    "        self.radius = radius\n",
    "    def area(self):\n",
    "        return 3.1416 * self.radius * self.radius\n",
    "\n",
    "class Square(Shape):\n",
    "    def __init__(self, side):\n",
    "        self.side = side\n",
    "\n",
    "    def area(self):\n",
    "        return self.side * self.side\n",
    "\n",
    "cir1 = Circle(4)\n",
    "squa1 = Square(4)\n",
    "\n",
    "print(f\"Circle area: {cir1.area()}\")\n",
    "print(f\"Square area: {squa1.area()}\")"
   ]
  },
  {
   "cell_type": "code",
   "execution_count": 6,
   "id": "238cf9c4-40c1-4a45-a376-1c549af0a1c5",
   "metadata": {},
   "outputs": [
    {
     "name": "stdout",
     "output_type": "stream",
     "text": [
      "Brand: Toyota\n",
      "Model: wer\n",
      "Year: 1023\n",
      "Brand: BMW\n",
      "Model: dgh\n",
      "Year: 232\n"
     ]
    }
   ],
   "source": [
    "#Inheritance\n",
    "class Car:\n",
    "    def __init__(self, brand, model, year):\n",
    "        self.brand = brand\n",
    "        self.model = model\n",
    "        self.year = year\n",
    "    def show_info(self):\n",
    "        print(f\"Brand: {self.brand}\\nModel: {self.model}\\nYear: {self.year}\")\n",
    "car1 = Car(\"Toyota\", 'wer', 1023)\n",
    "car2 = Car(\"BMW\", 'dgh', 232)\n",
    "car1.show_info()\n",
    "car2.show_info()"
   ]
  },
  {
   "cell_type": "code",
   "execution_count": 2,
   "id": "5e67dfad-cdc1-4b03-9648-a4f4acebbb57",
   "metadata": {},
   "outputs": [
    {
     "name": "stdout",
     "output_type": "stream",
     "text": [
      "Name: Maruf, Identity: 3429, Salary: 2000, Bonus: 1000.0\n",
      "Name: Fardin, Identity: 3243, Salary: 2000, Bonus: 800.0\n"
     ]
    }
   ],
   "source": [
    "class Employee:\n",
    "    def __init__(self, name, identity, salary):\n",
    "        self.name = name\n",
    "        self.identity = identity\n",
    "        self.salary = salary\n",
    "\n",
    "    def show_all(self):\n",
    "        print(f\"Name: {self.name}, Identity: {self.identity}, Salary: {self.salary}\")\n",
    "\n",
    "class FullTimeEmployee(Employee):\n",
    "    def __init__(self, name, identity, salary, bonus):\n",
    "        super().__init__(name, identity, salary)\n",
    "        self.bonus = bonus\n",
    "\n",
    "    def show_all(self):\n",
    "        calculate_bonus = (self.salary / 100) * 50\n",
    "        print(f\"Name: {self.name}, Identity: {self.identity}, Salary: {self.salary}, Bonus: {calculate_bonus}\")\n",
    "\n",
    "class PartTimeEmployee(Employee):\n",
    "    def __init__(self, name, identity, salary, bonus):\n",
    "        super().__init__(name, identity, salary)\n",
    "        self.bonus = bonus\n",
    "\n",
    "    def show_all(self):\n",
    "        calculate_bonus = (self.salary / 100) * 40\n",
    "        print(f\"Name: {self.name}, Identity: {self.identity}, Salary: {self.salary}, Bonus: {calculate_bonus}\")\n",
    "F1 = FullTimeEmployee(\"Maruf\", 3429, 2000, 500)\n",
    "P1 = PartTimeEmployee(\"Fardin\", 3243, 2000, 1000)\n",
    "F1.show_all()\n",
    "P1.show_all()"
   ]
  },
  {
   "cell_type": "code",
   "execution_count": 4,
   "id": "85a4092f-046d-48da-a0e0-85e24bd923d8",
   "metadata": {},
   "outputs": [
    {
     "name": "stdout",
     "output_type": "stream",
     "text": [
      "Toyota 29 Octan A\n",
      "Suzuki 49 Dijel B\n"
     ]
    }
   ],
   "source": [
    "class Vehicle:\n",
    "    def __init__(self, brand, model, fuel_type):\n",
    "        self.brand = brand\n",
    "        self.model = model\n",
    "        self.fuel_type = fuel_type\n",
    "\n",
    "    def show_info(self):\n",
    "        print(f\"{self.brand} {self.model} {self.fuel_type}\")\n",
    "\n",
    "class Car(Vehicle):\n",
    "    def __init__(self, brand, model, fuel_type, start_ingine):\n",
    "        super().__init__(brand, model, fuel_type)\n",
    "        self.start_ingine = start_ingine\n",
    "\n",
    "    def show_info(self):\n",
    "        print(f\"{self.brand} {self.model} {self.fuel_type} {self.start_ingine}\")\n",
    "\n",
    "class Bike(Vehicle):\n",
    "    def __init__(self, brand, model, fuel_type, start_ingine):\n",
    "        super().__init__(brand, model, fuel_type)\n",
    "        self.start_ingine = start_ingine\n",
    "\n",
    "    def show_info(self):\n",
    "        print(f\"{self.brand} {self.model} {self.fuel_type} {self.start_ingine}\")\n",
    "\n",
    "C1 = Car(\"Toyota\", 29, \"Octan\", \"A\")\n",
    "B1 = Bike(\"Suzuki\", 49, \"Dijel\", \"B\")\n",
    "C1.show_info()\n",
    "B1.show_info()"
   ]
  },
  {
   "cell_type": "code",
   "execution_count": 13,
   "id": "2b89d965",
   "metadata": {},
   "outputs": [
    {
     "name": "stdout",
     "output_type": "stream",
     "text": [
      "Name: Rifat; Identity: 267, Salary: 3000, Bonus: 600.0\n",
      "Name: Maruf2nd; Identity: 253, Salary: 2000, Bonus: 200.0\n"
     ]
    }
   ],
   "source": [
    "#All pillar in one code\n",
    "from abc import ABC, abstractmethod\n",
    "#Abstract Parent class\n",
    "class Employee:\n",
    "    def __init__(self, name, identity, salary):\n",
    "        self.__name = name\n",
    "        self.__identity = identity\n",
    "        self.__salary = salary\n",
    "        \n",
    "    @abstractmethod\n",
    "    def calculate_bonus(self):\n",
    "        pass\n",
    "\n",
    "    def get_name(self):\n",
    "        return self.__name    \n",
    "    def get_identity(self):\n",
    "        return self.__identity\n",
    "    def get_salary(self):\n",
    "        return self.__salary\n",
    "    def set_salary(self, new_salary):\n",
    "        if new_salary >= 0:\n",
    "            self.__salary = new_salary\n",
    "        else:\n",
    "            print('invalid salary')\n",
    "    \n",
    "    def show_info(self):\n",
    "        print(f\"Name: {self.__name}, Identity: {self.__identity}, Salary: {self.__salary}\")\n",
    "\n",
    "#child classes\n",
    "class FullTimeEmployee(Employee):\n",
    "    def calculate_bonus(self):\n",
    "        return self.get_salary() * 0.2\n",
    "    def show_info(self):\n",
    "        print(f\"Name: {self.get_name()}; Identity: {self.get_identity()}, Salary: {self.get_salary()}, Bonus: {self.calculate_bonus()}\")\n",
    "\n",
    "class PartTimeEmployee(Employee):\n",
    "    def calculate_bonus(self):\n",
    "        return self.get_salary() * 0.1\n",
    "    def show_info(self):\n",
    "        print(f\"Name: {self.get_name()}; Identity: {self.get_identity()}, Salary: {self.get_salary()}, Bonus: {self.calculate_bonus()}\")\n",
    "\n",
    "F1 = FullTimeEmployee(\"Maruf\", 267, 1000)\n",
    "P1 = PartTimeEmployee(\"Maruf2nd\", 253, 500)\n",
    "F1.set_salary(3000)\n",
    "setattr(F1, \"_Employee__name\", \"Rifat\")\n",
    "getattr(F1, \"_Employee__name\")\n",
    "P1.set_salary(2000)\n",
    "F1.show_info()\n",
    "P1.show_info()\n",
    "    "
   ]
  },
  {
   "cell_type": "code",
   "execution_count": 18,
   "id": "a3981840",
   "metadata": {},
   "outputs": [
    {
     "name": "stdout",
     "output_type": "stream",
     "text": [
      "Account Number: 678; Balance: 2000; Interest: 100.0\n",
      "Account Number: 234; Balance: 9000; Interest: None\n"
     ]
    }
   ],
   "source": [
    "from abc import ABC, abstractmethod\n",
    "#Abstract class\n",
    "class BankAccount:\n",
    "    def __init__(self, account_number, balance):\n",
    "        self.__account_number = account_number\n",
    "        self.__balance = balance\n",
    "\n",
    "    @abstractmethod\n",
    "    def calculate_interest(self):\n",
    "        pass\n",
    "    \n",
    "    def get_account_number(self):\n",
    "        return self.__account_number\n",
    "    def get_balance(self):\n",
    "        return self.__balance\n",
    "    def deposite(self, amount):\n",
    "        if amount > 0:\n",
    "            self.__balance += amount\n",
    "    def withdrawal(self, amount):\n",
    "        if amount <= self.__balance:\n",
    "            self.__balance -= amount\n",
    "        else:\n",
    "            print(\"Insuffiant\")\n",
    "    \n",
    "    def show_info(self):\n",
    "        print(f\"Account Number: {self.__account_number}; Balance: {self.__balance}\")\n",
    "\n",
    "class SavingAccount(BankAccount):\n",
    "    def calculate_interest(self):\n",
    "        return self.get_balance() * 0.05\n",
    "    def show_info(self):\n",
    "        print(f\"Account Number: {self.get_account_number()}; Balance: {self.get_balance()}; Interest: {self.calculate_interest()}\")\n",
    "\n",
    "class CurrentAccount(BankAccount):\n",
    "    def calculate_interest(self):\n",
    "        return \"None\"\n",
    "    def show_info(self):\n",
    "        print(f\"Account Number: {self.get_account_number()}; Balance: {self.get_balance()}; Interest: {self.calculate_interest()}\")\n",
    "\n",
    "S1 = SavingAccount(678, 1000)\n",
    "S1.deposite(3000)\n",
    "S1.withdrawal(2000)\n",
    "S1.show_info()\n",
    "C1 = CurrentAccount(234, 9000)\n",
    "C1.show_info()"
   ]
  },
  {
   "cell_type": "code",
   "execution_count": 34,
   "id": "84b9fece",
   "metadata": {},
   "outputs": [
    {
     "name": "stdout",
     "output_type": "stream",
     "text": [
      "Model: Toyota; Rent For Day: 8; Price: 8000\n",
      "Model: Suzuki; Rent For Day: 10; Price: 5000\n"
     ]
    }
   ],
   "source": [
    "from abc import ABC, abstractmethod\n",
    "class Vehicle:\n",
    "    def __init__(self, model, rent_per_day):\n",
    "        self.__model = model\n",
    "        self.__rent_per_day = rent_per_day\n",
    "    \n",
    "    @abstractmethod\n",
    "    def calculate_rent(self):\n",
    "        pass\n",
    "\n",
    "    def find_model(self):\n",
    "        return self.__model\n",
    "    def get_rent(self):\n",
    "        return self.__rent_per_day\n",
    "    def set_rent(self, new_rent):\n",
    "        self.__rent_per_day = new_rent\n",
    "    def show_info(self):\n",
    "        print(f\"Model: {self.__model}, Rent For Day: {self.__rent_per_day}\")\n",
    "\n",
    "class Car(Vehicle):\n",
    "    def calculate_rent(self):\n",
    "        return self.get_rent() * 1000\n",
    "    def show_info(self):\n",
    "        print(f\"Model: {self.find_model()}; Rent For Day: {self.get_rent()}; Price: {self.calculate_rent()}\")\n",
    "\n",
    "class Bike(Vehicle):\n",
    "    def calculate_rent(self):\n",
    "        return self.get_rent() * 500\n",
    "    def show_info(self):\n",
    "        print(f\"Model: {self.find_model()}; Rent For Day: {self.get_rent()}; Price: {self.calculate_rent()}\")\n",
    "\n",
    "c1 = Car(\"Toyota\", 10)\n",
    "c1.set_rent(8)\n",
    "c1.show_info()\n",
    "b1 = Bike(\"Suzuki\", 10)\n",
    "b1.show_info()"
   ]
  },
  {
   "cell_type": "code",
   "execution_count": null,
   "id": "ce57909e",
   "metadata": {},
   "outputs": [],
   "source": []
  }
 ],
 "metadata": {
  "kernelspec": {
   "display_name": "Python 3",
   "language": "python",
   "name": "python3"
  },
  "language_info": {
   "codemirror_mode": {
    "name": "ipython",
    "version": 3
   },
   "file_extension": ".py",
   "mimetype": "text/x-python",
   "name": "python",
   "nbconvert_exporter": "python",
   "pygments_lexer": "ipython3",
   "version": "3.11.4"
  }
 },
 "nbformat": 4,
 "nbformat_minor": 5
}
